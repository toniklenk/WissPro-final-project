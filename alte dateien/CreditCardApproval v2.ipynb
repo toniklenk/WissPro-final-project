{
 "cells": [
  {
   "cell_type": "markdown",
   "id": "2f3d0056-58d5-4232-ba83-5b68dc52d0ea",
   "metadata": {
    "id": "2f3d0056-58d5-4232-ba83-5b68dc52d0ea",
    "nbgrader": {
     "grade": false,
     "grade_id": "cell-8f4762a43e050a0f",
     "locked": true,
     "schema_version": 3,
     "solution": false,
     "task": false
    }
   },
   "source": [
    "# Credit Card Application Approval"
   ]
  },
  {
   "cell_type": "markdown",
   "id": "fa8673ac-27d3-46ec-9eb1-dafac68106e5",
   "metadata": {
    "id": "fa8673ac-27d3-46ec-9eb1-dafac68106e5"
   },
   "source": [
    "This project is concerned with a dataset dealing with credit card applications. Based on the feature given in the dataset the task is to predict if a person's request for a credit card is approved (or denied)."
   ]
  },
  {
   "cell_type": "markdown",
   "id": "d3a88537-4794-467f-b913-365f21230aa7",
   "metadata": {
    "id": "d3a88537-4794-467f-b913-365f21230aa7",
    "nbgrader": {
     "grade": false,
     "grade_id": "cell-42103e2b306de1bf",
     "locked": true,
     "schema_version": 3,
     "solution": false,
     "task": false
    }
   },
   "source": [
    "## Dataset"
   ]
  },
  {
   "cell_type": "markdown",
   "id": "7ba586fd-ca75-49d8-b391-63550dd52cc8",
   "metadata": {
    "id": "7ba586fd-ca75-49d8-b391-63550dd52cc8",
    "nbgrader": {
     "grade": false,
     "grade_id": "cell-62dbccd60b2622b2",
     "locked": true,
     "schema_version": 3,
     "solution": false,
     "task": false
    }
   },
   "source": [
    "Information on the \"Credit Approval\" dataset from the [UC Irvine Machine Learning Repository](https://archive.ics.uci.edu/) can be found here:\n",
    "\n",
    "* Download URL: https://archive.ics.uci.edu/static/public/27/credit+approval.zip\n",
    "* DOI: https://doi.org/10.24432/C5FS30\n",
    "* Dataset creators: J. R. Quinlan\n",
    "* License: Creative Commons Attribution 4.0 International ([CC BY 4.0](https://creativecommons.org/licenses/by/4.0/legalcode))"
   ]
  },
  {
   "cell_type": "markdown",
   "id": "7553e710-6765-4c4b-aa58-7457dd3e1239",
   "metadata": {
    "id": "7553e710-6765-4c4b-aa58-7457dd3e1239",
    "jp-MarkdownHeadingCollapsed": true
   },
   "source": [
    "## Tasks\n",
    "\n",
    "Below you can find a summary of the single subtasks you are required to work on during this project.\n",
    "\n",
    "### Exploratory Data Analysis (EDA)\n",
    "\n",
    "Perform a thorough analysis of the data. Preferably, use well-established tools from the Python package eco-system such as, e.g., [Pandas](https://pandas.pydata.org/docs), [Matplotlib](https://matplotlib.org/stable/index.html) / [Seaborn](https://seaborn.pydata.org/). Another helpful tool is [Ydata Profiling](https://docs.profiling.ydata.ai/).\n",
    "\n",
    "Things to consider for the analysis:\n",
    "\n",
    "* Visualise as much as possible. Make your visualisation easy to understand by using, e.g., labels for the axes or titles.\n",
    "* Take into account differences regarding the features such as categorical vs. continuous.\n",
    "* Consider correlations between different features. Also analyse how single features are correlated with the target.\n",
    "* Check for missing values.\n",
    "\n",
    "### Machine Learning (ML)\n",
    "\n",
    "Apply machine learning models of your choice to solve this classification task. Again, use appropriate tools such as those found in the [Scikit-Learn](https://scikit-learn.org/stable/index.html) library. You may also consider using tools such as [XGBoost](https://xgboost.readthedocs.io/en/latest/python/) or a neural network based on [PyTorch](https://pytorch.org/docs/stable/index.html) or [TensorFlow](https://www.tensorflow.org/api_docs).\n",
    "\n",
    "Things to consider:\n",
    "\n",
    "* Make sure to split your data into train and test data before using any ML model.\n",
    "* Think about how to handle missing values and how to deal with features of different type (categorical and continuous). This also pertains to techniques such as feature encoding (e.g., refer to [this link form the Scikit-Learn documentation](https://scikit-learn.org/stable/modules/preprocessing.html)) and feature engineering (e.g., frequency / count encoding or target encoding for categorical features).\n",
    "* Use data processing pipelines to have a clean way of preparing your data for a particular ML model. Note that different types of models (e.g., Logistic Regression vs. Gradient Boosted Trees) may require different preparation steps for the data.\n",
    "* Choose a proper metric (or several if appropriate) to evaluate a given model.\n",
    "* Optimise the hyper-parameters of your ML models to achieve the best possible performance on the data.\n",
    "* Compare different ML models.\n",
    "\n",
    "### Comments\n",
    "\n",
    "Document your workflow appropriately. If you choose to work with Juypter Notebooks this can be achieved by having dedicated notebooks for different parts of the project (e.g., EDA and ML models). Within a single notebook use sections and comments to document important decisions and the intent of your analysis.\n",
    "\n",
    "Your notebooks will look much cleaner and become a lot easier to comprehend if you avoid code duplication. That is, before using many code snippets that only differ slightly, consider finding a common abstraction and have a single dedicated place for this code (e.g., inside a function or a class) that enables easy reuse. It is oftentimes suitable to move code to a Python module. This module can then be readily imported in your Jupyter notebooks.\n",
    "\n",
    "It should be possible to (easily) reproduce your results by re-executing your notebooks.\n",
    "\n",
    "If you are working in groups it must be obvious which group member has conducted which part of the work. Hence, please make sure to add annotations inside the docstring of functions / classes or appriate comments in the sections of your Jupyter notebooks."
   ]
  },
  {
   "cell_type": "markdown",
   "id": "a2b19329-d912-495b-82d4-13d16fbbefe4",
   "metadata": {
    "id": "a2b19329-d912-495b-82d4-13d16fbbefe4"
   },
   "source": [
    "## Presentation of Results\n",
    "\n",
    "### Oral Presentation\n",
    "\n",
    "In the presentation your are meant to present the workflow during the project as well as the main results (in total 20 - 40 minutes for *all* members of the group combined, *not* per group member). Outline which tools you have used (e.g., Pandas, Scikit-Learn) and how you have approached the data to arrive at certain results. Also discuss the choice / usage of your ML models in relation to the EDA.\n",
    "\n",
    "Choose a suitable medium such as ML-office-alike slides or Jupyter notebooks. If you are using the latter, please pay special attention to conciseness and a clean structure. Comprehensibly prepare your results by using, e.g., flow-charts for representing workflows and figures / tables for summarizing quantitative results. Please pay special attention to legiblity of axes labels, titles and legends in plots as well to colors and line types.\n",
    "\n",
    "### Comments\n",
    "\n",
    "If you are working in groups it must be obvious from your presentation which group member has conducted which part of the work.\n",
    "\n"
   ]
  },
  {
   "cell_type": "code",
   "execution_count": 156,
   "id": "bad6bee4-a442-4ce5-a4a7-9ca0e6e191c0",
   "metadata": {
    "colab": {
     "base_uri": "https://localhost:8080/",
     "height": 384
    },
    "executionInfo": {
     "elapsed": 15,
     "status": "error",
     "timestamp": 1702555193137,
     "user": {
      "displayName": "Diana Weißleder",
      "userId": "00551999898217696741"
     },
     "user_tz": -60
    },
    "id": "64dc0e54-49e9-4a04-b234-1adc43a99a07",
    "outputId": "fd766e21-193a-4168-812d-ba8b78d6bf1b"
   },
   "outputs": [],
   "source": [
    "from ucimlrepo import fetch_ucirepo\n",
    "import numpy as np\n",
    "import pandas as pd\n",
    "import xgboost as xgb\n",
    "import category_encoders as ce\n",
    "\n",
    "import seaborn as sns\n",
    "import matplotlib.pyplot as plt\n",
    "\n",
    "from scipy.stats import uniform, randint\n",
    "\n",
    "from sklearn.pipeline import make_pipeline, make_union\n",
    "from sklearn.impute import SimpleImputer\n",
    "from sklearn.preprocessing import OrdinalEncoder, OneHotEncoder, MinMaxScaler\n",
    "from sklearn.metrics import auc, accuracy_score, confusion_matrix, mean_squared_error, make_scorer\n",
    "from sklearn.model_selection import cross_val_score, GridSearchCV, KFold, RandomizedSearchCV, train_test_split, StratifiedKFold, cross_validate\n",
    "from sklearn.decomposition import PCA\n",
    "from sklearn.ensemble import RandomForestClassifier\n",
    "from sklearn.feature_selection import SequentialFeatureSelector\n",
    "from sklearn.base import clone\n",
    "from sklearn.compose import make_column_transformer\n",
    "from sklearn.linear_model import LogisticRegression\n",
    "\n",
    "#from ydata_profiling import ProfileReport"
   ]
  },
  {
   "cell_type": "code",
   "execution_count": 4,
   "id": "9e7de4ba-232e-44b7-848c-a5c248bff2a9",
   "metadata": {
    "executionInfo": {
     "elapsed": 13,
     "status": "aborted",
     "timestamp": 1702555193137,
     "user": {
      "displayName": "Diana Weißleder",
      "userId": "00551999898217696741"
     },
     "user_tz": -60
    },
    "id": "9e7de4ba-232e-44b7-848c-a5c248bff2a9"
   },
   "outputs": [],
   "source": [
    "%matplotlib qt"
   ]
  },
  {
   "cell_type": "markdown",
   "id": "a26f5a4e-49c0-4673-91c6-42c4e0af0b1b",
   "metadata": {
    "id": "a26f5a4e-49c0-4673-91c6-42c4e0af0b1b",
    "tags": []
   },
   "source": [
    "# fetch dataset"
   ]
  },
  {
   "cell_type": "code",
   "execution_count": 5,
   "id": "f4764a7d-44fe-4fcb-b090-ef00f4e58f62",
   "metadata": {
    "executionInfo": {
     "elapsed": 13,
     "status": "aborted",
     "timestamp": 1702555193138,
     "user": {
      "displayName": "Diana Weißleder",
      "userId": "00551999898217696741"
     },
     "user_tz": -60
    },
    "id": "f4764a7d-44fe-4fcb-b090-ef00f4e58f62"
   },
   "outputs": [],
   "source": [
    "credit_approval = fetch_ucirepo(id=27)"
   ]
  },
  {
   "cell_type": "markdown",
   "id": "3b650945-d69d-42d4-becb-441e99cbb0c4",
   "metadata": {
    "id": "3b650945-d69d-42d4-becb-441e99cbb0c4",
    "tags": []
   },
   "source": [
    "# data (as pandas dataframes)"
   ]
  },
  {
   "cell_type": "code",
   "execution_count": 6,
   "id": "1fae3f82-cf56-4085-9243-fbfe38696320",
   "metadata": {
    "executionInfo": {
     "elapsed": 13,
     "status": "aborted",
     "timestamp": 1702555193138,
     "user": {
      "displayName": "Diana Weißleder",
      "userId": "00551999898217696741"
     },
     "user_tz": -60
    },
    "id": "1fae3f82-cf56-4085-9243-fbfe38696320"
   },
   "outputs": [],
   "source": [
    "X = credit_approval.data.features\n",
    "y = credit_approval.data.targets"
   ]
  },
  {
   "cell_type": "markdown",
   "id": "feafe1b2-64ca-4a12-a91d-7058a99c4119",
   "metadata": {
    "id": "feafe1b2-64ca-4a12-a91d-7058a99c4119",
    "tags": []
   },
   "source": [
    "# metadata"
   ]
  },
  {
   "cell_type": "code",
   "execution_count": 7,
   "id": "227fe6e7-77cf-4018-9bf4-7b70d5cefb3f",
   "metadata": {
    "executionInfo": {
     "elapsed": 14,
     "status": "aborted",
     "timestamp": 1702555193139,
     "user": {
      "displayName": "Diana Weißleder",
      "userId": "00551999898217696741"
     },
     "user_tz": -60
    },
    "id": "227fe6e7-77cf-4018-9bf4-7b70d5cefb3f"
   },
   "outputs": [
    {
     "name": "stdout",
     "output_type": "stream",
     "text": [
      "{'uci_id': 27, 'name': 'Credit Approval', 'repository_url': 'https://archive.ics.uci.edu/dataset/27/credit+approval', 'data_url': 'https://archive.ics.uci.edu/static/public/27/data.csv', 'abstract': 'This data concerns credit card applications; good mix of attributes', 'area': 'Business', 'tasks': ['Classification'], 'characteristics': ['Multivariate'], 'num_instances': 690, 'num_features': 15, 'feature_types': ['Categorical', 'Integer', 'Real'], 'demographics': [], 'target_col': ['A16'], 'index_col': None, 'has_missing_values': 'yes', 'missing_values_symbol': 'NaN', 'year_of_dataset_creation': 1987, 'last_updated': 'Wed Aug 23 2023', 'dataset_doi': '10.24432/C5FS30', 'creators': ['J. R. Quinlan'], 'intro_paper': None, 'additional_info': {'summary': 'This file concerns credit card applications.  All attribute names and values have been changed to meaningless symbols to protect confidentiality of the data.\\r\\n  \\r\\nThis dataset is interesting because there is a good mix of attributes -- continuous, nominal with small numbers of values, and nominal with larger numbers of values.  There are also a few missing values.', 'purpose': None, 'funded_by': None, 'instances_represent': None, 'recommended_data_splits': None, 'sensitive_data': None, 'preprocessing_description': None, 'variable_info': 'A1:\\tb, a.\\r\\nA2:\\tcontinuous.\\r\\nA3:\\tcontinuous.\\r\\nA4:\\tu, y, l, t.\\r\\nA5:\\tg, p, gg.\\r\\nA6:\\tc, d, cc, i, j, k, m, r, q, w, x, e, aa, ff.\\r\\nA7:\\tv, h, bb, j, n, z, dd, ff, o.\\r\\nA8:\\tcontinuous.\\r\\nA9:\\tt, f.\\r\\nA10:\\tt, f.\\r\\nA11:\\tcontinuous.\\r\\nA12:\\tt, f.\\r\\nA13:\\tg, p, s.\\r\\nA14:\\tcontinuous.\\r\\nA15:\\tcontinuous.\\r\\nA16: +,-         (class attribute)', 'citation': None}}\n"
     ]
    }
   ],
   "source": [
    "print(credit_approval.metadata)"
   ]
  },
  {
   "cell_type": "markdown",
   "id": "b1c50b2d-4a9a-44fc-a7f3-ff2b3933a34d",
   "metadata": {
    "id": "b1c50b2d-4a9a-44fc-a7f3-ff2b3933a34d",
    "tags": []
   },
   "source": [
    "# variable information"
   ]
  },
  {
   "cell_type": "code",
   "execution_count": 8,
   "id": "d3a60b03-12fd-47be-bc07-ba549c934fbc",
   "metadata": {
    "executionInfo": {
     "elapsed": 13,
     "status": "aborted",
     "timestamp": 1702555193139,
     "user": {
      "displayName": "Diana Weißleder",
      "userId": "00551999898217696741"
     },
     "user_tz": -60
    },
    "id": "d3a60b03-12fd-47be-bc07-ba549c934fbc"
   },
   "outputs": [
    {
     "data": {
      "text/html": [
       "<div>\n",
       "<style scoped>\n",
       "    .dataframe tbody tr th:only-of-type {\n",
       "        vertical-align: middle;\n",
       "    }\n",
       "\n",
       "    .dataframe tbody tr th {\n",
       "        vertical-align: top;\n",
       "    }\n",
       "\n",
       "    .dataframe thead th {\n",
       "        text-align: right;\n",
       "    }\n",
       "</style>\n",
       "<table border=\"1\" class=\"dataframe\">\n",
       "  <thead>\n",
       "    <tr style=\"text-align: right;\">\n",
       "      <th></th>\n",
       "      <th>name</th>\n",
       "      <th>role</th>\n",
       "      <th>type</th>\n",
       "      <th>demographic</th>\n",
       "      <th>description</th>\n",
       "      <th>units</th>\n",
       "      <th>missing_values</th>\n",
       "    </tr>\n",
       "  </thead>\n",
       "  <tbody>\n",
       "    <tr>\n",
       "      <th>0</th>\n",
       "      <td>A16</td>\n",
       "      <td>Target</td>\n",
       "      <td>Categorical</td>\n",
       "      <td>None</td>\n",
       "      <td>None</td>\n",
       "      <td>None</td>\n",
       "      <td>no</td>\n",
       "    </tr>\n",
       "    <tr>\n",
       "      <th>1</th>\n",
       "      <td>A15</td>\n",
       "      <td>Feature</td>\n",
       "      <td>Continuous</td>\n",
       "      <td>None</td>\n",
       "      <td>None</td>\n",
       "      <td>None</td>\n",
       "      <td>no</td>\n",
       "    </tr>\n",
       "    <tr>\n",
       "      <th>2</th>\n",
       "      <td>A14</td>\n",
       "      <td>Feature</td>\n",
       "      <td>Continuous</td>\n",
       "      <td>None</td>\n",
       "      <td>None</td>\n",
       "      <td>None</td>\n",
       "      <td>yes</td>\n",
       "    </tr>\n",
       "    <tr>\n",
       "      <th>3</th>\n",
       "      <td>A13</td>\n",
       "      <td>Feature</td>\n",
       "      <td>Categorical</td>\n",
       "      <td>None</td>\n",
       "      <td>None</td>\n",
       "      <td>None</td>\n",
       "      <td>no</td>\n",
       "    </tr>\n",
       "    <tr>\n",
       "      <th>4</th>\n",
       "      <td>A12</td>\n",
       "      <td>Feature</td>\n",
       "      <td>Categorical</td>\n",
       "      <td>None</td>\n",
       "      <td>None</td>\n",
       "      <td>None</td>\n",
       "      <td>no</td>\n",
       "    </tr>\n",
       "    <tr>\n",
       "      <th>5</th>\n",
       "      <td>A11</td>\n",
       "      <td>Feature</td>\n",
       "      <td>Continuous</td>\n",
       "      <td>None</td>\n",
       "      <td>None</td>\n",
       "      <td>None</td>\n",
       "      <td>no</td>\n",
       "    </tr>\n",
       "    <tr>\n",
       "      <th>6</th>\n",
       "      <td>A10</td>\n",
       "      <td>Feature</td>\n",
       "      <td>Categorical</td>\n",
       "      <td>None</td>\n",
       "      <td>None</td>\n",
       "      <td>None</td>\n",
       "      <td>no</td>\n",
       "    </tr>\n",
       "    <tr>\n",
       "      <th>7</th>\n",
       "      <td>A9</td>\n",
       "      <td>Feature</td>\n",
       "      <td>Categorical</td>\n",
       "      <td>None</td>\n",
       "      <td>None</td>\n",
       "      <td>None</td>\n",
       "      <td>no</td>\n",
       "    </tr>\n",
       "    <tr>\n",
       "      <th>8</th>\n",
       "      <td>A8</td>\n",
       "      <td>Feature</td>\n",
       "      <td>Continuous</td>\n",
       "      <td>None</td>\n",
       "      <td>None</td>\n",
       "      <td>None</td>\n",
       "      <td>no</td>\n",
       "    </tr>\n",
       "    <tr>\n",
       "      <th>9</th>\n",
       "      <td>A7</td>\n",
       "      <td>Feature</td>\n",
       "      <td>Categorical</td>\n",
       "      <td>None</td>\n",
       "      <td>None</td>\n",
       "      <td>None</td>\n",
       "      <td>yes</td>\n",
       "    </tr>\n",
       "    <tr>\n",
       "      <th>10</th>\n",
       "      <td>A6</td>\n",
       "      <td>Feature</td>\n",
       "      <td>Categorical</td>\n",
       "      <td>None</td>\n",
       "      <td>None</td>\n",
       "      <td>None</td>\n",
       "      <td>yes</td>\n",
       "    </tr>\n",
       "    <tr>\n",
       "      <th>11</th>\n",
       "      <td>A5</td>\n",
       "      <td>Feature</td>\n",
       "      <td>Categorical</td>\n",
       "      <td>None</td>\n",
       "      <td>None</td>\n",
       "      <td>None</td>\n",
       "      <td>yes</td>\n",
       "    </tr>\n",
       "    <tr>\n",
       "      <th>12</th>\n",
       "      <td>A4</td>\n",
       "      <td>Feature</td>\n",
       "      <td>Categorical</td>\n",
       "      <td>None</td>\n",
       "      <td>None</td>\n",
       "      <td>None</td>\n",
       "      <td>yes</td>\n",
       "    </tr>\n",
       "    <tr>\n",
       "      <th>13</th>\n",
       "      <td>A3</td>\n",
       "      <td>Feature</td>\n",
       "      <td>Continuous</td>\n",
       "      <td>None</td>\n",
       "      <td>None</td>\n",
       "      <td>None</td>\n",
       "      <td>no</td>\n",
       "    </tr>\n",
       "    <tr>\n",
       "      <th>14</th>\n",
       "      <td>A2</td>\n",
       "      <td>Feature</td>\n",
       "      <td>Continuous</td>\n",
       "      <td>None</td>\n",
       "      <td>None</td>\n",
       "      <td>None</td>\n",
       "      <td>yes</td>\n",
       "    </tr>\n",
       "    <tr>\n",
       "      <th>15</th>\n",
       "      <td>A1</td>\n",
       "      <td>Feature</td>\n",
       "      <td>Categorical</td>\n",
       "      <td>None</td>\n",
       "      <td>None</td>\n",
       "      <td>None</td>\n",
       "      <td>yes</td>\n",
       "    </tr>\n",
       "  </tbody>\n",
       "</table>\n",
       "</div>"
      ],
      "text/plain": [
       "   name     role         type demographic description units missing_values\n",
       "0   A16   Target  Categorical        None        None  None             no\n",
       "1   A15  Feature   Continuous        None        None  None             no\n",
       "2   A14  Feature   Continuous        None        None  None            yes\n",
       "3   A13  Feature  Categorical        None        None  None             no\n",
       "4   A12  Feature  Categorical        None        None  None             no\n",
       "5   A11  Feature   Continuous        None        None  None             no\n",
       "6   A10  Feature  Categorical        None        None  None             no\n",
       "7    A9  Feature  Categorical        None        None  None             no\n",
       "8    A8  Feature   Continuous        None        None  None             no\n",
       "9    A7  Feature  Categorical        None        None  None            yes\n",
       "10   A6  Feature  Categorical        None        None  None            yes\n",
       "11   A5  Feature  Categorical        None        None  None            yes\n",
       "12   A4  Feature  Categorical        None        None  None            yes\n",
       "13   A3  Feature   Continuous        None        None  None             no\n",
       "14   A2  Feature   Continuous        None        None  None            yes\n",
       "15   A1  Feature  Categorical        None        None  None            yes"
      ]
     },
     "execution_count": 8,
     "metadata": {},
     "output_type": "execute_result"
    }
   ],
   "source": [
    "credit_approval.variables"
   ]
  },
  {
   "cell_type": "markdown",
   "id": "cef6f836-bc3e-419b-865c-30b682ae23be",
   "metadata": {
    "id": "cef6f836-bc3e-419b-865c-30b682ae23be"
   },
   "source": [
    "## Grading\n",
    "\n",
    "The grade is to 100% determined by the presentation.\n",
    "\n",
    "In case of a group work *every group member will get an individual grade*. It therefore must be obvious from your presentation which group member is responsible for which part of the work. It is also possible for group members to for example conduct different quantitative analyses of the data (by considering different ML models)."
   ]
  },
  {
   "cell_type": "code",
   "execution_count": 9,
   "id": "84fc9521-8bc9-4c98-9914-2e08700a11be",
   "metadata": {
    "executionInfo": {
     "elapsed": 14,
     "status": "aborted",
     "timestamp": 1702555193140,
     "user": {
      "displayName": "Diana Weißleder",
      "userId": "00551999898217696741"
     },
     "user_tz": -60
    },
    "id": "84fc9521-8bc9-4c98-9914-2e08700a11be"
   },
   "outputs": [
    {
     "data": {
      "text/plain": [
       "'\\nUsefool tools\\n- pipelines\\n- feature union\\n-\\n\\n- confusion matrix\\n\\n\\n'"
      ]
     },
     "execution_count": 9,
     "metadata": {},
     "output_type": "execute_result"
    }
   ],
   "source": [
    "\"\"\"\n",
    "Usefool tools\n",
    "- pipelines\n",
    "- feature union\n",
    "-\n",
    "\n",
    "- confusion matrix\n",
    "\n",
    "\n",
    "\"\"\""
   ]
  },
  {
   "cell_type": "markdown",
   "id": "d8934acb-38ae-43d0-b943-75caed1f8272",
   "metadata": {
    "id": "d8934acb-38ae-43d0-b943-75caed1f8272",
    "tags": []
   },
   "source": [
    "# Exploratory Data Analysis"
   ]
  },
  {
   "cell_type": "markdown",
   "id": "af0f79b4-641b-4818-8dfe-f85e88a37e26",
   "metadata": {
    "id": "af0f79b4-641b-4818-8dfe-f85e88a37e26",
    "tags": []
   },
   "source": [
    "## Dataset general overview"
   ]
  },
  {
   "cell_type": "code",
   "execution_count": 10,
   "id": "d9b42fe9-e71c-4739-9168-fa0ce3503695",
   "metadata": {
    "executionInfo": {
     "elapsed": 13,
     "status": "aborted",
     "timestamp": 1702555193140,
     "user": {
      "displayName": "Diana Weißleder",
      "userId": "00551999898217696741"
     },
     "user_tz": -60
    },
    "id": "d9b42fe9-e71c-4739-9168-fa0ce3503695"
   },
   "outputs": [
    {
     "data": {
      "text/html": [
       "<div>\n",
       "<style scoped>\n",
       "    .dataframe tbody tr th:only-of-type {\n",
       "        vertical-align: middle;\n",
       "    }\n",
       "\n",
       "    .dataframe tbody tr th {\n",
       "        vertical-align: top;\n",
       "    }\n",
       "\n",
       "    .dataframe thead th {\n",
       "        text-align: right;\n",
       "    }\n",
       "</style>\n",
       "<table border=\"1\" class=\"dataframe\">\n",
       "  <thead>\n",
       "    <tr style=\"text-align: right;\">\n",
       "      <th></th>\n",
       "      <th>A15</th>\n",
       "      <th>A14</th>\n",
       "      <th>A13</th>\n",
       "      <th>A12</th>\n",
       "      <th>A11</th>\n",
       "      <th>A10</th>\n",
       "      <th>A9</th>\n",
       "      <th>A8</th>\n",
       "      <th>A7</th>\n",
       "      <th>A6</th>\n",
       "      <th>A5</th>\n",
       "      <th>A4</th>\n",
       "      <th>A3</th>\n",
       "      <th>A2</th>\n",
       "      <th>A1</th>\n",
       "    </tr>\n",
       "  </thead>\n",
       "  <tbody>\n",
       "    <tr>\n",
       "      <th>0</th>\n",
       "      <td>0</td>\n",
       "      <td>202.0</td>\n",
       "      <td>g</td>\n",
       "      <td>f</td>\n",
       "      <td>1</td>\n",
       "      <td>t</td>\n",
       "      <td>t</td>\n",
       "      <td>1.25</td>\n",
       "      <td>v</td>\n",
       "      <td>w</td>\n",
       "      <td>g</td>\n",
       "      <td>u</td>\n",
       "      <td>0.000</td>\n",
       "      <td>30.83</td>\n",
       "      <td>b</td>\n",
       "    </tr>\n",
       "    <tr>\n",
       "      <th>1</th>\n",
       "      <td>560</td>\n",
       "      <td>43.0</td>\n",
       "      <td>g</td>\n",
       "      <td>f</td>\n",
       "      <td>6</td>\n",
       "      <td>t</td>\n",
       "      <td>t</td>\n",
       "      <td>3.04</td>\n",
       "      <td>h</td>\n",
       "      <td>q</td>\n",
       "      <td>g</td>\n",
       "      <td>u</td>\n",
       "      <td>4.460</td>\n",
       "      <td>58.67</td>\n",
       "      <td>a</td>\n",
       "    </tr>\n",
       "    <tr>\n",
       "      <th>2</th>\n",
       "      <td>824</td>\n",
       "      <td>280.0</td>\n",
       "      <td>g</td>\n",
       "      <td>f</td>\n",
       "      <td>0</td>\n",
       "      <td>f</td>\n",
       "      <td>t</td>\n",
       "      <td>1.50</td>\n",
       "      <td>h</td>\n",
       "      <td>q</td>\n",
       "      <td>g</td>\n",
       "      <td>u</td>\n",
       "      <td>0.500</td>\n",
       "      <td>24.50</td>\n",
       "      <td>a</td>\n",
       "    </tr>\n",
       "    <tr>\n",
       "      <th>3</th>\n",
       "      <td>3</td>\n",
       "      <td>100.0</td>\n",
       "      <td>g</td>\n",
       "      <td>t</td>\n",
       "      <td>5</td>\n",
       "      <td>t</td>\n",
       "      <td>t</td>\n",
       "      <td>3.75</td>\n",
       "      <td>v</td>\n",
       "      <td>w</td>\n",
       "      <td>g</td>\n",
       "      <td>u</td>\n",
       "      <td>1.540</td>\n",
       "      <td>27.83</td>\n",
       "      <td>b</td>\n",
       "    </tr>\n",
       "    <tr>\n",
       "      <th>4</th>\n",
       "      <td>0</td>\n",
       "      <td>120.0</td>\n",
       "      <td>s</td>\n",
       "      <td>f</td>\n",
       "      <td>0</td>\n",
       "      <td>f</td>\n",
       "      <td>t</td>\n",
       "      <td>1.71</td>\n",
       "      <td>v</td>\n",
       "      <td>w</td>\n",
       "      <td>g</td>\n",
       "      <td>u</td>\n",
       "      <td>5.625</td>\n",
       "      <td>20.17</td>\n",
       "      <td>b</td>\n",
       "    </tr>\n",
       "    <tr>\n",
       "      <th>...</th>\n",
       "      <td>...</td>\n",
       "      <td>...</td>\n",
       "      <td>...</td>\n",
       "      <td>...</td>\n",
       "      <td>...</td>\n",
       "      <td>...</td>\n",
       "      <td>...</td>\n",
       "      <td>...</td>\n",
       "      <td>...</td>\n",
       "      <td>...</td>\n",
       "      <td>...</td>\n",
       "      <td>...</td>\n",
       "      <td>...</td>\n",
       "      <td>...</td>\n",
       "      <td>...</td>\n",
       "    </tr>\n",
       "    <tr>\n",
       "      <th>685</th>\n",
       "      <td>0</td>\n",
       "      <td>260.0</td>\n",
       "      <td>g</td>\n",
       "      <td>f</td>\n",
       "      <td>0</td>\n",
       "      <td>f</td>\n",
       "      <td>f</td>\n",
       "      <td>1.25</td>\n",
       "      <td>h</td>\n",
       "      <td>e</td>\n",
       "      <td>p</td>\n",
       "      <td>y</td>\n",
       "      <td>10.085</td>\n",
       "      <td>21.08</td>\n",
       "      <td>b</td>\n",
       "    </tr>\n",
       "    <tr>\n",
       "      <th>686</th>\n",
       "      <td>394</td>\n",
       "      <td>200.0</td>\n",
       "      <td>g</td>\n",
       "      <td>t</td>\n",
       "      <td>2</td>\n",
       "      <td>t</td>\n",
       "      <td>f</td>\n",
       "      <td>2.00</td>\n",
       "      <td>v</td>\n",
       "      <td>c</td>\n",
       "      <td>g</td>\n",
       "      <td>u</td>\n",
       "      <td>0.750</td>\n",
       "      <td>22.67</td>\n",
       "      <td>a</td>\n",
       "    </tr>\n",
       "    <tr>\n",
       "      <th>687</th>\n",
       "      <td>1</td>\n",
       "      <td>200.0</td>\n",
       "      <td>g</td>\n",
       "      <td>t</td>\n",
       "      <td>1</td>\n",
       "      <td>t</td>\n",
       "      <td>f</td>\n",
       "      <td>2.00</td>\n",
       "      <td>ff</td>\n",
       "      <td>ff</td>\n",
       "      <td>p</td>\n",
       "      <td>y</td>\n",
       "      <td>13.500</td>\n",
       "      <td>25.25</td>\n",
       "      <td>a</td>\n",
       "    </tr>\n",
       "    <tr>\n",
       "      <th>688</th>\n",
       "      <td>750</td>\n",
       "      <td>280.0</td>\n",
       "      <td>g</td>\n",
       "      <td>f</td>\n",
       "      <td>0</td>\n",
       "      <td>f</td>\n",
       "      <td>f</td>\n",
       "      <td>0.04</td>\n",
       "      <td>v</td>\n",
       "      <td>aa</td>\n",
       "      <td>g</td>\n",
       "      <td>u</td>\n",
       "      <td>0.205</td>\n",
       "      <td>17.92</td>\n",
       "      <td>b</td>\n",
       "    </tr>\n",
       "    <tr>\n",
       "      <th>689</th>\n",
       "      <td>0</td>\n",
       "      <td>0.0</td>\n",
       "      <td>g</td>\n",
       "      <td>t</td>\n",
       "      <td>0</td>\n",
       "      <td>f</td>\n",
       "      <td>f</td>\n",
       "      <td>8.29</td>\n",
       "      <td>h</td>\n",
       "      <td>c</td>\n",
       "      <td>g</td>\n",
       "      <td>u</td>\n",
       "      <td>3.375</td>\n",
       "      <td>35.00</td>\n",
       "      <td>b</td>\n",
       "    </tr>\n",
       "  </tbody>\n",
       "</table>\n",
       "<p>690 rows × 15 columns</p>\n",
       "</div>"
      ],
      "text/plain": [
       "     A15    A14 A13 A12  A11 A10 A9    A8  A7  A6 A5 A4      A3     A2 A1\n",
       "0      0  202.0   g   f    1   t  t  1.25   v   w  g  u   0.000  30.83  b\n",
       "1    560   43.0   g   f    6   t  t  3.04   h   q  g  u   4.460  58.67  a\n",
       "2    824  280.0   g   f    0   f  t  1.50   h   q  g  u   0.500  24.50  a\n",
       "3      3  100.0   g   t    5   t  t  3.75   v   w  g  u   1.540  27.83  b\n",
       "4      0  120.0   s   f    0   f  t  1.71   v   w  g  u   5.625  20.17  b\n",
       "..   ...    ...  ..  ..  ...  .. ..   ...  ..  .. .. ..     ...    ... ..\n",
       "685    0  260.0   g   f    0   f  f  1.25   h   e  p  y  10.085  21.08  b\n",
       "686  394  200.0   g   t    2   t  f  2.00   v   c  g  u   0.750  22.67  a\n",
       "687    1  200.0   g   t    1   t  f  2.00  ff  ff  p  y  13.500  25.25  a\n",
       "688  750  280.0   g   f    0   f  f  0.04   v  aa  g  u   0.205  17.92  b\n",
       "689    0    0.0   g   t    0   f  f  8.29   h   c  g  u   3.375  35.00  b\n",
       "\n",
       "[690 rows x 15 columns]"
      ]
     },
     "execution_count": 10,
     "metadata": {},
     "output_type": "execute_result"
    }
   ],
   "source": [
    "X"
   ]
  },
  {
   "cell_type": "code",
   "execution_count": 11,
   "id": "d8e4f3c5-774f-426a-bf8f-084364ff5033",
   "metadata": {
    "executionInfo": {
     "elapsed": 13,
     "status": "aborted",
     "timestamp": 1702555193140,
     "user": {
      "displayName": "Diana Weißleder",
      "userId": "00551999898217696741"
     },
     "user_tz": -60
    },
    "id": "d8e4f3c5-774f-426a-bf8f-084364ff5033"
   },
   "outputs": [
    {
     "data": {
      "text/plain": [
       "A16\n",
       "-      383\n",
       "+      307\n",
       "dtype: int64"
      ]
     },
     "execution_count": 11,
     "metadata": {},
     "output_type": "execute_result"
    }
   ],
   "source": [
    "y.value_counts()"
   ]
  },
  {
   "cell_type": "code",
   "execution_count": null,
   "id": "1e8c64c3-f232-4a4c-8afd-4de8de31d00d",
   "metadata": {
    "executionInfo": {
     "elapsed": 13,
     "status": "aborted",
     "timestamp": 1702555193140,
     "user": {
      "displayName": "Diana Weißleder",
      "userId": "00551999898217696741"
     },
     "user_tz": -60
    },
    "id": "1e8c64c3-f232-4a4c-8afd-4de8de31d00d"
   },
   "outputs": [],
   "source": [
    "# replace with Marcels toolbox\n",
    "profile = ProfileReport(X, title = \"Profiling Report\")\n",
    "profile"
   ]
  },
  {
   "cell_type": "markdown",
   "id": "7b8bc020-8cd2-46a4-9e88-1538ca0a51bf",
   "metadata": {},
   "source": [
    "## Conclusion report:"
   ]
  },
  {
   "cell_type": "markdown",
   "id": "24f5b6e3-8b4e-4943-af37-dee29b3ca34c",
   "metadata": {},
   "source": []
  },
  {
   "cell_type": "markdown",
   "id": "45f43d05-6294-445e-9592-2b870778ddf3",
   "metadata": {
    "id": "45f43d05-6294-445e-9592-2b870778ddf3",
    "tags": []
   },
   "source": [
    "## Categorical features"
   ]
  },
  {
   "cell_type": "code",
   "execution_count": null,
   "id": "9f101b98-9a6b-49a2-8bfb-3cb2ede148e0",
   "metadata": {
    "executionInfo": {
     "elapsed": 12,
     "status": "aborted",
     "timestamp": 1702555193140,
     "user": {
      "displayName": "Diana Weißleder",
      "userId": "00551999898217696741"
     },
     "user_tz": -60
    },
    "id": "9f101b98-9a6b-49a2-8bfb-3cb2ede148e0"
   },
   "outputs": [],
   "source": [
    "\"\"\"\n",
    "Histrogramm of all idividual features on a grid\n",
    "- Maybe remove some sparse values.\n",
    "- How much shared information between different features ?\n",
    "- How many values in each respective combination of all categorical types ?\n",
    "\n",
    "\n",
    "Information measurement of single features (is this usefull if we have so many features?)\n",
    "\n",
    "\n",
    "\"\"\""
   ]
  },
  {
   "cell_type": "code",
   "execution_count": 12,
   "id": "6d96e8cd-4cef-4d90-baaf-341b90c169c9",
   "metadata": {
    "executionInfo": {
     "elapsed": 13,
     "status": "aborted",
     "timestamp": 1702555193141,
     "user": {
      "displayName": "Diana Weißleder",
      "userId": "00551999898217696741"
     },
     "user_tz": -60
    },
    "id": "6d96e8cd-4cef-4d90-baaf-341b90c169c9"
   },
   "outputs": [
    {
     "data": {
      "text/html": [
       "<div>\n",
       "<style scoped>\n",
       "    .dataframe tbody tr th:only-of-type {\n",
       "        vertical-align: middle;\n",
       "    }\n",
       "\n",
       "    .dataframe tbody tr th {\n",
       "        vertical-align: top;\n",
       "    }\n",
       "\n",
       "    .dataframe thead th {\n",
       "        text-align: right;\n",
       "    }\n",
       "</style>\n",
       "<table border=\"1\" class=\"dataframe\">\n",
       "  <thead>\n",
       "    <tr style=\"text-align: right;\">\n",
       "      <th></th>\n",
       "      <th>name</th>\n",
       "      <th>role</th>\n",
       "      <th>type</th>\n",
       "      <th>demographic</th>\n",
       "      <th>description</th>\n",
       "      <th>units</th>\n",
       "      <th>missing_values</th>\n",
       "    </tr>\n",
       "  </thead>\n",
       "  <tbody>\n",
       "    <tr>\n",
       "      <th>0</th>\n",
       "      <td>A16</td>\n",
       "      <td>Target</td>\n",
       "      <td>Categorical</td>\n",
       "      <td>None</td>\n",
       "      <td>None</td>\n",
       "      <td>None</td>\n",
       "      <td>no</td>\n",
       "    </tr>\n",
       "    <tr>\n",
       "      <th>3</th>\n",
       "      <td>A13</td>\n",
       "      <td>Feature</td>\n",
       "      <td>Categorical</td>\n",
       "      <td>None</td>\n",
       "      <td>None</td>\n",
       "      <td>None</td>\n",
       "      <td>no</td>\n",
       "    </tr>\n",
       "    <tr>\n",
       "      <th>4</th>\n",
       "      <td>A12</td>\n",
       "      <td>Feature</td>\n",
       "      <td>Categorical</td>\n",
       "      <td>None</td>\n",
       "      <td>None</td>\n",
       "      <td>None</td>\n",
       "      <td>no</td>\n",
       "    </tr>\n",
       "    <tr>\n",
       "      <th>6</th>\n",
       "      <td>A10</td>\n",
       "      <td>Feature</td>\n",
       "      <td>Categorical</td>\n",
       "      <td>None</td>\n",
       "      <td>None</td>\n",
       "      <td>None</td>\n",
       "      <td>no</td>\n",
       "    </tr>\n",
       "    <tr>\n",
       "      <th>7</th>\n",
       "      <td>A9</td>\n",
       "      <td>Feature</td>\n",
       "      <td>Categorical</td>\n",
       "      <td>None</td>\n",
       "      <td>None</td>\n",
       "      <td>None</td>\n",
       "      <td>no</td>\n",
       "    </tr>\n",
       "    <tr>\n",
       "      <th>9</th>\n",
       "      <td>A7</td>\n",
       "      <td>Feature</td>\n",
       "      <td>Categorical</td>\n",
       "      <td>None</td>\n",
       "      <td>None</td>\n",
       "      <td>None</td>\n",
       "      <td>yes</td>\n",
       "    </tr>\n",
       "    <tr>\n",
       "      <th>10</th>\n",
       "      <td>A6</td>\n",
       "      <td>Feature</td>\n",
       "      <td>Categorical</td>\n",
       "      <td>None</td>\n",
       "      <td>None</td>\n",
       "      <td>None</td>\n",
       "      <td>yes</td>\n",
       "    </tr>\n",
       "    <tr>\n",
       "      <th>11</th>\n",
       "      <td>A5</td>\n",
       "      <td>Feature</td>\n",
       "      <td>Categorical</td>\n",
       "      <td>None</td>\n",
       "      <td>None</td>\n",
       "      <td>None</td>\n",
       "      <td>yes</td>\n",
       "    </tr>\n",
       "    <tr>\n",
       "      <th>12</th>\n",
       "      <td>A4</td>\n",
       "      <td>Feature</td>\n",
       "      <td>Categorical</td>\n",
       "      <td>None</td>\n",
       "      <td>None</td>\n",
       "      <td>None</td>\n",
       "      <td>yes</td>\n",
       "    </tr>\n",
       "    <tr>\n",
       "      <th>15</th>\n",
       "      <td>A1</td>\n",
       "      <td>Feature</td>\n",
       "      <td>Categorical</td>\n",
       "      <td>None</td>\n",
       "      <td>None</td>\n",
       "      <td>None</td>\n",
       "      <td>yes</td>\n",
       "    </tr>\n",
       "  </tbody>\n",
       "</table>\n",
       "</div>"
      ],
      "text/plain": [
       "   name     role         type demographic description units missing_values\n",
       "0   A16   Target  Categorical        None        None  None             no\n",
       "3   A13  Feature  Categorical        None        None  None             no\n",
       "4   A12  Feature  Categorical        None        None  None             no\n",
       "6   A10  Feature  Categorical        None        None  None             no\n",
       "7    A9  Feature  Categorical        None        None  None             no\n",
       "9    A7  Feature  Categorical        None        None  None            yes\n",
       "10   A6  Feature  Categorical        None        None  None            yes\n",
       "11   A5  Feature  Categorical        None        None  None            yes\n",
       "12   A4  Feature  Categorical        None        None  None            yes\n",
       "15   A1  Feature  Categorical        None        None  None            yes"
      ]
     },
     "execution_count": 12,
     "metadata": {},
     "output_type": "execute_result"
    }
   ],
   "source": [
    "credit_approval.variables[credit_approval.variables.type=='Categorical']"
   ]
  },
  {
   "cell_type": "code",
   "execution_count": 189,
   "id": "c036f1aa-a455-40d9-aedc-a9fc48684a8c",
   "metadata": {
    "executionInfo": {
     "elapsed": 13,
     "status": "aborted",
     "timestamp": 1702555193141,
     "user": {
      "displayName": "Diana Weißleder",
      "userId": "00551999898217696741"
     },
     "user_tz": -60
    },
    "id": "c036f1aa-a455-40d9-aedc-a9fc48684a8c"
   },
   "outputs": [],
   "source": [
    "_, ax = plt.subplots(nrows=2, ncols=5, figsize = (10,10))\n",
    "X.A13.hist(ax=ax[0][0])\n",
    "X.A12.hist(ax=ax[0][1])\n",
    "X.A10.hist(ax=ax[0][2])\n",
    "X.A9.hist(ax=ax[0][3])\n",
    "X.A7.hist(ax=ax[0][4])\n",
    "X.A6.hist(ax=ax[1][0])\n",
    "X.A5.hist(ax=ax[1][1])\n",
    "X.A4.hist(ax=ax[1][2])\n",
    "X.A1.hist(ax=ax[1][3])\n",
    "ax[1][4].remove()"
   ]
  },
  {
   "cell_type": "markdown",
   "id": "551fdd4e-48db-4f40-87a5-1aaa69b04bea",
   "metadata": {
    "id": "551fdd4e-48db-4f40-87a5-1aaa69b04bea"
   },
   "source": [
    "Are there any obvious strong dependencies ?"
   ]
  },
  {
   "cell_type": "markdown",
   "id": "c83b6c17-86cc-40f7-b636-03e4cbcaccc8",
   "metadata": {
    "id": "c83b6c17-86cc-40f7-b636-03e4cbcaccc8",
    "tags": []
   },
   "source": [
    "## Numerical features"
   ]
  },
  {
   "cell_type": "code",
   "execution_count": null,
   "id": "f66c3464-0b48-41fd-9bc9-ae6981d5f588",
   "metadata": {
    "executionInfo": {
     "elapsed": 1842,
     "status": "aborted",
     "timestamp": 1702555193141,
     "user": {
      "displayName": "Diana Weißleder",
      "userId": "00551999898217696741"
     },
     "user_tz": -60
    },
    "id": "f66c3464-0b48-41fd-9bc9-ae6981d5f588"
   },
   "outputs": [],
   "source": [
    "\"\"\"\n",
    "- No obvious strong correlations.\n",
    "- Standardize features.\n",
    "\n",
    "Further analysis:\n",
    "- Principal component analysis.\n",
    "\n",
    "\n",
    "- Outlier removal/replacement with mean/median (gaussian distribution?)\n",
    "\n",
    "\"\"\""
   ]
  },
  {
   "cell_type": "code",
   "execution_count": null,
   "id": "ddba783e-b938-4fc7-b7ac-ed21015ab413",
   "metadata": {
    "executionInfo": {
     "elapsed": 1841,
     "status": "aborted",
     "timestamp": 1702555193143,
     "user": {
      "displayName": "Diana Weißleder",
      "userId": "00551999898217696741"
     },
     "user_tz": -60
    },
    "id": "ddba783e-b938-4fc7-b7ac-ed21015ab413"
   },
   "outputs": [],
   "source": [
    "sns.pairplot(X.dropna())"
   ]
  },
  {
   "cell_type": "code",
   "execution_count": null,
   "id": "452c29a9-6606-455d-9456-556caca561f8",
   "metadata": {
    "executionInfo": {
     "elapsed": 1838,
     "status": "aborted",
     "timestamp": 1702555193144,
     "user": {
      "displayName": "Diana Weißleder",
      "userId": "00551999898217696741"
     },
     "user_tz": -60
    },
    "id": "452c29a9-6606-455d-9456-556caca561f8"
   },
   "outputs": [],
   "source": [
    "pca = PCA(n_components=5)\n",
    "pca.fit(X._get_numeric_data().dropna())\n",
    "print(pca.explained_variance_ratio_)\n",
    "print(pca.singular_values_)"
   ]
  },
  {
   "cell_type": "markdown",
   "id": "5262c5ba-1525-420e-a15d-79aadf18d7fe",
   "metadata": {
    "id": "5262c5ba-1525-420e-a15d-79aadf18d7fe",
    "jp-MarkdownHeadingCollapsed": true,
    "tags": []
   },
   "source": [
    "## NaN analysis"
   ]
  },
  {
   "cell_type": "code",
   "execution_count": null,
   "id": "81bf7ed0-47e7-42b4-a549-447fed92ee30",
   "metadata": {
    "executionInfo": {
     "elapsed": 1838,
     "status": "aborted",
     "timestamp": 1702555193144,
     "user": {
      "displayName": "Diana Weißleder",
      "userId": "00551999898217696741"
     },
     "user_tz": -60
    },
    "id": "81bf7ed0-47e7-42b4-a549-447fed92ee30"
   },
   "outputs": [],
   "source": [
    "\"\"\"\n",
    "- Drop rows with much missing data\n",
    "- Data imputation for rest of NaN's, look at distribution of column values to decide to replace with median/mean.\n",
    "\n",
    "\"\"\""
   ]
  },
  {
   "cell_type": "code",
   "execution_count": null,
   "id": "f6fc87cc-981e-42f3-8f04-5c806ac4e425",
   "metadata": {
    "executionInfo": {
     "elapsed": 1835,
     "status": "aborted",
     "timestamp": 1702555193144,
     "user": {
      "displayName": "Diana Weißleder",
      "userId": "00551999898217696741"
     },
     "user_tz": -60
    },
    "id": "f6fc87cc-981e-42f3-8f04-5c806ac4e425"
   },
   "outputs": [],
   "source": [
    "# Number of NaN's per feature\n",
    "X.isna().sum()"
   ]
  },
  {
   "cell_type": "code",
   "execution_count": null,
   "id": "44f37b5b-3ce0-4f70-8c67-1833737aef7d",
   "metadata": {
    "executionInfo": {
     "elapsed": 1832,
     "status": "aborted",
     "timestamp": 1702555193144,
     "user": {
      "displayName": "Diana Weißleder",
      "userId": "00551999898217696741"
     },
     "user_tz": -60
    },
    "id": "44f37b5b-3ce0-4f70-8c67-1833737aef7d"
   },
   "outputs": [],
   "source": [
    "# Total share of rows with any value NaN\n",
    "(X.isna().sum(axis=1)>0).sum()/690"
   ]
  },
  {
   "cell_type": "code",
   "execution_count": null,
   "id": "56c5d918-43a3-4f91-92e3-313c333cff9b",
   "metadata": {
    "executionInfo": {
     "elapsed": 1831,
     "status": "aborted",
     "timestamp": 1702555193145,
     "user": {
      "displayName": "Diana Weißleder",
      "userId": "00551999898217696741"
     },
     "user_tz": -60
    },
    "id": "56c5d918-43a3-4f91-92e3-313c333cff9b"
   },
   "outputs": [],
   "source": [
    "# How strongly do NaN's occur together ? (How much data would we loose if just completely drop any line with a NaN ?)\n",
    "X.isna().sum(axis=1).value_counts()"
   ]
  },
  {
   "cell_type": "markdown",
   "id": "afe1d5ea-b71e-428c-afa1-d7338359122d",
   "metadata": {
    "id": "afe1d5ea-b71e-428c-afa1-d7338359122d"
   },
   "source": [
    "Simply dropping every line with any value NaN only removes ~5% of data.\\\n",
    "Which is a loss we are willing to take in the first run. We later come back and try different methods of dropping NaN to optimized performance."
   ]
  },
  {
   "cell_type": "code",
   "execution_count": null,
   "id": "f01cc767-a00a-4ec5-a522-4b024ec2053f",
   "metadata": {
    "executionInfo": {
     "elapsed": 1830,
     "status": "aborted",
     "timestamp": 1702555193145,
     "user": {
      "displayName": "Diana Weißleder",
      "userId": "00551999898217696741"
     },
     "user_tz": -60
    },
    "id": "f01cc767-a00a-4ec5-a522-4b024ec2053f"
   },
   "outputs": [],
   "source": [
    "X_clean = X.dropna(how='any')"
   ]
  },
  {
   "cell_type": "markdown",
   "id": "9b890a26-7c94-453b-9a3d-302edb4ea937",
   "metadata": {
    "id": "9b890a26-7c94-453b-9a3d-302edb4ea937",
    "tags": []
   },
   "source": [
    "# Machine Learning"
   ]
  },
  {
   "cell_type": "code",
   "execution_count": null,
   "id": "4e5bdc72-042e-41fc-986f-6a2330591cba",
   "metadata": {
    "executionInfo": {
     "elapsed": 1829,
     "status": "aborted",
     "timestamp": 1702555193145,
     "user": {
      "displayName": "Diana Weißleder",
      "userId": "00551999898217696741"
     },
     "user_tz": -60
    },
    "id": "4e5bdc72-042e-41fc-986f-6a2330591cba"
   },
   "outputs": [],
   "source": [
    "\"\"\"\n",
    "Approaches for combining categorial / numerical data:\n",
    "- Seperate classifiers, e.g. decicion tree + regressor\n",
    "- Encoding of categorical data.\n",
    "\n",
    "Feature selection:\n",
    "- Forward / backward feature selection\n",
    "- Recursive / sequential feature selection\n",
    "\n",
    "Models:\n",
    "- Regression\n",
    "- XGBoost\n",
    "- Neural network\n",
    "- Random forest with missing data imputation\n",
    "- LightGBM\n",
    "\n",
    "Evaluating classifier performance:\n",
    "- Cross validation\n",
    "- Model evaluation metrics (FDR, TPR), precicion/recall, ROC_AUC\n",
    "- Graphics were all models are in comparison\n",
    "\n",
    "\"\"\""
   ]
  },
  {
   "cell_type": "markdown",
   "id": "3223822d-ecb5-4708-a541-b861d2c2e907",
   "metadata": {},
   "source": [
    "## data preperation"
   ]
  },
  {
   "cell_type": "markdown",
   "id": "08c15157-9902-47f6-97fc-f86f6de7cb2d",
   "metadata": {
    "id": "08c15157-9902-47f6-97fc-f86f6de7cb2d",
    "tags": []
   },
   "source": [
    "## baseline classifier: 82% accuracy"
   ]
  },
  {
   "cell_type": "code",
   "execution_count": 151,
   "id": "3b0d3755-c367-40bc-aa68-3c17c0cf9a7d",
   "metadata": {},
   "outputs": [],
   "source": [
    "# train test\n",
    "X_train, X_test, y_train, y_test = train_test_split( X, y, test_size=0.33)\n",
    "\n",
    "\n",
    "# further split test into test and validation set\n",
    "X_train_actual, X_valid, y_train_actual, y_valid = train_test_split(\n",
    "    X_train, y_train, test_size=0.15, random_state=42, stratify=y_train\n",
    ")"
   ]
  },
  {
   "cell_type": "code",
   "execution_count": 187,
   "id": "7e9d3e95-e28a-47e1-9649-f3c0daa524ee",
   "metadata": {},
   "outputs": [
    {
     "data": {
      "text/html": [
       "<style>#sk-container-id-12 {color: black;}#sk-container-id-12 pre{padding: 0;}#sk-container-id-12 div.sk-toggleable {background-color: white;}#sk-container-id-12 label.sk-toggleable__label {cursor: pointer;display: block;width: 100%;margin-bottom: 0;padding: 0.3em;box-sizing: border-box;text-align: center;}#sk-container-id-12 label.sk-toggleable__label-arrow:before {content: \"▸\";float: left;margin-right: 0.25em;color: #696969;}#sk-container-id-12 label.sk-toggleable__label-arrow:hover:before {color: black;}#sk-container-id-12 div.sk-estimator:hover label.sk-toggleable__label-arrow:before {color: black;}#sk-container-id-12 div.sk-toggleable__content {max-height: 0;max-width: 0;overflow: hidden;text-align: left;background-color: #f0f8ff;}#sk-container-id-12 div.sk-toggleable__content pre {margin: 0.2em;color: black;border-radius: 0.25em;background-color: #f0f8ff;}#sk-container-id-12 input.sk-toggleable__control:checked~div.sk-toggleable__content {max-height: 200px;max-width: 100%;overflow: auto;}#sk-container-id-12 input.sk-toggleable__control:checked~label.sk-toggleable__label-arrow:before {content: \"▾\";}#sk-container-id-12 div.sk-estimator input.sk-toggleable__control:checked~label.sk-toggleable__label {background-color: #d4ebff;}#sk-container-id-12 div.sk-label input.sk-toggleable__control:checked~label.sk-toggleable__label {background-color: #d4ebff;}#sk-container-id-12 input.sk-hidden--visually {border: 0;clip: rect(1px 1px 1px 1px);clip: rect(1px, 1px, 1px, 1px);height: 1px;margin: -1px;overflow: hidden;padding: 0;position: absolute;width: 1px;}#sk-container-id-12 div.sk-estimator {font-family: monospace;background-color: #f0f8ff;border: 1px dotted black;border-radius: 0.25em;box-sizing: border-box;margin-bottom: 0.5em;}#sk-container-id-12 div.sk-estimator:hover {background-color: #d4ebff;}#sk-container-id-12 div.sk-parallel-item::after {content: \"\";width: 100%;border-bottom: 1px solid gray;flex-grow: 1;}#sk-container-id-12 div.sk-label:hover label.sk-toggleable__label {background-color: #d4ebff;}#sk-container-id-12 div.sk-serial::before {content: \"\";position: absolute;border-left: 1px solid gray;box-sizing: border-box;top: 0;bottom: 0;left: 50%;z-index: 0;}#sk-container-id-12 div.sk-serial {display: flex;flex-direction: column;align-items: center;background-color: white;padding-right: 0.2em;padding-left: 0.2em;position: relative;}#sk-container-id-12 div.sk-item {position: relative;z-index: 1;}#sk-container-id-12 div.sk-parallel {display: flex;align-items: stretch;justify-content: center;background-color: white;position: relative;}#sk-container-id-12 div.sk-item::before, #sk-container-id-12 div.sk-parallel-item::before {content: \"\";position: absolute;border-left: 1px solid gray;box-sizing: border-box;top: 0;bottom: 0;left: 50%;z-index: -1;}#sk-container-id-12 div.sk-parallel-item {display: flex;flex-direction: column;z-index: 1;position: relative;background-color: white;}#sk-container-id-12 div.sk-parallel-item:first-child::after {align-self: flex-end;width: 50%;}#sk-container-id-12 div.sk-parallel-item:last-child::after {align-self: flex-start;width: 50%;}#sk-container-id-12 div.sk-parallel-item:only-child::after {width: 0;}#sk-container-id-12 div.sk-dashed-wrapped {border: 1px dashed gray;margin: 0 0.4em 0.5em 0.4em;box-sizing: border-box;padding-bottom: 0.4em;background-color: white;}#sk-container-id-12 div.sk-label label {font-family: monospace;font-weight: bold;display: inline-block;line-height: 1.2em;}#sk-container-id-12 div.sk-label-container {text-align: center;}#sk-container-id-12 div.sk-container {/* jupyter's `normalize.less` sets `[hidden] { display: none; }` but bootstrap.min.css set `[hidden] { display: none !important; }` so we also need the `!important` here to be able to override the default hidden behavior on the sphinx rendered scikit-learn.org. See: https://github.com/scikit-learn/scikit-learn/issues/21755 */display: inline-block !important;position: relative;}#sk-container-id-12 div.sk-text-repr-fallback {display: none;}</style><div id=\"sk-container-id-12\" class=\"sk-top-container\"><div class=\"sk-text-repr-fallback\"><pre>Pipeline(steps=[(&#x27;featureunion&#x27;,\n",
       "                 FeatureUnion(transformer_list=[(&#x27;columntransformer-1&#x27;,\n",
       "                                                 ColumnTransformer(transformers=[(&#x27;pipeline&#x27;,\n",
       "                                                                                  Pipeline(steps=[(&#x27;simpleimputer&#x27;,\n",
       "                                                                                                   SimpleImputer(strategy=&#x27;most_frequent&#x27;)),\n",
       "                                                                                                  (&#x27;onehotencoder&#x27;,\n",
       "                                                                                                   OneHotEncoder(drop=&#x27;first&#x27;,\n",
       "                                                                                                                 handle_unknown=&#x27;ignore&#x27;,\n",
       "                                                                                                                 sparse_output=False))]),\n",
       "                                                                                  array([&#x27;A16&#x27;, &#x27;A13&#x27;, &#x27;A12&#x27;, &#x27;A10&#x27;, &#x27;A9&#x27;, &#x27;A7&#x27;, &#x27;A6&#x27;, &#x27;A5&#x27;, &#x27;A4...\n",
       "                              feature_types=None, gamma=None, gpu_id=None,\n",
       "                              grow_policy=None, importance_type=None,\n",
       "                              interaction_constraints=None, learning_rate=None,\n",
       "                              max_bin=None, max_cat_threshold=None,\n",
       "                              max_cat_to_onehot=None, max_delta_step=None,\n",
       "                              max_depth=None, max_leaves=None,\n",
       "                              min_child_weight=None, missing=nan,\n",
       "                              monotone_constraints=None, n_estimators=100,\n",
       "                              n_jobs=None, num_parallel_tree=None,\n",
       "                              predictor=None, random_state=None, ...))])</pre><b>In a Jupyter environment, please rerun this cell to show the HTML representation or trust the notebook. <br />On GitHub, the HTML representation is unable to render, please try loading this page with nbviewer.org.</b></div><div class=\"sk-container\" hidden><div class=\"sk-item sk-dashed-wrapped\"><div class=\"sk-label-container\"><div class=\"sk-label sk-toggleable\"><input class=\"sk-toggleable__control sk-hidden--visually\" id=\"sk-estimator-id-76\" type=\"checkbox\" ><label for=\"sk-estimator-id-76\" class=\"sk-toggleable__label sk-toggleable__label-arrow\">Pipeline</label><div class=\"sk-toggleable__content\"><pre>Pipeline(steps=[(&#x27;featureunion&#x27;,\n",
       "                 FeatureUnion(transformer_list=[(&#x27;columntransformer-1&#x27;,\n",
       "                                                 ColumnTransformer(transformers=[(&#x27;pipeline&#x27;,\n",
       "                                                                                  Pipeline(steps=[(&#x27;simpleimputer&#x27;,\n",
       "                                                                                                   SimpleImputer(strategy=&#x27;most_frequent&#x27;)),\n",
       "                                                                                                  (&#x27;onehotencoder&#x27;,\n",
       "                                                                                                   OneHotEncoder(drop=&#x27;first&#x27;,\n",
       "                                                                                                                 handle_unknown=&#x27;ignore&#x27;,\n",
       "                                                                                                                 sparse_output=False))]),\n",
       "                                                                                  array([&#x27;A16&#x27;, &#x27;A13&#x27;, &#x27;A12&#x27;, &#x27;A10&#x27;, &#x27;A9&#x27;, &#x27;A7&#x27;, &#x27;A6&#x27;, &#x27;A5&#x27;, &#x27;A4...\n",
       "                              feature_types=None, gamma=None, gpu_id=None,\n",
       "                              grow_policy=None, importance_type=None,\n",
       "                              interaction_constraints=None, learning_rate=None,\n",
       "                              max_bin=None, max_cat_threshold=None,\n",
       "                              max_cat_to_onehot=None, max_delta_step=None,\n",
       "                              max_depth=None, max_leaves=None,\n",
       "                              min_child_weight=None, missing=nan,\n",
       "                              monotone_constraints=None, n_estimators=100,\n",
       "                              n_jobs=None, num_parallel_tree=None,\n",
       "                              predictor=None, random_state=None, ...))])</pre></div></div></div><div class=\"sk-serial\"><div class=\"sk-item sk-dashed-wrapped\"><div class=\"sk-label-container\"><div class=\"sk-label sk-toggleable\"><input class=\"sk-toggleable__control sk-hidden--visually\" id=\"sk-estimator-id-77\" type=\"checkbox\" ><label for=\"sk-estimator-id-77\" class=\"sk-toggleable__label sk-toggleable__label-arrow\">featureunion: FeatureUnion</label><div class=\"sk-toggleable__content\"><pre>FeatureUnion(transformer_list=[(&#x27;columntransformer-1&#x27;,\n",
       "                                ColumnTransformer(transformers=[(&#x27;pipeline&#x27;,\n",
       "                                                                 Pipeline(steps=[(&#x27;simpleimputer&#x27;,\n",
       "                                                                                  SimpleImputer(strategy=&#x27;most_frequent&#x27;)),\n",
       "                                                                                 (&#x27;onehotencoder&#x27;,\n",
       "                                                                                  OneHotEncoder(drop=&#x27;first&#x27;,\n",
       "                                                                                                handle_unknown=&#x27;ignore&#x27;,\n",
       "                                                                                                sparse_output=False))]),\n",
       "                                                                 array([&#x27;A16&#x27;, &#x27;A13&#x27;, &#x27;A12&#x27;, &#x27;A10&#x27;, &#x27;A9&#x27;, &#x27;A7&#x27;, &#x27;A6&#x27;, &#x27;A5&#x27;, &#x27;A4&#x27;, &#x27;A1&#x27;],\n",
       "      dtype=object))],\n",
       "                                                  verbose_feature_names_out=False)),\n",
       "                               (&#x27;columntransformer-2&#x27;,\n",
       "                                ColumnTransformer(transformers=[(&#x27;pipeline&#x27;,\n",
       "                                                                 Pipeline(steps=[(&#x27;simpleimputer&#x27;,\n",
       "                                                                                  SimpleImputer(strategy=&#x27;median&#x27;)),\n",
       "                                                                                 (&#x27;minmaxscaler&#x27;,\n",
       "                                                                                  MinMaxScaler())]),\n",
       "                                                                 array([&#x27;A15&#x27;, &#x27;A14&#x27;, &#x27;A11&#x27;, &#x27;A8&#x27;, &#x27;A3&#x27;, &#x27;A2&#x27;], dtype=object))],\n",
       "                                                  verbose_feature_names_out=False))])</pre></div></div></div><div class=\"sk-parallel\"><div class=\"sk-parallel-item\"><div class=\"sk-item\"><div class=\"sk-label-container\"><div class=\"sk-label sk-toggleable\"><label>columntransformer-1</label></div></div><div class=\"sk-serial\"><div class=\"sk-item sk-dashed-wrapped\"><div class=\"sk-parallel\"><div class=\"sk-parallel-item\"><div class=\"sk-item\"><div class=\"sk-label-container\"><div class=\"sk-label sk-toggleable\"><input class=\"sk-toggleable__control sk-hidden--visually\" id=\"sk-estimator-id-78\" type=\"checkbox\" ><label for=\"sk-estimator-id-78\" class=\"sk-toggleable__label sk-toggleable__label-arrow\">pipeline</label><div class=\"sk-toggleable__content\"><pre>[&#x27;A16&#x27; &#x27;A13&#x27; &#x27;A12&#x27; &#x27;A10&#x27; &#x27;A9&#x27; &#x27;A7&#x27; &#x27;A6&#x27; &#x27;A5&#x27; &#x27;A4&#x27; &#x27;A1&#x27;]</pre></div></div></div><div class=\"sk-serial\"><div class=\"sk-item\"><div class=\"sk-serial\"><div class=\"sk-item\"><div class=\"sk-estimator sk-toggleable\"><input class=\"sk-toggleable__control sk-hidden--visually\" id=\"sk-estimator-id-79\" type=\"checkbox\" ><label for=\"sk-estimator-id-79\" class=\"sk-toggleable__label sk-toggleable__label-arrow\">SimpleImputer</label><div class=\"sk-toggleable__content\"><pre>SimpleImputer(strategy=&#x27;most_frequent&#x27;)</pre></div></div></div><div class=\"sk-item\"><div class=\"sk-estimator sk-toggleable\"><input class=\"sk-toggleable__control sk-hidden--visually\" id=\"sk-estimator-id-80\" type=\"checkbox\" ><label for=\"sk-estimator-id-80\" class=\"sk-toggleable__label sk-toggleable__label-arrow\">OneHotEncoder</label><div class=\"sk-toggleable__content\"><pre>OneHotEncoder(drop=&#x27;first&#x27;, handle_unknown=&#x27;ignore&#x27;, sparse_output=False)</pre></div></div></div></div></div></div></div></div></div></div></div></div></div><div class=\"sk-parallel-item\"><div class=\"sk-item\"><div class=\"sk-label-container\"><div class=\"sk-label sk-toggleable\"><label>columntransformer-2</label></div></div><div class=\"sk-serial\"><div class=\"sk-item sk-dashed-wrapped\"><div class=\"sk-parallel\"><div class=\"sk-parallel-item\"><div class=\"sk-item\"><div class=\"sk-label-container\"><div class=\"sk-label sk-toggleable\"><input class=\"sk-toggleable__control sk-hidden--visually\" id=\"sk-estimator-id-81\" type=\"checkbox\" ><label for=\"sk-estimator-id-81\" class=\"sk-toggleable__label sk-toggleable__label-arrow\">pipeline</label><div class=\"sk-toggleable__content\"><pre>[&#x27;A15&#x27; &#x27;A14&#x27; &#x27;A11&#x27; &#x27;A8&#x27; &#x27;A3&#x27; &#x27;A2&#x27;]</pre></div></div></div><div class=\"sk-serial\"><div class=\"sk-item\"><div class=\"sk-serial\"><div class=\"sk-item\"><div class=\"sk-estimator sk-toggleable\"><input class=\"sk-toggleable__control sk-hidden--visually\" id=\"sk-estimator-id-82\" type=\"checkbox\" ><label for=\"sk-estimator-id-82\" class=\"sk-toggleable__label sk-toggleable__label-arrow\">SimpleImputer</label><div class=\"sk-toggleable__content\"><pre>SimpleImputer(strategy=&#x27;median&#x27;)</pre></div></div></div><div class=\"sk-item\"><div class=\"sk-estimator sk-toggleable\"><input class=\"sk-toggleable__control sk-hidden--visually\" id=\"sk-estimator-id-83\" type=\"checkbox\" ><label for=\"sk-estimator-id-83\" class=\"sk-toggleable__label sk-toggleable__label-arrow\">MinMaxScaler</label><div class=\"sk-toggleable__content\"><pre>MinMaxScaler()</pre></div></div></div></div></div></div></div></div></div></div></div></div></div></div></div><div class=\"sk-item\"><div class=\"sk-estimator sk-toggleable\"><input class=\"sk-toggleable__control sk-hidden--visually\" id=\"sk-estimator-id-84\" type=\"checkbox\" ><label for=\"sk-estimator-id-84\" class=\"sk-toggleable__label sk-toggleable__label-arrow\">XGBRegressor</label><div class=\"sk-toggleable__content\"><pre>XGBRegressor(base_score=None, booster=None, callbacks=None,\n",
       "             colsample_bylevel=None, colsample_bynode=None,\n",
       "             colsample_bytree=None, early_stopping_rounds=None,\n",
       "             enable_categorical=False, eval_metric=None, feature_types=None,\n",
       "             gamma=None, gpu_id=None, grow_policy=None, importance_type=None,\n",
       "             interaction_constraints=None, learning_rate=None, max_bin=None,\n",
       "             max_cat_threshold=None, max_cat_to_onehot=None,\n",
       "             max_delta_step=None, max_depth=None, max_leaves=None,\n",
       "             min_child_weight=None, missing=nan, monotone_constraints=None,\n",
       "             n_estimators=100, n_jobs=None, num_parallel_tree=None,\n",
       "             predictor=None, random_state=None, ...)</pre></div></div></div></div></div></div></div>"
      ],
      "text/plain": [
       "Pipeline(steps=[('featureunion',\n",
       "                 FeatureUnion(transformer_list=[('columntransformer-1',\n",
       "                                                 ColumnTransformer(transformers=[('pipeline',\n",
       "                                                                                  Pipeline(steps=[('simpleimputer',\n",
       "                                                                                                   SimpleImputer(strategy='most_frequent')),\n",
       "                                                                                                  ('onehotencoder',\n",
       "                                                                                                   OneHotEncoder(drop='first',\n",
       "                                                                                                                 handle_unknown='ignore',\n",
       "                                                                                                                 sparse_output=False))]),\n",
       "                                                                                  array(['A16', 'A13', 'A12', 'A10', 'A9', 'A7', 'A6', 'A5', 'A4...\n",
       "                              feature_types=None, gamma=None, gpu_id=None,\n",
       "                              grow_policy=None, importance_type=None,\n",
       "                              interaction_constraints=None, learning_rate=None,\n",
       "                              max_bin=None, max_cat_threshold=None,\n",
       "                              max_cat_to_onehot=None, max_delta_step=None,\n",
       "                              max_depth=None, max_leaves=None,\n",
       "                              min_child_weight=None, missing=nan,\n",
       "                              monotone_constraints=None, n_estimators=100,\n",
       "                              n_jobs=None, num_parallel_tree=None,\n",
       "                              predictor=None, random_state=None, ...))])"
      ]
     },
     "execution_count": 187,
     "metadata": {},
     "output_type": "execute_result"
    }
   ],
   "source": [
    "cca_transform_xgb = make_pipeline(\n",
    "    make_union(\n",
    "        # categorical\n",
    "        make_column_transformer(\n",
    "            (\n",
    "                make_pipeline(\n",
    "                    SimpleImputer(strategy=\"most_frequent\"),\n",
    "                    OneHotEncoder(drop=\"first\", handle_unknown=\"ignore\", sparse_output=False),\n",
    "                ),\n",
    "                credit_approval.variables[credit_approval.variables.type=='Categorical'].name.values\n",
    "            ),\n",
    "            remainder=\"drop\",\n",
    "            verbose=False,\n",
    "            verbose_feature_names_out=False,\n",
    "        ),\n",
    "        # continuous\n",
    "        make_column_transformer(\n",
    "            (\n",
    "                make_pipeline(\n",
    "                    SimpleImputer(strategy=\"median\"), MinMaxScaler()\n",
    "                ),\n",
    "                credit_approval.variables[credit_approval.variables.type=='Continuous'].name.values\n",
    "            ),\n",
    "            remainder=\"drop\",\n",
    "            verbose=False,\n",
    "            verbose_feature_names_out=False,\n",
    "        )\n",
    "    ),\n",
    "    xgb.XGBRegressor(),#objective=\"reg:linear\", random_state=42),\n",
    "    #LogisticRegression(max_iter=100_000),\n",
    ")\n",
    "cca_transform_xgb"
   ]
  },
  {
   "cell_type": "code",
   "execution_count": 154,
   "id": "cbcbd839-20ac-4fe8-b533-30a0bb41534d",
   "metadata": {},
   "outputs": [],
   "source": [
    " def print_test_scores(\n",
    "    cv_results,\n",
    "    scorings=(\n",
    "        \"test_accuracy\",\n",
    "        \"train_accuracy\",\n",
    "        \"test_average_precision\",\n",
    "        \"train_average_precision\",\n",
    "    ),\n",
    "):\n",
    "    for score in scorings:\n",
    "        print(\n",
    "            f\"mean {score:30s} score = {cv_results[score].mean():.5f} +/- {cv_results[score].std():.5f}\"\n",
    "        )\n",
    "\n",
    "def run_cv(\n",
    "    estimator, X, y, cv, scoring=(\"accuracy\", \"average_precision\"), verbosity_level=0\n",
    "):\n",
    "    return cross_validate(\n",
    "        estimator=estimator,\n",
    "        X=X,\n",
    "        y=y,\n",
    "        cv=cv,\n",
    "        scoring=scoring,\n",
    "        return_estimator=True,\n",
    "        return_indices=True,\n",
    "        return_train_score=True,\n",
    "        verbose=verbosity_level,\n",
    "    )"
   ]
  },
  {
   "cell_type": "code",
   "execution_count": 186,
   "id": "10495a47-ab00-4e50-8087-82e26705f200",
   "metadata": {},
   "outputs": [
    {
     "data": {
      "text/html": [
       "<div>\n",
       "<style scoped>\n",
       "    .dataframe tbody tr th:only-of-type {\n",
       "        vertical-align: middle;\n",
       "    }\n",
       "\n",
       "    .dataframe tbody tr th {\n",
       "        vertical-align: top;\n",
       "    }\n",
       "\n",
       "    .dataframe thead th {\n",
       "        text-align: right;\n",
       "    }\n",
       "</style>\n",
       "<table border=\"1\" class=\"dataframe\">\n",
       "  <thead>\n",
       "    <tr style=\"text-align: right;\">\n",
       "      <th></th>\n",
       "      <th>A16</th>\n",
       "    </tr>\n",
       "  </thead>\n",
       "  <tbody>\n",
       "    <tr>\n",
       "      <th>411</th>\n",
       "      <td>1</td>\n",
       "    </tr>\n",
       "    <tr>\n",
       "      <th>339</th>\n",
       "      <td>1</td>\n",
       "    </tr>\n",
       "    <tr>\n",
       "      <th>433</th>\n",
       "      <td>1</td>\n",
       "    </tr>\n",
       "    <tr>\n",
       "      <th>313</th>\n",
       "      <td>1</td>\n",
       "    </tr>\n",
       "    <tr>\n",
       "      <th>320</th>\n",
       "      <td>0</td>\n",
       "    </tr>\n",
       "    <tr>\n",
       "      <th>...</th>\n",
       "      <td>...</td>\n",
       "    </tr>\n",
       "    <tr>\n",
       "      <th>29</th>\n",
       "      <td>0</td>\n",
       "    </tr>\n",
       "    <tr>\n",
       "      <th>536</th>\n",
       "      <td>1</td>\n",
       "    </tr>\n",
       "    <tr>\n",
       "      <th>329</th>\n",
       "      <td>1</td>\n",
       "    </tr>\n",
       "    <tr>\n",
       "      <th>441</th>\n",
       "      <td>1</td>\n",
       "    </tr>\n",
       "    <tr>\n",
       "      <th>173</th>\n",
       "      <td>0</td>\n",
       "    </tr>\n",
       "  </tbody>\n",
       "</table>\n",
       "<p>392 rows × 1 columns</p>\n",
       "</div>"
      ],
      "text/plain": [
       "     A16\n",
       "411    1\n",
       "339    1\n",
       "433    1\n",
       "313    1\n",
       "320    0\n",
       "..   ...\n",
       "29     0\n",
       "536    1\n",
       "329    1\n",
       "441    1\n",
       "173    0\n",
       "\n",
       "[392 rows x 1 columns]"
      ]
     },
     "execution_count": 186,
     "metadata": {},
     "output_type": "execute_result"
    }
   ],
   "source": [
    "y_train_actual.replace({'-': 1, '+': 0})"
   ]
  },
  {
   "cell_type": "code",
   "execution_count": 188,
   "id": "f0b01968-0d97-48b4-b37b-a538108ac39c",
   "metadata": {},
   "outputs": [
    {
     "ename": "ValueError",
     "evalue": "\nAll the 7 fits failed.\nIt is very likely that your model is misconfigured.\nYou can try to debug the error by setting error_score='raise'.\n\nBelow are more details about the failures:\n--------------------------------------------------------------------------------\n7 fits failed with the following error:\nTraceback (most recent call last):\n  File \"/home/max/miniconda3/envs/ki2/lib/python3.11/site-packages/pandas/core/indexes/base.py\", line 3802, in get_loc\n    return self._engine.get_loc(casted_key)\n           ^^^^^^^^^^^^^^^^^^^^^^^^^^^^^^^^\n  File \"pandas/_libs/index.pyx\", line 138, in pandas._libs.index.IndexEngine.get_loc\n  File \"pandas/_libs/index.pyx\", line 165, in pandas._libs.index.IndexEngine.get_loc\n  File \"pandas/_libs/hashtable_class_helper.pxi\", line 5745, in pandas._libs.hashtable.PyObjectHashTable.get_item\n  File \"pandas/_libs/hashtable_class_helper.pxi\", line 5753, in pandas._libs.hashtable.PyObjectHashTable.get_item\nKeyError: 'A16'\n\nThe above exception was the direct cause of the following exception:\n\nTraceback (most recent call last):\n  File \"/home/max/miniconda3/envs/ki2/lib/python3.11/site-packages/sklearn/utils/__init__.py\", line 447, in _get_column_indices\n    col_idx = all_columns.get_loc(col)\n              ^^^^^^^^^^^^^^^^^^^^^^^^\n  File \"/home/max/miniconda3/envs/ki2/lib/python3.11/site-packages/pandas/core/indexes/base.py\", line 3804, in get_loc\n    raise KeyError(key) from err\nKeyError: 'A16'\n\nThe above exception was the direct cause of the following exception:\n\nTraceback (most recent call last):\n  File \"/home/max/miniconda3/envs/ki2/lib/python3.11/site-packages/sklearn/model_selection/_validation.py\", line 732, in _fit_and_score\n    estimator.fit(X_train, y_train, **fit_params)\n  File \"/home/max/miniconda3/envs/ki2/lib/python3.11/site-packages/sklearn/base.py\", line 1151, in wrapper\n    return fit_method(estimator, *args, **kwargs)\n           ^^^^^^^^^^^^^^^^^^^^^^^^^^^^^^^^^^^^^^\n  File \"/home/max/miniconda3/envs/ki2/lib/python3.11/site-packages/sklearn/pipeline.py\", line 416, in fit\n    Xt = self._fit(X, y, **fit_params_steps)\n         ^^^^^^^^^^^^^^^^^^^^^^^^^^^^^^^^^^^\n  File \"/home/max/miniconda3/envs/ki2/lib/python3.11/site-packages/sklearn/pipeline.py\", line 370, in _fit\n    X, fitted_transformer = fit_transform_one_cached(\n                            ^^^^^^^^^^^^^^^^^^^^^^^^^\n  File \"/home/max/miniconda3/envs/ki2/lib/python3.11/site-packages/joblib/memory.py\", line 353, in __call__\n    return self.func(*args, **kwargs)\n           ^^^^^^^^^^^^^^^^^^^^^^^^^^\n  File \"/home/max/miniconda3/envs/ki2/lib/python3.11/site-packages/sklearn/pipeline.py\", line 950, in _fit_transform_one\n    res = transformer.fit_transform(X, y, **fit_params)\n          ^^^^^^^^^^^^^^^^^^^^^^^^^^^^^^^^^^^^^^^^^^^^^\n  File \"/home/max/miniconda3/envs/ki2/lib/python3.11/site-packages/sklearn/utils/_set_output.py\", line 140, in wrapped\n    data_to_wrap = f(self, X, *args, **kwargs)\n                   ^^^^^^^^^^^^^^^^^^^^^^^^^^^\n  File \"/home/max/miniconda3/envs/ki2/lib/python3.11/site-packages/sklearn/pipeline.py\", line 1255, in fit_transform\n    results = self._parallel_func(X, y, fit_params, _fit_transform_one)\n              ^^^^^^^^^^^^^^^^^^^^^^^^^^^^^^^^^^^^^^^^^^^^^^^^^^^^^^^^^\n  File \"/home/max/miniconda3/envs/ki2/lib/python3.11/site-packages/sklearn/pipeline.py\", line 1277, in _parallel_func\n    return Parallel(n_jobs=self.n_jobs)(\n           ^^^^^^^^^^^^^^^^^^^^^^^^^^^^^\n  File \"/home/max/miniconda3/envs/ki2/lib/python3.11/site-packages/sklearn/utils/parallel.py\", line 65, in __call__\n    return super().__call__(iterable_with_config)\n           ^^^^^^^^^^^^^^^^^^^^^^^^^^^^^^^^^^^^^^\n  File \"/home/max/miniconda3/envs/ki2/lib/python3.11/site-packages/joblib/parallel.py\", line 1863, in __call__\n    return output if self.return_generator else list(output)\n                                                ^^^^^^^^^^^^\n  File \"/home/max/miniconda3/envs/ki2/lib/python3.11/site-packages/joblib/parallel.py\", line 1792, in _get_sequential_output\n    res = func(*args, **kwargs)\n          ^^^^^^^^^^^^^^^^^^^^^\n  File \"/home/max/miniconda3/envs/ki2/lib/python3.11/site-packages/sklearn/utils/parallel.py\", line 127, in __call__\n    return self.function(*args, **kwargs)\n           ^^^^^^^^^^^^^^^^^^^^^^^^^^^^^^\n  File \"/home/max/miniconda3/envs/ki2/lib/python3.11/site-packages/sklearn/pipeline.py\", line 950, in _fit_transform_one\n    res = transformer.fit_transform(X, y, **fit_params)\n          ^^^^^^^^^^^^^^^^^^^^^^^^^^^^^^^^^^^^^^^^^^^^^\n  File \"/home/max/miniconda3/envs/ki2/lib/python3.11/site-packages/sklearn/utils/_set_output.py\", line 140, in wrapped\n    data_to_wrap = f(self, X, *args, **kwargs)\n                   ^^^^^^^^^^^^^^^^^^^^^^^^^^^\n  File \"/home/max/miniconda3/envs/ki2/lib/python3.11/site-packages/sklearn/base.py\", line 1151, in wrapper\n    return fit_method(estimator, *args, **kwargs)\n           ^^^^^^^^^^^^^^^^^^^^^^^^^^^^^^^^^^^^^^\n  File \"/home/max/miniconda3/envs/ki2/lib/python3.11/site-packages/sklearn/compose/_column_transformer.py\", line 740, in fit_transform\n    self._validate_column_callables(X)\n  File \"/home/max/miniconda3/envs/ki2/lib/python3.11/site-packages/sklearn/compose/_column_transformer.py\", line 448, in _validate_column_callables\n    transformer_to_input_indices[name] = _get_column_indices(X, columns)\n                                         ^^^^^^^^^^^^^^^^^^^^^^^^^^^^^^^\n  File \"/home/max/miniconda3/envs/ki2/lib/python3.11/site-packages/sklearn/utils/__init__.py\", line 455, in _get_column_indices\n    raise ValueError(\"A given column is not a column of the dataframe\") from e\nValueError: A given column is not a column of the dataframe\n",
     "output_type": "error",
     "traceback": [
      "\u001b[0;31m---------------------------------------------------------------------------\u001b[0m",
      "\u001b[0;31mValueError\u001b[0m                                Traceback (most recent call last)",
      "Cell \u001b[0;32mIn[188], line 1\u001b[0m\n\u001b[0;32m----> 1\u001b[0m cross_validate(\n\u001b[1;32m      2\u001b[0m     estimator\u001b[38;5;241m=\u001b[39mcca_transform_xgb,\n\u001b[1;32m      3\u001b[0m     X\u001b[38;5;241m=\u001b[39mX_train_actual,\n\u001b[1;32m      4\u001b[0m     y\u001b[38;5;241m=\u001b[39my_train_actual\u001b[38;5;241m.\u001b[39mreplace({\u001b[38;5;124m'\u001b[39m\u001b[38;5;124m-\u001b[39m\u001b[38;5;124m'\u001b[39m: \u001b[38;5;241m1\u001b[39m, \u001b[38;5;124m'\u001b[39m\u001b[38;5;124m+\u001b[39m\u001b[38;5;124m'\u001b[39m: \u001b[38;5;241m0\u001b[39m}),\n\u001b[1;32m      5\u001b[0m     cv\u001b[38;5;241m=\u001b[39mStratifiedKFold(n_splits\u001b[38;5;241m=\u001b[39m\u001b[38;5;241m7\u001b[39m, shuffle\u001b[38;5;241m=\u001b[39m\u001b[38;5;28;01mTrue\u001b[39;00m, random_state\u001b[38;5;241m=\u001b[39m\u001b[38;5;241m42\u001b[39m),\n\u001b[1;32m      6\u001b[0m     scoring\u001b[38;5;241m=\u001b[39m\u001b[38;5;124m\"\u001b[39m\u001b[38;5;124maccuracy\u001b[39m\u001b[38;5;124m\"\u001b[39m)\n",
      "File \u001b[0;32m~/miniconda3/envs/ki2/lib/python3.11/site-packages/sklearn/utils/_param_validation.py:211\u001b[0m, in \u001b[0;36mvalidate_params.<locals>.decorator.<locals>.wrapper\u001b[0;34m(*args, **kwargs)\u001b[0m\n\u001b[1;32m    205\u001b[0m \u001b[38;5;28;01mtry\u001b[39;00m:\n\u001b[1;32m    206\u001b[0m     \u001b[38;5;28;01mwith\u001b[39;00m config_context(\n\u001b[1;32m    207\u001b[0m         skip_parameter_validation\u001b[38;5;241m=\u001b[39m(\n\u001b[1;32m    208\u001b[0m             prefer_skip_nested_validation \u001b[38;5;129;01mor\u001b[39;00m global_skip_validation\n\u001b[1;32m    209\u001b[0m         )\n\u001b[1;32m    210\u001b[0m     ):\n\u001b[0;32m--> 211\u001b[0m         \u001b[38;5;28;01mreturn\u001b[39;00m func(\u001b[38;5;241m*\u001b[39margs, \u001b[38;5;241m*\u001b[39m\u001b[38;5;241m*\u001b[39mkwargs)\n\u001b[1;32m    212\u001b[0m \u001b[38;5;28;01mexcept\u001b[39;00m InvalidParameterError \u001b[38;5;28;01mas\u001b[39;00m e:\n\u001b[1;32m    213\u001b[0m     \u001b[38;5;66;03m# When the function is just a wrapper around an estimator, we allow\u001b[39;00m\n\u001b[1;32m    214\u001b[0m     \u001b[38;5;66;03m# the function to delegate validation to the estimator, but we replace\u001b[39;00m\n\u001b[1;32m    215\u001b[0m     \u001b[38;5;66;03m# the name of the estimator by the name of the function in the error\u001b[39;00m\n\u001b[1;32m    216\u001b[0m     \u001b[38;5;66;03m# message to avoid confusion.\u001b[39;00m\n\u001b[1;32m    217\u001b[0m     msg \u001b[38;5;241m=\u001b[39m re\u001b[38;5;241m.\u001b[39msub(\n\u001b[1;32m    218\u001b[0m         \u001b[38;5;124mr\u001b[39m\u001b[38;5;124m\"\u001b[39m\u001b[38;5;124mparameter of \u001b[39m\u001b[38;5;124m\\\u001b[39m\u001b[38;5;124mw+ must be\u001b[39m\u001b[38;5;124m\"\u001b[39m,\n\u001b[1;32m    219\u001b[0m         \u001b[38;5;124mf\u001b[39m\u001b[38;5;124m\"\u001b[39m\u001b[38;5;124mparameter of \u001b[39m\u001b[38;5;132;01m{\u001b[39;00mfunc\u001b[38;5;241m.\u001b[39m\u001b[38;5;18m__qualname__\u001b[39m\u001b[38;5;132;01m}\u001b[39;00m\u001b[38;5;124m must be\u001b[39m\u001b[38;5;124m\"\u001b[39m,\n\u001b[1;32m    220\u001b[0m         \u001b[38;5;28mstr\u001b[39m(e),\n\u001b[1;32m    221\u001b[0m     )\n",
      "File \u001b[0;32m~/miniconda3/envs/ki2/lib/python3.11/site-packages/sklearn/model_selection/_validation.py:328\u001b[0m, in \u001b[0;36mcross_validate\u001b[0;34m(estimator, X, y, groups, scoring, cv, n_jobs, verbose, fit_params, pre_dispatch, return_train_score, return_estimator, return_indices, error_score)\u001b[0m\n\u001b[1;32m    308\u001b[0m parallel \u001b[38;5;241m=\u001b[39m Parallel(n_jobs\u001b[38;5;241m=\u001b[39mn_jobs, verbose\u001b[38;5;241m=\u001b[39mverbose, pre_dispatch\u001b[38;5;241m=\u001b[39mpre_dispatch)\n\u001b[1;32m    309\u001b[0m results \u001b[38;5;241m=\u001b[39m parallel(\n\u001b[1;32m    310\u001b[0m     delayed(_fit_and_score)(\n\u001b[1;32m    311\u001b[0m         clone(estimator),\n\u001b[0;32m   (...)\u001b[0m\n\u001b[1;32m    325\u001b[0m     \u001b[38;5;28;01mfor\u001b[39;00m train, test \u001b[38;5;129;01min\u001b[39;00m indices\n\u001b[1;32m    326\u001b[0m )\n\u001b[0;32m--> 328\u001b[0m _warn_or_raise_about_fit_failures(results, error_score)\n\u001b[1;32m    330\u001b[0m \u001b[38;5;66;03m# For callable scoring, the return type is only know after calling. If the\u001b[39;00m\n\u001b[1;32m    331\u001b[0m \u001b[38;5;66;03m# return type is a dictionary, the error scores can now be inserted with\u001b[39;00m\n\u001b[1;32m    332\u001b[0m \u001b[38;5;66;03m# the correct key.\u001b[39;00m\n\u001b[1;32m    333\u001b[0m \u001b[38;5;28;01mif\u001b[39;00m callable(scoring):\n",
      "File \u001b[0;32m~/miniconda3/envs/ki2/lib/python3.11/site-packages/sklearn/model_selection/_validation.py:414\u001b[0m, in \u001b[0;36m_warn_or_raise_about_fit_failures\u001b[0;34m(results, error_score)\u001b[0m\n\u001b[1;32m    407\u001b[0m \u001b[38;5;28;01mif\u001b[39;00m num_failed_fits \u001b[38;5;241m==\u001b[39m num_fits:\n\u001b[1;32m    408\u001b[0m     all_fits_failed_message \u001b[38;5;241m=\u001b[39m (\n\u001b[1;32m    409\u001b[0m         \u001b[38;5;124mf\u001b[39m\u001b[38;5;124m\"\u001b[39m\u001b[38;5;130;01m\\n\u001b[39;00m\u001b[38;5;124mAll the \u001b[39m\u001b[38;5;132;01m{\u001b[39;00mnum_fits\u001b[38;5;132;01m}\u001b[39;00m\u001b[38;5;124m fits failed.\u001b[39m\u001b[38;5;130;01m\\n\u001b[39;00m\u001b[38;5;124m\"\u001b[39m\n\u001b[1;32m    410\u001b[0m         \u001b[38;5;124m\"\u001b[39m\u001b[38;5;124mIt is very likely that your model is misconfigured.\u001b[39m\u001b[38;5;130;01m\\n\u001b[39;00m\u001b[38;5;124m\"\u001b[39m\n\u001b[1;32m    411\u001b[0m         \u001b[38;5;124m\"\u001b[39m\u001b[38;5;124mYou can try to debug the error by setting error_score=\u001b[39m\u001b[38;5;124m'\u001b[39m\u001b[38;5;124mraise\u001b[39m\u001b[38;5;124m'\u001b[39m\u001b[38;5;124m.\u001b[39m\u001b[38;5;130;01m\\n\u001b[39;00m\u001b[38;5;130;01m\\n\u001b[39;00m\u001b[38;5;124m\"\u001b[39m\n\u001b[1;32m    412\u001b[0m         \u001b[38;5;124mf\u001b[39m\u001b[38;5;124m\"\u001b[39m\u001b[38;5;124mBelow are more details about the failures:\u001b[39m\u001b[38;5;130;01m\\n\u001b[39;00m\u001b[38;5;132;01m{\u001b[39;00mfit_errors_summary\u001b[38;5;132;01m}\u001b[39;00m\u001b[38;5;124m\"\u001b[39m\n\u001b[1;32m    413\u001b[0m     )\n\u001b[0;32m--> 414\u001b[0m     \u001b[38;5;28;01mraise\u001b[39;00m \u001b[38;5;167;01mValueError\u001b[39;00m(all_fits_failed_message)\n\u001b[1;32m    416\u001b[0m \u001b[38;5;28;01melse\u001b[39;00m:\n\u001b[1;32m    417\u001b[0m     some_fits_failed_message \u001b[38;5;241m=\u001b[39m (\n\u001b[1;32m    418\u001b[0m         \u001b[38;5;124mf\u001b[39m\u001b[38;5;124m\"\u001b[39m\u001b[38;5;130;01m\\n\u001b[39;00m\u001b[38;5;132;01m{\u001b[39;00mnum_failed_fits\u001b[38;5;132;01m}\u001b[39;00m\u001b[38;5;124m fits failed out of a total of \u001b[39m\u001b[38;5;132;01m{\u001b[39;00mnum_fits\u001b[38;5;132;01m}\u001b[39;00m\u001b[38;5;124m.\u001b[39m\u001b[38;5;130;01m\\n\u001b[39;00m\u001b[38;5;124m\"\u001b[39m\n\u001b[1;32m    419\u001b[0m         \u001b[38;5;124m\"\u001b[39m\u001b[38;5;124mThe score on these train-test partitions for these parameters\u001b[39m\u001b[38;5;124m\"\u001b[39m\n\u001b[0;32m   (...)\u001b[0m\n\u001b[1;32m    423\u001b[0m         \u001b[38;5;124mf\u001b[39m\u001b[38;5;124m\"\u001b[39m\u001b[38;5;124mBelow are more details about the failures:\u001b[39m\u001b[38;5;130;01m\\n\u001b[39;00m\u001b[38;5;132;01m{\u001b[39;00mfit_errors_summary\u001b[38;5;132;01m}\u001b[39;00m\u001b[38;5;124m\"\u001b[39m\n\u001b[1;32m    424\u001b[0m     )\n",
      "\u001b[0;31mValueError\u001b[0m: \nAll the 7 fits failed.\nIt is very likely that your model is misconfigured.\nYou can try to debug the error by setting error_score='raise'.\n\nBelow are more details about the failures:\n--------------------------------------------------------------------------------\n7 fits failed with the following error:\nTraceback (most recent call last):\n  File \"/home/max/miniconda3/envs/ki2/lib/python3.11/site-packages/pandas/core/indexes/base.py\", line 3802, in get_loc\n    return self._engine.get_loc(casted_key)\n           ^^^^^^^^^^^^^^^^^^^^^^^^^^^^^^^^\n  File \"pandas/_libs/index.pyx\", line 138, in pandas._libs.index.IndexEngine.get_loc\n  File \"pandas/_libs/index.pyx\", line 165, in pandas._libs.index.IndexEngine.get_loc\n  File \"pandas/_libs/hashtable_class_helper.pxi\", line 5745, in pandas._libs.hashtable.PyObjectHashTable.get_item\n  File \"pandas/_libs/hashtable_class_helper.pxi\", line 5753, in pandas._libs.hashtable.PyObjectHashTable.get_item\nKeyError: 'A16'\n\nThe above exception was the direct cause of the following exception:\n\nTraceback (most recent call last):\n  File \"/home/max/miniconda3/envs/ki2/lib/python3.11/site-packages/sklearn/utils/__init__.py\", line 447, in _get_column_indices\n    col_idx = all_columns.get_loc(col)\n              ^^^^^^^^^^^^^^^^^^^^^^^^\n  File \"/home/max/miniconda3/envs/ki2/lib/python3.11/site-packages/pandas/core/indexes/base.py\", line 3804, in get_loc\n    raise KeyError(key) from err\nKeyError: 'A16'\n\nThe above exception was the direct cause of the following exception:\n\nTraceback (most recent call last):\n  File \"/home/max/miniconda3/envs/ki2/lib/python3.11/site-packages/sklearn/model_selection/_validation.py\", line 732, in _fit_and_score\n    estimator.fit(X_train, y_train, **fit_params)\n  File \"/home/max/miniconda3/envs/ki2/lib/python3.11/site-packages/sklearn/base.py\", line 1151, in wrapper\n    return fit_method(estimator, *args, **kwargs)\n           ^^^^^^^^^^^^^^^^^^^^^^^^^^^^^^^^^^^^^^\n  File \"/home/max/miniconda3/envs/ki2/lib/python3.11/site-packages/sklearn/pipeline.py\", line 416, in fit\n    Xt = self._fit(X, y, **fit_params_steps)\n         ^^^^^^^^^^^^^^^^^^^^^^^^^^^^^^^^^^^\n  File \"/home/max/miniconda3/envs/ki2/lib/python3.11/site-packages/sklearn/pipeline.py\", line 370, in _fit\n    X, fitted_transformer = fit_transform_one_cached(\n                            ^^^^^^^^^^^^^^^^^^^^^^^^^\n  File \"/home/max/miniconda3/envs/ki2/lib/python3.11/site-packages/joblib/memory.py\", line 353, in __call__\n    return self.func(*args, **kwargs)\n           ^^^^^^^^^^^^^^^^^^^^^^^^^^\n  File \"/home/max/miniconda3/envs/ki2/lib/python3.11/site-packages/sklearn/pipeline.py\", line 950, in _fit_transform_one\n    res = transformer.fit_transform(X, y, **fit_params)\n          ^^^^^^^^^^^^^^^^^^^^^^^^^^^^^^^^^^^^^^^^^^^^^\n  File \"/home/max/miniconda3/envs/ki2/lib/python3.11/site-packages/sklearn/utils/_set_output.py\", line 140, in wrapped\n    data_to_wrap = f(self, X, *args, **kwargs)\n                   ^^^^^^^^^^^^^^^^^^^^^^^^^^^\n  File \"/home/max/miniconda3/envs/ki2/lib/python3.11/site-packages/sklearn/pipeline.py\", line 1255, in fit_transform\n    results = self._parallel_func(X, y, fit_params, _fit_transform_one)\n              ^^^^^^^^^^^^^^^^^^^^^^^^^^^^^^^^^^^^^^^^^^^^^^^^^^^^^^^^^\n  File \"/home/max/miniconda3/envs/ki2/lib/python3.11/site-packages/sklearn/pipeline.py\", line 1277, in _parallel_func\n    return Parallel(n_jobs=self.n_jobs)(\n           ^^^^^^^^^^^^^^^^^^^^^^^^^^^^^\n  File \"/home/max/miniconda3/envs/ki2/lib/python3.11/site-packages/sklearn/utils/parallel.py\", line 65, in __call__\n    return super().__call__(iterable_with_config)\n           ^^^^^^^^^^^^^^^^^^^^^^^^^^^^^^^^^^^^^^\n  File \"/home/max/miniconda3/envs/ki2/lib/python3.11/site-packages/joblib/parallel.py\", line 1863, in __call__\n    return output if self.return_generator else list(output)\n                                                ^^^^^^^^^^^^\n  File \"/home/max/miniconda3/envs/ki2/lib/python3.11/site-packages/joblib/parallel.py\", line 1792, in _get_sequential_output\n    res = func(*args, **kwargs)\n          ^^^^^^^^^^^^^^^^^^^^^\n  File \"/home/max/miniconda3/envs/ki2/lib/python3.11/site-packages/sklearn/utils/parallel.py\", line 127, in __call__\n    return self.function(*args, **kwargs)\n           ^^^^^^^^^^^^^^^^^^^^^^^^^^^^^^\n  File \"/home/max/miniconda3/envs/ki2/lib/python3.11/site-packages/sklearn/pipeline.py\", line 950, in _fit_transform_one\n    res = transformer.fit_transform(X, y, **fit_params)\n          ^^^^^^^^^^^^^^^^^^^^^^^^^^^^^^^^^^^^^^^^^^^^^\n  File \"/home/max/miniconda3/envs/ki2/lib/python3.11/site-packages/sklearn/utils/_set_output.py\", line 140, in wrapped\n    data_to_wrap = f(self, X, *args, **kwargs)\n                   ^^^^^^^^^^^^^^^^^^^^^^^^^^^\n  File \"/home/max/miniconda3/envs/ki2/lib/python3.11/site-packages/sklearn/base.py\", line 1151, in wrapper\n    return fit_method(estimator, *args, **kwargs)\n           ^^^^^^^^^^^^^^^^^^^^^^^^^^^^^^^^^^^^^^\n  File \"/home/max/miniconda3/envs/ki2/lib/python3.11/site-packages/sklearn/compose/_column_transformer.py\", line 740, in fit_transform\n    self._validate_column_callables(X)\n  File \"/home/max/miniconda3/envs/ki2/lib/python3.11/site-packages/sklearn/compose/_column_transformer.py\", line 448, in _validate_column_callables\n    transformer_to_input_indices[name] = _get_column_indices(X, columns)\n                                         ^^^^^^^^^^^^^^^^^^^^^^^^^^^^^^^\n  File \"/home/max/miniconda3/envs/ki2/lib/python3.11/site-packages/sklearn/utils/__init__.py\", line 455, in _get_column_indices\n    raise ValueError(\"A given column is not a column of the dataframe\") from e\nValueError: A given column is not a column of the dataframe\n"
     ]
    }
   ],
   "source": [
    "cross_validate(\n",
    "    estimator=cca_transform_xgb,\n",
    "    X=X_train_actual,\n",
    "    y=y_train_actual.replace({'-': 1, '+': 0}),\n",
    "    cv=StratifiedKFold(n_splits=7, shuffle=True, random_state=42),\n",
    "    scoring=\"accuracy\")"
   ]
  },
  {
   "cell_type": "code",
   "execution_count": 176,
   "id": "2caf72d3-8185-488c-9b91-96d7a2c01c4c",
   "metadata": {},
   "outputs": [
    {
     "name": "stdout",
     "output_type": "stream",
     "text": [
      "mean test_accuracy                  score = nan +/- nan\n",
      "mean train_accuracy                 score = nan +/- nan\n",
      "mean test_average_precision         score = nan +/- nan\n",
      "mean train_average_precision        score = nan +/- nan\n"
     ]
    },
    {
     "name": "stderr",
     "output_type": "stream",
     "text": [
      "/home/max/miniconda3/envs/ki2/lib/python3.11/site-packages/sklearn/model_selection/_validation.py:842: UserWarning: Scoring failed. The score on this train-test partition for these parameters will be set to nan. Details: \n",
      "Traceback (most recent call last):\n",
      "  File \"/home/max/miniconda3/envs/ki2/lib/python3.11/site-packages/sklearn/metrics/_scorer.py\", line 136, in __call__\n",
      "    score = scorer._score(\n",
      "            ^^^^^^^^^^^^^^\n",
      "  File \"/home/max/miniconda3/envs/ki2/lib/python3.11/site-packages/sklearn/metrics/_scorer.py\", line 353, in _score\n",
      "    y_pred = method_caller(estimator, \"predict\", X)\n",
      "             ^^^^^^^^^^^^^^^^^^^^^^^^^^^^^^^^^^^^^^\n",
      "  File \"/home/max/miniconda3/envs/ki2/lib/python3.11/site-packages/sklearn/metrics/_scorer.py\", line 86, in _cached_call\n",
      "    result, _ = _get_response_values(\n",
      "                ^^^^^^^^^^^^^^^^^^^^^\n",
      "  File \"/home/max/miniconda3/envs/ki2/lib/python3.11/site-packages/sklearn/utils/_response.py\", line 109, in _get_response_values\n",
      "    y_pred, pos_label = estimator.predict(X), None\n",
      "                        ^^^^^^^^^^^^^^^^^\n",
      "  File \"/home/max/miniconda3/envs/ki2/lib/python3.11/site-packages/sklearn/utils/_available_if.py\", line 31, in __get__\n",
      "    if not self.check(obj):\n",
      "           ^^^^^^^^^^^^^^^\n",
      "  File \"/home/max/miniconda3/envs/ki2/lib/python3.11/site-packages/sklearn/pipeline.py\", line 44, in check\n",
      "    getattr(self._final_estimator, attr)\n",
      "AttributeError: 'FeatureUnion' object has no attribute 'predict'\n",
      "\n",
      "  warnings.warn(\n",
      "/home/max/miniconda3/envs/ki2/lib/python3.11/site-packages/sklearn/model_selection/_validation.py:842: UserWarning: Scoring failed. The score on this train-test partition for these parameters will be set to nan. Details: \n",
      "Traceback (most recent call last):\n",
      "  File \"/home/max/miniconda3/envs/ki2/lib/python3.11/site-packages/sklearn/metrics/_scorer.py\", line 136, in __call__\n",
      "    score = scorer._score(\n",
      "            ^^^^^^^^^^^^^^\n",
      "  File \"/home/max/miniconda3/envs/ki2/lib/python3.11/site-packages/sklearn/metrics/_scorer.py\", line 459, in _score\n",
      "    y_pred = method_caller(clf, \"decision_function\", X, pos_label=pos_label)\n",
      "             ^^^^^^^^^^^^^^^^^^^^^^^^^^^^^^^^^^^^^^^^^^^^^^^^^^^^^^^^^^^^^^^\n",
      "  File \"/home/max/miniconda3/envs/ki2/lib/python3.11/site-packages/sklearn/metrics/_scorer.py\", line 86, in _cached_call\n",
      "    result, _ = _get_response_values(\n",
      "                ^^^^^^^^^^^^^^^^^^^^^\n",
      "  File \"/home/max/miniconda3/envs/ki2/lib/python3.11/site-packages/sklearn/utils/_response.py\", line 103, in _get_response_values\n",
      "    raise ValueError(\n",
      "ValueError: Pipeline should either be a classifier to be used with response_method=decision_function or the response_method should be 'predict'. Got a regressor with response_method=decision_function instead.\n",
      "\n",
      "  warnings.warn(\n",
      "/home/max/miniconda3/envs/ki2/lib/python3.11/site-packages/sklearn/model_selection/_validation.py:842: UserWarning: Scoring failed. The score on this train-test partition for these parameters will be set to nan. Details: \n",
      "Traceback (most recent call last):\n",
      "  File \"/home/max/miniconda3/envs/ki2/lib/python3.11/site-packages/sklearn/metrics/_scorer.py\", line 136, in __call__\n",
      "    score = scorer._score(\n",
      "            ^^^^^^^^^^^^^^\n",
      "  File \"/home/max/miniconda3/envs/ki2/lib/python3.11/site-packages/sklearn/metrics/_scorer.py\", line 353, in _score\n",
      "    y_pred = method_caller(estimator, \"predict\", X)\n",
      "             ^^^^^^^^^^^^^^^^^^^^^^^^^^^^^^^^^^^^^^\n",
      "  File \"/home/max/miniconda3/envs/ki2/lib/python3.11/site-packages/sklearn/metrics/_scorer.py\", line 86, in _cached_call\n",
      "    result, _ = _get_response_values(\n",
      "                ^^^^^^^^^^^^^^^^^^^^^\n",
      "  File \"/home/max/miniconda3/envs/ki2/lib/python3.11/site-packages/sklearn/utils/_response.py\", line 109, in _get_response_values\n",
      "    y_pred, pos_label = estimator.predict(X), None\n",
      "                        ^^^^^^^^^^^^^^^^^\n",
      "  File \"/home/max/miniconda3/envs/ki2/lib/python3.11/site-packages/sklearn/utils/_available_if.py\", line 31, in __get__\n",
      "    if not self.check(obj):\n",
      "           ^^^^^^^^^^^^^^^\n",
      "  File \"/home/max/miniconda3/envs/ki2/lib/python3.11/site-packages/sklearn/pipeline.py\", line 44, in check\n",
      "    getattr(self._final_estimator, attr)\n",
      "AttributeError: 'FeatureUnion' object has no attribute 'predict'\n",
      "\n",
      "  warnings.warn(\n",
      "/home/max/miniconda3/envs/ki2/lib/python3.11/site-packages/sklearn/model_selection/_validation.py:842: UserWarning: Scoring failed. The score on this train-test partition for these parameters will be set to nan. Details: \n",
      "Traceback (most recent call last):\n",
      "  File \"/home/max/miniconda3/envs/ki2/lib/python3.11/site-packages/sklearn/metrics/_scorer.py\", line 136, in __call__\n",
      "    score = scorer._score(\n",
      "            ^^^^^^^^^^^^^^\n",
      "  File \"/home/max/miniconda3/envs/ki2/lib/python3.11/site-packages/sklearn/metrics/_scorer.py\", line 459, in _score\n",
      "    y_pred = method_caller(clf, \"decision_function\", X, pos_label=pos_label)\n",
      "             ^^^^^^^^^^^^^^^^^^^^^^^^^^^^^^^^^^^^^^^^^^^^^^^^^^^^^^^^^^^^^^^\n",
      "  File \"/home/max/miniconda3/envs/ki2/lib/python3.11/site-packages/sklearn/metrics/_scorer.py\", line 86, in _cached_call\n",
      "    result, _ = _get_response_values(\n",
      "                ^^^^^^^^^^^^^^^^^^^^^\n",
      "  File \"/home/max/miniconda3/envs/ki2/lib/python3.11/site-packages/sklearn/utils/_response.py\", line 103, in _get_response_values\n",
      "    raise ValueError(\n",
      "ValueError: Pipeline should either be a classifier to be used with response_method=decision_function or the response_method should be 'predict'. Got a regressor with response_method=decision_function instead.\n",
      "\n",
      "  warnings.warn(\n",
      "/home/max/miniconda3/envs/ki2/lib/python3.11/site-packages/sklearn/model_selection/_validation.py:842: UserWarning: Scoring failed. The score on this train-test partition for these parameters will be set to nan. Details: \n",
      "Traceback (most recent call last):\n",
      "  File \"/home/max/miniconda3/envs/ki2/lib/python3.11/site-packages/sklearn/metrics/_scorer.py\", line 136, in __call__\n",
      "    score = scorer._score(\n",
      "            ^^^^^^^^^^^^^^\n",
      "  File \"/home/max/miniconda3/envs/ki2/lib/python3.11/site-packages/sklearn/metrics/_scorer.py\", line 353, in _score\n",
      "    y_pred = method_caller(estimator, \"predict\", X)\n",
      "             ^^^^^^^^^^^^^^^^^^^^^^^^^^^^^^^^^^^^^^\n",
      "  File \"/home/max/miniconda3/envs/ki2/lib/python3.11/site-packages/sklearn/metrics/_scorer.py\", line 86, in _cached_call\n",
      "    result, _ = _get_response_values(\n",
      "                ^^^^^^^^^^^^^^^^^^^^^\n",
      "  File \"/home/max/miniconda3/envs/ki2/lib/python3.11/site-packages/sklearn/utils/_response.py\", line 109, in _get_response_values\n",
      "    y_pred, pos_label = estimator.predict(X), None\n",
      "                        ^^^^^^^^^^^^^^^^^\n",
      "  File \"/home/max/miniconda3/envs/ki2/lib/python3.11/site-packages/sklearn/utils/_available_if.py\", line 31, in __get__\n",
      "    if not self.check(obj):\n",
      "           ^^^^^^^^^^^^^^^\n",
      "  File \"/home/max/miniconda3/envs/ki2/lib/python3.11/site-packages/sklearn/pipeline.py\", line 44, in check\n",
      "    getattr(self._final_estimator, attr)\n",
      "AttributeError: 'FeatureUnion' object has no attribute 'predict'\n",
      "\n",
      "  warnings.warn(\n",
      "/home/max/miniconda3/envs/ki2/lib/python3.11/site-packages/sklearn/model_selection/_validation.py:842: UserWarning: Scoring failed. The score on this train-test partition for these parameters will be set to nan. Details: \n",
      "Traceback (most recent call last):\n",
      "  File \"/home/max/miniconda3/envs/ki2/lib/python3.11/site-packages/sklearn/metrics/_scorer.py\", line 136, in __call__\n",
      "    score = scorer._score(\n",
      "            ^^^^^^^^^^^^^^\n",
      "  File \"/home/max/miniconda3/envs/ki2/lib/python3.11/site-packages/sklearn/metrics/_scorer.py\", line 459, in _score\n",
      "    y_pred = method_caller(clf, \"decision_function\", X, pos_label=pos_label)\n",
      "             ^^^^^^^^^^^^^^^^^^^^^^^^^^^^^^^^^^^^^^^^^^^^^^^^^^^^^^^^^^^^^^^\n",
      "  File \"/home/max/miniconda3/envs/ki2/lib/python3.11/site-packages/sklearn/metrics/_scorer.py\", line 86, in _cached_call\n",
      "    result, _ = _get_response_values(\n",
      "                ^^^^^^^^^^^^^^^^^^^^^\n",
      "  File \"/home/max/miniconda3/envs/ki2/lib/python3.11/site-packages/sklearn/utils/_response.py\", line 103, in _get_response_values\n",
      "    raise ValueError(\n",
      "ValueError: Pipeline should either be a classifier to be used with response_method=decision_function or the response_method should be 'predict'. Got a regressor with response_method=decision_function instead.\n",
      "\n",
      "  warnings.warn(\n",
      "/home/max/miniconda3/envs/ki2/lib/python3.11/site-packages/sklearn/model_selection/_validation.py:842: UserWarning: Scoring failed. The score on this train-test partition for these parameters will be set to nan. Details: \n",
      "Traceback (most recent call last):\n",
      "  File \"/home/max/miniconda3/envs/ki2/lib/python3.11/site-packages/sklearn/metrics/_scorer.py\", line 136, in __call__\n",
      "    score = scorer._score(\n",
      "            ^^^^^^^^^^^^^^\n",
      "  File \"/home/max/miniconda3/envs/ki2/lib/python3.11/site-packages/sklearn/metrics/_scorer.py\", line 353, in _score\n",
      "    y_pred = method_caller(estimator, \"predict\", X)\n",
      "             ^^^^^^^^^^^^^^^^^^^^^^^^^^^^^^^^^^^^^^\n",
      "  File \"/home/max/miniconda3/envs/ki2/lib/python3.11/site-packages/sklearn/metrics/_scorer.py\", line 86, in _cached_call\n",
      "    result, _ = _get_response_values(\n",
      "                ^^^^^^^^^^^^^^^^^^^^^\n",
      "  File \"/home/max/miniconda3/envs/ki2/lib/python3.11/site-packages/sklearn/utils/_response.py\", line 109, in _get_response_values\n",
      "    y_pred, pos_label = estimator.predict(X), None\n",
      "                        ^^^^^^^^^^^^^^^^^\n",
      "  File \"/home/max/miniconda3/envs/ki2/lib/python3.11/site-packages/sklearn/utils/_available_if.py\", line 31, in __get__\n",
      "    if not self.check(obj):\n",
      "           ^^^^^^^^^^^^^^^\n",
      "  File \"/home/max/miniconda3/envs/ki2/lib/python3.11/site-packages/sklearn/pipeline.py\", line 44, in check\n",
      "    getattr(self._final_estimator, attr)\n",
      "AttributeError: 'FeatureUnion' object has no attribute 'predict'\n",
      "\n",
      "  warnings.warn(\n",
      "/home/max/miniconda3/envs/ki2/lib/python3.11/site-packages/sklearn/model_selection/_validation.py:842: UserWarning: Scoring failed. The score on this train-test partition for these parameters will be set to nan. Details: \n",
      "Traceback (most recent call last):\n",
      "  File \"/home/max/miniconda3/envs/ki2/lib/python3.11/site-packages/sklearn/metrics/_scorer.py\", line 136, in __call__\n",
      "    score = scorer._score(\n",
      "            ^^^^^^^^^^^^^^\n",
      "  File \"/home/max/miniconda3/envs/ki2/lib/python3.11/site-packages/sklearn/metrics/_scorer.py\", line 459, in _score\n",
      "    y_pred = method_caller(clf, \"decision_function\", X, pos_label=pos_label)\n",
      "             ^^^^^^^^^^^^^^^^^^^^^^^^^^^^^^^^^^^^^^^^^^^^^^^^^^^^^^^^^^^^^^^\n",
      "  File \"/home/max/miniconda3/envs/ki2/lib/python3.11/site-packages/sklearn/metrics/_scorer.py\", line 86, in _cached_call\n",
      "    result, _ = _get_response_values(\n",
      "                ^^^^^^^^^^^^^^^^^^^^^\n",
      "  File \"/home/max/miniconda3/envs/ki2/lib/python3.11/site-packages/sklearn/utils/_response.py\", line 103, in _get_response_values\n",
      "    raise ValueError(\n",
      "ValueError: Pipeline should either be a classifier to be used with response_method=decision_function or the response_method should be 'predict'. Got a regressor with response_method=decision_function instead.\n",
      "\n",
      "  warnings.warn(\n",
      "/home/max/miniconda3/envs/ki2/lib/python3.11/site-packages/sklearn/model_selection/_validation.py:842: UserWarning: Scoring failed. The score on this train-test partition for these parameters will be set to nan. Details: \n",
      "Traceback (most recent call last):\n",
      "  File \"/home/max/miniconda3/envs/ki2/lib/python3.11/site-packages/sklearn/metrics/_scorer.py\", line 136, in __call__\n",
      "    score = scorer._score(\n",
      "            ^^^^^^^^^^^^^^\n",
      "  File \"/home/max/miniconda3/envs/ki2/lib/python3.11/site-packages/sklearn/metrics/_scorer.py\", line 353, in _score\n",
      "    y_pred = method_caller(estimator, \"predict\", X)\n",
      "             ^^^^^^^^^^^^^^^^^^^^^^^^^^^^^^^^^^^^^^\n",
      "  File \"/home/max/miniconda3/envs/ki2/lib/python3.11/site-packages/sklearn/metrics/_scorer.py\", line 86, in _cached_call\n",
      "    result, _ = _get_response_values(\n",
      "                ^^^^^^^^^^^^^^^^^^^^^\n",
      "  File \"/home/max/miniconda3/envs/ki2/lib/python3.11/site-packages/sklearn/utils/_response.py\", line 109, in _get_response_values\n",
      "    y_pred, pos_label = estimator.predict(X), None\n",
      "                        ^^^^^^^^^^^^^^^^^\n",
      "  File \"/home/max/miniconda3/envs/ki2/lib/python3.11/site-packages/sklearn/utils/_available_if.py\", line 31, in __get__\n",
      "    if not self.check(obj):\n",
      "           ^^^^^^^^^^^^^^^\n",
      "  File \"/home/max/miniconda3/envs/ki2/lib/python3.11/site-packages/sklearn/pipeline.py\", line 44, in check\n",
      "    getattr(self._final_estimator, attr)\n",
      "AttributeError: 'FeatureUnion' object has no attribute 'predict'\n",
      "\n",
      "  warnings.warn(\n",
      "/home/max/miniconda3/envs/ki2/lib/python3.11/site-packages/sklearn/model_selection/_validation.py:842: UserWarning: Scoring failed. The score on this train-test partition for these parameters will be set to nan. Details: \n",
      "Traceback (most recent call last):\n",
      "  File \"/home/max/miniconda3/envs/ki2/lib/python3.11/site-packages/sklearn/metrics/_scorer.py\", line 136, in __call__\n",
      "    score = scorer._score(\n",
      "            ^^^^^^^^^^^^^^\n",
      "  File \"/home/max/miniconda3/envs/ki2/lib/python3.11/site-packages/sklearn/metrics/_scorer.py\", line 459, in _score\n",
      "    y_pred = method_caller(clf, \"decision_function\", X, pos_label=pos_label)\n",
      "             ^^^^^^^^^^^^^^^^^^^^^^^^^^^^^^^^^^^^^^^^^^^^^^^^^^^^^^^^^^^^^^^\n",
      "  File \"/home/max/miniconda3/envs/ki2/lib/python3.11/site-packages/sklearn/metrics/_scorer.py\", line 86, in _cached_call\n",
      "    result, _ = _get_response_values(\n",
      "                ^^^^^^^^^^^^^^^^^^^^^\n",
      "  File \"/home/max/miniconda3/envs/ki2/lib/python3.11/site-packages/sklearn/utils/_response.py\", line 103, in _get_response_values\n",
      "    raise ValueError(\n",
      "ValueError: Pipeline should either be a classifier to be used with response_method=decision_function or the response_method should be 'predict'. Got a regressor with response_method=decision_function instead.\n",
      "\n",
      "  warnings.warn(\n",
      "/home/max/miniconda3/envs/ki2/lib/python3.11/site-packages/sklearn/model_selection/_validation.py:842: UserWarning: Scoring failed. The score on this train-test partition for these parameters will be set to nan. Details: \n",
      "Traceback (most recent call last):\n",
      "  File \"/home/max/miniconda3/envs/ki2/lib/python3.11/site-packages/sklearn/metrics/_scorer.py\", line 136, in __call__\n",
      "    score = scorer._score(\n",
      "            ^^^^^^^^^^^^^^\n",
      "  File \"/home/max/miniconda3/envs/ki2/lib/python3.11/site-packages/sklearn/metrics/_scorer.py\", line 353, in _score\n",
      "    y_pred = method_caller(estimator, \"predict\", X)\n",
      "             ^^^^^^^^^^^^^^^^^^^^^^^^^^^^^^^^^^^^^^\n",
      "  File \"/home/max/miniconda3/envs/ki2/lib/python3.11/site-packages/sklearn/metrics/_scorer.py\", line 86, in _cached_call\n",
      "    result, _ = _get_response_values(\n",
      "                ^^^^^^^^^^^^^^^^^^^^^\n",
      "  File \"/home/max/miniconda3/envs/ki2/lib/python3.11/site-packages/sklearn/utils/_response.py\", line 109, in _get_response_values\n",
      "    y_pred, pos_label = estimator.predict(X), None\n",
      "                        ^^^^^^^^^^^^^^^^^\n",
      "  File \"/home/max/miniconda3/envs/ki2/lib/python3.11/site-packages/sklearn/utils/_available_if.py\", line 31, in __get__\n",
      "    if not self.check(obj):\n",
      "           ^^^^^^^^^^^^^^^\n",
      "  File \"/home/max/miniconda3/envs/ki2/lib/python3.11/site-packages/sklearn/pipeline.py\", line 44, in check\n",
      "    getattr(self._final_estimator, attr)\n",
      "AttributeError: 'FeatureUnion' object has no attribute 'predict'\n",
      "\n",
      "  warnings.warn(\n",
      "/home/max/miniconda3/envs/ki2/lib/python3.11/site-packages/sklearn/model_selection/_validation.py:842: UserWarning: Scoring failed. The score on this train-test partition for these parameters will be set to nan. Details: \n",
      "Traceback (most recent call last):\n",
      "  File \"/home/max/miniconda3/envs/ki2/lib/python3.11/site-packages/sklearn/metrics/_scorer.py\", line 136, in __call__\n",
      "    score = scorer._score(\n",
      "            ^^^^^^^^^^^^^^\n",
      "  File \"/home/max/miniconda3/envs/ki2/lib/python3.11/site-packages/sklearn/metrics/_scorer.py\", line 459, in _score\n",
      "    y_pred = method_caller(clf, \"decision_function\", X, pos_label=pos_label)\n",
      "             ^^^^^^^^^^^^^^^^^^^^^^^^^^^^^^^^^^^^^^^^^^^^^^^^^^^^^^^^^^^^^^^\n",
      "  File \"/home/max/miniconda3/envs/ki2/lib/python3.11/site-packages/sklearn/metrics/_scorer.py\", line 86, in _cached_call\n",
      "    result, _ = _get_response_values(\n",
      "                ^^^^^^^^^^^^^^^^^^^^^\n",
      "  File \"/home/max/miniconda3/envs/ki2/lib/python3.11/site-packages/sklearn/utils/_response.py\", line 103, in _get_response_values\n",
      "    raise ValueError(\n",
      "ValueError: Pipeline should either be a classifier to be used with response_method=decision_function or the response_method should be 'predict'. Got a regressor with response_method=decision_function instead.\n",
      "\n",
      "  warnings.warn(\n",
      "/home/max/miniconda3/envs/ki2/lib/python3.11/site-packages/sklearn/model_selection/_validation.py:842: UserWarning: Scoring failed. The score on this train-test partition for these parameters will be set to nan. Details: \n",
      "Traceback (most recent call last):\n",
      "  File \"/home/max/miniconda3/envs/ki2/lib/python3.11/site-packages/sklearn/metrics/_scorer.py\", line 136, in __call__\n",
      "    score = scorer._score(\n",
      "            ^^^^^^^^^^^^^^\n",
      "  File \"/home/max/miniconda3/envs/ki2/lib/python3.11/site-packages/sklearn/metrics/_scorer.py\", line 353, in _score\n",
      "    y_pred = method_caller(estimator, \"predict\", X)\n",
      "             ^^^^^^^^^^^^^^^^^^^^^^^^^^^^^^^^^^^^^^\n",
      "  File \"/home/max/miniconda3/envs/ki2/lib/python3.11/site-packages/sklearn/metrics/_scorer.py\", line 86, in _cached_call\n",
      "    result, _ = _get_response_values(\n",
      "                ^^^^^^^^^^^^^^^^^^^^^\n",
      "  File \"/home/max/miniconda3/envs/ki2/lib/python3.11/site-packages/sklearn/utils/_response.py\", line 109, in _get_response_values\n",
      "    y_pred, pos_label = estimator.predict(X), None\n",
      "                        ^^^^^^^^^^^^^^^^^\n",
      "  File \"/home/max/miniconda3/envs/ki2/lib/python3.11/site-packages/sklearn/utils/_available_if.py\", line 31, in __get__\n",
      "    if not self.check(obj):\n",
      "           ^^^^^^^^^^^^^^^\n",
      "  File \"/home/max/miniconda3/envs/ki2/lib/python3.11/site-packages/sklearn/pipeline.py\", line 44, in check\n",
      "    getattr(self._final_estimator, attr)\n",
      "AttributeError: 'FeatureUnion' object has no attribute 'predict'\n",
      "\n",
      "  warnings.warn(\n",
      "/home/max/miniconda3/envs/ki2/lib/python3.11/site-packages/sklearn/model_selection/_validation.py:842: UserWarning: Scoring failed. The score on this train-test partition for these parameters will be set to nan. Details: \n",
      "Traceback (most recent call last):\n",
      "  File \"/home/max/miniconda3/envs/ki2/lib/python3.11/site-packages/sklearn/metrics/_scorer.py\", line 136, in __call__\n",
      "    score = scorer._score(\n",
      "            ^^^^^^^^^^^^^^\n",
      "  File \"/home/max/miniconda3/envs/ki2/lib/python3.11/site-packages/sklearn/metrics/_scorer.py\", line 459, in _score\n",
      "    y_pred = method_caller(clf, \"decision_function\", X, pos_label=pos_label)\n",
      "             ^^^^^^^^^^^^^^^^^^^^^^^^^^^^^^^^^^^^^^^^^^^^^^^^^^^^^^^^^^^^^^^\n",
      "  File \"/home/max/miniconda3/envs/ki2/lib/python3.11/site-packages/sklearn/metrics/_scorer.py\", line 86, in _cached_call\n",
      "    result, _ = _get_response_values(\n",
      "                ^^^^^^^^^^^^^^^^^^^^^\n",
      "  File \"/home/max/miniconda3/envs/ki2/lib/python3.11/site-packages/sklearn/utils/_response.py\", line 103, in _get_response_values\n",
      "    raise ValueError(\n",
      "ValueError: Pipeline should either be a classifier to be used with response_method=decision_function or the response_method should be 'predict'. Got a regressor with response_method=decision_function instead.\n",
      "\n",
      "  warnings.warn(\n",
      "/home/max/miniconda3/envs/ki2/lib/python3.11/site-packages/sklearn/model_selection/_validation.py:842: UserWarning: Scoring failed. The score on this train-test partition for these parameters will be set to nan. Details: \n",
      "Traceback (most recent call last):\n",
      "  File \"/home/max/miniconda3/envs/ki2/lib/python3.11/site-packages/sklearn/metrics/_scorer.py\", line 136, in __call__\n",
      "    score = scorer._score(\n",
      "            ^^^^^^^^^^^^^^\n",
      "  File \"/home/max/miniconda3/envs/ki2/lib/python3.11/site-packages/sklearn/metrics/_scorer.py\", line 353, in _score\n",
      "    y_pred = method_caller(estimator, \"predict\", X)\n",
      "             ^^^^^^^^^^^^^^^^^^^^^^^^^^^^^^^^^^^^^^\n",
      "  File \"/home/max/miniconda3/envs/ki2/lib/python3.11/site-packages/sklearn/metrics/_scorer.py\", line 86, in _cached_call\n",
      "    result, _ = _get_response_values(\n",
      "                ^^^^^^^^^^^^^^^^^^^^^\n",
      "  File \"/home/max/miniconda3/envs/ki2/lib/python3.11/site-packages/sklearn/utils/_response.py\", line 109, in _get_response_values\n",
      "    y_pred, pos_label = estimator.predict(X), None\n",
      "                        ^^^^^^^^^^^^^^^^^\n",
      "  File \"/home/max/miniconda3/envs/ki2/lib/python3.11/site-packages/sklearn/utils/_available_if.py\", line 31, in __get__\n",
      "    if not self.check(obj):\n",
      "           ^^^^^^^^^^^^^^^\n",
      "  File \"/home/max/miniconda3/envs/ki2/lib/python3.11/site-packages/sklearn/pipeline.py\", line 44, in check\n",
      "    getattr(self._final_estimator, attr)\n",
      "AttributeError: 'FeatureUnion' object has no attribute 'predict'\n",
      "\n",
      "  warnings.warn(\n",
      "/home/max/miniconda3/envs/ki2/lib/python3.11/site-packages/sklearn/model_selection/_validation.py:842: UserWarning: Scoring failed. The score on this train-test partition for these parameters will be set to nan. Details: \n",
      "Traceback (most recent call last):\n",
      "  File \"/home/max/miniconda3/envs/ki2/lib/python3.11/site-packages/sklearn/metrics/_scorer.py\", line 136, in __call__\n",
      "    score = scorer._score(\n",
      "            ^^^^^^^^^^^^^^\n",
      "  File \"/home/max/miniconda3/envs/ki2/lib/python3.11/site-packages/sklearn/metrics/_scorer.py\", line 459, in _score\n",
      "    y_pred = method_caller(clf, \"decision_function\", X, pos_label=pos_label)\n",
      "             ^^^^^^^^^^^^^^^^^^^^^^^^^^^^^^^^^^^^^^^^^^^^^^^^^^^^^^^^^^^^^^^\n",
      "  File \"/home/max/miniconda3/envs/ki2/lib/python3.11/site-packages/sklearn/metrics/_scorer.py\", line 86, in _cached_call\n",
      "    result, _ = _get_response_values(\n",
      "                ^^^^^^^^^^^^^^^^^^^^^\n",
      "  File \"/home/max/miniconda3/envs/ki2/lib/python3.11/site-packages/sklearn/utils/_response.py\", line 103, in _get_response_values\n",
      "    raise ValueError(\n",
      "ValueError: Pipeline should either be a classifier to be used with response_method=decision_function or the response_method should be 'predict'. Got a regressor with response_method=decision_function instead.\n",
      "\n",
      "  warnings.warn(\n",
      "/home/max/miniconda3/envs/ki2/lib/python3.11/site-packages/sklearn/model_selection/_validation.py:842: UserWarning: Scoring failed. The score on this train-test partition for these parameters will be set to nan. Details: \n",
      "Traceback (most recent call last):\n",
      "  File \"/home/max/miniconda3/envs/ki2/lib/python3.11/site-packages/sklearn/metrics/_scorer.py\", line 136, in __call__\n",
      "    score = scorer._score(\n",
      "            ^^^^^^^^^^^^^^\n",
      "  File \"/home/max/miniconda3/envs/ki2/lib/python3.11/site-packages/sklearn/metrics/_scorer.py\", line 353, in _score\n",
      "    y_pred = method_caller(estimator, \"predict\", X)\n",
      "             ^^^^^^^^^^^^^^^^^^^^^^^^^^^^^^^^^^^^^^\n",
      "  File \"/home/max/miniconda3/envs/ki2/lib/python3.11/site-packages/sklearn/metrics/_scorer.py\", line 86, in _cached_call\n",
      "    result, _ = _get_response_values(\n",
      "                ^^^^^^^^^^^^^^^^^^^^^\n",
      "  File \"/home/max/miniconda3/envs/ki2/lib/python3.11/site-packages/sklearn/utils/_response.py\", line 109, in _get_response_values\n",
      "    y_pred, pos_label = estimator.predict(X), None\n",
      "                        ^^^^^^^^^^^^^^^^^\n",
      "  File \"/home/max/miniconda3/envs/ki2/lib/python3.11/site-packages/sklearn/utils/_available_if.py\", line 31, in __get__\n",
      "    if not self.check(obj):\n",
      "           ^^^^^^^^^^^^^^^\n",
      "  File \"/home/max/miniconda3/envs/ki2/lib/python3.11/site-packages/sklearn/pipeline.py\", line 44, in check\n",
      "    getattr(self._final_estimator, attr)\n",
      "AttributeError: 'FeatureUnion' object has no attribute 'predict'\n",
      "\n",
      "  warnings.warn(\n",
      "/home/max/miniconda3/envs/ki2/lib/python3.11/site-packages/sklearn/model_selection/_validation.py:842: UserWarning: Scoring failed. The score on this train-test partition for these parameters will be set to nan. Details: \n",
      "Traceback (most recent call last):\n",
      "  File \"/home/max/miniconda3/envs/ki2/lib/python3.11/site-packages/sklearn/metrics/_scorer.py\", line 136, in __call__\n",
      "    score = scorer._score(\n",
      "            ^^^^^^^^^^^^^^\n",
      "  File \"/home/max/miniconda3/envs/ki2/lib/python3.11/site-packages/sklearn/metrics/_scorer.py\", line 459, in _score\n",
      "    y_pred = method_caller(clf, \"decision_function\", X, pos_label=pos_label)\n",
      "             ^^^^^^^^^^^^^^^^^^^^^^^^^^^^^^^^^^^^^^^^^^^^^^^^^^^^^^^^^^^^^^^\n",
      "  File \"/home/max/miniconda3/envs/ki2/lib/python3.11/site-packages/sklearn/metrics/_scorer.py\", line 86, in _cached_call\n",
      "    result, _ = _get_response_values(\n",
      "                ^^^^^^^^^^^^^^^^^^^^^\n",
      "  File \"/home/max/miniconda3/envs/ki2/lib/python3.11/site-packages/sklearn/utils/_response.py\", line 103, in _get_response_values\n",
      "    raise ValueError(\n",
      "ValueError: Pipeline should either be a classifier to be used with response_method=decision_function or the response_method should be 'predict'. Got a regressor with response_method=decision_function instead.\n",
      "\n",
      "  warnings.warn(\n",
      "/home/max/miniconda3/envs/ki2/lib/python3.11/site-packages/sklearn/model_selection/_validation.py:842: UserWarning: Scoring failed. The score on this train-test partition for these parameters will be set to nan. Details: \n",
      "Traceback (most recent call last):\n",
      "  File \"/home/max/miniconda3/envs/ki2/lib/python3.11/site-packages/sklearn/metrics/_scorer.py\", line 136, in __call__\n",
      "    score = scorer._score(\n",
      "            ^^^^^^^^^^^^^^\n",
      "  File \"/home/max/miniconda3/envs/ki2/lib/python3.11/site-packages/sklearn/metrics/_scorer.py\", line 353, in _score\n",
      "    y_pred = method_caller(estimator, \"predict\", X)\n",
      "             ^^^^^^^^^^^^^^^^^^^^^^^^^^^^^^^^^^^^^^\n",
      "  File \"/home/max/miniconda3/envs/ki2/lib/python3.11/site-packages/sklearn/metrics/_scorer.py\", line 86, in _cached_call\n",
      "    result, _ = _get_response_values(\n",
      "                ^^^^^^^^^^^^^^^^^^^^^\n",
      "  File \"/home/max/miniconda3/envs/ki2/lib/python3.11/site-packages/sklearn/utils/_response.py\", line 109, in _get_response_values\n",
      "    y_pred, pos_label = estimator.predict(X), None\n",
      "                        ^^^^^^^^^^^^^^^^^\n",
      "  File \"/home/max/miniconda3/envs/ki2/lib/python3.11/site-packages/sklearn/utils/_available_if.py\", line 31, in __get__\n",
      "    if not self.check(obj):\n",
      "           ^^^^^^^^^^^^^^^\n",
      "  File \"/home/max/miniconda3/envs/ki2/lib/python3.11/site-packages/sklearn/pipeline.py\", line 44, in check\n",
      "    getattr(self._final_estimator, attr)\n",
      "AttributeError: 'FeatureUnion' object has no attribute 'predict'\n",
      "\n",
      "  warnings.warn(\n",
      "/home/max/miniconda3/envs/ki2/lib/python3.11/site-packages/sklearn/model_selection/_validation.py:842: UserWarning: Scoring failed. The score on this train-test partition for these parameters will be set to nan. Details: \n",
      "Traceback (most recent call last):\n",
      "  File \"/home/max/miniconda3/envs/ki2/lib/python3.11/site-packages/sklearn/metrics/_scorer.py\", line 136, in __call__\n",
      "    score = scorer._score(\n",
      "            ^^^^^^^^^^^^^^\n",
      "  File \"/home/max/miniconda3/envs/ki2/lib/python3.11/site-packages/sklearn/metrics/_scorer.py\", line 459, in _score\n",
      "    y_pred = method_caller(clf, \"decision_function\", X, pos_label=pos_label)\n",
      "             ^^^^^^^^^^^^^^^^^^^^^^^^^^^^^^^^^^^^^^^^^^^^^^^^^^^^^^^^^^^^^^^\n",
      "  File \"/home/max/miniconda3/envs/ki2/lib/python3.11/site-packages/sklearn/metrics/_scorer.py\", line 86, in _cached_call\n",
      "    result, _ = _get_response_values(\n",
      "                ^^^^^^^^^^^^^^^^^^^^^\n",
      "  File \"/home/max/miniconda3/envs/ki2/lib/python3.11/site-packages/sklearn/utils/_response.py\", line 103, in _get_response_values\n",
      "    raise ValueError(\n",
      "ValueError: Pipeline should either be a classifier to be used with response_method=decision_function or the response_method should be 'predict'. Got a regressor with response_method=decision_function instead.\n",
      "\n",
      "  warnings.warn(\n",
      "/home/max/miniconda3/envs/ki2/lib/python3.11/site-packages/sklearn/model_selection/_validation.py:842: UserWarning: Scoring failed. The score on this train-test partition for these parameters will be set to nan. Details: \n",
      "Traceback (most recent call last):\n",
      "  File \"/home/max/miniconda3/envs/ki2/lib/python3.11/site-packages/sklearn/metrics/_scorer.py\", line 136, in __call__\n",
      "    score = scorer._score(\n",
      "            ^^^^^^^^^^^^^^\n",
      "  File \"/home/max/miniconda3/envs/ki2/lib/python3.11/site-packages/sklearn/metrics/_scorer.py\", line 353, in _score\n",
      "    y_pred = method_caller(estimator, \"predict\", X)\n",
      "             ^^^^^^^^^^^^^^^^^^^^^^^^^^^^^^^^^^^^^^\n",
      "  File \"/home/max/miniconda3/envs/ki2/lib/python3.11/site-packages/sklearn/metrics/_scorer.py\", line 86, in _cached_call\n",
      "    result, _ = _get_response_values(\n",
      "                ^^^^^^^^^^^^^^^^^^^^^\n",
      "  File \"/home/max/miniconda3/envs/ki2/lib/python3.11/site-packages/sklearn/utils/_response.py\", line 109, in _get_response_values\n",
      "    y_pred, pos_label = estimator.predict(X), None\n",
      "                        ^^^^^^^^^^^^^^^^^\n",
      "  File \"/home/max/miniconda3/envs/ki2/lib/python3.11/site-packages/sklearn/utils/_available_if.py\", line 31, in __get__\n",
      "    if not self.check(obj):\n",
      "           ^^^^^^^^^^^^^^^\n",
      "  File \"/home/max/miniconda3/envs/ki2/lib/python3.11/site-packages/sklearn/pipeline.py\", line 44, in check\n",
      "    getattr(self._final_estimator, attr)\n",
      "AttributeError: 'FeatureUnion' object has no attribute 'predict'\n",
      "\n",
      "  warnings.warn(\n",
      "/home/max/miniconda3/envs/ki2/lib/python3.11/site-packages/sklearn/model_selection/_validation.py:842: UserWarning: Scoring failed. The score on this train-test partition for these parameters will be set to nan. Details: \n",
      "Traceback (most recent call last):\n",
      "  File \"/home/max/miniconda3/envs/ki2/lib/python3.11/site-packages/sklearn/metrics/_scorer.py\", line 136, in __call__\n",
      "    score = scorer._score(\n",
      "            ^^^^^^^^^^^^^^\n",
      "  File \"/home/max/miniconda3/envs/ki2/lib/python3.11/site-packages/sklearn/metrics/_scorer.py\", line 459, in _score\n",
      "    y_pred = method_caller(clf, \"decision_function\", X, pos_label=pos_label)\n",
      "             ^^^^^^^^^^^^^^^^^^^^^^^^^^^^^^^^^^^^^^^^^^^^^^^^^^^^^^^^^^^^^^^\n",
      "  File \"/home/max/miniconda3/envs/ki2/lib/python3.11/site-packages/sklearn/metrics/_scorer.py\", line 86, in _cached_call\n",
      "    result, _ = _get_response_values(\n",
      "                ^^^^^^^^^^^^^^^^^^^^^\n",
      "  File \"/home/max/miniconda3/envs/ki2/lib/python3.11/site-packages/sklearn/utils/_response.py\", line 103, in _get_response_values\n",
      "    raise ValueError(\n",
      "ValueError: Pipeline should either be a classifier to be used with response_method=decision_function or the response_method should be 'predict'. Got a regressor with response_method=decision_function instead.\n",
      "\n",
      "  warnings.warn(\n",
      "/home/max/miniconda3/envs/ki2/lib/python3.11/site-packages/sklearn/model_selection/_validation.py:842: UserWarning: Scoring failed. The score on this train-test partition for these parameters will be set to nan. Details: \n",
      "Traceback (most recent call last):\n",
      "  File \"/home/max/miniconda3/envs/ki2/lib/python3.11/site-packages/sklearn/metrics/_scorer.py\", line 136, in __call__\n",
      "    score = scorer._score(\n",
      "            ^^^^^^^^^^^^^^\n",
      "  File \"/home/max/miniconda3/envs/ki2/lib/python3.11/site-packages/sklearn/metrics/_scorer.py\", line 353, in _score\n",
      "    y_pred = method_caller(estimator, \"predict\", X)\n",
      "             ^^^^^^^^^^^^^^^^^^^^^^^^^^^^^^^^^^^^^^\n",
      "  File \"/home/max/miniconda3/envs/ki2/lib/python3.11/site-packages/sklearn/metrics/_scorer.py\", line 86, in _cached_call\n",
      "    result, _ = _get_response_values(\n",
      "                ^^^^^^^^^^^^^^^^^^^^^\n",
      "  File \"/home/max/miniconda3/envs/ki2/lib/python3.11/site-packages/sklearn/utils/_response.py\", line 109, in _get_response_values\n",
      "    y_pred, pos_label = estimator.predict(X), None\n",
      "                        ^^^^^^^^^^^^^^^^^\n",
      "  File \"/home/max/miniconda3/envs/ki2/lib/python3.11/site-packages/sklearn/utils/_available_if.py\", line 31, in __get__\n",
      "    if not self.check(obj):\n",
      "           ^^^^^^^^^^^^^^^\n",
      "  File \"/home/max/miniconda3/envs/ki2/lib/python3.11/site-packages/sklearn/pipeline.py\", line 44, in check\n",
      "    getattr(self._final_estimator, attr)\n",
      "AttributeError: 'FeatureUnion' object has no attribute 'predict'\n",
      "\n",
      "  warnings.warn(\n",
      "/home/max/miniconda3/envs/ki2/lib/python3.11/site-packages/sklearn/model_selection/_validation.py:842: UserWarning: Scoring failed. The score on this train-test partition for these parameters will be set to nan. Details: \n",
      "Traceback (most recent call last):\n",
      "  File \"/home/max/miniconda3/envs/ki2/lib/python3.11/site-packages/sklearn/metrics/_scorer.py\", line 136, in __call__\n",
      "    score = scorer._score(\n",
      "            ^^^^^^^^^^^^^^\n",
      "  File \"/home/max/miniconda3/envs/ki2/lib/python3.11/site-packages/sklearn/metrics/_scorer.py\", line 459, in _score\n",
      "    y_pred = method_caller(clf, \"decision_function\", X, pos_label=pos_label)\n",
      "             ^^^^^^^^^^^^^^^^^^^^^^^^^^^^^^^^^^^^^^^^^^^^^^^^^^^^^^^^^^^^^^^\n",
      "  File \"/home/max/miniconda3/envs/ki2/lib/python3.11/site-packages/sklearn/metrics/_scorer.py\", line 86, in _cached_call\n",
      "    result, _ = _get_response_values(\n",
      "                ^^^^^^^^^^^^^^^^^^^^^\n",
      "  File \"/home/max/miniconda3/envs/ki2/lib/python3.11/site-packages/sklearn/utils/_response.py\", line 103, in _get_response_values\n",
      "    raise ValueError(\n",
      "ValueError: Pipeline should either be a classifier to be used with response_method=decision_function or the response_method should be 'predict'. Got a regressor with response_method=decision_function instead.\n",
      "\n",
      "  warnings.warn(\n",
      "/home/max/miniconda3/envs/ki2/lib/python3.11/site-packages/sklearn/model_selection/_validation.py:842: UserWarning: Scoring failed. The score on this train-test partition for these parameters will be set to nan. Details: \n",
      "Traceback (most recent call last):\n",
      "  File \"/home/max/miniconda3/envs/ki2/lib/python3.11/site-packages/sklearn/metrics/_scorer.py\", line 136, in __call__\n",
      "    score = scorer._score(\n",
      "            ^^^^^^^^^^^^^^\n",
      "  File \"/home/max/miniconda3/envs/ki2/lib/python3.11/site-packages/sklearn/metrics/_scorer.py\", line 353, in _score\n",
      "    y_pred = method_caller(estimator, \"predict\", X)\n",
      "             ^^^^^^^^^^^^^^^^^^^^^^^^^^^^^^^^^^^^^^\n",
      "  File \"/home/max/miniconda3/envs/ki2/lib/python3.11/site-packages/sklearn/metrics/_scorer.py\", line 86, in _cached_call\n",
      "    result, _ = _get_response_values(\n",
      "                ^^^^^^^^^^^^^^^^^^^^^\n",
      "  File \"/home/max/miniconda3/envs/ki2/lib/python3.11/site-packages/sklearn/utils/_response.py\", line 109, in _get_response_values\n",
      "    y_pred, pos_label = estimator.predict(X), None\n",
      "                        ^^^^^^^^^^^^^^^^^\n",
      "  File \"/home/max/miniconda3/envs/ki2/lib/python3.11/site-packages/sklearn/utils/_available_if.py\", line 31, in __get__\n",
      "    if not self.check(obj):\n",
      "           ^^^^^^^^^^^^^^^\n",
      "  File \"/home/max/miniconda3/envs/ki2/lib/python3.11/site-packages/sklearn/pipeline.py\", line 44, in check\n",
      "    getattr(self._final_estimator, attr)\n",
      "AttributeError: 'FeatureUnion' object has no attribute 'predict'\n",
      "\n",
      "  warnings.warn(\n",
      "/home/max/miniconda3/envs/ki2/lib/python3.11/site-packages/sklearn/model_selection/_validation.py:842: UserWarning: Scoring failed. The score on this train-test partition for these parameters will be set to nan. Details: \n",
      "Traceback (most recent call last):\n",
      "  File \"/home/max/miniconda3/envs/ki2/lib/python3.11/site-packages/sklearn/metrics/_scorer.py\", line 136, in __call__\n",
      "    score = scorer._score(\n",
      "            ^^^^^^^^^^^^^^\n",
      "  File \"/home/max/miniconda3/envs/ki2/lib/python3.11/site-packages/sklearn/metrics/_scorer.py\", line 459, in _score\n",
      "    y_pred = method_caller(clf, \"decision_function\", X, pos_label=pos_label)\n",
      "             ^^^^^^^^^^^^^^^^^^^^^^^^^^^^^^^^^^^^^^^^^^^^^^^^^^^^^^^^^^^^^^^\n",
      "  File \"/home/max/miniconda3/envs/ki2/lib/python3.11/site-packages/sklearn/metrics/_scorer.py\", line 86, in _cached_call\n",
      "    result, _ = _get_response_values(\n",
      "                ^^^^^^^^^^^^^^^^^^^^^\n",
      "  File \"/home/max/miniconda3/envs/ki2/lib/python3.11/site-packages/sklearn/utils/_response.py\", line 103, in _get_response_values\n",
      "    raise ValueError(\n",
      "ValueError: Pipeline should either be a classifier to be used with response_method=decision_function or the response_method should be 'predict'. Got a regressor with response_method=decision_function instead.\n",
      "\n",
      "  warnings.warn(\n",
      "/home/max/miniconda3/envs/ki2/lib/python3.11/site-packages/sklearn/model_selection/_validation.py:842: UserWarning: Scoring failed. The score on this train-test partition for these parameters will be set to nan. Details: \n",
      "Traceback (most recent call last):\n",
      "  File \"/home/max/miniconda3/envs/ki2/lib/python3.11/site-packages/sklearn/metrics/_scorer.py\", line 136, in __call__\n",
      "    score = scorer._score(\n",
      "            ^^^^^^^^^^^^^^\n",
      "  File \"/home/max/miniconda3/envs/ki2/lib/python3.11/site-packages/sklearn/metrics/_scorer.py\", line 353, in _score\n",
      "    y_pred = method_caller(estimator, \"predict\", X)\n",
      "             ^^^^^^^^^^^^^^^^^^^^^^^^^^^^^^^^^^^^^^\n",
      "  File \"/home/max/miniconda3/envs/ki2/lib/python3.11/site-packages/sklearn/metrics/_scorer.py\", line 86, in _cached_call\n",
      "    result, _ = _get_response_values(\n",
      "                ^^^^^^^^^^^^^^^^^^^^^\n",
      "  File \"/home/max/miniconda3/envs/ki2/lib/python3.11/site-packages/sklearn/utils/_response.py\", line 109, in _get_response_values\n",
      "    y_pred, pos_label = estimator.predict(X), None\n",
      "                        ^^^^^^^^^^^^^^^^^\n",
      "  File \"/home/max/miniconda3/envs/ki2/lib/python3.11/site-packages/sklearn/utils/_available_if.py\", line 31, in __get__\n",
      "    if not self.check(obj):\n",
      "           ^^^^^^^^^^^^^^^\n",
      "  File \"/home/max/miniconda3/envs/ki2/lib/python3.11/site-packages/sklearn/pipeline.py\", line 44, in check\n",
      "    getattr(self._final_estimator, attr)\n",
      "AttributeError: 'FeatureUnion' object has no attribute 'predict'\n",
      "\n",
      "  warnings.warn(\n",
      "/home/max/miniconda3/envs/ki2/lib/python3.11/site-packages/sklearn/model_selection/_validation.py:842: UserWarning: Scoring failed. The score on this train-test partition for these parameters will be set to nan. Details: \n",
      "Traceback (most recent call last):\n",
      "  File \"/home/max/miniconda3/envs/ki2/lib/python3.11/site-packages/sklearn/metrics/_scorer.py\", line 136, in __call__\n",
      "    score = scorer._score(\n",
      "            ^^^^^^^^^^^^^^\n",
      "  File \"/home/max/miniconda3/envs/ki2/lib/python3.11/site-packages/sklearn/metrics/_scorer.py\", line 459, in _score\n",
      "    y_pred = method_caller(clf, \"decision_function\", X, pos_label=pos_label)\n",
      "             ^^^^^^^^^^^^^^^^^^^^^^^^^^^^^^^^^^^^^^^^^^^^^^^^^^^^^^^^^^^^^^^\n",
      "  File \"/home/max/miniconda3/envs/ki2/lib/python3.11/site-packages/sklearn/metrics/_scorer.py\", line 86, in _cached_call\n",
      "    result, _ = _get_response_values(\n",
      "                ^^^^^^^^^^^^^^^^^^^^^\n",
      "  File \"/home/max/miniconda3/envs/ki2/lib/python3.11/site-packages/sklearn/utils/_response.py\", line 103, in _get_response_values\n",
      "    raise ValueError(\n",
      "ValueError: Pipeline should either be a classifier to be used with response_method=decision_function or the response_method should be 'predict'. Got a regressor with response_method=decision_function instead.\n",
      "\n",
      "  warnings.warn(\n"
     ]
    }
   ],
   "source": [
    "cv_cca = \n",
    "\n",
    "cv_results = run_cv(\n",
    "    cca_transform_xgb,\n",
    "    X_train_actual,\n",
    "    ,^\n",
    "    cv=cv_cca,\n",
    ")\n",
    "print_test_scores(cv_results)"
   ]
  },
  {
   "cell_type": "markdown",
   "id": "d904fb2e-de9f-4c3a-81ef-bb8c9de30ee4",
   "metadata": {
    "jp-MarkdownHeadingCollapsed": true,
    "tags": []
   },
   "source": [
    "### sequential Feature Selection "
   ]
  },
  {
   "cell_type": "code",
   "execution_count": null,
   "id": "7d59e686-edec-4b08-8e22-a5cd1ac0f905",
   "metadata": {},
   "outputs": [],
   "source": [
    "estimator = RandomForestClassifier(n_estimators=2, random_state=42)\n",
    "cv = StratifiedKFold(n_splits=5, shuffle=False)\n",
    "\n",
    "sfs = SequentialFeatureSelector(\n",
    "    estimator=clone(estimator),\n",
    "    n_features_to_select=15,\n",
    "    direction=\"forward\",\n",
    "    scoring=make_scorer(accuracy_score),\n",
    "    n_jobs=-1,\n",
    "    cv=cv,\n",
    ").fit(df_train_actual, y_train_actual)\n",
    "\n",
    "sfs_custom = custom_feature_selection.SequentialFeatureSelector(\n",
    "    estimator=clone(estimator),\n",
    "    n_features_to_select=15,\n",
    "    scorer=make_scorer(accuracy_score),\n",
    "    direction=\"forward\",\n",
    "    verbose=1,\n",
    "    n_jobs=-1,\n",
    "    cv=cv,\n",
    ").fit(df_train_actual, y_train_actual)"
   ]
  },
  {
   "cell_type": "code",
   "execution_count": null,
   "id": "67ef69a4-2a25-41f9-97ab-e69714fc5e49",
   "metadata": {
    "executionInfo": {
     "elapsed": 5,
     "status": "aborted",
     "timestamp": 1702555193881,
     "user": {
      "displayName": "Diana Weißleder",
      "userId": "00551999898217696741"
     },
     "user_tz": -60
    },
    "id": "67ef69a4-2a25-41f9-97ab-e69714fc5e49"
   },
   "outputs": [],
   "source": [
    "pd.DataFrame(tmp)"
   ]
  },
  {
   "cell_type": "code",
   "execution_count": null,
   "id": "c5bc0eff-24e6-4199-b721-25874be9e2a3",
   "metadata": {
    "executionInfo": {
     "elapsed": 5,
     "status": "aborted",
     "timestamp": 1702555193882,
     "user": {
      "displayName": "Diana Weißleder",
      "userId": "00551999898217696741"
     },
     "user_tz": -60
    },
    "id": "c5bc0eff-24e6-4199-b721-25874be9e2a3"
   },
   "outputs": [],
   "source": [
    "targets = credit_approval.data.targets.replace({'+':1,'-':0})\n",
    "targets"
   ]
  },
  {
   "cell_type": "code",
   "execution_count": null,
   "id": "82a678a0-4d14-47f4-9331-5f19fb010f64",
   "metadata": {
    "executionInfo": {
     "elapsed": 5,
     "status": "aborted",
     "timestamp": 1702555193882,
     "user": {
      "displayName": "Diana Weißleder",
      "userId": "00551999898217696741"
     },
     "user_tz": -60
    },
    "id": "82a678a0-4d14-47f4-9331-5f19fb010f64"
   },
   "outputs": [],
   "source": [
    "pipe=Pipeline(\n",
    "    steps = [\n",
    "        #(\"encoder\", ce.OneHotEncoder()),\n",
    "        ('xgb', xgb.XGBRegressor(objective=\"reg:linear\", random_state=42))\n",
    "\n",
    "    ]\n",
    ")"
   ]
  },
  {
   "cell_type": "code",
   "execution_count": null,
   "id": "749c9d24-1a24-4666-9002-94fb8e054d17",
   "metadata": {
    "executionInfo": {
     "elapsed": 5,
     "status": "aborted",
     "timestamp": 1702555193882,
     "user": {
      "displayName": "Diana Weißleder",
      "userId": "00551999898217696741"
     },
     "user_tz": -60
    },
    "id": "749c9d24-1a24-4666-9002-94fb8e054d17"
   },
   "outputs": [],
   "source": [
    "X = credit_approval.data.features\n",
    "y = targets\n",
    "\n",
    "X_train, X_test, y_train, y_test = train_test_split(\n",
    "    X, y, test_size=0.33)#, random_state=42)\n",
    "\n",
    "#xgb_model = xgb.XGBRegressor(objective=\"reg:linear\", random_state=42)\n",
    "\n",
    "pipe.fit(X_train._get_numeric_data(), y_train)\n",
    "\n",
    "y_pred = pipe.predict(X_test._get_numeric_data())\n",
    "\n",
    "mse=mean_squared_error(y_test, y_pred)"
   ]
  },
  {
   "cell_type": "code",
   "execution_count": null,
   "id": "95314d8b-9145-4f5c-afbd-7c9e3994de8e",
   "metadata": {
    "executionInfo": {
     "elapsed": 4,
     "status": "aborted",
     "timestamp": 1702555193882,
     "user": {
      "displayName": "Diana Weißleder",
      "userId": "00551999898217696741"
     },
     "user_tz": -60
    },
    "id": "95314d8b-9145-4f5c-afbd-7c9e3994de8e"
   },
   "outputs": [],
   "source": [
    "1-mse"
   ]
  }
 ],
 "metadata": {
  "colab": {
   "provenance": []
  },
  "kernelspec": {
   "display_name": "Python 3 (ipykernel)",
   "language": "python",
   "name": "python3"
  },
  "language_info": {
   "codemirror_mode": {
    "name": "ipython",
    "version": 3
   },
   "file_extension": ".py",
   "mimetype": "text/x-python",
   "name": "python",
   "nbconvert_exporter": "python",
   "pygments_lexer": "ipython3",
   "version": "3.11.3"
  }
 },
 "nbformat": 4,
 "nbformat_minor": 5
}
