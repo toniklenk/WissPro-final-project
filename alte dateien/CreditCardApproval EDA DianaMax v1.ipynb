{
 "cells": [
  {
   "cell_type": "markdown",
   "id": "02140434-d629-4646-930e-d4509d20036a",
   "metadata": {},
   "source": [
    "# CreditCardApproval EDA Diana Max"
   ]
  },
  {
   "cell_type": "markdown",
   "id": "a02ea79c-4637-495f-8a7f-c6f58ccbd03e",
   "metadata": {},
   "source": [
    "## Setup notebook & fetch data"
   ]
  },
  {
   "cell_type": "code",
   "execution_count": null,
   "id": "983e6793-95ae-402c-a1b5-4628c28f280a",
   "metadata": {},
   "outputs": [],
   "source": [
    "from ucimlrepo import fetch_ucirepo\n",
    "#from ydata_profiling import ProfileReport\n",
    "\n",
    "import numpy as np\n",
    "import pandas as pd\n",
    "\n",
    "\n",
    "import seaborn as sns\n",
    "import matplotlib.pyplot as plt\n",
    "from scipy.stats.contingency import association\n",
    "from scipy.stats import pointbiserialr\n",
    "\n",
    "from sklearn.compose import make_column_transformer\n",
    "from sklearn.pipeline import make_pipeline\n",
    "from sklearn.impute import SimpleImputer\n",
    "from sklearn.preprocessing import TargetEncoder, FunctionTransformer, LabelBinarizer, label_binarize, OneHotEncoder\n",
    "from sklearn.feature_selection import mutual_info_classif\n",
    "\n",
    "import warnings\n",
    "warnings.simplefilter(action='ignore', category=FutureWarning)\n",
    "\n",
    "%matplotlib inline"
   ]
  },
  {
   "cell_type": "code",
   "execution_count": null,
   "id": "63854aca-03da-47ad-83e0-dc3006d92d6f",
   "metadata": {},
   "outputs": [],
   "source": [
    "credit_approval = fetch_ucirepo(id=27)\n",
    "\n",
    "X = credit_approval.data.features\n",
    "y = credit_approval.data.targets\n",
    "df = credit_approval.data.original"
   ]
  },
  {
   "cell_type": "markdown",
   "id": "c7140128-8f93-45dd-89fa-ff536f3a2c65",
   "metadata": {
    "jp-MarkdownHeadingCollapsed": true
   },
   "source": [
    "## first look"
   ]
  },
  {
   "cell_type": "code",
   "execution_count": null,
   "id": "b19ac2c6-0fe1-43ba-bcce-be7066111907",
   "metadata": {},
   "outputs": [],
   "source": [
    "credit_approval.data.original"
   ]
  },
  {
   "cell_type": "code",
   "execution_count": null,
   "id": "3ce6918b-147b-4827-a88f-e0864ef58ee1",
   "metadata": {},
   "outputs": [],
   "source": [
    "ProfileReport(df)"
   ]
  },
  {
   "cell_type": "markdown",
   "id": "df0a99cf-9f43-4b59-a9d0-92c8841536b1",
   "metadata": {
    "jp-MarkdownHeadingCollapsed": true,
    "tags": []
   },
   "source": [
    "## Univariate\n",
    "\n",
    "Barplot for categorical variables / Histogram for continuous variables\n",
    "\n",
    "\n",
    "Suggest one/two strategies for handling missing values."
   ]
  },
  {
   "cell_type": "markdown",
   "id": "452726a4-82f2-42c0-98c6-2413814c73b8",
   "metadata": {
    "jp-MarkdownHeadingCollapsed": true
   },
   "source": [
    "### A1"
   ]
  },
  {
   "cell_type": "code",
   "execution_count": null,
   "id": "32331065-35fc-42bb-a1fc-dac09ef88081",
   "metadata": {},
   "outputs": [],
   "source": [
    "A1 = df[['A1','A16']]\n",
    "\n",
    "ax = sns.barplot(\n",
    "    data=A1.reset_index().groupby(['A1','A16']).count().reset_index(),\n",
    "    x='A1',\n",
    "    y='index',\n",
    "    hue='A16')\n",
    "ax.set(ylabel='value count')"
   ]
  },
  {
   "cell_type": "markdown",
   "id": "a4081965-1278-42d7-9e02-5949e5bbeb0b",
   "metadata": {},
   "source": [
    "Impute missing values with most frequent category."
   ]
  },
  {
   "cell_type": "markdown",
   "id": "175d283c-310e-4fa3-af88-cc381a447767",
   "metadata": {
    "jp-MarkdownHeadingCollapsed": true
   },
   "source": [
    "### A2"
   ]
  },
  {
   "cell_type": "code",
   "execution_count": null,
   "id": "470b7ad8-492e-48ff-8c71-738ae1e7c571",
   "metadata": {},
   "outputs": [],
   "source": [
    "A2 = df[['A2','A16']]\n",
    "sns.histplot(A2, x='A2', hue='A16')"
   ]
  },
  {
   "cell_type": "code",
   "execution_count": null,
   "id": "0a67126a-2a30-418e-9ef0-f345f63c28ea",
   "metadata": {},
   "outputs": [],
   "source": [
    "A2 = A2.assign(A2=A2.A2.apply(np.log1p))\n",
    "sns.histplot(A2, x='A2', hue='A16')"
   ]
  },
  {
   "cell_type": "markdown",
   "id": "af9bfe46-ab94-4740-8214-df2b73b5b7bc",
   "metadata": {},
   "source": [
    "Replace missing values with median."
   ]
  },
  {
   "cell_type": "markdown",
   "id": "3e40dd30-41ca-44ca-a36a-b3d84fc72c33",
   "metadata": {
    "jp-MarkdownHeadingCollapsed": true
   },
   "source": [
    "### A3"
   ]
  },
  {
   "cell_type": "code",
   "execution_count": null,
   "id": "f9a1447f-af9b-496f-914b-b0fa72049065",
   "metadata": {},
   "outputs": [],
   "source": [
    "A3 = df[['A3','A16']]\n",
    "sns.histplot(A3, x='A3', hue='A16')"
   ]
  },
  {
   "cell_type": "code",
   "execution_count": null,
   "id": "040ad311-8215-44a1-af39-a1c43290bf3a",
   "metadata": {},
   "outputs": [],
   "source": [
    "A3 = A3.assign(A3=A3.A3.apply(np.log1p))\n",
    "sns.histplot(A3, x='A3', hue='A16')"
   ]
  },
  {
   "cell_type": "markdown",
   "id": "e29a77ea-ac33-40b6-80f7-9b3bd4a63a08",
   "metadata": {
    "jp-MarkdownHeadingCollapsed": true
   },
   "source": [
    "### A4"
   ]
  },
  {
   "cell_type": "code",
   "execution_count": null,
   "id": "8cecb5f0-ea49-4469-8779-f405d182b70d",
   "metadata": {},
   "outputs": [],
   "source": [
    "A4 = df[['A4','A16']]\n",
    "\n",
    "ax = sns.barplot(\n",
    "    data=A4.reset_index().groupby(['A4','A16']).count().reset_index(),\n",
    "    x='A4',\n",
    "    y='index',\n",
    "    hue='A16')\n",
    "ax.set(ylabel='value count')"
   ]
  },
  {
   "cell_type": "markdown",
   "id": "4aa00725-2326-442d-b555-3891eb4d9f48",
   "metadata": {
    "jp-MarkdownHeadingCollapsed": true,
    "tags": []
   },
   "source": [
    "### A5"
   ]
  },
  {
   "cell_type": "code",
   "execution_count": null,
   "id": "84c1cfac-09ea-4fbe-bf0a-4bb51e868e02",
   "metadata": {},
   "outputs": [],
   "source": [
    "A5 = df[['A5','A16']]\n",
    "\n",
    "ax = sns.barplot(\n",
    "    data=A5.reset_index().groupby(['A5','A16']).count().reset_index(),\n",
    "    x='A5',\n",
    "    y='index',\n",
    "    hue='A16')\n",
    "ax.set(ylabel='value count')"
   ]
  },
  {
   "cell_type": "markdown",
   "id": "0f420628-a28b-46c5-93b8-6acef6215a1d",
   "metadata": {
    "jp-MarkdownHeadingCollapsed": true,
    "tags": []
   },
   "source": [
    "### A6"
   ]
  },
  {
   "cell_type": "code",
   "execution_count": null,
   "id": "17866573-4c92-478e-8d88-937b8f7fd1a0",
   "metadata": {},
   "outputs": [],
   "source": [
    "ax = sns.barplot(\n",
    "    data=df.reset_index().groupby(['A6','A16']).count().reset_index(),\n",
    "    x='A6',\n",
    "    y='index',\n",
    "    hue='A16')\n",
    "ax.set(ylabel='value count')"
   ]
  },
  {
   "cell_type": "code",
   "execution_count": null,
   "id": "1e176754-5cc5-44e8-850b-5531e461e79b",
   "metadata": {},
   "outputs": [],
   "source": [
    "# PCA"
   ]
  },
  {
   "cell_type": "markdown",
   "id": "28e1f6b4-71af-4af6-8dd7-7f43fcae806b",
   "metadata": {
    "jp-MarkdownHeadingCollapsed": true,
    "tags": []
   },
   "source": [
    "### A7"
   ]
  },
  {
   "cell_type": "code",
   "execution_count": null,
   "id": "c15c5b43-1492-4075-a226-94eb314753d9",
   "metadata": {},
   "outputs": [],
   "source": [
    "ax = sns.barplot(\n",
    "    data=df.reset_index().groupby(['A7','A16']).count().reset_index(),\n",
    "    x='A7',\n",
    "    y='index',\n",
    "    hue='A16')\n",
    "ax.set(ylabel='value count')"
   ]
  },
  {
   "cell_type": "markdown",
   "id": "1423984a-0c2f-474f-a68e-757685bff551",
   "metadata": {
    "jp-MarkdownHeadingCollapsed": true,
    "tags": []
   },
   "source": [
    "### A8"
   ]
  },
  {
   "cell_type": "code",
   "execution_count": null,
   "id": "fed74f76-948a-48eb-873a-514c1117f6e9",
   "metadata": {},
   "outputs": [],
   "source": [
    "A8 = df[['A8','A16']]\n",
    "sns.histplot(A8, x='A8', hue='A16')"
   ]
  },
  {
   "cell_type": "code",
   "execution_count": null,
   "id": "fcb8e6a1-5137-4478-b75e-c4d949393fd3",
   "metadata": {},
   "outputs": [],
   "source": [
    "A8 = A8.assign(A8=A8.A8.apply(np.log1p))\n",
    "sns.histplot(A8, x='A8', hue='A16')"
   ]
  },
  {
   "cell_type": "markdown",
   "id": "656f150f-8394-4b10-9159-e495067a6653",
   "metadata": {
    "jp-MarkdownHeadingCollapsed": true,
    "tags": []
   },
   "source": [
    "### A9"
   ]
  },
  {
   "cell_type": "code",
   "execution_count": null,
   "id": "fc432e0c-0bb5-422b-8124-4ab76d847e86",
   "metadata": {},
   "outputs": [],
   "source": [
    "A9 = df[['A9','A16']]\n",
    "\n",
    "ax = sns.barplot(\n",
    "    data=A9.reset_index().groupby(['A9','A16']).count().reset_index(),\n",
    "    x='A9',\n",
    "    y='index',\n",
    "    hue='A16')\n",
    "ax.set(ylabel='value count')"
   ]
  },
  {
   "cell_type": "markdown",
   "id": "b0043428-9cd1-4ad2-89bc-0d431a251e34",
   "metadata": {
    "jp-MarkdownHeadingCollapsed": true,
    "tags": []
   },
   "source": [
    "### A10"
   ]
  },
  {
   "cell_type": "code",
   "execution_count": null,
   "id": "ac8b9ad7-ee1b-4a89-878f-73dc4b949d75",
   "metadata": {},
   "outputs": [],
   "source": [
    "A10 = df[['A10','A16']]\n",
    "\n",
    "ax = sns.barplot(\n",
    "    data=A10.reset_index().groupby(['A10','A16']).count().reset_index(),\n",
    "    x='A10',\n",
    "    y='index',\n",
    "    hue='A16')\n",
    "ax.set(ylabel='value count')"
   ]
  },
  {
   "cell_type": "markdown",
   "id": "4cfac9cf-3c34-4bf5-99e5-fdae10af3239",
   "metadata": {
    "jp-MarkdownHeadingCollapsed": true,
    "tags": []
   },
   "source": [
    "### A11"
   ]
  },
  {
   "cell_type": "code",
   "execution_count": null,
   "id": "4c8e8659-5ae2-4642-b0c6-7ca607471472",
   "metadata": {},
   "outputs": [],
   "source": [
    "A11 = df[['A11','A16']]\n",
    "sns.histplot(A11, x='A11', hue='A16')"
   ]
  },
  {
   "cell_type": "code",
   "execution_count": null,
   "id": "a1ec6cb1-6b95-4538-b0a7-5cf5e7101ba2",
   "metadata": {},
   "outputs": [],
   "source": [
    "A11 = A11.assign(A11=A11.A11.apply(np.log1p))\n",
    "sns.histplot(A11, x='A11', hue='A16')"
   ]
  },
  {
   "cell_type": "markdown",
   "id": "8f6376f2-798d-4cfa-b2f2-422a1bb9dc61",
   "metadata": {
    "jp-MarkdownHeadingCollapsed": true,
    "tags": []
   },
   "source": [
    "### A12"
   ]
  },
  {
   "cell_type": "code",
   "execution_count": null,
   "id": "ab85f53d-13ba-4040-92d3-b10559a9449e",
   "metadata": {},
   "outputs": [],
   "source": [
    "A12 = df[['A12','A16']]\n",
    "\n",
    "ax = sns.barplot(\n",
    "    data=A12.reset_index().groupby(['A12','A16']).count().reset_index(),\n",
    "    x='A12',\n",
    "    y='index',\n",
    "    hue='A16')\n",
    "ax.set(ylabel='value count')"
   ]
  },
  {
   "cell_type": "markdown",
   "id": "6788fd51-431c-4bac-9a80-4fff3807965b",
   "metadata": {
    "jp-MarkdownHeadingCollapsed": true,
    "tags": []
   },
   "source": [
    "### A13"
   ]
  },
  {
   "cell_type": "code",
   "execution_count": null,
   "id": "8521af4c-b450-40d5-bb9c-a908316824cf",
   "metadata": {},
   "outputs": [],
   "source": [
    "A13 = df[['A13','A16']]\n",
    "\n",
    "ax = sns.barplot(\n",
    "    data=A13.reset_index().groupby(['A13','A16']).count().reset_index(),\n",
    "    x='A13',\n",
    "    y='index',\n",
    "    hue='A16')\n",
    "ax.set(ylabel='value count')"
   ]
  },
  {
   "cell_type": "markdown",
   "id": "ad36a3d0-5a27-4402-a8f5-e3f828750d31",
   "metadata": {
    "jp-MarkdownHeadingCollapsed": true,
    "tags": []
   },
   "source": [
    "### A14"
   ]
  },
  {
   "cell_type": "code",
   "execution_count": null,
   "id": "72af6dc4-db78-4ddf-9849-8cbbcca8cdaf",
   "metadata": {},
   "outputs": [],
   "source": [
    "A14 = df[['A14','A16']]\n",
    "sns.histplot(A14, x='A14', hue='A16')"
   ]
  },
  {
   "cell_type": "code",
   "execution_count": null,
   "id": "29541770-ee7c-4a34-a0f1-861707b04a06",
   "metadata": {},
   "outputs": [],
   "source": [
    "A14 = A14.assign(A14=A14.A14.apply(np.log1p))\n",
    "sns.histplot(A14, x='A14', hue='A16')"
   ]
  },
  {
   "cell_type": "markdown",
   "id": "e3e34e2b-b644-473a-9d5f-ad41ed01417c",
   "metadata": {
    "jp-MarkdownHeadingCollapsed": true,
    "tags": []
   },
   "source": [
    "### A15"
   ]
  },
  {
   "cell_type": "code",
   "execution_count": null,
   "id": "958c26ad-1545-4b27-8be2-6ddceaa04bd9",
   "metadata": {},
   "outputs": [],
   "source": [
    "A15 = df[['A15','A16']]\n",
    "sns.histplot(A15, x='A15', hue='A16')"
   ]
  },
  {
   "cell_type": "code",
   "execution_count": null,
   "id": "3dd3023d-460f-4bc0-96db-3495aec8ce14",
   "metadata": {},
   "outputs": [],
   "source": [
    "A15.A15.sort_values()"
   ]
  },
  {
   "cell_type": "code",
   "execution_count": null,
   "id": "34251172-bbe3-4b33-aaff-ade652ec9f66",
   "metadata": {},
   "outputs": [],
   "source": [
    "A15 = A15.assign(A15=A15.A15.apply(np.log1p))\n",
    "sns.histplot(A15, x='A15', hue='A16')"
   ]
  },
  {
   "cell_type": "markdown",
   "id": "a2ec5c85-f503-485a-910c-8546339b953d",
   "metadata": {
    "jp-MarkdownHeadingCollapsed": true,
    "tags": []
   },
   "source": [
    "### A16"
   ]
  },
  {
   "cell_type": "code",
   "execution_count": null,
   "id": "e1f0dcdd-7bc4-4aac-bd4a-db23c4afd1a1",
   "metadata": {},
   "outputs": [],
   "source": [
    "df.A16.value_counts()"
   ]
  },
  {
   "cell_type": "markdown",
   "id": "e94a7b82-96b5-4be0-bcb8-781c7dade429",
   "metadata": {
    "jp-MarkdownHeadingCollapsed": true,
    "tags": []
   },
   "source": [
    "## NaN Analysis"
   ]
  },
  {
   "cell_type": "code",
   "execution_count": null,
   "id": "7b6b1888-b37c-439d-9579-0ded1c81f03a",
   "metadata": {},
   "outputs": [],
   "source": [
    "credit_approval.variables[['name','missing_values']]"
   ]
  },
  {
   "cell_type": "code",
   "execution_count": null,
   "id": "d34c9312-d5cc-40dc-9c48-26415a50060e",
   "metadata": {},
   "outputs": [],
   "source": [
    "df.isna().any(axis=1).sum()/df.shape[0]"
   ]
  },
  {
   "cell_type": "markdown",
   "id": "84034b1b-7668-4815-8623-8f93f847d457",
   "metadata": {},
   "source": [
    "About 5% of the data contains missing values."
   ]
  },
  {
   "cell_type": "markdown",
   "id": "31a82662-c9b6-4d80-bc93-d33fb9769964",
   "metadata": {
    "jp-MarkdownHeadingCollapsed": true
   },
   "source": [
    "## comments on variables"
   ]
  },
  {
   "cell_type": "markdown",
   "id": "8442ddc7-a66d-4d89-b33d-dcf20e9c1097",
   "metadata": {},
   "source": [
    "A3 let be\n",
    "\n",
    "A4 binary, 6 missing values\n",
    "summarize categories y and l to 'not-u' category, replace missing valuses with most frequent\n",
    "\n",
    "A5 discarded, correlation of 1 with A4\n",
    "\n",
    "A6 realtively uniformly disributed over 13 categories, not really sure what to do\n",
    "maybe discard, because correlated by >.5 with A7\n",
    "(maybe PCA with A7) (alternatively: frequency encode)\n",
    "\n",
    "A7 9 categries\n",
    "summarise to categories v, h, other. encode missing values as most frequent\n",
    "\n",
    "A8 let be\n",
    "\n",
    "A9 let be (note: highly correlated with target)\n",
    "\n",
    "A10 let be\n",
    "\n",
    "A11 log1p, replace with median\n",
    "\n",
    "A12 let be\n",
    "\n",
    "A13 summarise to g and not-g\n",
    "\n",
    "A14 log1p, replace with median\n",
    "\n",
    "A15 log1p, replace with median\n",
    "\n",
    "A16 target, let be\n",
    "\n",
    "mim-max scale all continuious variables\n",
    "onehot encoder all categorical variables"
   ]
  },
  {
   "cell_type": "markdown",
   "id": "5959a08a-d95c-4dba-a202-0f22af842259",
   "metadata": {
    "jp-MarkdownHeadingCollapsed": true,
    "tags": []
   },
   "source": [
    "## Correlations with target"
   ]
  },
  {
   "cell_type": "markdown",
   "id": "218b6963-b022-40a7-b91a-ff092b15766f",
   "metadata": {},
   "source": [
    "Correlate every variables with target:\n",
    "- categorical data: Cramers V\n",
    "- continuous data: Point biserial correlation"
   ]
  },
  {
   "cell_type": "code",
   "execution_count": null,
   "id": "b5742351-fd1c-4db0-a6ae-03bb771fae63",
   "metadata": {},
   "outputs": [],
   "source": [
    "target = y.replace({'+':1,'-':0})"
   ]
  },
  {
   "cell_type": "markdown",
   "id": "2855badf-7afe-41d4-8400-3e6c128af65a",
   "metadata": {},
   "source": [
    "### categorical"
   ]
  },
  {
   "cell_type": "code",
   "execution_count": null,
   "id": "270f4a33-9165-41d9-9415-775239fca47b",
   "metadata": {},
   "outputs": [],
   "source": [
    "categorical_variables = credit_approval.variables[(credit_approval.variables.type == 'Categorical') & (credit_approval.variables.role == 'Feature')].name.values\n",
    "s = pd.Series(index=categorical_variables)\n",
    "\n",
    "\n",
    "for var in categorical_variables:\n",
    "    s[var] = association(pd.crosstab(df[var], df.A16))\n",
    "\n",
    "s"
   ]
  },
  {
   "cell_type": "code",
   "execution_count": null,
   "id": "08bbc28d-c991-42cc-8c04-db7c5d44743d",
   "metadata": {},
   "outputs": [],
   "source": [
    "s.plot(kind='bar')"
   ]
  },
  {
   "cell_type": "markdown",
   "id": "ba671c5d-d40e-4381-b70f-7c5acef034e1",
   "metadata": {},
   "source": [
    "### continuous"
   ]
  },
  {
   "cell_type": "code",
   "execution_count": null,
   "id": "8bea63e7-5ebb-4927-8998-82a210e43805",
   "metadata": {},
   "outputs": [],
   "source": [
    "continuous_variables = credit_approval.variables[(credit_approval.variables.type == 'Continuous') & (credit_approval.variables.role == 'Feature')].name.values\n",
    "\n",
    "s = pd.Series(index=continuous_variables)\n",
    "\n",
    "\n",
    "for var in continuous_variables:\n",
    "    s[var] = pointbiserialr(target[~df[var].isna()].values.ravel(), df[var].dropna().values).statistic\n",
    "\n",
    "s"
   ]
  },
  {
   "cell_type": "code",
   "execution_count": null,
   "id": "09cc6908-94d0-46c0-83f7-7de6b3a299bc",
   "metadata": {},
   "outputs": [],
   "source": [
    "s.plot(kind='bar')"
   ]
  },
  {
   "cell_type": "code",
   "execution_count": null,
   "id": "1552078e-66d0-45a6-aa76-3e1b0ac62952",
   "metadata": {},
   "outputs": [],
   "source": [
    "plt.matshow(c)\n",
    "plt.colorbar()"
   ]
  },
  {
   "cell_type": "markdown",
   "id": "413abf14-8ce6-44f0-ba65-becdd200f7b6",
   "metadata": {
    "tags": []
   },
   "source": [
    "## Mutual information between variables"
   ]
  },
  {
   "cell_type": "code",
   "execution_count": null,
   "id": "1e8a984b-2d31-4a04-9289-9a2eb8893e13",
   "metadata": {
    "tags": []
   },
   "outputs": [],
   "source": [
    "\"\"\"\n",
    "Compute mutual information in every commbination of two variables. We don't use product-momment or rank correlation since it assumes at least a monotonic relationship, which is a assumption we don't want to make at this point.\n",
    "\n",
    "\"\"\""
   ]
  },
  {
   "cell_type": "markdown",
   "id": "be1db4f8-4be9-43a3-9450-cb29da6ee826",
   "metadata": {},
   "source": [
    "### tweak data"
   ]
  },
  {
   "cell_type": "markdown",
   "id": "5b08c8d2-eb5c-4bae-8dc5-f816d456225e",
   "metadata": {},
   "source": [
    "In this context, there is no reasonable way known to the authers to correlate a multi-class (k > 2) categorical variable to a continuous variable.\n",
    "\n",
    "- Therefore, we already do some tweaking of the data here, applying reasonable ways to allow us to correlate as many features as possible. Namely: Make A4, A5 and A13 binary variables by by summarising classes."
   ]
  },
  {
   "cell_type": "markdown",
   "id": "1f3cf03e-4f2b-4067-81f6-2efc90ee9cf1",
   "metadata": {},
   "source": [
    "- Also, we apply the log transform to features with a strongly skewed distribution (A3, A8, A11, A14, A15) already, to make the correlations more meaningfull, since we are not (!) doing rank correlations."
   ]
  },
  {
   "cell_type": "markdown",
   "id": "443d27d7-4687-4968-b385-4b5f2a9c8ba2",
   "metadata": {},
   "source": [
    "- A obvious way to deal with A6 and A7 is target encoding, we will also already apply that here, for the sake of not leaving A6 and A7 completely out of the feature-feature correlations. This is however still EDA and not the feature engineering part."
   ]
  },
  {
   "cell_type": "markdown",
   "id": "396e62b6-7459-48d9-a393-3aacba4ddbcb",
   "metadata": {},
   "source": [
    "- Since only 5% of the data contains missing values, we will for now throw out any column that has missing values."
   ]
  },
  {
   "cell_type": "code",
   "execution_count": null,
   "id": "16498ad9-f531-4738-afe5-d2d3d15eb8e0",
   "metadata": {},
   "outputs": [],
   "source": [
    "df"
   ]
  },
  {
   "cell_type": "code",
   "execution_count": null,
   "id": "8459944c-afcc-4137-bbf4-db51e491a42b",
   "metadata": {},
   "outputs": [],
   "source": [
    "discrete_features_mask = (credit_approval.variables[1:].type == 'Categorical').values\n",
    "\n",
    "df_tweaked = df.dropna()\n",
    "\n",
    "mutual_info_classif(df_tweaked.A13.values[:,np.newaxis], df_tweaked.A16.values.ravel())#, discrete_features=discrete_features_mask)"
   ]
  },
  {
   "cell_type": "markdown",
   "id": "edb4931a-4aac-4bc6-b5dd-debf87a56298",
   "metadata": {
    "tags": []
   },
   "source": [
    "### old code"
   ]
  },
  {
   "cell_type": "code",
   "execution_count": null,
   "id": "e7fe9113-6d56-4496-90d1-cff8faa3f5c6",
   "metadata": {},
   "outputs": [],
   "source": [
    "On"
   ]
  },
  {
   "cell_type": "code",
   "execution_count": null,
   "id": "7cec772e-41aa-4384-b310-45d74b0fb26d",
   "metadata": {},
   "outputs": [],
   "source": [
    "df_tweaked.A1"
   ]
  },
  {
   "cell_type": "code",
   "execution_count": null,
   "id": "d3479d00-dc65-47b3-9595-2531afb0839d",
   "metadata": {},
   "outputs": [],
   "source": [
    "label_binarize(df_tweaked.A1, classes=['b']);"
   ]
  },
  {
   "cell_type": "code",
   "execution_count": null,
   "id": "e9c469ae-8e8a-474b-aab9-e0c22a37d572",
   "metadata": {},
   "outputs": [],
   "source": [
    "df_tweaked.A1"
   ]
  },
  {
   "cell_type": "code",
   "execution_count": null,
   "id": "28d22f2b-a5f2-4686-a408-a32cae45036d",
   "metadata": {},
   "outputs": [],
   "source": [
    "df_tweaked.A4"
   ]
  },
  {
   "cell_type": "code",
   "execution_count": null,
   "id": "012d5a13-f0a1-496e-a1f0-c07cf1f28dcc",
   "metadata": {},
   "outputs": [],
   "source": [
    "label_binarize(df_tweaked.A4, classes=['u'])"
   ]
  },
  {
   "cell_type": "code",
   "execution_count": null,
   "id": "e0532c0a-5bf7-411d-8a84-decef5603c7f",
   "metadata": {},
   "outputs": [],
   "source": [
    "column_tweaker = make_column_transformer(\n",
    "    (\n",
    "        OneHotEncoder(sparse_output=False, drop='first'),\n",
    "        ['A1']\n",
    "    ),\n",
    "    (\n",
    "        FunctionTransformer(lambda col: label_binarize(col, classes=['u'])),\n",
    "        ['A4']\n",
    "    ),\n",
    "    (\n",
    "        FunctionTransformer(lambda col: label_binarize(col, classes=['g'])),\n",
    "        ['A5']\n",
    "    ),\n",
    "    (\n",
    "        # becoming numeric column\n",
    "        TargetEncoder(),\n",
    "        ['A6', 'A7']\n",
    "    ),\n",
    "    (\n",
    "        FunctionTransformer(lambda col: label_binarize(col, classes=['g'])),\n",
    "        ['A13']\n",
    "    ),\n",
    "    (\n",
    "        FunctionTransformer(np.log1p),\n",
    "        ['A3','A8','A11','A14','A15']\n",
    "    ),\n",
    "\n",
    "    # leave everything else untouched\n",
    "    remainder='passthrough'\n",
    ")\n",
    "\n",
    "df_tweaked = df.copy(deep=True).dropna(how='any')\n",
    "var_names = df.columns\n",
    "\n",
    "df_tweaked = pd.DataFrame(column_tweaker.fit_transform(df_tweaked, y=df_tweaked.A16), columns=['A1','A4','A5','A6','A7','A13','A3','A8','A11','A14','A15', 'A2','A9','A10','A12' ,'A16'])\n",
    "df_tweaked = df_tweaked[var_names] # bring columns in right order again\n",
    "df_tweaked"
   ]
  },
  {
   "cell_type": "code",
   "execution_count": null,
   "id": "c20352b1-0f56-445d-8804-3a3d496e4136",
   "metadata": {},
   "outputs": [],
   "source": [
    "df.dropna()"
   ]
  },
  {
   "cell_type": "code",
   "execution_count": null,
   "id": "171fb0e6-d6cc-42de-974c-3f1d7b5bc62c",
   "metadata": {},
   "outputs": [],
   "source": [
    "category = credit_approval.variables[['name','type']].set_index('name')\n",
    "category"
   ]
  },
  {
   "cell_type": "code",
   "execution_count": null,
   "id": "b4d45410-7ae9-4f9b-b01c-02b1454ca832",
   "metadata": {},
   "outputs": [],
   "source": [
    "association(pd.crosstab(df.A4, df.A16))\n",
    "\n",
    "pointbiserialr(df[~df['A4'].isna()].values.ravel(), df[var].dropna().values).statistic"
   ]
  },
  {
   "cell_type": "code",
   "execution_count": null,
   "id": "3347bd38-6c67-4eed-a33d-8243b85ed65e",
   "metadata": {},
   "outputs": [],
   "source": [
    "\"\"\"\n",
    "\n",
    "\"\"\"\n",
    "#create 15x15 matrix\n",
    "\n",
    "correlations_matrix = pd.DataFrame(index=var_names, columns=var_names)\n",
    "\n",
    "for var1 in var_names:\n",
    "    for var2 in var_names:\n",
    "        \n",
    "        # use mutual_info_regression if targeted variable is continuous\n",
    "        \n",
    "        # use mutual_info_regression if targeted variable is categorical\n",
    "            \n",
    "\n",
    "\n",
    "correlations_matrix"
   ]
  }
 ],
 "metadata": {
  "kernelspec": {
   "display_name": "Python 3 (ipykernel)",
   "language": "python",
   "name": "python3"
  },
  "language_info": {
   "codemirror_mode": {
    "name": "ipython",
    "version": 3
   },
   "file_extension": ".py",
   "mimetype": "text/x-python",
   "name": "python",
   "nbconvert_exporter": "python",
   "pygments_lexer": "ipython3",
   "version": "3.11.3"
  }
 },
 "nbformat": 4,
 "nbformat_minor": 5
}
