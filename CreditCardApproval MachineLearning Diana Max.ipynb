{
 "cells": [
  {
   "cell_type": "markdown",
   "id": "3e32a8c2-9497-47e2-b432-ee240cfbf865",
   "metadata": {},
   "source": [
    "# CreditCardApproval MachineLearning Diana Max"
   ]
  },
  {
   "cell_type": "code",
   "execution_count": null,
   "id": "06799917-827e-489c-852e-9d463b94f598",
   "metadata": {},
   "outputs": [],
   "source": [
    "from ucimlrepo import fetch_ucirepo\n",
    "import numpy as np\n",
    "import pandas as pd\n",
    "import random\n",
    "\n",
    "import seaborn as sns\n",
    "import matplotlib.pyplot as plt\n",
    "from sklearn.pipeline import make_pipeline\n",
    "from sklearn.impute import SimpleImputer\n",
    "from sklearn.preprocessing import (\n",
    "    OneHotEncoder,\n",
    "    MinMaxScaler,\n",
    "    FunctionTransformer,\n",
    "    TargetEncoder,\n",
    "    label_binarize,\n",
    ")\n",
    "from sklearn.metrics import (\n",
    "    accuracy_score,\n",
    "    precision_score,\n",
    "    make_scorer,\n",
    "    RocCurveDisplay,\n",
    "    PrecisionRecallDisplay,\n",
    "    DetCurveDisplay,\n",
    ")\n",
    "\n",
    "from sklearn.model_selection import (\n",
    "    cross_validate,\n",
    "    GridSearchCV,\n",
    "    train_test_split,\n",
    "    cross_validate,\n",
    ")\n",
    "\n",
    "from sklearn.decomposition import PCA\n",
    "from sklearn.ensemble import RandomForestClassifier\n",
    "from sklearn.compose import make_column_transformer\n",
    "from sklearn.neighbors import KNeighborsClassifier\n",
    "from sklearn.discriminant_analysis import (\n",
    "    LinearDiscriminantAnalysis,\n",
    "    QuadraticDiscriminantAnalysis,\n",
    ")\n",
    "from sklearn.ensemble import AdaBoostClassifier\n",
    "\n",
    "seed = 444\n",
    "np.random.seed(seed)\n",
    "\n",
    "\n",
    "credit_approval = fetch_ucirepo(id=27)\n",
    "\n",
    "X = credit_approval.data.features\n",
    "y = credit_approval.data.targets\n",
    "df = credit_approval.data.original"
   ]
  },
  {
   "cell_type": "markdown",
   "id": "fdeabffd-9971-45e1-848e-0dea4e7e10c9",
   "metadata": {},
   "source": [
    "# preprocessing\n",
    "feature engineering, fully numerical feature space"
   ]
  },
  {
   "cell_type": "code",
   "execution_count": null,
   "id": "4cd77624-5f2f-4c45-b370-b1fb543bd146",
   "metadata": {},
   "outputs": [],
   "source": [
    "column_tweaker_include_a7 = make_column_transformer(\n",
    "    (\n",
    "        make_pipeline(\n",
    "            SimpleImputer(strategy=\"most_frequent\"),\n",
    "            OneHotEncoder(sparse_output=False, drop=\"first\"),\n",
    "        ),\n",
    "        [\"A1\", \"A9\", \"A10\", \"A12\"],\n",
    "    ),\n",
    "    (\n",
    "        make_pipeline(\n",
    "            SimpleImputer(strategy=\"most_frequent\"),\n",
    "            FunctionTransformer(lambda col: label_binarize(col, classes=[\"u\"])),\n",
    "        ),\n",
    "        [\"A4\"],\n",
    "    ),\n",
    "    (\n",
    "        make_pipeline(\n",
    "            SimpleImputer(strategy=\"most_frequent\"),\n",
    "            FunctionTransformer(lambda col: label_binarize(col, classes=[\"g\"])),\n",
    "        ),\n",
    "        [\"A5\"],\n",
    "    ),\n",
    "    (make_pipeline(TargetEncoder(), SimpleImputer(strategy=\"median\")), [\"A6\"]),\n",
    "    (\n",
    "        make_pipeline(\n",
    "            SimpleImputer(strategy=\"most_frequent\"),\n",
    "            FunctionTransformer(lambda col: label_binarize(col, classes=[\"g\"])),\n",
    "        ),\n",
    "        [\"A13\"],\n",
    "    ),\n",
    "    (\n",
    "        make_pipeline(\n",
    "            SimpleImputer(strategy=\"most_frequent\"),\n",
    "            FunctionTransformer(lambda col: label_binarize(col, classes=[\"v\"])),\n",
    "        ),\n",
    "        [\"A7\"],\n",
    "    ),\n",
    "    (\n",
    "        make_pipeline(FunctionTransformer(np.log1p), SimpleImputer(strategy=\"median\")),\n",
    "        [\"A2\", \"A3\", \"A8\", \"A11\", \"A14\", \"A15\"],\n",
    "    ),\n",
    "    # leave everything else untouched\n",
    "    remainder=\"drop\",\n",
    ")"
   ]
  },
  {
   "cell_type": "code",
   "execution_count": null,
   "id": "8cd20158-21e8-4065-8fec-3459e3fba9d1",
   "metadata": {},
   "outputs": [],
   "source": [
    "# variant 2: exclude A7\n",
    "column_tweaker_exclude_a7 = make_column_transformer(\n",
    "    (\n",
    "        make_pipeline(\n",
    "            SimpleImputer(strategy=\"most_frequent\"),\n",
    "            OneHotEncoder(sparse_output=False, drop=\"first\"),\n",
    "        ),\n",
    "        [\"A1\", \"A9\", \"A10\", \"A12\"],\n",
    "    ),\n",
    "    (\n",
    "        make_pipeline(\n",
    "            SimpleImputer(strategy=\"most_frequent\"),\n",
    "            FunctionTransformer(lambda col: label_binarize(col, classes=[\"u\"])),\n",
    "        ),\n",
    "        [\"A4\"],\n",
    "    ),\n",
    "    (\n",
    "        make_pipeline(\n",
    "            SimpleImputer(strategy=\"most_frequent\"),\n",
    "            FunctionTransformer(lambda col: label_binarize(col, classes=[\"g\"])),\n",
    "        ),\n",
    "        [\"A5\"],\n",
    "    ),\n",
    "    (make_pipeline(TargetEncoder(), SimpleImputer(strategy=\"median\")), [\"A6\"]),\n",
    "    (\n",
    "        make_pipeline(\n",
    "            SimpleImputer(strategy=\"most_frequent\"),\n",
    "            FunctionTransformer(lambda col: label_binarize(col, classes=[\"g\"])),\n",
    "        ),\n",
    "        [\"A13\"],\n",
    "    ),\n",
    "    (\n",
    "        make_pipeline(FunctionTransformer(np.log1p), SimpleImputer(strategy=\"median\")),\n",
    "        [\"A2\", \"A3\", \"A8\", \"A11\", \"A14\", \"A15\"],\n",
    "    ),\n",
    "    # leave everything else untouched\n",
    "    remainder=\"drop\",\n",
    ")"
   ]
  },
  {
   "cell_type": "code",
   "execution_count": null,
   "id": "b799bcf8-0695-4c2f-8192-cd499c11260c",
   "metadata": {},
   "outputs": [],
   "source": [
    "# feature scaling\n",
    "column_scaler = MinMaxScaler()\n",
    "\n",
    "# PCA\n",
    "column_pca = PCA(n_components=0.99, svd_solver=\"full\")"
   ]
  },
  {
   "cell_type": "markdown",
   "id": "a7b6ec2c-94cc-4f2c-9e90-ebe24bdc3b74",
   "metadata": {},
   "source": [
    "## pipelines\n",
    "\n",
    "Pipeline 1: exclude A7 <br>\n",
    "Pipeline 2: include A7"
   ]
  },
  {
   "cell_type": "code",
   "execution_count": null,
   "id": "90f55276-f482-4af9-8f91-30017b31ed10",
   "metadata": {},
   "outputs": [],
   "source": [
    "preproc_exclA7 = make_pipeline(column_tweaker_exclude_a7, column_scaler, column_pca)\n",
    "#preproc_exclA7"
   ]
  },
  {
   "cell_type": "code",
   "execution_count": null,
   "id": "58c9fd33-e042-41d4-a138-1efd96751281",
   "metadata": {},
   "outputs": [],
   "source": [
    "preproc_inclA7 = make_pipeline(column_tweaker_include_a7, column_scaler, column_pca)\n",
    "#preproc_inclA7"
   ]
  },
  {
   "cell_type": "markdown",
   "id": "8c8d60e5-0d7c-4692-afbd-73c65ee1431e",
   "metadata": {},
   "source": [
    "## train-test-vali split\n",
    "choose which pipeline to use here"
   ]
  },
  {
   "cell_type": "code",
   "execution_count": null,
   "id": "5acca771",
   "metadata": {},
   "outputs": [],
   "source": [
    "# Set random seed for reproducibility\n",
    "\n",
    "y = y.values.ravel()\n",
    "y[y == \"+\"] = 1\n",
    "y[y == \"-\"] = 0\n",
    "y = y.astype(np.int8)\n",
    "\n",
    "\n",
    "# TODO: CHOOSE PREPROCESSING PIPELINE \n",
    "X_preprocessed = preproc_inclA7.fit_transform(X=X, y=y)\n",
    "\n",
    "\n",
    "X_train, X_test_validate, y_train, y_test_validate = train_test_split(\n",
    "    X_preprocessed, y, test_size=0.1, random_state=seed\n",
    ")\n",
    "\n",
    "X_test, X_validate, y_test, y_validate = train_test_split(\n",
    "    X_test_validate, y_test_validate, test_size=0.5\n",
    ")\n",
    "#(X_test.shape, y_test.shape), (X_validate.shape, y_validate.shape)\n",
    "\n",
    "X_train_test, y_train_test = np.concatenate((X_train, X_test)), np.concatenate(\n",
    "    (y_train, y_test)\n",
    ")"
   ]
  },
  {
   "cell_type": "markdown",
   "id": "45f56c04-0ce7-4987-a3d3-50a8f2827fda",
   "metadata": {},
   "source": [
    "# train & optimise different models"
   ]
  },
  {
   "cell_type": "markdown",
   "id": "f50f7789",
   "metadata": {},
   "source": [
    "On what to optimize ?\n",
    "\n",
    "The task is o predict, if, given the different parameters, access to a credit card is denied or granted.\n",
    "\n",
    "- The worst case would be to give access to a position that is obvious fraud (False Positive). Cost: The owner looses money.\n",
    "- Rejecting access to a legit position (False Negative) would be inconvenient, since someone wouldn't be able to draw his money, but we consider it less of a problem than a False Positive.\n",
    "\n",
    "- Obviously, a True Positive would be giving someone his money while a True Negative would be denying fraud.\n",
    "\n",
    "\n",
    "\n",
    "In summary, we primarily optimize for the False Positive rate."
   ]
  },
  {
   "cell_type": "markdown",
   "id": "c95a3e53",
   "metadata": {},
   "source": [
    "Additional metrics:\n",
    "- The dataset is balanced therefore classificatino accuracy is a meaningfull metrix as well."
   ]
  },
  {
   "cell_type": "code",
   "execution_count": null,
   "id": "b51514b0",
   "metadata": {},
   "outputs": [],
   "source": [
    "scoring = {\n",
    "    \"Precision\": make_scorer(precision_score, pos_label=1),\n",
    "    \"Accuracy\": make_scorer(accuracy_score),\n",
    "}"
   ]
  },
  {
   "cell_type": "markdown",
   "id": "c6cc42b8",
   "metadata": {},
   "source": [
    "How to compare classifiers ?\n",
    "- Plot learning curves.\n",
    "- Compare missclassified examples.\n",
    "- Compare robustness in different CV-splits."
   ]
  },
  {
   "cell_type": "markdown",
   "id": "9934e100",
   "metadata": {},
   "source": [
    "Next, we compare the performance of a variety of common ML classifiers. Since we are relativey naive to which classifiers could work, we try a diverse set."
   ]
  },
  {
   "cell_type": "markdown",
   "id": "3d1ddd8c",
   "metadata": {},
   "source": [
    "##### Plotting function"
   ]
  },
  {
   "cell_type": "code",
   "execution_count": null,
   "id": "4e276ffa",
   "metadata": {},
   "outputs": [],
   "source": [
    "def plot_mean_std(mean, std, ploth, color):\n",
    "\n",
    "    plt.plot(mean, ploth, \"o\", color=color, markersize=10, label=f\"Mean = {mean:.2f}\")\n",
    "    plt.plot(\n",
    "        [mean - std, mean + std],\n",
    "        [ploth, ploth],\n",
    "        color=color,\n",
    "        linewidth=1.5,\n",
    "        label=f\"STD = {std:.2f}\",\n",
    "    )\n",
    "    plt.vlines(\n",
    "        [mean - std, mean + std], ymin=ploth-0.1, ymax=ploth+0.1, color=color, linewidth=1.5\n",
    "    )\n",
    "\n",
    "\n",
    "def plot_hline(h):\n",
    "    plt.axhline(\n",
    "        y=h,\n",
    "        color=\"grey\",\n",
    "        linestyle=\"-\",\n",
    "        linewidth=0.5,\n",
    "    )"
   ]
  },
  {
   "cell_type": "code",
   "execution_count": null,
   "id": "123d877e",
   "metadata": {},
   "outputs": [],
   "source": [
    "def plot_cv_scores(base, grid, offset=0):\n",
    "    # Precision\n",
    "    h = 0+offset\n",
    "    plot_mean_std(base[\"test_Precision\"].mean(), base[\"test_Precision\"].std(), h, \"black\")\n",
    "    plot_mean_std(grid[\"test_Precision\"].mean(), grid[\"test_Precision\"].std(), h, \"magenta\")\n",
    "    plot_hline(h)\n",
    "\n",
    "    # Accuracy\n",
    "    h = 1+offset\n",
    "    plot_mean_std(base[\"test_Accuracy\"].mean(), base[\"test_Accuracy\"].std(), h, \"black\")\n",
    "    plot_mean_std(grid[\"test_Accuracy\"].mean(), grid[\"test_Accuracy\"].std(), h, \"magenta\")\n",
    "    plot_hline(h)\n",
    "\n",
    "    plt.ylabel(\"\")\n",
    "    plt.ylim(-0.8, 1.8)\n",
    "    plt.yticks(ticks=[0, 1], labels=[\"Precision\", \"Accuracy\"])\n",
    "\n",
    "    plt.xlim(0.70, 0.95)\n",
    "    plt.xlabel(\"\")\n",
    "    plt.suptitle(\"Mean and std of 10-fold CV\")\n",
    "    plt.title(\"baseline (black) vs estimator from GridSearch (magenta))\")"
   ]
  },
  {
   "cell_type": "code",
   "execution_count": null,
   "id": "b40e817b",
   "metadata": {},
   "outputs": [],
   "source": [
    "def plot_cv_scores_2versions(base1, grid1, base2, grid2, label1=None, label2=None):\n",
    "    off = 0.2\n",
    "    plot_cv_scores(base1, grid1, offset=-off)\n",
    "    plot_cv_scores(base2, grid2, offset=off)\n",
    "    if label1 is not None and label2 is not None:\n",
    "        ax = plt.gca()\n",
    "        ax = ax.twinx()\n",
    "        ax.set_ylim(-0.8, 1.8)\n",
    "        ax.set_yticks([0 - off, 0 + off, 1 - off, 1 + off])\n",
    "        ax.set_yticklabels([label1, label2, label1, label2])"
   ]
  },
  {
   "cell_type": "markdown",
   "id": "006da06c",
   "metadata": {},
   "source": [
    "## compare functionality"
   ]
  },
  {
   "cell_type": "code",
   "execution_count": null,
   "id": "454a3cd5",
   "metadata": {},
   "outputs": [],
   "source": [
    "def train_estimator(pipe, X, y, estimator, param_grid):\n",
    "    X = pipe.fit_transform(X=X, y=y)\n",
    "    X_train_test, X_validate, y_train_test, y_validate = train_test_split(\n",
    "        X, y, test_size=0.1, random_state=seed\n",
    "    )\n",
    "\n",
    "    base_cv = cross_validate(\n",
    "        estimator, X_train_test, y_train_test, cv=10, scoring=scoring\n",
    "    )\n",
    "\n",
    "    grid = GridSearchCV(\n",
    "        estimator=estimator,\n",
    "        param_grid=param_grid,\n",
    "        cv=10,\n",
    "        scoring=scoring,\n",
    "        refit=\"Accuracy\",\n",
    "    )\n",
    "    grid.fit(X_train_test, y_train_test)\n",
    "    grid.best_estimator_\n",
    "    grid_cv = cross_validate(\n",
    "        grid.best_estimator_, X_train_test, y_train_test, cv=10, scoring=scoring\n",
    "    )\n",
    "\n",
    "    return base_cv, grid_cv, grid"
   ]
  },
  {
   "cell_type": "markdown",
   "id": "4a8a6986",
   "metadata": {},
   "source": [
    "## Linear Discriminant Analysis\n",
    "\n",
    "Parameters:\n",
    "'priors' : The default value estimates the class proportions from the training set. Since our dataset with n<1000 is relatively small, class proportions might be slightly skewed leading to a suboptimal estimation from the training data ."
   ]
  },
  {
   "cell_type": "markdown",
   "id": "6f7cb62a",
   "metadata": {},
   "source": [
    "### Baseline"
   ]
  },
  {
   "cell_type": "code",
   "execution_count": null,
   "id": "2ee61067",
   "metadata": {},
   "outputs": [],
   "source": [
    "lda_base_cv = cross_validate(\n",
    "    LinearDiscriminantAnalysis(), X_train_test, y_train_test, cv=10, scoring=scoring\n",
    ")"
   ]
  },
  {
   "cell_type": "markdown",
   "id": "a0fe8b5d",
   "metadata": {},
   "source": [
    "### GridSeach"
   ]
  },
  {
   "cell_type": "code",
   "execution_count": null,
   "id": "aeb50b14",
   "metadata": {},
   "outputs": [],
   "source": [
    "param_grid = {\n",
    "    \"priors\": [\n",
    "        [0.05, 0.95],\n",
    "        [0.1, 0.9],\n",
    "        [0.15, 0.85],\n",
    "        [0.2, 0.8],\n",
    "        [0.25, 0.75],\n",
    "        [0.3, 0.7],\n",
    "        [0.35, 0.65],\n",
    "        [0.4, 0.6],\n",
    "        [0.45, 0.55],\n",
    "        [0.5, 0.5],\n",
    "        [0.55, 0.45],\n",
    "        [0.6, 0.4],\n",
    "        [0.65, 0.35],\n",
    "        [0.7, 0.3],\n",
    "        [0.75, 0.25],\n",
    "        [0.8, 0.2],\n",
    "        [0.85, 0.15],\n",
    "        [0.9, 0.1],\n",
    "        [0.95, 0.05],\n",
    "    ]\n",
    "}\n",
    "lda_grid = GridSearchCV(\n",
    "    estimator=LinearDiscriminantAnalysis(),\n",
    "    param_grid=param_grid,\n",
    "    cv=10,\n",
    "    scoring=scoring,\n",
    "    refit=\"Accuracy\",\n",
    ")\n",
    "lda_grid.fit(X_train_test, y_train_test)\n",
    "lda_grid.best_estimator_"
   ]
  },
  {
   "cell_type": "code",
   "execution_count": null,
   "id": "04ca014d",
   "metadata": {},
   "outputs": [],
   "source": [
    "lda_grid_cv = cross_validate(\n",
    "    lda_grid.best_estimator_, X_train_test, y_train_test, cv=10, scoring=scoring\n",
    ")"
   ]
  },
  {
   "cell_type": "markdown",
   "id": "05cd636b",
   "metadata": {},
   "source": [
    "### compare pipelines"
   ]
  },
  {
   "cell_type": "code",
   "execution_count": null,
   "id": "dd001773",
   "metadata": {},
   "outputs": [],
   "source": [
    "lda_base_cv2, lda_grid_cv2, lda_grid2 = train_estimator(\n",
    "    preproc_inclA7, X, y, LinearDiscriminantAnalysis(), param_grid\n",
    ")\n",
    "plot_cv_scores_2versions(\n",
    "    lda_base_cv, lda_grid_cv, lda_base_cv2, lda_grid_cv2, \"excl. A7\", \"incl. A7\"\n",
    ")"
   ]
  },
  {
   "cell_type": "markdown",
   "id": "fa4f93ae",
   "metadata": {},
   "source": [
    "## Quadratic Discriminant Analysis"
   ]
  },
  {
   "cell_type": "markdown",
   "id": "451ece6c",
   "metadata": {},
   "source": [
    "### Baseline"
   ]
  },
  {
   "cell_type": "code",
   "execution_count": null,
   "id": "2953083d",
   "metadata": {},
   "outputs": [],
   "source": [
    "qda_base_cv = cross_validate(\n",
    "    QuadraticDiscriminantAnalysis(), X_train_test, y_train_test, cv=10, scoring=scoring\n",
    ")"
   ]
  },
  {
   "cell_type": "markdown",
   "id": "efb012ba",
   "metadata": {},
   "source": [
    "### GridSearch"
   ]
  },
  {
   "cell_type": "code",
   "execution_count": null,
   "id": "56c4c1a7",
   "metadata": {},
   "outputs": [],
   "source": [
    "param_grid = {\n",
    "    \"priors\": [\n",
    "        [0.05, 0.95],\n",
    "        [0.1, 0.9],\n",
    "        [0.15, 0.85],\n",
    "        [0.2, 0.8],\n",
    "        [0.25, 0.75],\n",
    "        [0.3, 0.7],\n",
    "        [0.35, 0.65],\n",
    "        [0.4, 0.6],\n",
    "        [0.45, 0.55],\n",
    "        [0.5, 0.5],\n",
    "        [0.55, 0.45],\n",
    "        [0.6, 0.4],\n",
    "        [0.65, 0.35],\n",
    "        [0.7, 0.3],\n",
    "        [0.75, 0.25],\n",
    "        [0.8, 0.2],\n",
    "        [0.85, 0.15],\n",
    "        [0.9, 0.1],\n",
    "        [0.95, 0.05],\n",
    "    ]\n",
    "}\n",
    "\n",
    "qda_grid = GridSearchCV(\n",
    "    estimator=QuadraticDiscriminantAnalysis(),\n",
    "    param_grid=param_grid,\n",
    "    cv=10,\n",
    "    scoring=scoring,\n",
    "    refit=\"Accuracy\",\n",
    ")\n",
    "qda_grid.fit(X_train_test, y_train_test)\n",
    "qda_grid.best_params_"
   ]
  },
  {
   "cell_type": "code",
   "execution_count": null,
   "id": "a627c15a",
   "metadata": {},
   "outputs": [],
   "source": [
    "qda_grid_cv = cross_validate(\n",
    "    qda_grid.best_estimator_, X_train_test, y_train_test, cv=10, scoring=scoring\n",
    ")"
   ]
  },
  {
   "cell_type": "markdown",
   "id": "3b0e36ed",
   "metadata": {},
   "source": [
    "### compare pipelines"
   ]
  },
  {
   "cell_type": "code",
   "execution_count": null,
   "id": "1bfdc469",
   "metadata": {},
   "outputs": [],
   "source": [
    "qda_base_cv2, qda_grid_cv2, qda_grid2 = train_estimator(\n",
    "    preproc_inclA7, X, y, QuadraticDiscriminantAnalysis(), param_grid\n",
    ")\n",
    "plot_cv_scores_2versions(\n",
    "    qda_base_cv, qda_grid_cv, qda_base_cv2, qda_grid_cv2, \"excl. A7\", \"incl. A7\"\n",
    ")"
   ]
  },
  {
   "cell_type": "markdown",
   "id": "9023151e-ca9e-41be-afc1-ed802739ecdb",
   "metadata": {},
   "source": [
    "## Random Forest"
   ]
  },
  {
   "cell_type": "markdown",
   "id": "e2c46f24",
   "metadata": {},
   "source": [
    "#### Baseline"
   ]
  },
  {
   "cell_type": "code",
   "execution_count": null,
   "id": "d3df2521",
   "metadata": {},
   "outputs": [],
   "source": [
    "rf_base_cv = cross_validate(\n",
    "    RandomForestClassifier(), X_train_test, y_train_test, cv=10, scoring=scoring\n",
    ")"
   ]
  },
  {
   "cell_type": "markdown",
   "id": "8d66aa25",
   "metadata": {},
   "source": [
    "#### GridSearchCV"
   ]
  },
  {
   "cell_type": "code",
   "execution_count": null,
   "id": "ec48b9d7",
   "metadata": {},
   "outputs": [],
   "source": [
    "# best values, so we don't need to run excessive GridSearch again\n",
    "param_grid = {\n",
    "    \"n_estimators\": [300],\n",
    "    \"max_depth\": [None],\n",
    "    \"min_samples_split\": [10],\n",
    "    \"min_samples_leaf\": [4],\n",
    "    \"max_features\": [\"sqrt\"],\n",
    "    \"bootstrap\": [True],\n",
    "    \"criterion\": [\"entropy\"],\n",
    "}\n",
    "\n",
    "# param_grid = {\n",
    "#     'n_estimators': [100, 200, 300, 400, 500],\n",
    "#     'max_depth': [None, 10, 20, 30, 40, 50],\n",
    "#     'min_samples_split': [2, 5, 10, 15, 20],\n",
    "#     'min_samples_leaf': [1, 2, 4, 6, 8, 10],\n",
    "#     'max_features': ['auto', 'sqrt', 'log2'],\n",
    "#     'bootstrap': [True, False],\n",
    "#     'criterion': ['gini', 'entropy']\n",
    "# }\n",
    "\n",
    "rf_grid = GridSearchCV(\n",
    "    estimator=RandomForestClassifier(),\n",
    "    scoring=scoring,\n",
    "    param_grid=param_grid,\n",
    "    verbose=1,\n",
    "    cv=10,\n",
    "    refit=\"Accuracy\",\n",
    "    n_jobs=-1,\n",
    ")\n",
    "\n",
    "rf_grid.fit(X_train_test, y_train_test)"
   ]
  },
  {
   "cell_type": "code",
   "execution_count": null,
   "id": "9f5f08e9",
   "metadata": {},
   "outputs": [],
   "source": [
    "rf_grid_cv = cross_validate(\n",
    "    rf_grid.best_estimator_, X_train_test, y_train_test, cv=10, scoring=scoring\n",
    ")"
   ]
  },
  {
   "cell_type": "markdown",
   "id": "a2f19ec9",
   "metadata": {},
   "source": [
    "### compare pipelines"
   ]
  },
  {
   "cell_type": "code",
   "execution_count": null,
   "id": "53b88af7",
   "metadata": {},
   "outputs": [],
   "source": [
    "rf_base_cv2, rf_grid_cv2, rf_grid2 = train_estimator(\n",
    "    preproc_inclA7, X, y, RandomForestClassifier(), param_grid\n",
    ")\n",
    "plot_cv_scores_2versions(\n",
    "    rf_base_cv, rf_grid_cv, rf_base_cv2, rf_grid_cv2, \"excl. A7\", \"incl. A7\"\n",
    ")"
   ]
  },
  {
   "cell_type": "markdown",
   "id": "27e2a4f1-8dde-419a-96f6-ed631df72891",
   "metadata": {},
   "source": [
    "## KNeighborsClassifier"
   ]
  },
  {
   "cell_type": "markdown",
   "id": "c91fd58d",
   "metadata": {},
   "source": [
    "#### Baseline"
   ]
  },
  {
   "cell_type": "code",
   "execution_count": null,
   "id": "43b6fd7d",
   "metadata": {},
   "outputs": [],
   "source": [
    "kn_base_cv = cross_validate(\n",
    "    KNeighborsClassifier(), X_train_test, y_train_test, cv=10, scoring=scoring\n",
    ")"
   ]
  },
  {
   "cell_type": "markdown",
   "id": "b01d1f43",
   "metadata": {},
   "source": [
    "#### GridSearch"
   ]
  },
  {
   "cell_type": "code",
   "execution_count": null,
   "id": "b3c292b8",
   "metadata": {},
   "outputs": [],
   "source": [
    "param_grid = {\n",
    "    \"n_neighbors\": [5, 10, 15],\n",
    "    \"weights\": [\"uniform\", \"distance\"],\n",
    "    \"algorithm\": [\"auto\", \"ball_tree\", \"kd_tree\", \"brute\"],\n",
    "    \"p\": [1, 2],\n",
    "}\n",
    "\n",
    "kn_grid = GridSearchCV(\n",
    "    estimator=KNeighborsClassifier(),\n",
    "    scoring=scoring,\n",
    "    param_grid=param_grid,\n",
    "    verbose=1,\n",
    "    cv=10,\n",
    "    refit=\"Accuracy\",\n",
    "    n_jobs=-1,\n",
    ")\n",
    "\n",
    "kn_grid.fit(X_train_test, y_train_test)"
   ]
  },
  {
   "cell_type": "code",
   "execution_count": null,
   "id": "276c9ded",
   "metadata": {},
   "outputs": [],
   "source": [
    "kn_grid_cv = cross_validate(\n",
    "    kn_grid.best_estimator_, X_train_test, y_train_test, cv=10, scoring=scoring\n",
    ")"
   ]
  },
  {
   "cell_type": "markdown",
   "id": "83b5e1cd",
   "metadata": {},
   "source": [
    "### compare pipelines"
   ]
  },
  {
   "cell_type": "code",
   "execution_count": null,
   "id": "69681d9c",
   "metadata": {},
   "outputs": [],
   "source": [
    "kn_base_cv2, kn_grid_cv2, kn_grid2 = train_estimator(\n",
    "    preproc_inclA7, X, y, KNeighborsClassifier(), param_grid\n",
    ")\n",
    "plot_cv_scores_2versions(\n",
    "    kn_base_cv, kn_grid_cv, kn_base_cv2, kn_grid_cv2, \"excl. A7\", \"incl. A7\"\n",
    ")"
   ]
  },
  {
   "cell_type": "markdown",
   "id": "58bb0f0f-6c9a-473a-aace-fa6076341e38",
   "metadata": {},
   "source": [
    "## Adaboost\n",
    "A ensemble method"
   ]
  },
  {
   "cell_type": "markdown",
   "id": "44d62231",
   "metadata": {},
   "source": [
    "#### Baseline"
   ]
  },
  {
   "cell_type": "code",
   "execution_count": null,
   "id": "ff83fb8b",
   "metadata": {},
   "outputs": [],
   "source": [
    "ada_base_cv = cross_validate(\n",
    "    AdaBoostClassifier(n_estimators=100, algorithm=\"SAMME\", random_state=0),\n",
    "    X_train_test,\n",
    "    y_train_test,\n",
    "    cv=10,\n",
    "    scoring=scoring,\n",
    ")"
   ]
  },
  {
   "cell_type": "markdown",
   "id": "afad1eb4",
   "metadata": {},
   "source": [
    "### Grid Search"
   ]
  },
  {
   "cell_type": "code",
   "execution_count": null,
   "id": "d6be8d48",
   "metadata": {},
   "outputs": [],
   "source": [
    "param_grid = {\n",
    "    \"algorithm\": [\"SAMME\"],\n",
    "    \"n_estimators\": [50, 100, 200],\n",
    "    \"learning_rate\": [0.01, 0.1, 1.0],\n",
    "}\n",
    "\n",
    "# bigger version:\n",
    "# param_grid = {\n",
    "#     'n_estimators': [50, 100, 200],\n",
    "#     'learning_rate': [0.01, 0.1, 1.0],\n",
    "#     'algorithm': ['SAMME', 'SAMME.R'],\n",
    "#     'base_estimator_max_depth': [1, 2, 3],\n",
    "#     'base_estimator_min__samples_split': [2, 5],\n",
    "#     'base_estimator_min__samples_leaf': [1, 2]\n",
    "# }\n",
    "\n",
    "ada_grid = GridSearchCV(\n",
    "    AdaBoostClassifier(),\n",
    "    param_grid,\n",
    "    cv=10,\n",
    "    scoring=scoring,\n",
    "    refit=\"Accuracy\",\n",
    "    n_jobs=-1,\n",
    ")\n",
    "ada_grid.fit(X_train_test, y_train_test)"
   ]
  },
  {
   "cell_type": "code",
   "execution_count": null,
   "id": "79d44bf7",
   "metadata": {},
   "outputs": [],
   "source": [
    "ada_grid_cv = cross_validate(\n",
    "    ada_grid.best_estimator_, X_train_test, y_train_test, cv=10, scoring=scoring\n",
    ")"
   ]
  },
  {
   "cell_type": "markdown",
   "id": "fb2c86bf",
   "metadata": {},
   "source": [
    "### compare pipelines"
   ]
  },
  {
   "cell_type": "code",
   "execution_count": null,
   "id": "a5a59905",
   "metadata": {},
   "outputs": [],
   "source": [
    "ada_base_cv2, ada_grid_cv2, ada_grid2 = train_estimator(\n",
    "    preproc_inclA7, X, y, AdaBoostClassifier(), param_grid\n",
    ")\n",
    "plot_cv_scores_2versions(\n",
    "    ada_base_cv, ada_grid_cv, ada_base_cv2, ada_grid_cv2, \"excl. A7\", \"incl. A7\"\n",
    ")"
   ]
  },
  {
   "cell_type": "markdown",
   "id": "d46730dc-1550-4525-979a-37c40540ed27",
   "metadata": {},
   "source": [
    "# model comparison"
   ]
  },
  {
   "cell_type": "markdown",
   "id": "7181b711",
   "metadata": {},
   "source": [
    "## compare scores on validation set"
   ]
  },
  {
   "cell_type": "code",
   "execution_count": null,
   "id": "b12391ce",
   "metadata": {},
   "outputs": [],
   "source": [
    "scores = pd.DataFrame(np.nan, index=(\"LDA\",\"QDA\",\"RandomForest\", \"KNeighbors\",\"AdaBoost\"), columns=(\"accuracy\", \"precision\"))\n",
    "\n",
    "for i, model in enumerate((lda_grid2, qda_grid2, rf_grid2, kn_grid2, ada_grid2)):\n",
    "    y_pred = model.best_estimator_.predict(X_validate)\n",
    "    scores.iloc[i,0], scores.iloc[i,1] = accuracy_score(y_validate, y_pred), precision_score(y_validate, y_pred)\n",
    "\n",
    "fig, axes = plt.subplots(2,1, sharex=True)\n",
    "\n",
    "axes[0].bar(scores.index, scores.accuracy, width=.33)\n",
    "axes[0].set_ylim(.75, .9)\n",
    "axes[0].set_title(\"Accuracy\")\n",
    "\n",
    "\n",
    "axes[1].bar(scores.index, scores.precision, width=.6)\n",
    "axes[1].set_ylim(.75, .9)\n",
    "axes[1].set_title(\"Precision\")\n"
   ]
  },
  {
   "cell_type": "markdown",
   "id": "ab56e4e9",
   "metadata": {},
   "source": [
    "## ROC"
   ]
  },
  {
   "cell_type": "code",
   "execution_count": null,
   "id": "a61aa67a",
   "metadata": {},
   "outputs": [],
   "source": [
    "ax = plt.subplot()\n",
    "#RocCurveDisplay.from_estimator(lda_grid.best_estimator_, X_validate, y_validate, ax=ax)\n",
    "RocCurveDisplay.from_estimator(qda_grid2.best_estimator_, X_validate, y_validate, ax=ax)\n",
    "RocCurveDisplay.from_estimator(rf_grid2.best_estimator_, X_validate, y_validate, ax=ax)\n",
    "RocCurveDisplay.from_estimator(kn_grid2.best_estimator_, X_validate, y_validate, ax=ax)\n",
    "RocCurveDisplay.from_estimator(ada_grid2.best_estimator_, X_validate, y_validate, ax=ax)\n",
    "plt.title(\"ROC curve\")"
   ]
  },
  {
   "cell_type": "markdown",
   "id": "7390e146",
   "metadata": {},
   "source": [
    "## Precision Recall Display"
   ]
  },
  {
   "cell_type": "code",
   "execution_count": null,
   "id": "53ba5647",
   "metadata": {},
   "outputs": [],
   "source": [
    "ax = plt.subplot()\n",
    "#PrecisionRecallDisplay.from_estimator(lda_grid.best_estimator_, X_validate, y_validate, ax=ax)\n",
    "PrecisionRecallDisplay.from_estimator(qda_grid2.best_estimator_, X_validate, y_validate, ax=ax)\n",
    "PrecisionRecallDisplay.from_estimator(rf_grid2.best_estimator_, X_validate, y_validate, ax=ax)\n",
    "PrecisionRecallDisplay.from_estimator(kn_grid2.best_estimator_, X_validate, y_validate, ax=ax)\n",
    "PrecisionRecallDisplay.from_estimator(ada_grid2.best_estimator_, X_validate, y_validate, ax=ax)\n",
    "plt.title(\"precision recall curve\")"
   ]
  },
  {
   "cell_type": "markdown",
   "id": "b956685b",
   "metadata": {},
   "source": [
    "## DET curve"
   ]
  },
  {
   "cell_type": "code",
   "execution_count": null,
   "id": "fa282dee",
   "metadata": {},
   "outputs": [],
   "source": [
    "\"\"\"AdaBoost has best accuracy/precision, KN has best ROC-AUC, QDA has second best ROC-AUC\"\"\"\n",
    "\n",
    "ax = plt.subplot()\n",
    "#DetCurveDisplay.from_estimator(lda_grid.best_estimator_, X_validate, y_validate, ax=ax)\n",
    "DetCurveDisplay.from_estimator(qda_grid.best_estimator_, X_validate, y_validate, ax=ax)\n",
    "#DetCurveDisplay.from_estimator(rf_grid.best_estimator_, X_validate, y_validate, ax=ax)\n",
    "DetCurveDisplay.from_estimator(kn_grid.best_estimator_, X_validate, y_validate, ax=ax)\n",
    "DetCurveDisplay.from_estimator(ada_grid.best_estimator_, X_validate, y_validate, ax=ax);\n",
    "ax.legend()"
   ]
  },
  {
   "cell_type": "markdown",
   "id": "ebb0bae8",
   "metadata": {},
   "source": [
    "## old code"
   ]
  },
  {
   "cell_type": "code",
   "execution_count": null,
   "id": "b607cf7f",
   "metadata": {},
   "outputs": [],
   "source": [
    "y_num = np.where(y_train == \"+\", 1, 0)\n",
    "y_validate_num = np.where(y_validate == \"+\", 1, 0)\n",
    "\n",
    "rf_num = search_rf.best_estimator_.fit(X_train, y_num)\n",
    "knn_num = search_knn.best_estimator_.fit(X_train, y_num)"
   ]
  },
  {
   "cell_type": "code",
   "execution_count": null,
   "id": "98a326a7",
   "metadata": {},
   "outputs": [],
   "source": [
    "# DetCurveDisplay.from_predictions(y_validate, rf_best.predict)\n",
    "# Get prediction probabilities\n",
    "rf_best = search_rf.best_estimator_\n",
    "# probabilities = rf_best.predict_proba(X_validate)\n",
    "# print(\"Prediction Probabilities:\\n\", probabilities)"
   ]
  },
  {
   "cell_type": "code",
   "execution_count": null,
   "id": "c8eec04c",
   "metadata": {},
   "outputs": [],
   "source": [
    "# Get class predictions (optional)\n",
    "predictions_rf = rf_num.predict(X_validate)\n",
    "print(\"Class Predictions:\\n\", predictions_rf)\n",
    "\n",
    "predictions_knn = knn_num.predict(X_validate)\n",
    "print(\"Class Predictions:\\n\", predictions_knn)\n",
    "\n",
    "# DetCurveDisplay.from_predictions(y_validate_num, predictions_rf)\n",
    "# DetCurveDisplay.from_predictions(y_validate_num, predictions_knn)"
   ]
  },
  {
   "cell_type": "code",
   "execution_count": null,
   "id": "f6fab6f7",
   "metadata": {},
   "outputs": [],
   "source": [
    "# Model evauation\n",
    "\n",
    "# Since classes are balanced, accuracy is the correct evaluation metric.\n",
    "\n",
    "# Plot ROC for different hyperparameters\n",
    "\n",
    "# above: plot full results of grid search to showcase effects of different hyperparameters"
   ]
  },
  {
   "cell_type": "markdown",
   "id": "e6ec7d59",
   "metadata": {},
   "source": [
    "### old feature engineering pipe\n",
    "\n",
    "feature engineering: mixed numerical categorical feature space (this is old code, use fully numerical feature space for now)"
   ]
  },
  {
   "cell_type": "code",
   "execution_count": null,
   "id": "a376be18",
   "metadata": {},
   "outputs": [],
   "source": [
    "make_column_transformer(\n",
    "    (\n",
    "        make_pipeline(\n",
    "            SimpleImputer(strategy=\"most_frequent\"), OneHotEncoder(drop=\"first\")\n",
    "        ),\n",
    "        [\"A1\"],\n",
    "    ),\n",
    "    (make_pipeline(SimpleImputer(strategy=\"median\"), MinMaxScaler()), [\"A2\"]),\n",
    "    (\n",
    "        make_pipeline(\n",
    "            FunctionTransformer(lambda col: col.mask(col != \"u\", \"non-u\")),\n",
    "            SimpleImputer(strategy=\"most_frequent\"),\n",
    "            OneHotEncoder(drop=\"first\"),\n",
    "        ),\n",
    "        [\"A4\"],\n",
    "    ),\n",
    "    (\n",
    "        make_pipeline(\n",
    "            FunctionTransformer(\n",
    "                lambda col: col.replace(\n",
    "                    {\n",
    "                        \"v\": \"v\",\n",
    "                        \"h\": \"h\",\n",
    "                        \"bb\": \"other\",\n",
    "                        \"ff\": \"other\",\n",
    "                        \"j\": \"other\",\n",
    "                        \"z\": \"other\",\n",
    "                        \"dd\": \"other\",\n",
    "                        \"n\": \"other\",\n",
    "                        \"o\": \"other\",\n",
    "                    }\n",
    "                )\n",
    "            ),\n",
    "            SimpleImputer(strategy=\"most_frequent\"),\n",
    "            OneHotEncoder(drop=\"first\"),\n",
    "        ),\n",
    "        [\"A7\"],\n",
    "    ),\n",
    "    (\n",
    "        make_pipeline(\n",
    "            FunctionTransformer(\n",
    "                lambda col: col.replace({\"g\": \"g\", \"s\": \"non-g\", \"p\": \"non-g\"})\n",
    "            ),\n",
    "            SimpleImputer(strategy=\"most_frequent\"),\n",
    "            OneHotEncoder(drop=\"first\"),\n",
    "        ),\n",
    "        [\"A13\"],\n",
    "    ),\n",
    "    (\n",
    "        \"test\",\n",
    "        make_pipeline(\n",
    "            FunctionTransformer(np.log1p),\n",
    "            SimpleImputer(strategy=\"median\"),\n",
    "            MinMaxScaler(),\n",
    "        ),\n",
    "        [\"A11\", \"A14\", \"A15\"],\n",
    "    ),\n",
    "    # continuous default\n",
    "    (\n",
    "        make_pipeline(\n",
    "            MinMaxScaler(),\n",
    "        ),\n",
    "        [\"A3\", \"A8\"],\n",
    "    ),\n",
    "    # categorical default\n",
    "    (\n",
    "        make_pipeline(\n",
    "            OneHotEncoder(drop=\"first\"),\n",
    "        ),\n",
    "        [\"A9\", \"A10\", \"A12\"],\n",
    "    ),\n",
    "    # remove: A5, A6\n",
    "    remainder=\"drop\",\n",
    ")"
   ]
  },
  {
   "cell_type": "markdown",
   "id": "210100a7",
   "metadata": {},
   "source": [
    "### AdaBoost GridSearch Parameter descriptions"
   ]
  },
  {
   "cell_type": "markdown",
   "id": "0a1d4d41",
   "metadata": {},
   "source": [
    "##### 1. **Number of Estimators (`n_estimators`)**:\n",
    "   - **Description**: This is the number of weak learners (or base estimators) to be used in the boosting process. Higher values can lead to better performance but also increase the risk of overfitting.\n",
    "   - **Typical Range**: `[50, 100, 200, 300, 400, 500]`\n",
    "\n",
    "##### 2. **Learning Rate (`learning_rate`)**:\n",
    "   - **Description**: This shrinks the contribution of each weak learner by multiplying their weights. A lower learning rate requires a higher number of estimators.\n",
    "   - **Typical Range**: `[0.001, 0.01, 0.1, 0.5, 1.0]`\n",
    "\n",
    "##### 3. **Base Estimator (`base_estimator`)**:\n",
    "   - **Description**: The weak learner to be used. Typically, a decision tree classifier is used, but this can be replaced by other classifiers.\n",
    "   - **Typical Range**:\n",
    "     - For Decision Trees: `DecisionTreeClassifier(max_depth=1)` (default), or vary `max_depth`, `min_samples_split`, and `min_samples_leaf`.\n",
    "     - Other weak learners: `DecisionTreeClassifier`, `SVM`, etc.\n",
    "\n",
    "##### 4. **Algorithm (`algorithm`)**:\n",
    "   - **Description**: The algorithm used to choose the weights for the weak learners.\n",
    "   - **Options**: `['SAMME', 'SAMME.R']`\n",
    "   - **Explanation**:\n",
    "     - `SAMME.R` uses the probability estimates and generally performs better, especially when `base_estimator` can output class probabilities.\n",
    "     - `SAMME` is a more traditional approach.\n",
    "\n",
    "##### 5. **Random State (`random_state`)**:\n",
    "   - **Description**: Controls the randomness of the bootstrapping of the samples used when building trees. It’s important for reproducibility.\n",
    "   - **Typical Range**: `[None, 42, 1]` (using fixed seeds like `42` can help reproduce results)\n",
    "\n",
    "##### 6. **Max Depth of Base Estimator (`max_depth`)**:\n",
    "   - **Description**: Depth of the decision tree if it is used as the base estimator. Shallow trees prevent overfitting.\n",
    "   - **Typical Range**: `[1, 2, 3, 4, 5]`\n",
    "\n",
    "##### 7. **Min Samples Split (`min_samples_split`)** (if decision tree is used as the base estimator):\n",
    "   - **Description**: The minimum number of samples required to split an internal node.\n",
    "   - **Typical Range**: `[2, 5, 10]`\n",
    "\n",
    "##### 8. **Min Samples Leaf (`min_samples_leaf`)** (if decision tree is used as the base estimator):\n",
    "   - **Description**: The minimum number of samples required to be at a leaf node.\n",
    "   - **Typical Range**: `[1, 2, 5, 10]`"
   ]
  }
 ],
 "metadata": {
  "kernelspec": {
   "display_name": "Python 3 (ipykernel)",
   "language": "python",
   "name": "python3"
  },
  "language_info": {
   "codemirror_mode": {
    "name": "ipython",
    "version": 3
   },
   "file_extension": ".py",
   "mimetype": "text/x-python",
   "name": "python",
   "nbconvert_exporter": "python",
   "pygments_lexer": "ipython3",
   "version": "3.11.3"
  }
 },
 "nbformat": 4,
 "nbformat_minor": 5
}
