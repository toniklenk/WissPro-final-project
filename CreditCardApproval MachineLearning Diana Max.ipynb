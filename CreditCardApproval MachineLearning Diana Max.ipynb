{
 "cells": [
  {
   "cell_type": "markdown",
   "id": "3e32a8c2-9497-47e2-b432-ee240cfbf865",
   "metadata": {},
   "source": [
    "# CreditCardApproval MachineLearning Diana Max"
   ]
  },
  {
   "cell_type": "markdown",
   "id": "497ff16c-180c-411a-8343-585f38792393",
   "metadata": {},
   "source": [
    "## Setup notebook & fetch data"
   ]
  },
  {
   "cell_type": "code",
   "execution_count": null,
   "id": "06799917-827e-489c-852e-9d463b94f598",
   "metadata": {},
   "outputs": [],
   "source": [
    "from ucimlrepo import fetch_ucirepo\n",
    "import numpy as np\n",
    "import pandas as pd\n",
    "import random\n",
    "\n",
    "import seaborn as sns\n",
    "import matplotlib.pyplot as plt\n",
    "\n",
    "from sklearn import metrics\n",
    "from sklearn.pipeline import make_pipeline\n",
    "from sklearn.impute import SimpleImputer\n",
    "from sklearn.preprocessing import OneHotEncoder, MinMaxScaler, FunctionTransformer, TargetEncoder, label_binarize\n",
    "from sklearn.metrics import (\n",
    "    accuracy_score,\n",
    "    precision_score,\n",
    "    precision_recall_curve,\n",
    "    confusion_matrix,\n",
    "    classification_report,\n",
    "    make_scorer,\n",
    "    RocCurveDisplay,\n",
    "    PrecisionRecallDisplay,\n",
    "    DetCurveDisplay\n",
    ")\n",
    "\n",
    "from sklearn.model_selection import (\n",
    "    cross_val_score,\n",
    "    GridSearchCV, \n",
    "    KFold, \n",
    "    RandomizedSearchCV, \n",
    "    train_test_split, \n",
    "    StratifiedKFold, \n",
    "    cross_validate,\n",
    "    RepeatedStratifiedKFold\n",
    ")\n",
    "\n",
    "from sklearn.decomposition import PCA\n",
    "from sklearn.ensemble import RandomForestClassifier\n",
    "from sklearn.feature_selection import SequentialFeatureSelector\n",
    "from sklearn.base import clone\n",
    "from sklearn.compose import make_column_transformer\n",
    "from sklearn.linear_model import LogisticRegression\n",
    "from sklearn.svm import SVC\n",
    "from sklearn.neighbors import KNeighborsClassifier\n",
    "from sklearn.discriminant_analysis import LinearDiscriminantAnalysis, QuadraticDiscriminantAnalysis\n",
    "from sklearn.ensemble import AdaBoostClassifier\n",
    "from sklearn.gaussian_process import GaussianProcessClassifier"
   ]
  },
  {
   "cell_type": "code",
   "execution_count": null,
   "id": "73aebf83-7b28-42ef-a58e-8b79d29df51c",
   "metadata": {},
   "outputs": [],
   "source": [
    "credit_approval = fetch_ucirepo(id=27)\n",
    "\n",
    "X = credit_approval.data.features\n",
    "y = credit_approval.data.targets\n",
    "df = credit_approval.data.original"
   ]
  },
  {
   "cell_type": "code",
   "execution_count": null,
   "id": "b4629b3e",
   "metadata": {},
   "outputs": [],
   "source": [
    "y"
   ]
  },
  {
   "cell_type": "markdown",
   "id": "fdeabffd-9971-45e1-848e-0dea4e7e10c9",
   "metadata": {},
   "source": [
    "## preprocessing"
   ]
  },
  {
   "cell_type": "code",
   "execution_count": null,
   "id": "7c339378-ffc0-49ec-b896-ae5fe95039a9",
   "metadata": {},
   "outputs": [],
   "source": [
    "\"\"\"\n",
    "Maybe add some more advanced techniques from here later: https://scikit-learn.org/stable/modules/preprocessing.html\n",
    "\n",
    "\"\"\""
   ]
  },
  {
   "cell_type": "markdown",
   "id": "42d95c81-67e0-4ac0-849b-84ca3aafb3dd",
   "metadata": {
    "jp-MarkdownHeadingCollapsed": true
   },
   "source": [
    "### feature engineering: mixed numerical categorical feature space (this is old code, use fully numerical feature space for now)"
   ]
  },
  {
   "cell_type": "code",
   "execution_count": null,
   "id": "f5bc8830-54a0-4154-8ce9-62b5d0610158",
   "metadata": {},
   "outputs": [],
   "source": [
    "make_column_transformer(\n",
    "    (\n",
    "        make_pipeline(\n",
    "            SimpleImputer(strategy='most_frequent'),\n",
    "            OneHotEncoder(drop='first')\n",
    "        ),\n",
    "        ['A1']\n",
    "        \n",
    "    ),\n",
    "    (\n",
    "        make_pipeline(\n",
    "            SimpleImputer(strategy='median'),\n",
    "            MinMaxScaler()\n",
    "        ),\n",
    "        ['A2']\n",
    "    ),\n",
    "    (\n",
    "        make_pipeline(\n",
    "            FunctionTransformer(lambda col: col.mask(col != 'u', 'non-u')),\n",
    "            SimpleImputer(strategy='most_frequent'),\n",
    "            OneHotEncoder(drop='first')\n",
    "           ),\n",
    "        ['A4']\n",
    "    ),\n",
    "    (\n",
    "        make_pipeline(\n",
    "            FunctionTransformer(lambda col: col.replace({'v':'v', 'h':'h','bb':'other','ff':'other','j':'other','z':'other','dd':'other','n':'other','o':'other'})),\n",
    "            SimpleImputer(strategy='most_frequent'),\n",
    "            OneHotEncoder(drop='first')\n",
    "        ),\n",
    "        ['A7']\n",
    "    ),\n",
    "    (\n",
    "        make_pipeline(\n",
    "            FunctionTransformer(lambda col: col.replace({'g':'g', 's':'non-g','p':'non-g'})),\n",
    "            SimpleImputer(strategy='most_frequent'),\n",
    "            OneHotEncoder(drop='first')\n",
    "        ),\n",
    "        ['A13']\n",
    "    ),\n",
    "    (\n",
    "        'test',\n",
    "        make_pipeline(\n",
    "            FunctionTransformer(np.log1p),\n",
    "            SimpleImputer(strategy='median'),\n",
    "            MinMaxScaler()\n",
    "        ),\n",
    "        ['A11','A14','A15']\n",
    "    ),\n",
    "    # continuous default\n",
    "    (\n",
    "        make_pipeline(\n",
    "            MinMaxScaler(),\n",
    "        ),\n",
    "        ['A3','A8']\n",
    "    ),\n",
    "    # categorical default\n",
    "    (\n",
    "        make_pipeline(\n",
    "            OneHotEncoder(drop='first'),\n",
    "        ),\n",
    "        ['A9','A10', 'A12']\n",
    "    ),\n",
    "    \n",
    "    # remove: A5, A6\n",
    "    remainder='drop'\n",
    ")"
   ]
  },
  {
   "cell_type": "markdown",
   "id": "6060d907-a4f9-430f-a653-50460ce0fa85",
   "metadata": {},
   "source": [
    "### feature engineering: fully numerical feature space"
   ]
  },
  {
   "cell_type": "markdown",
   "id": "bd886ae7-87c5-4abf-b044-cd8d402286e7",
   "metadata": {},
   "source": [
    "#### variant 1: include A7"
   ]
  },
  {
   "cell_type": "code",
   "execution_count": null,
   "id": "4cd77624-5f2f-4c45-b370-b1fb543bd146",
   "metadata": {},
   "outputs": [],
   "source": [
    "column_tweaker_include_a7 = make_column_transformer(\n",
    "    (\n",
    "        make_pipeline(\n",
    "            SimpleImputer(strategy='most_frequent'),\n",
    "            OneHotEncoder(sparse_output=False, drop='first')\n",
    "        ),\n",
    "        ['A1','A9','A10','A12']\n",
    "    ),\n",
    "    (\n",
    "        make_pipeline(\n",
    "            SimpleImputer(strategy='most_frequent'),\n",
    "            FunctionTransformer(lambda col: label_binarize(col, classes=['u']))\n",
    "        ),\n",
    "        ['A4']\n",
    "    ),\n",
    "    (\n",
    "        make_pipeline(\n",
    "            SimpleImputer(strategy='most_frequent'),\n",
    "            FunctionTransformer(lambda col: label_binarize(col, classes=['g']))\n",
    "        ),\n",
    "        ['A5']\n",
    "    ),\n",
    "    (\n",
    "        make_pipeline(\n",
    "            TargetEncoder(),\n",
    "            SimpleImputer(strategy='median')\n",
    "        ),\n",
    "        ['A6', 'A7']\n",
    "    ),\n",
    "    (\n",
    "        make_pipeline(\n",
    "            SimpleImputer(strategy='most_frequent'),\n",
    "            FunctionTransformer(lambda col: label_binarize(col, classes=['g']))\n",
    "        ),\n",
    "        ['A13']\n",
    "    ),\n",
    "    (\n",
    "        make_pipeline(\n",
    "            FunctionTransformer(np.log1p),\n",
    "            SimpleImputer(strategy='median')\n",
    "        ),\n",
    "        ['A2','A3','A8','A11','A14','A15']\n",
    "    ),\n",
    "\n",
    "    # leave everything else untouched\n",
    "    remainder='drop'\n",
    ")"
   ]
  },
  {
   "cell_type": "markdown",
   "id": "b5c4511e-a7e1-4c00-b176-4917dad40113",
   "metadata": {},
   "source": [
    "#### variant 2: exclude A7"
   ]
  },
  {
   "cell_type": "code",
   "execution_count": null,
   "id": "8cd20158-21e8-4065-8fec-3459e3fba9d1",
   "metadata": {},
   "outputs": [],
   "source": [
    "column_tweaker_exclude_a7 = make_column_transformer(\n",
    "    (\n",
    "        make_pipeline(\n",
    "            SimpleImputer(strategy='most_frequent'),\n",
    "            OneHotEncoder(sparse_output=False, drop='first')\n",
    "        ),\n",
    "        ['A1','A9','A10','A12']\n",
    "    ),\n",
    "    (\n",
    "        make_pipeline(\n",
    "            SimpleImputer(strategy='most_frequent'),\n",
    "            FunctionTransformer(lambda col: label_binarize(col, classes=['u']))\n",
    "        ),\n",
    "        ['A4']\n",
    "    ),\n",
    "    (\n",
    "        make_pipeline(\n",
    "            SimpleImputer(strategy='most_frequent'),\n",
    "            FunctionTransformer(lambda col: label_binarize(col, classes=['g']))\n",
    "        ),\n",
    "        ['A5']\n",
    "    ),\n",
    "    (\n",
    "        make_pipeline(\n",
    "            TargetEncoder(),\n",
    "            SimpleImputer(strategy='median')\n",
    "        ),\n",
    "        ['A6']\n",
    "    ),\n",
    "    (\n",
    "        make_pipeline(\n",
    "            SimpleImputer(strategy='most_frequent'),\n",
    "            FunctionTransformer(lambda col: label_binarize(col, classes=['g']))\n",
    "        ),\n",
    "        ['A13']\n",
    "    ),\n",
    "    (\n",
    "        make_pipeline(\n",
    "            FunctionTransformer(np.log1p),\n",
    "            SimpleImputer(strategy='median')\n",
    "        ),\n",
    "        ['A2','A3','A8','A11','A14','A15']\n",
    "    ),\n",
    "\n",
    "    # leave everything else untouched\n",
    "    remainder='drop'\n",
    ")"
   ]
  },
  {
   "cell_type": "markdown",
   "id": "de5f3c3e-b374-454b-9d3d-000a1efc0c8b",
   "metadata": {},
   "source": [
    "### feature scaling"
   ]
  },
  {
   "cell_type": "code",
   "execution_count": null,
   "id": "b799bcf8-0695-4c2f-8192-cd499c11260c",
   "metadata": {},
   "outputs": [],
   "source": [
    "column_scaler = MinMaxScaler()"
   ]
  },
  {
   "cell_type": "markdown",
   "id": "f8e38b62-218e-484f-9da2-f3c15fc26e47",
   "metadata": {},
   "source": [
    "### PCA"
   ]
  },
  {
   "cell_type": "code",
   "execution_count": null,
   "id": "bfcea5af-53eb-4a15-a3ad-8dabd3b5db30",
   "metadata": {},
   "outputs": [],
   "source": [
    "column_pca = PCA(n_components=.99, svd_solver='full')"
   ]
  },
  {
   "cell_type": "markdown",
   "id": "a7b6ec2c-94cc-4f2c-9e90-ebe24bdc3b74",
   "metadata": {},
   "source": [
    "### put together pipelines"
   ]
  },
  {
   "cell_type": "markdown",
   "id": "102041fb-48a7-4961-817c-1f0aee3105a8",
   "metadata": {},
   "source": [
    "#### feature engineering pipeline 1"
   ]
  },
  {
   "cell_type": "code",
   "execution_count": null,
   "id": "90f55276-f482-4af9-8f91-30017b31ed10",
   "metadata": {},
   "outputs": [],
   "source": [
    "preprocessing_pipe = make_pipeline(\n",
    "    column_tweaker_exclude_a7,\n",
    "    column_scaler,\n",
    "    column_pca\n",
    ")\n",
    "preprocessing_pipe"
   ]
  },
  {
   "cell_type": "markdown",
   "id": "14a3a234-3399-4829-9b8a-15728929e7a0",
   "metadata": {},
   "source": [
    "#### feature engineering pipeline 2"
   ]
  },
  {
   "cell_type": "code",
   "execution_count": null,
   "id": "58c9fd33-e042-41d4-a138-1efd96751281",
   "metadata": {},
   "outputs": [],
   "source": [
    "\"\"\"\n",
    "\n",
    "In which different formats do we need the data for different classifiers ?\n",
    "\n",
    "\"\"\""
   ]
  },
  {
   "cell_type": "markdown",
   "id": "8c8d60e5-0d7c-4692-afbd-73c65ee1431e",
   "metadata": {},
   "source": [
    "## train test validation split"
   ]
  },
  {
   "cell_type": "code",
   "execution_count": null,
   "id": "5acca771",
   "metadata": {},
   "outputs": [],
   "source": [
    "# Set random seed for reproducibility\n",
    "seed = 42\n",
    "np.random.seed(seed)\n",
    "random.seed(seed)"
   ]
  },
  {
   "cell_type": "code",
   "execution_count": null,
   "id": "0f9b083e",
   "metadata": {},
   "outputs": [],
   "source": [
    "y = y.values.ravel()\n",
    "y[y=='+'] = 1\n",
    "y[y=='-'] = 0\n",
    "y = y.astype(np.int8)\n"
   ]
  },
  {
   "cell_type": "code",
   "execution_count": null,
   "id": "b3e4b63a-cd58-4142-9143-402eb35b3583",
   "metadata": {},
   "outputs": [],
   "source": [
    "X_preprocessed = preprocessing_pipe.fit_transform(X=X, y=y)"
   ]
  },
  {
   "cell_type": "code",
   "execution_count": null,
   "id": "57f29ad6-2c49-4498-9504-3bb81e14080a",
   "metadata": {},
   "outputs": [],
   "source": [
    "X_train, X_test_validate, y_train, y_test_validate = train_test_split(X_preprocessed, y, test_size=0.1, random_state=seed)\n",
    "X_train.shape, y_train.shape"
   ]
  },
  {
   "cell_type": "code",
   "execution_count": null,
   "id": "358b23a9-60c5-48ff-b330-5f2ca0fceac7",
   "metadata": {},
   "outputs": [],
   "source": [
    "X_test, X_validate, y_test, y_validate = train_test_split(X_test_validate, y_test_validate, test_size=.5)\n",
    "(X_test.shape, y_test.shape), (X_validate.shape, y_validate.shape)"
   ]
  },
  {
   "cell_type": "code",
   "execution_count": null,
   "id": "788e1108",
   "metadata": {},
   "outputs": [],
   "source": [
    "X_train_test, y_train_test = np.concatenate((X_train, X_test)), np.concatenate((y_train, y_test))"
   ]
  },
  {
   "cell_type": "code",
   "execution_count": null,
   "id": "58e4b169",
   "metadata": {},
   "outputs": [],
   "source": [
    "np.concatenate((X_train))"
   ]
  },
  {
   "cell_type": "markdown",
   "id": "45f56c04-0ce7-4987-a3d3-50a8f2827fda",
   "metadata": {},
   "source": [
    "## train & optimise different models"
   ]
  },
  {
   "cell_type": "markdown",
   "id": "f50f7789",
   "metadata": {},
   "source": [
    "On what to optimize ?\n",
    "\n",
    "The task is o predict, if, given the different parameters, access to a credit card is denied or granted.\n",
    "\n",
    "- The worst case would be to give access to a position that is obvious fraud (False Positive). Cost: The owner looses money.\n",
    "- Rejecting access to a legit position (False Negative) would be inconvenient, since someone wouldn't be able to draw his money, but we consider it less of a problem than a False Positive.\n",
    "\n",
    "- Obviously, a True Positive would be giving someone his money while a True Negative would be denying fraud.\n",
    "\n",
    "\n",
    "\n",
    "In summary, we primarily optimize for the False Positive rate."
   ]
  },
  {
   "cell_type": "markdown",
   "id": "c95a3e53",
   "metadata": {},
   "source": [
    "Additional metrics:\n",
    "- The dataset is balanced therefore classificatino accuracy is a meaningfull metrix as well."
   ]
  },
  {
   "cell_type": "code",
   "execution_count": null,
   "id": "b51514b0",
   "metadata": {},
   "outputs": [],
   "source": [
    "scoring = {\"Accuracy\": make_scorer(accuracy_score), \"Precision\": make_scorer(precision_score, pos_label = 1)}"
   ]
  },
  {
   "cell_type": "markdown",
   "id": "c6cc42b8",
   "metadata": {},
   "source": [
    "How to compare classifiers ?\n",
    "- Plot learning curves.\n",
    "- Compare missclassified examples.\n",
    "- Compare robustness in different CV-splits."
   ]
  },
  {
   "cell_type": "markdown",
   "id": "9934e100",
   "metadata": {},
   "source": [
    "Next, we compare the performance of a variety of common ML classifiers. Since we are relativey naive to which classifiers could work, we try a diverse set."
   ]
  },
  {
   "cell_type": "markdown",
   "id": "4a8a6986",
   "metadata": {},
   "source": [
    "#### Linear Discriminant Analysis\n",
    "\n",
    "Parameters:\n",
    "'priors' : The default value estimates the class proportions from the training set. Since our dataset with n<1000 is relatively small, class proportions might be slightly skewed leading to a suboptimal estimation from the training data ."
   ]
  },
  {
   "cell_type": "code",
   "execution_count": null,
   "id": "aeb50b14",
   "metadata": {},
   "outputs": [],
   "source": [
    "lda = LinearDiscriminantAnalysis()\n",
    "\n",
    "param_grid = {\n",
    "    'priors':[[.05,.95], [.1,.9], [.15,.85],[.2,.8],\n",
    "              [.25,.75], [.3,.7], [.35,.65], [.4,.6],\n",
    "              [.45,.55], [.5,.5], [.55,.45], [.6,.4],\n",
    "              [.65,.35], [.7,.3], [.75,.25], [.8,.2],\n",
    "              [.85,.15], [.9,.1], [.95,.05]]\n",
    "    }\n",
    "\n",
    "\n",
    "lda_gscv = GridSearchCV(estimator=lda, param_grid=param_grid, cv=10, scoring=scoring, refit=\"Accuracy\")\n",
    "lda_gscv.fit(X_train_test, y_train_test)\n",
    "lda_gscv.best_params_"
   ]
  },
  {
   "cell_type": "code",
   "execution_count": null,
   "id": "b72a9f30",
   "metadata": {},
   "outputs": [],
   "source": [
    "lda_gscv.cv_results_['mean_test_Accuracy'], lda_gscv.cv_results_['mean_test_Precision']"
   ]
  },
  {
   "cell_type": "code",
   "execution_count": null,
   "id": "745f5b33",
   "metadata": {},
   "outputs": [],
   "source": [
    "y_pred = lda_gscv.best_estimator_.predict(X_validate)\n",
    "y_validate.shape, accuracy_score(y_validate, y_pred), precision_score(y_validate, y_pred)"
   ]
  },
  {
   "cell_type": "markdown",
   "id": "fa4f93ae",
   "metadata": {},
   "source": [
    "#### Quadratic Discriminant Analysis"
   ]
  },
  {
   "cell_type": "code",
   "execution_count": null,
   "id": "56c4c1a7",
   "metadata": {},
   "outputs": [],
   "source": [
    "qda = QuadraticDiscriminantAnalysis()\n",
    "\n",
    "param_grid = {\n",
    "    'priors':[[.05,.95], [.1,.9], [.15,.85],[.2,.8],\n",
    "              [.25,.75], [.3,.7], [.35,.65], [.4,.6],\n",
    "              [.45,.55], [.5,.5], [.55,.45], [.6,.4],\n",
    "              [.65,.35], [.7,.3], [.75,.25], [.8,.2],\n",
    "              [.85,.15], [.9,.1], [.95,.05]]\n",
    "    }\n",
    "\n",
    "qda_gscv = GridSearchCV(estimator=qda, param_grid=param_grid, cv=10, scoring=scoring, refit=\"Accuracy\")\n",
    "qda_gscv.fit(X_train_test, y_train_test)\n",
    "qda_gscv.best_params_"
   ]
  },
  {
   "cell_type": "code",
   "execution_count": null,
   "id": "3ba9160b",
   "metadata": {},
   "outputs": [],
   "source": [
    "qda_gscv.cv_results_['mean_test_Accuracy'], qda_gscv.cv_results_['mean_test_Precision']"
   ]
  },
  {
   "cell_type": "code",
   "execution_count": null,
   "id": "32cf6cbe",
   "metadata": {},
   "outputs": [],
   "source": [
    "y_pred = qda_gscv.best_estimator_.predict(X_validate)\n",
    "y_validate.shape, accuracy_score(y_validate, y_pred), precision_score(y_validate, y_pred)"
   ]
  },
  {
   "cell_type": "markdown",
   "id": "d154c42e",
   "metadata": {},
   "source": [
    "#### Compare LDA and QDA"
   ]
  },
  {
   "cell_type": "code",
   "execution_count": null,
   "id": "53b0a460",
   "metadata": {},
   "outputs": [],
   "source": [
    "lda_gscv.best_estimator_.predict(X_validate) == qda_gscv.best_estimator_.predict(X_validate)"
   ]
  },
  {
   "cell_type": "markdown",
   "id": "9023151e-ca9e-41be-afc1-ed802739ecdb",
   "metadata": {},
   "source": [
    "### Random Forest"
   ]
  },
  {
   "cell_type": "markdown",
   "id": "e2c46f24",
   "metadata": {},
   "source": [
    "#### Baseline"
   ]
  },
  {
   "cell_type": "code",
   "execution_count": null,
   "id": "d3df2521",
   "metadata": {},
   "outputs": [],
   "source": [
    "clf = RandomForestClassifier(max_depth=6, random_state=seed)\n",
    "\n",
    "clf.fit(X_train, y_train)"
   ]
  },
  {
   "cell_type": "code",
   "execution_count": null,
   "id": "64b89338",
   "metadata": {},
   "outputs": [],
   "source": [
    "clf.score(X_validate, y_validate)"
   ]
  },
  {
   "cell_type": "markdown",
   "id": "8d66aa25",
   "metadata": {},
   "source": [
    "#### GridSearchCV"
   ]
  },
  {
   "cell_type": "code",
   "execution_count": null,
   "id": "487fcaf8",
   "metadata": {},
   "outputs": [],
   "source": [
    "# best values, so we don't need to run excessive GridSearch again\n",
    "param_grid = {\n",
    "    'n_estimators': [300],\n",
    "    'max_depth': [None],\n",
    "    'min_samples_split': [10],\n",
    "    'min_samples_leaf': [4],\n",
    "    'max_features': ['sqrt'],\n",
    "    'bootstrap': [True],\n",
    "    'criterion': ['entropy']\n",
    "}\n",
    "\n",
    "# param_grid = {\n",
    "#     'n_estimators': [100, 200, 300, 400, 500],\n",
    "#     'max_depth': [None, 10, 20, 30, 40, 50],\n",
    "#     'min_samples_split': [2, 5, 10, 15, 20],\n",
    "#     'min_samples_leaf': [1, 2, 4, 6, 8, 10],\n",
    "#     'max_features': ['auto', 'sqrt', 'log2'],\n",
    "#     'bootstrap': [True, False],\n",
    "#     'criterion': ['gini', 'entropy']\n",
    "# }"
   ]
  },
  {
   "cell_type": "code",
   "execution_count": null,
   "id": "ec48b9d7",
   "metadata": {},
   "outputs": [],
   "source": [
    "rf = RandomForestClassifier(random_state=seed)\n",
    "cv = StratifiedKFold(n_splits=10)\n",
    "\n",
    "search_rf = GridSearchCV(\n",
    "    estimator=rf,\n",
    "    scoring=scoring,\n",
    "    param_grid=param_grid, \n",
    "    verbose=1,\n",
    "    cv=cv,\n",
    "    refit='Accuracy',\n",
    "    n_jobs=-1)\n",
    "\n",
    "search_rf.fit(X_train_test, y_train_test)\n",
    "search_rf.cv_results_['mean_test_Accuracy']"
   ]
  },
  {
   "cell_type": "code",
   "execution_count": null,
   "id": "d2d4cd4a",
   "metadata": {},
   "outputs": [],
   "source": [
    "search_rf.best_params_ , search_rf.best_estimator_"
   ]
  },
  {
   "cell_type": "code",
   "execution_count": null,
   "id": "119fbf15",
   "metadata": {},
   "outputs": [],
   "source": [
    "# Auswerten auf den validierungsdaten\n",
    "accuracy_score(y_validate, search_rf.best_estimator_.predict(X_validate))"
   ]
  },
  {
   "cell_type": "markdown",
   "id": "27e2a4f1-8dde-419a-96f6-ed631df72891",
   "metadata": {},
   "source": [
    "### KNeighborsClassifier"
   ]
  },
  {
   "cell_type": "markdown",
   "id": "c91fd58d",
   "metadata": {},
   "source": [
    "#### Baseline"
   ]
  },
  {
   "cell_type": "code",
   "execution_count": null,
   "id": "99aab9f4",
   "metadata": {},
   "outputs": [],
   "source": [
    "knn = KNeighborsClassifier()\n",
    "knn.fit(X_train, y_train)\n",
    "knn.score(X_validate, y_validate)"
   ]
  },
  {
   "cell_type": "markdown",
   "id": "b01d1f43",
   "metadata": {},
   "source": [
    "#### GridSearch"
   ]
  },
  {
   "cell_type": "code",
   "execution_count": null,
   "id": "e3f931da",
   "metadata": {},
   "outputs": [],
   "source": [
    "param_grid = [{'n_neighbors':[5, 10, 15], 'weights':['uniform', 'distance'], 'algorithm':['auto', 'ball_tree', 'kd_tree', 'brute'], 'p':[1, 2]}]\n"
   ]
  },
  {
   "cell_type": "code",
   "execution_count": null,
   "id": "b3c292b8",
   "metadata": {},
   "outputs": [],
   "source": [
    "neighbor = KNeighborsClassifier()\n",
    "cv = StratifiedKFold(n_splits=5)"
   ]
  },
  {
   "cell_type": "code",
   "execution_count": null,
   "id": "276c9ded",
   "metadata": {},
   "outputs": [],
   "source": [
    "search_knn = GridSearchCV(\n",
    "    estimator=neighbor,\n",
    "    scoring=scoring,\n",
    "    param_grid=param_grid, \n",
    "    verbose=1,\n",
    "    cv=cv,\n",
    "    refit='Accuracy',\n",
    "    n_jobs=-1)"
   ]
  },
  {
   "cell_type": "code",
   "execution_count": null,
   "id": "03173036",
   "metadata": {},
   "outputs": [],
   "source": [
    "search_knn.fit(X_train_test, y_train_test)"
   ]
  },
  {
   "cell_type": "code",
   "execution_count": null,
   "id": "e7d888c1",
   "metadata": {},
   "outputs": [],
   "source": [
    "search_knn.cv_results_['mean_test_Accuracy'], search_knn.cv_results_['mean_test_Precision']"
   ]
  },
  {
   "cell_type": "code",
   "execution_count": null,
   "id": "3a5e39a4",
   "metadata": {},
   "outputs": [],
   "source": [
    "search_knn.best_params_ , search_knn.best_estimator_"
   ]
  },
  {
   "cell_type": "code",
   "execution_count": null,
   "id": "14a3abad",
   "metadata": {},
   "outputs": [],
   "source": [
    "# Auswerten auf den validierungsdaten\n",
    "# accuracy_score(y_validate, search_knn.best_estimator_.predict(X_validate))"
   ]
  },
  {
   "cell_type": "markdown",
   "id": "251f7fb3-5e0f-4de0-9220-cf4667697f17",
   "metadata": {},
   "source": [
    "### "
   ]
  },
  {
   "cell_type": "markdown",
   "id": "58bb0f0f-6c9a-473a-aace-fa6076341e38",
   "metadata": {},
   "source": [
    "### Adaboost\n",
    "A ensemble method"
   ]
  },
  {
   "cell_type": "markdown",
   "id": "44d62231",
   "metadata": {},
   "source": [
    "#### Baseline"
   ]
  },
  {
   "cell_type": "code",
   "execution_count": null,
   "id": "6e5e3c29",
   "metadata": {},
   "outputs": [],
   "source": [
    "ada = AdaBoostClassifier(LinearDiscriminantAnalysis())\n",
    "ada_cv_result = cross_val_score(ada, X_preprocessed, y.values.ravel(), cv=10)"
   ]
  },
  {
   "cell_type": "markdown",
   "id": "e1e93efa",
   "metadata": {},
   "source": [
    "#### GridSearchCV"
   ]
  },
  {
   "cell_type": "code",
   "execution_count": null,
   "id": "dcd73133-09fd-4470-a462-bce97bc32c53",
   "metadata": {},
   "outputs": [],
   "source": [
    "\"\"\"\n",
    "Check if all these methods always categorize the same, or different samples wrong. If the later is the case, this would motivate using a ensemble method to balance strengths and weaknesses of different classifiers.\n",
    "\n",
    "Maybe building some ensemble method that combines a (gradient boosted) dewcicion tree for the categorical variables with something like SVM for the continuous data.\n",
    "\n",
    "This would obviate the need for target encoding of A6 and A7 and poosible better handle the many binary variables in the dataset. \n",
    "\"\"\";"
   ]
  },
  {
   "cell_type": "markdown",
   "id": "dd098c1f-b581-4e52-beca-f411dcf99e4d",
   "metadata": {},
   "source": [
    "## (Sequential Feature Selection)"
   ]
  },
  {
   "cell_type": "code",
   "execution_count": null,
   "id": "992442ba-e775-4fde-add4-dbbeb134d85b",
   "metadata": {},
   "outputs": [],
   "source": [
    "\"\"\"\n",
    "Further reduce dimensionality by SFS. This may give different results for different classifiers.\n",
    "\n",
    "Compare results of SFS to results of EDA\n",
    "\"\"\""
   ]
  },
  {
   "cell_type": "markdown",
   "id": "d46730dc-1550-4525-979a-37c40540ed27",
   "metadata": {},
   "source": [
    "## model comparison"
   ]
  },
  {
   "cell_type": "code",
   "execution_count": null,
   "id": "03e17dde",
   "metadata": {},
   "outputs": [],
   "source": [
    "\n",
    "print('Best RandomForestClassifier Accuracy:', accuracy_score(y_validate, search_rf.best_estimator_.predict(X_validate)))\n",
    "print('Best KNeighborsClassifier Accuracy:', accuracy_score(y_validate, search_knn.best_estimator_.predict(X_validate)))"
   ]
  },
  {
   "cell_type": "code",
   "execution_count": null,
   "id": "528d2308",
   "metadata": {},
   "outputs": [],
   "source": [
    "fig, (ax1, ax2, ax3) = plt.subplots(1, 3, figsize=(10, 4))\n",
    "\n",
    "RocCurveDisplay.from_estimator(search_rf.best_estimator_, X_preprocessed, y, ax=ax1)\n",
    "RocCurveDisplay.from_estimator(search_knn.best_estimator_, X_preprocessed, y, ax=ax1)\n",
    "ax1.set_title(\"ROC curve\")\n",
    "\n",
    "PrecisionRecallDisplay.from_estimator(search_rf.best_estimator_, X_preprocessed, y, ax=ax2)\n",
    "PrecisionRecallDisplay.from_estimator(search_knn.best_estimator_, X_preprocessed, y, ax=ax2)\n",
    "ax2.set_title(\"Precision-Recall curve\")\n",
    "\n"
   ]
  },
  {
   "cell_type": "code",
   "execution_count": null,
   "id": "b607cf7f",
   "metadata": {},
   "outputs": [],
   "source": [
    "y_num = np.where(y_validate == '+', 1, 0)"
   ]
  },
  {
   "cell_type": "code",
   "execution_count": null,
   "id": "98a326a7",
   "metadata": {},
   "outputs": [],
   "source": [
    "#DetCurveDisplay.from_predictions(y_validate, rf_best.predict)\n",
    "# Get prediction probabilities\n",
    "rf_best = search_rf.best_estimator_\n",
    "probabilities = rf_best.predict_proba(X_validate)\n",
    "print(\"Prediction Probabilities:\\n\", probabilities)"
   ]
  },
  {
   "cell_type": "code",
   "execution_count": null,
   "id": "c8eec04c",
   "metadata": {},
   "outputs": [],
   "source": [
    "\n",
    "# Get class predictions (optional)\n",
    "predictions = rf_best.predict(X_validate)\n",
    "print(\"Class Predictions:\\n\", predictions)\n"
   ]
  },
  {
   "cell_type": "code",
   "execution_count": null,
   "id": "58f917b7",
   "metadata": {},
   "outputs": [],
   "source": [
    "rf_best"
   ]
  },
  {
   "cell_type": "code",
   "execution_count": null,
   "id": "05f8daaf",
   "metadata": {},
   "outputs": [],
   "source": [
    "search_knn.best_estimator_"
   ]
  },
  {
   "cell_type": "code",
   "execution_count": null,
   "id": "1043a719",
   "metadata": {},
   "outputs": [],
   "source": [
    "fig, ax = plt.subplots()\n",
    "DetCurveDisplay.from_estimator(rf_best, X_train_test, y_train_test,ax=ax)\n",
    "DetCurveDisplay.from_estimator(search_knn.best_estimator_, X_train_test, y_train_test,ax=ax)"
   ]
  },
  {
   "cell_type": "code",
   "execution_count": null,
   "id": "f6fab6f7",
   "metadata": {},
   "outputs": [],
   "source": [
    "# Model evauation\n",
    "\n",
    "# Since classes are balanced, accuracy is the correct evaluation metric.\n",
    "\n",
    "# Plot ROC for different hyperparameters\n",
    "\n",
    "# above: plot full results of grid search to showcase effects of different hyperparameters"
   ]
  }
 ],
 "metadata": {
  "kernelspec": {
   "display_name": "Python 3 (ipykernel)",
   "language": "python",
   "name": "python3"
  },
  "language_info": {
   "codemirror_mode": {
    "name": "ipython",
    "version": 3
   },
   "file_extension": ".py",
   "mimetype": "text/x-python",
   "name": "python",
   "nbconvert_exporter": "python",
   "pygments_lexer": "ipython3",
   "version": "3.11.3"
  }
 },
 "nbformat": 4,
 "nbformat_minor": 5
}
