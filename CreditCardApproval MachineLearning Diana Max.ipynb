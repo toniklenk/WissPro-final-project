{
 "cells": [
  {
   "cell_type": "markdown",
   "id": "3e32a8c2-9497-47e2-b432-ee240cfbf865",
   "metadata": {},
   "source": [
    "# CreditCardApproval MachineLearning Diana Max"
   ]
  },
  {
   "cell_type": "markdown",
   "id": "497ff16c-180c-411a-8343-585f38792393",
   "metadata": {},
   "source": [
    "## Setup notebook & fetch data"
   ]
  },
  {
   "cell_type": "code",
   "execution_count": 459,
   "id": "06799917-827e-489c-852e-9d463b94f598",
   "metadata": {},
   "outputs": [],
   "source": [
    "from ucimlrepo import fetch_ucirepo\n",
    "import numpy as np\n",
    "import pandas as pd\n",
    "#import xgboost as xgb\n",
    "\n",
    "import seaborn as sns\n",
    "import matplotlib.pyplot as plt\n",
    "\n",
    "from sklearn.pipeline import make_pipeline\n",
    "from sklearn.impute import SimpleImputer\n",
    "from sklearn.preprocessing import OneHotEncoder, MinMaxScaler, FunctionTransformer, TargetEncoder, label_binarize\n",
    "from sklearn.metrics import (\n",
    "    auc, \n",
    "    accuracy_score, \n",
    "    confusion_matrix, \n",
    "    mean_squared_error, \n",
    "    make_scorer\n",
    ")\n",
    "\n",
    "from sklearn.model_selection import (\n",
    "    cross_val_score,\n",
    "    GridSearchCV, \n",
    "    KFold, \n",
    "    RandomizedSearchCV, \n",
    "    train_test_split, \n",
    "    StratifiedKFold, \n",
    "    cross_validate,\n",
    "    RepeatedStratifiedKFold\n",
    ")\n",
    "\n",
    "from sklearn.decomposition import PCA\n",
    "from sklearn.ensemble import RandomForestClassifier\n",
    "from sklearn.feature_selection import SequentialFeatureSelector\n",
    "from sklearn.base import clone\n",
    "from sklearn.compose import make_column_transformer\n",
    "from sklearn.linear_model import LogisticRegression\n",
    "from sklearn.svm import SVC\n",
    "from sklearn.neighbors import KNeighborsClassifier"
   ]
  },
  {
   "cell_type": "code",
   "execution_count": 460,
   "id": "23d7b926",
   "metadata": {},
   "outputs": [],
   "source": [
    "from sklearn.metrics import (\n",
    "    accuracy_score,\n",
    "    roc_curve,\n",
    "    roc_auc_score,\n",
    "    precision_recall_curve,\n",
    "    auc,\n",
    "    confusion_matrix,\n",
    "    classification_report,\n",
    "    RocCurveDisplay,\n",
    "    PrecisionRecallDisplay,\n",
    ")"
   ]
  },
  {
   "cell_type": "code",
   "execution_count": 461,
   "id": "73aebf83-7b28-42ef-a58e-8b79d29df51c",
   "metadata": {},
   "outputs": [],
   "source": [
    "credit_approval = fetch_ucirepo(id=27)\n",
    "\n",
    "X = credit_approval.data.features\n",
    "y = credit_approval.data.targets\n",
    "df = credit_approval.data.original"
   ]
  },
  {
   "cell_type": "markdown",
   "id": "fdeabffd-9971-45e1-848e-0dea4e7e10c9",
   "metadata": {},
   "source": [
    "## preprocessing"
   ]
  },
  {
   "cell_type": "code",
   "execution_count": 462,
   "id": "7c339378-ffc0-49ec-b896-ae5fe95039a9",
   "metadata": {},
   "outputs": [
    {
     "data": {
      "text/plain": [
       "'\\nMaybe add some more advanced techniques from here later: https://scikit-learn.org/stable/modules/preprocessing.html\\n\\n'"
      ]
     },
     "execution_count": 462,
     "metadata": {},
     "output_type": "execute_result"
    }
   ],
   "source": [
    "\"\"\"\n",
    "Maybe add some more advanced techniques from here later: https://scikit-learn.org/stable/modules/preprocessing.html\n",
    "\n",
    "\"\"\""
   ]
  },
  {
   "cell_type": "markdown",
   "id": "42d95c81-67e0-4ac0-849b-84ca3aafb3dd",
   "metadata": {
    "jp-MarkdownHeadingCollapsed": true
   },
   "source": [
    "### feature engineering: mixed numerical categorical feature space (this is old code, use fully numerical feature space for now)"
   ]
  },
  {
   "cell_type": "code",
   "execution_count": 463,
   "id": "f5bc8830-54a0-4154-8ce9-62b5d0610158",
   "metadata": {},
   "outputs": [
    {
     "data": {
      "text/html": [
       "<style>#sk-container-id-51 {color: black;}#sk-container-id-51 pre{padding: 0;}#sk-container-id-51 div.sk-toggleable {background-color: white;}#sk-container-id-51 label.sk-toggleable__label {cursor: pointer;display: block;width: 100%;margin-bottom: 0;padding: 0.3em;box-sizing: border-box;text-align: center;}#sk-container-id-51 label.sk-toggleable__label-arrow:before {content: \"▸\";float: left;margin-right: 0.25em;color: #696969;}#sk-container-id-51 label.sk-toggleable__label-arrow:hover:before {color: black;}#sk-container-id-51 div.sk-estimator:hover label.sk-toggleable__label-arrow:before {color: black;}#sk-container-id-51 div.sk-toggleable__content {max-height: 0;max-width: 0;overflow: hidden;text-align: left;background-color: #f0f8ff;}#sk-container-id-51 div.sk-toggleable__content pre {margin: 0.2em;color: black;border-radius: 0.25em;background-color: #f0f8ff;}#sk-container-id-51 input.sk-toggleable__control:checked~div.sk-toggleable__content {max-height: 200px;max-width: 100%;overflow: auto;}#sk-container-id-51 input.sk-toggleable__control:checked~label.sk-toggleable__label-arrow:before {content: \"▾\";}#sk-container-id-51 div.sk-estimator input.sk-toggleable__control:checked~label.sk-toggleable__label {background-color: #d4ebff;}#sk-container-id-51 div.sk-label input.sk-toggleable__control:checked~label.sk-toggleable__label {background-color: #d4ebff;}#sk-container-id-51 input.sk-hidden--visually {border: 0;clip: rect(1px 1px 1px 1px);clip: rect(1px, 1px, 1px, 1px);height: 1px;margin: -1px;overflow: hidden;padding: 0;position: absolute;width: 1px;}#sk-container-id-51 div.sk-estimator {font-family: monospace;background-color: #f0f8ff;border: 1px dotted black;border-radius: 0.25em;box-sizing: border-box;margin-bottom: 0.5em;}#sk-container-id-51 div.sk-estimator:hover {background-color: #d4ebff;}#sk-container-id-51 div.sk-parallel-item::after {content: \"\";width: 100%;border-bottom: 1px solid gray;flex-grow: 1;}#sk-container-id-51 div.sk-label:hover label.sk-toggleable__label {background-color: #d4ebff;}#sk-container-id-51 div.sk-serial::before {content: \"\";position: absolute;border-left: 1px solid gray;box-sizing: border-box;top: 0;bottom: 0;left: 50%;z-index: 0;}#sk-container-id-51 div.sk-serial {display: flex;flex-direction: column;align-items: center;background-color: white;padding-right: 0.2em;padding-left: 0.2em;position: relative;}#sk-container-id-51 div.sk-item {position: relative;z-index: 1;}#sk-container-id-51 div.sk-parallel {display: flex;align-items: stretch;justify-content: center;background-color: white;position: relative;}#sk-container-id-51 div.sk-item::before, #sk-container-id-51 div.sk-parallel-item::before {content: \"\";position: absolute;border-left: 1px solid gray;box-sizing: border-box;top: 0;bottom: 0;left: 50%;z-index: -1;}#sk-container-id-51 div.sk-parallel-item {display: flex;flex-direction: column;z-index: 1;position: relative;background-color: white;}#sk-container-id-51 div.sk-parallel-item:first-child::after {align-self: flex-end;width: 50%;}#sk-container-id-51 div.sk-parallel-item:last-child::after {align-self: flex-start;width: 50%;}#sk-container-id-51 div.sk-parallel-item:only-child::after {width: 0;}#sk-container-id-51 div.sk-dashed-wrapped {border: 1px dashed gray;margin: 0 0.4em 0.5em 0.4em;box-sizing: border-box;padding-bottom: 0.4em;background-color: white;}#sk-container-id-51 div.sk-label label {font-family: monospace;font-weight: bold;display: inline-block;line-height: 1.2em;}#sk-container-id-51 div.sk-label-container {text-align: center;}#sk-container-id-51 div.sk-container {/* jupyter's `normalize.less` sets `[hidden] { display: none; }` but bootstrap.min.css set `[hidden] { display: none !important; }` so we also need the `!important` here to be able to override the default hidden behavior on the sphinx rendered scikit-learn.org. See: https://github.com/scikit-learn/scikit-learn/issues/21755 */display: inline-block !important;position: relative;}#sk-container-id-51 div.sk-text-repr-fallback {display: none;}</style><div id=\"sk-container-id-51\" class=\"sk-top-container\"><div class=\"sk-text-repr-fallback\"><pre>ColumnTransformer(transformers=[(&#x27;pipeline-1&#x27;,\n",
       "                                 Pipeline(steps=[(&#x27;simpleimputer&#x27;,\n",
       "                                                  SimpleImputer(strategy=&#x27;most_frequent&#x27;)),\n",
       "                                                 (&#x27;onehotencoder&#x27;,\n",
       "                                                  OneHotEncoder(drop=&#x27;first&#x27;))]),\n",
       "                                 [&#x27;A1&#x27;]),\n",
       "                                (&#x27;pipeline-2&#x27;,\n",
       "                                 Pipeline(steps=[(&#x27;simpleimputer&#x27;,\n",
       "                                                  SimpleImputer(strategy=&#x27;median&#x27;)),\n",
       "                                                 (&#x27;minmaxscaler&#x27;,\n",
       "                                                  MinMaxScaler())]),\n",
       "                                 [&#x27;A2&#x27;]),\n",
       "                                (&#x27;pipeline-3&#x27;,\n",
       "                                 Pipeline(steps=[(&#x27;functiontransformer...\n",
       "                                (&#x27;test&#x27;, &#x27;test&#x27;,\n",
       "                                 Pipeline(steps=[(&#x27;functiontransformer&#x27;,\n",
       "                                                  FunctionTransformer(func=&lt;ufunc &#x27;log1p&#x27;&gt;)),\n",
       "                                                 (&#x27;simpleimputer&#x27;,\n",
       "                                                  SimpleImputer(strategy=&#x27;median&#x27;)),\n",
       "                                                 (&#x27;minmaxscaler&#x27;,\n",
       "                                                  MinMaxScaler())])),\n",
       "                                (&#x27;pipeline-6&#x27;,\n",
       "                                 Pipeline(steps=[(&#x27;minmaxscaler&#x27;,\n",
       "                                                  MinMaxScaler())]),\n",
       "                                 [&#x27;A3&#x27;, &#x27;A8&#x27;]),\n",
       "                                (&#x27;pipeline-7&#x27;,\n",
       "                                 Pipeline(steps=[(&#x27;onehotencoder&#x27;,\n",
       "                                                  OneHotEncoder(drop=&#x27;first&#x27;))]),\n",
       "                                 [&#x27;A9&#x27;, &#x27;A10&#x27;, &#x27;A12&#x27;])])</pre><b>In a Jupyter environment, please rerun this cell to show the HTML representation or trust the notebook. <br />On GitHub, the HTML representation is unable to render, please try loading this page with nbviewer.org.</b></div><div class=\"sk-container\" hidden><div class=\"sk-item sk-dashed-wrapped\"><div class=\"sk-label-container\"><div class=\"sk-label sk-toggleable\"><input class=\"sk-toggleable__control sk-hidden--visually\" id=\"sk-estimator-id-410\" type=\"checkbox\" ><label for=\"sk-estimator-id-410\" class=\"sk-toggleable__label sk-toggleable__label-arrow\">ColumnTransformer</label><div class=\"sk-toggleable__content\"><pre>ColumnTransformer(transformers=[(&#x27;pipeline-1&#x27;,\n",
       "                                 Pipeline(steps=[(&#x27;simpleimputer&#x27;,\n",
       "                                                  SimpleImputer(strategy=&#x27;most_frequent&#x27;)),\n",
       "                                                 (&#x27;onehotencoder&#x27;,\n",
       "                                                  OneHotEncoder(drop=&#x27;first&#x27;))]),\n",
       "                                 [&#x27;A1&#x27;]),\n",
       "                                (&#x27;pipeline-2&#x27;,\n",
       "                                 Pipeline(steps=[(&#x27;simpleimputer&#x27;,\n",
       "                                                  SimpleImputer(strategy=&#x27;median&#x27;)),\n",
       "                                                 (&#x27;minmaxscaler&#x27;,\n",
       "                                                  MinMaxScaler())]),\n",
       "                                 [&#x27;A2&#x27;]),\n",
       "                                (&#x27;pipeline-3&#x27;,\n",
       "                                 Pipeline(steps=[(&#x27;functiontransformer...\n",
       "                                (&#x27;test&#x27;, &#x27;test&#x27;,\n",
       "                                 Pipeline(steps=[(&#x27;functiontransformer&#x27;,\n",
       "                                                  FunctionTransformer(func=&lt;ufunc &#x27;log1p&#x27;&gt;)),\n",
       "                                                 (&#x27;simpleimputer&#x27;,\n",
       "                                                  SimpleImputer(strategy=&#x27;median&#x27;)),\n",
       "                                                 (&#x27;minmaxscaler&#x27;,\n",
       "                                                  MinMaxScaler())])),\n",
       "                                (&#x27;pipeline-6&#x27;,\n",
       "                                 Pipeline(steps=[(&#x27;minmaxscaler&#x27;,\n",
       "                                                  MinMaxScaler())]),\n",
       "                                 [&#x27;A3&#x27;, &#x27;A8&#x27;]),\n",
       "                                (&#x27;pipeline-7&#x27;,\n",
       "                                 Pipeline(steps=[(&#x27;onehotencoder&#x27;,\n",
       "                                                  OneHotEncoder(drop=&#x27;first&#x27;))]),\n",
       "                                 [&#x27;A9&#x27;, &#x27;A10&#x27;, &#x27;A12&#x27;])])</pre></div></div></div><div class=\"sk-parallel\"><div class=\"sk-parallel-item\"><div class=\"sk-item\"><div class=\"sk-label-container\"><div class=\"sk-label sk-toggleable\"><input class=\"sk-toggleable__control sk-hidden--visually\" id=\"sk-estimator-id-411\" type=\"checkbox\" ><label for=\"sk-estimator-id-411\" class=\"sk-toggleable__label sk-toggleable__label-arrow\">pipeline-1</label><div class=\"sk-toggleable__content\"><pre>[&#x27;A1&#x27;]</pre></div></div></div><div class=\"sk-serial\"><div class=\"sk-item\"><div class=\"sk-serial\"><div class=\"sk-item\"><div class=\"sk-estimator sk-toggleable\"><input class=\"sk-toggleable__control sk-hidden--visually\" id=\"sk-estimator-id-412\" type=\"checkbox\" ><label for=\"sk-estimator-id-412\" class=\"sk-toggleable__label sk-toggleable__label-arrow\">SimpleImputer</label><div class=\"sk-toggleable__content\"><pre>SimpleImputer(strategy=&#x27;most_frequent&#x27;)</pre></div></div></div><div class=\"sk-item\"><div class=\"sk-estimator sk-toggleable\"><input class=\"sk-toggleable__control sk-hidden--visually\" id=\"sk-estimator-id-413\" type=\"checkbox\" ><label for=\"sk-estimator-id-413\" class=\"sk-toggleable__label sk-toggleable__label-arrow\">OneHotEncoder</label><div class=\"sk-toggleable__content\"><pre>OneHotEncoder(drop=&#x27;first&#x27;)</pre></div></div></div></div></div></div></div></div><div class=\"sk-parallel-item\"><div class=\"sk-item\"><div class=\"sk-label-container\"><div class=\"sk-label sk-toggleable\"><input class=\"sk-toggleable__control sk-hidden--visually\" id=\"sk-estimator-id-414\" type=\"checkbox\" ><label for=\"sk-estimator-id-414\" class=\"sk-toggleable__label sk-toggleable__label-arrow\">pipeline-2</label><div class=\"sk-toggleable__content\"><pre>[&#x27;A2&#x27;]</pre></div></div></div><div class=\"sk-serial\"><div class=\"sk-item\"><div class=\"sk-serial\"><div class=\"sk-item\"><div class=\"sk-estimator sk-toggleable\"><input class=\"sk-toggleable__control sk-hidden--visually\" id=\"sk-estimator-id-415\" type=\"checkbox\" ><label for=\"sk-estimator-id-415\" class=\"sk-toggleable__label sk-toggleable__label-arrow\">SimpleImputer</label><div class=\"sk-toggleable__content\"><pre>SimpleImputer(strategy=&#x27;median&#x27;)</pre></div></div></div><div class=\"sk-item\"><div class=\"sk-estimator sk-toggleable\"><input class=\"sk-toggleable__control sk-hidden--visually\" id=\"sk-estimator-id-416\" type=\"checkbox\" ><label for=\"sk-estimator-id-416\" class=\"sk-toggleable__label sk-toggleable__label-arrow\">MinMaxScaler</label><div class=\"sk-toggleable__content\"><pre>MinMaxScaler()</pre></div></div></div></div></div></div></div></div><div class=\"sk-parallel-item\"><div class=\"sk-item\"><div class=\"sk-label-container\"><div class=\"sk-label sk-toggleable\"><input class=\"sk-toggleable__control sk-hidden--visually\" id=\"sk-estimator-id-417\" type=\"checkbox\" ><label for=\"sk-estimator-id-417\" class=\"sk-toggleable__label sk-toggleable__label-arrow\">pipeline-3</label><div class=\"sk-toggleable__content\"><pre>[&#x27;A4&#x27;]</pre></div></div></div><div class=\"sk-serial\"><div class=\"sk-item\"><div class=\"sk-serial\"><div class=\"sk-item\"><div class=\"sk-estimator sk-toggleable\"><input class=\"sk-toggleable__control sk-hidden--visually\" id=\"sk-estimator-id-418\" type=\"checkbox\" ><label for=\"sk-estimator-id-418\" class=\"sk-toggleable__label sk-toggleable__label-arrow\">FunctionTransformer</label><div class=\"sk-toggleable__content\"><pre>FunctionTransformer(func=&lt;function &lt;lambda&gt; at 0x000001DA5B7FFE20&gt;)</pre></div></div></div><div class=\"sk-item\"><div class=\"sk-estimator sk-toggleable\"><input class=\"sk-toggleable__control sk-hidden--visually\" id=\"sk-estimator-id-419\" type=\"checkbox\" ><label for=\"sk-estimator-id-419\" class=\"sk-toggleable__label sk-toggleable__label-arrow\">SimpleImputer</label><div class=\"sk-toggleable__content\"><pre>SimpleImputer(strategy=&#x27;most_frequent&#x27;)</pre></div></div></div><div class=\"sk-item\"><div class=\"sk-estimator sk-toggleable\"><input class=\"sk-toggleable__control sk-hidden--visually\" id=\"sk-estimator-id-420\" type=\"checkbox\" ><label for=\"sk-estimator-id-420\" class=\"sk-toggleable__label sk-toggleable__label-arrow\">OneHotEncoder</label><div class=\"sk-toggleable__content\"><pre>OneHotEncoder(drop=&#x27;first&#x27;)</pre></div></div></div></div></div></div></div></div><div class=\"sk-parallel-item\"><div class=\"sk-item\"><div class=\"sk-label-container\"><div class=\"sk-label sk-toggleable\"><input class=\"sk-toggleable__control sk-hidden--visually\" id=\"sk-estimator-id-421\" type=\"checkbox\" ><label for=\"sk-estimator-id-421\" class=\"sk-toggleable__label sk-toggleable__label-arrow\">pipeline-4</label><div class=\"sk-toggleable__content\"><pre>[&#x27;A7&#x27;]</pre></div></div></div><div class=\"sk-serial\"><div class=\"sk-item\"><div class=\"sk-serial\"><div class=\"sk-item\"><div class=\"sk-estimator sk-toggleable\"><input class=\"sk-toggleable__control sk-hidden--visually\" id=\"sk-estimator-id-422\" type=\"checkbox\" ><label for=\"sk-estimator-id-422\" class=\"sk-toggleable__label sk-toggleable__label-arrow\">FunctionTransformer</label><div class=\"sk-toggleable__content\"><pre>FunctionTransformer(func=&lt;function &lt;lambda&gt; at 0x000001DA5B8E3C40&gt;)</pre></div></div></div><div class=\"sk-item\"><div class=\"sk-estimator sk-toggleable\"><input class=\"sk-toggleable__control sk-hidden--visually\" id=\"sk-estimator-id-423\" type=\"checkbox\" ><label for=\"sk-estimator-id-423\" class=\"sk-toggleable__label sk-toggleable__label-arrow\">SimpleImputer</label><div class=\"sk-toggleable__content\"><pre>SimpleImputer(strategy=&#x27;most_frequent&#x27;)</pre></div></div></div><div class=\"sk-item\"><div class=\"sk-estimator sk-toggleable\"><input class=\"sk-toggleable__control sk-hidden--visually\" id=\"sk-estimator-id-424\" type=\"checkbox\" ><label for=\"sk-estimator-id-424\" class=\"sk-toggleable__label sk-toggleable__label-arrow\">OneHotEncoder</label><div class=\"sk-toggleable__content\"><pre>OneHotEncoder(drop=&#x27;first&#x27;)</pre></div></div></div></div></div></div></div></div><div class=\"sk-parallel-item\"><div class=\"sk-item\"><div class=\"sk-label-container\"><div class=\"sk-label sk-toggleable\"><input class=\"sk-toggleable__control sk-hidden--visually\" id=\"sk-estimator-id-425\" type=\"checkbox\" ><label for=\"sk-estimator-id-425\" class=\"sk-toggleable__label sk-toggleable__label-arrow\">pipeline-5</label><div class=\"sk-toggleable__content\"><pre>[&#x27;A13&#x27;]</pre></div></div></div><div class=\"sk-serial\"><div class=\"sk-item\"><div class=\"sk-serial\"><div class=\"sk-item\"><div class=\"sk-estimator sk-toggleable\"><input class=\"sk-toggleable__control sk-hidden--visually\" id=\"sk-estimator-id-426\" type=\"checkbox\" ><label for=\"sk-estimator-id-426\" class=\"sk-toggleable__label sk-toggleable__label-arrow\">FunctionTransformer</label><div class=\"sk-toggleable__content\"><pre>FunctionTransformer(func=&lt;function &lt;lambda&gt; at 0x000001DA5B8E3A60&gt;)</pre></div></div></div><div class=\"sk-item\"><div class=\"sk-estimator sk-toggleable\"><input class=\"sk-toggleable__control sk-hidden--visually\" id=\"sk-estimator-id-427\" type=\"checkbox\" ><label for=\"sk-estimator-id-427\" class=\"sk-toggleable__label sk-toggleable__label-arrow\">SimpleImputer</label><div class=\"sk-toggleable__content\"><pre>SimpleImputer(strategy=&#x27;most_frequent&#x27;)</pre></div></div></div><div class=\"sk-item\"><div class=\"sk-estimator sk-toggleable\"><input class=\"sk-toggleable__control sk-hidden--visually\" id=\"sk-estimator-id-428\" type=\"checkbox\" ><label for=\"sk-estimator-id-428\" class=\"sk-toggleable__label sk-toggleable__label-arrow\">OneHotEncoder</label><div class=\"sk-toggleable__content\"><pre>OneHotEncoder(drop=&#x27;first&#x27;)</pre></div></div></div></div></div></div></div></div><div class=\"sk-parallel-item\"><div class=\"sk-item\"><div class=\"sk-label-container\"><div class=\"sk-label sk-toggleable\"><input class=\"sk-toggleable__control sk-hidden--visually\" id=\"sk-estimator-id-429\" type=\"checkbox\" ><label for=\"sk-estimator-id-429\" class=\"sk-toggleable__label sk-toggleable__label-arrow\">test</label><div class=\"sk-toggleable__content\"><pre>Pipeline(steps=[(&#x27;functiontransformer&#x27;,\n",
       "                 FunctionTransformer(func=&lt;ufunc &#x27;log1p&#x27;&gt;)),\n",
       "                (&#x27;simpleimputer&#x27;, SimpleImputer(strategy=&#x27;median&#x27;)),\n",
       "                (&#x27;minmaxscaler&#x27;, MinMaxScaler())])</pre></div></div></div><div class=\"sk-serial\"><div class=\"sk-item\"><div class=\"sk-estimator sk-toggleable\"><input class=\"sk-toggleable__control sk-hidden--visually\" id=\"sk-estimator-id-430\" type=\"checkbox\" ><label for=\"sk-estimator-id-430\" class=\"sk-toggleable__label sk-toggleable__label-arrow\">test</label><div class=\"sk-toggleable__content\"><pre>test</pre></div></div></div></div></div></div><div class=\"sk-parallel-item\"><div class=\"sk-item\"><div class=\"sk-label-container\"><div class=\"sk-label sk-toggleable\"><input class=\"sk-toggleable__control sk-hidden--visually\" id=\"sk-estimator-id-431\" type=\"checkbox\" ><label for=\"sk-estimator-id-431\" class=\"sk-toggleable__label sk-toggleable__label-arrow\">pipeline-6</label><div class=\"sk-toggleable__content\"><pre>[&#x27;A3&#x27;, &#x27;A8&#x27;]</pre></div></div></div><div class=\"sk-serial\"><div class=\"sk-item\"><div class=\"sk-serial\"><div class=\"sk-item\"><div class=\"sk-estimator sk-toggleable\"><input class=\"sk-toggleable__control sk-hidden--visually\" id=\"sk-estimator-id-432\" type=\"checkbox\" ><label for=\"sk-estimator-id-432\" class=\"sk-toggleable__label sk-toggleable__label-arrow\">MinMaxScaler</label><div class=\"sk-toggleable__content\"><pre>MinMaxScaler()</pre></div></div></div></div></div></div></div></div><div class=\"sk-parallel-item\"><div class=\"sk-item\"><div class=\"sk-label-container\"><div class=\"sk-label sk-toggleable\"><input class=\"sk-toggleable__control sk-hidden--visually\" id=\"sk-estimator-id-433\" type=\"checkbox\" ><label for=\"sk-estimator-id-433\" class=\"sk-toggleable__label sk-toggleable__label-arrow\">pipeline-7</label><div class=\"sk-toggleable__content\"><pre>[&#x27;A9&#x27;, &#x27;A10&#x27;, &#x27;A12&#x27;]</pre></div></div></div><div class=\"sk-serial\"><div class=\"sk-item\"><div class=\"sk-serial\"><div class=\"sk-item\"><div class=\"sk-estimator sk-toggleable\"><input class=\"sk-toggleable__control sk-hidden--visually\" id=\"sk-estimator-id-434\" type=\"checkbox\" ><label for=\"sk-estimator-id-434\" class=\"sk-toggleable__label sk-toggleable__label-arrow\">OneHotEncoder</label><div class=\"sk-toggleable__content\"><pre>OneHotEncoder(drop=&#x27;first&#x27;)</pre></div></div></div></div></div></div></div></div></div></div></div></div>"
      ],
      "text/plain": [
       "ColumnTransformer(transformers=[('pipeline-1',\n",
       "                                 Pipeline(steps=[('simpleimputer',\n",
       "                                                  SimpleImputer(strategy='most_frequent')),\n",
       "                                                 ('onehotencoder',\n",
       "                                                  OneHotEncoder(drop='first'))]),\n",
       "                                 ['A1']),\n",
       "                                ('pipeline-2',\n",
       "                                 Pipeline(steps=[('simpleimputer',\n",
       "                                                  SimpleImputer(strategy='median')),\n",
       "                                                 ('minmaxscaler',\n",
       "                                                  MinMaxScaler())]),\n",
       "                                 ['A2']),\n",
       "                                ('pipeline-3',\n",
       "                                 Pipeline(steps=[('functiontransformer...\n",
       "                                ('test', 'test',\n",
       "                                 Pipeline(steps=[('functiontransformer',\n",
       "                                                  FunctionTransformer(func=<ufunc 'log1p'>)),\n",
       "                                                 ('simpleimputer',\n",
       "                                                  SimpleImputer(strategy='median')),\n",
       "                                                 ('minmaxscaler',\n",
       "                                                  MinMaxScaler())])),\n",
       "                                ('pipeline-6',\n",
       "                                 Pipeline(steps=[('minmaxscaler',\n",
       "                                                  MinMaxScaler())]),\n",
       "                                 ['A3', 'A8']),\n",
       "                                ('pipeline-7',\n",
       "                                 Pipeline(steps=[('onehotencoder',\n",
       "                                                  OneHotEncoder(drop='first'))]),\n",
       "                                 ['A9', 'A10', 'A12'])])"
      ]
     },
     "execution_count": 463,
     "metadata": {},
     "output_type": "execute_result"
    }
   ],
   "source": [
    "make_column_transformer(\n",
    "    (\n",
    "        make_pipeline(\n",
    "            SimpleImputer(strategy='most_frequent'),\n",
    "            OneHotEncoder(drop='first')\n",
    "        ),\n",
    "        ['A1']\n",
    "        \n",
    "    ),\n",
    "    (\n",
    "        make_pipeline(\n",
    "            SimpleImputer(strategy='median'),\n",
    "            MinMaxScaler()\n",
    "        ),\n",
    "        ['A2']\n",
    "    ),\n",
    "    (\n",
    "        make_pipeline(\n",
    "            FunctionTransformer(lambda col: col.mask(col != 'u', 'non-u')),\n",
    "            SimpleImputer(strategy='most_frequent'),\n",
    "            OneHotEncoder(drop='first')\n",
    "           ),\n",
    "        ['A4']\n",
    "    ),\n",
    "    (\n",
    "        make_pipeline(\n",
    "            FunctionTransformer(lambda col: col.replace({'v':'v', 'h':'h','bb':'other','ff':'other','j':'other','z':'other','dd':'other','n':'other','o':'other'})),\n",
    "            SimpleImputer(strategy='most_frequent'),\n",
    "            OneHotEncoder(drop='first')\n",
    "        ),\n",
    "        ['A7']\n",
    "    ),\n",
    "    (\n",
    "        make_pipeline(\n",
    "            FunctionTransformer(lambda col: col.replace({'g':'g', 's':'non-g','p':'non-g'})),\n",
    "            SimpleImputer(strategy='most_frequent'),\n",
    "            OneHotEncoder(drop='first')\n",
    "        ),\n",
    "        ['A13']\n",
    "    ),\n",
    "    (\n",
    "        'test',\n",
    "        make_pipeline(\n",
    "            FunctionTransformer(np.log1p),\n",
    "            SimpleImputer(strategy='median'),\n",
    "            MinMaxScaler()\n",
    "        ),\n",
    "        ['A11','A14','A15']\n",
    "    ),\n",
    "    # continuous default\n",
    "    (\n",
    "        make_pipeline(\n",
    "            MinMaxScaler(),\n",
    "        ),\n",
    "        ['A3','A8']\n",
    "    ),\n",
    "    # categorical default\n",
    "    (\n",
    "        make_pipeline(\n",
    "            OneHotEncoder(drop='first'),\n",
    "        ),\n",
    "        ['A9','A10', 'A12']\n",
    "    ),\n",
    "    \n",
    "    # remove: A5, A6\n",
    "    remainder='drop'\n",
    ")"
   ]
  },
  {
   "cell_type": "markdown",
   "id": "6060d907-a4f9-430f-a653-50460ce0fa85",
   "metadata": {},
   "source": [
    "### feature engineering: fully numerical feature space"
   ]
  },
  {
   "cell_type": "markdown",
   "id": "bd886ae7-87c5-4abf-b044-cd8d402286e7",
   "metadata": {},
   "source": [
    "#### variant 1: include A7"
   ]
  },
  {
   "cell_type": "code",
   "execution_count": 464,
   "id": "4cd77624-5f2f-4c45-b370-b1fb543bd146",
   "metadata": {},
   "outputs": [],
   "source": [
    "column_tweaker_include_a7 = make_column_transformer(\n",
    "    (\n",
    "        make_pipeline(\n",
    "            SimpleImputer(strategy='most_frequent'),\n",
    "            OneHotEncoder(sparse_output=False, drop='first')\n",
    "        ),\n",
    "        ['A1','A9','A10','A12']\n",
    "    ),\n",
    "    (\n",
    "        make_pipeline(\n",
    "            SimpleImputer(strategy='most_frequent'),\n",
    "            FunctionTransformer(lambda col: label_binarize(col, classes=['u']))\n",
    "        ),\n",
    "        ['A4']\n",
    "    ),\n",
    "    (\n",
    "        make_pipeline(\n",
    "            SimpleImputer(strategy='most_frequent'),\n",
    "            FunctionTransformer(lambda col: label_binarize(col, classes=['g']))\n",
    "        ),\n",
    "        ['A5']\n",
    "    ),\n",
    "    (\n",
    "        make_pipeline(\n",
    "            TargetEncoder(),\n",
    "            SimpleImputer(strategy='median')\n",
    "        ),\n",
    "        ['A6', 'A7']\n",
    "    ),\n",
    "    (\n",
    "        make_pipeline(\n",
    "            SimpleImputer(strategy='most_frequent'),\n",
    "            FunctionTransformer(lambda col: label_binarize(col, classes=['g']))\n",
    "        ),\n",
    "        ['A13']\n",
    "    ),\n",
    "    (\n",
    "        make_pipeline(\n",
    "            FunctionTransformer(np.log1p),\n",
    "            SimpleImputer(strategy='median')\n",
    "        ),\n",
    "        ['A2','A3','A8','A11','A14','A15']\n",
    "    ),\n",
    "\n",
    "    # leave everything else untouched\n",
    "    remainder='drop'\n",
    ")"
   ]
  },
  {
   "cell_type": "markdown",
   "id": "b5c4511e-a7e1-4c00-b176-4917dad40113",
   "metadata": {},
   "source": [
    "#### variant 2: exclude A7"
   ]
  },
  {
   "cell_type": "code",
   "execution_count": 465,
   "id": "8cd20158-21e8-4065-8fec-3459e3fba9d1",
   "metadata": {},
   "outputs": [],
   "source": [
    "column_tweaker_exclude_a7 = make_column_transformer(\n",
    "    (\n",
    "        make_pipeline(\n",
    "            SimpleImputer(strategy='most_frequent'),\n",
    "            OneHotEncoder(sparse_output=False, drop='first')\n",
    "        ),\n",
    "        ['A1','A9','A10','A12']\n",
    "    ),\n",
    "    (\n",
    "        make_pipeline(\n",
    "            SimpleImputer(strategy='most_frequent'),\n",
    "            FunctionTransformer(lambda col: label_binarize(col, classes=['u']))\n",
    "        ),\n",
    "        ['A4']\n",
    "    ),\n",
    "    (\n",
    "        make_pipeline(\n",
    "            SimpleImputer(strategy='most_frequent'),\n",
    "            FunctionTransformer(lambda col: label_binarize(col, classes=['g']))\n",
    "        ),\n",
    "        ['A5']\n",
    "    ),\n",
    "    (\n",
    "        make_pipeline(\n",
    "            TargetEncoder(),\n",
    "            SimpleImputer(strategy='median')\n",
    "        ),\n",
    "        ['A6']\n",
    "    ),\n",
    "    (\n",
    "        make_pipeline(\n",
    "            SimpleImputer(strategy='most_frequent'),\n",
    "            FunctionTransformer(lambda col: label_binarize(col, classes=['g']))\n",
    "        ),\n",
    "        ['A13']\n",
    "    ),\n",
    "    (\n",
    "        make_pipeline(\n",
    "            FunctionTransformer(np.log1p),\n",
    "            SimpleImputer(strategy='median')\n",
    "        ),\n",
    "        ['A2','A3','A8','A11','A14','A15']\n",
    "    ),\n",
    "\n",
    "    # leave everything else untouched\n",
    "    remainder='drop'\n",
    ")"
   ]
  },
  {
   "cell_type": "markdown",
   "id": "de5f3c3e-b374-454b-9d3d-000a1efc0c8b",
   "metadata": {},
   "source": [
    "### feature scaling"
   ]
  },
  {
   "cell_type": "code",
   "execution_count": 466,
   "id": "b799bcf8-0695-4c2f-8192-cd499c11260c",
   "metadata": {},
   "outputs": [],
   "source": [
    "column_scaler = MinMaxScaler()"
   ]
  },
  {
   "cell_type": "markdown",
   "id": "f8e38b62-218e-484f-9da2-f3c15fc26e47",
   "metadata": {},
   "source": [
    "### PCA"
   ]
  },
  {
   "cell_type": "code",
   "execution_count": 467,
   "id": "bfcea5af-53eb-4a15-a3ad-8dabd3b5db30",
   "metadata": {},
   "outputs": [],
   "source": [
    "column_pca = PCA(n_components=.99, svd_solver='full')"
   ]
  },
  {
   "cell_type": "markdown",
   "id": "a7b6ec2c-94cc-4f2c-9e90-ebe24bdc3b74",
   "metadata": {},
   "source": [
    "### put together pipelines"
   ]
  },
  {
   "cell_type": "markdown",
   "id": "102041fb-48a7-4961-817c-1f0aee3105a8",
   "metadata": {},
   "source": [
    "#### feature engineering pipeline 1"
   ]
  },
  {
   "cell_type": "code",
   "execution_count": 468,
   "id": "90f55276-f482-4af9-8f91-30017b31ed10",
   "metadata": {},
   "outputs": [
    {
     "data": {
      "text/html": [
       "<style>#sk-container-id-52 {color: black;}#sk-container-id-52 pre{padding: 0;}#sk-container-id-52 div.sk-toggleable {background-color: white;}#sk-container-id-52 label.sk-toggleable__label {cursor: pointer;display: block;width: 100%;margin-bottom: 0;padding: 0.3em;box-sizing: border-box;text-align: center;}#sk-container-id-52 label.sk-toggleable__label-arrow:before {content: \"▸\";float: left;margin-right: 0.25em;color: #696969;}#sk-container-id-52 label.sk-toggleable__label-arrow:hover:before {color: black;}#sk-container-id-52 div.sk-estimator:hover label.sk-toggleable__label-arrow:before {color: black;}#sk-container-id-52 div.sk-toggleable__content {max-height: 0;max-width: 0;overflow: hidden;text-align: left;background-color: #f0f8ff;}#sk-container-id-52 div.sk-toggleable__content pre {margin: 0.2em;color: black;border-radius: 0.25em;background-color: #f0f8ff;}#sk-container-id-52 input.sk-toggleable__control:checked~div.sk-toggleable__content {max-height: 200px;max-width: 100%;overflow: auto;}#sk-container-id-52 input.sk-toggleable__control:checked~label.sk-toggleable__label-arrow:before {content: \"▾\";}#sk-container-id-52 div.sk-estimator input.sk-toggleable__control:checked~label.sk-toggleable__label {background-color: #d4ebff;}#sk-container-id-52 div.sk-label input.sk-toggleable__control:checked~label.sk-toggleable__label {background-color: #d4ebff;}#sk-container-id-52 input.sk-hidden--visually {border: 0;clip: rect(1px 1px 1px 1px);clip: rect(1px, 1px, 1px, 1px);height: 1px;margin: -1px;overflow: hidden;padding: 0;position: absolute;width: 1px;}#sk-container-id-52 div.sk-estimator {font-family: monospace;background-color: #f0f8ff;border: 1px dotted black;border-radius: 0.25em;box-sizing: border-box;margin-bottom: 0.5em;}#sk-container-id-52 div.sk-estimator:hover {background-color: #d4ebff;}#sk-container-id-52 div.sk-parallel-item::after {content: \"\";width: 100%;border-bottom: 1px solid gray;flex-grow: 1;}#sk-container-id-52 div.sk-label:hover label.sk-toggleable__label {background-color: #d4ebff;}#sk-container-id-52 div.sk-serial::before {content: \"\";position: absolute;border-left: 1px solid gray;box-sizing: border-box;top: 0;bottom: 0;left: 50%;z-index: 0;}#sk-container-id-52 div.sk-serial {display: flex;flex-direction: column;align-items: center;background-color: white;padding-right: 0.2em;padding-left: 0.2em;position: relative;}#sk-container-id-52 div.sk-item {position: relative;z-index: 1;}#sk-container-id-52 div.sk-parallel {display: flex;align-items: stretch;justify-content: center;background-color: white;position: relative;}#sk-container-id-52 div.sk-item::before, #sk-container-id-52 div.sk-parallel-item::before {content: \"\";position: absolute;border-left: 1px solid gray;box-sizing: border-box;top: 0;bottom: 0;left: 50%;z-index: -1;}#sk-container-id-52 div.sk-parallel-item {display: flex;flex-direction: column;z-index: 1;position: relative;background-color: white;}#sk-container-id-52 div.sk-parallel-item:first-child::after {align-self: flex-end;width: 50%;}#sk-container-id-52 div.sk-parallel-item:last-child::after {align-self: flex-start;width: 50%;}#sk-container-id-52 div.sk-parallel-item:only-child::after {width: 0;}#sk-container-id-52 div.sk-dashed-wrapped {border: 1px dashed gray;margin: 0 0.4em 0.5em 0.4em;box-sizing: border-box;padding-bottom: 0.4em;background-color: white;}#sk-container-id-52 div.sk-label label {font-family: monospace;font-weight: bold;display: inline-block;line-height: 1.2em;}#sk-container-id-52 div.sk-label-container {text-align: center;}#sk-container-id-52 div.sk-container {/* jupyter's `normalize.less` sets `[hidden] { display: none; }` but bootstrap.min.css set `[hidden] { display: none !important; }` so we also need the `!important` here to be able to override the default hidden behavior on the sphinx rendered scikit-learn.org. See: https://github.com/scikit-learn/scikit-learn/issues/21755 */display: inline-block !important;position: relative;}#sk-container-id-52 div.sk-text-repr-fallback {display: none;}</style><div id=\"sk-container-id-52\" class=\"sk-top-container\"><div class=\"sk-text-repr-fallback\"><pre>Pipeline(steps=[(&#x27;columntransformer&#x27;,\n",
       "                 ColumnTransformer(transformers=[(&#x27;pipeline-1&#x27;,\n",
       "                                                  Pipeline(steps=[(&#x27;simpleimputer&#x27;,\n",
       "                                                                   SimpleImputer(strategy=&#x27;most_frequent&#x27;)),\n",
       "                                                                  (&#x27;onehotencoder&#x27;,\n",
       "                                                                   OneHotEncoder(drop=&#x27;first&#x27;,\n",
       "                                                                                 sparse_output=False))]),\n",
       "                                                  [&#x27;A1&#x27;, &#x27;A9&#x27;, &#x27;A10&#x27;, &#x27;A12&#x27;]),\n",
       "                                                 (&#x27;pipeline-2&#x27;,\n",
       "                                                  Pipeline(steps=[(&#x27;simpleimputer&#x27;,\n",
       "                                                                   SimpleImputer(strategy=&#x27;most_frequent&#x27;)),\n",
       "                                                                  (&#x27;functiontr...\n",
       "                                                                  (&#x27;functiontransformer&#x27;,\n",
       "                                                                   FunctionTransformer(func=&lt;function &lt;lambda&gt; at 0x000001DA5B92C040&gt;))]),\n",
       "                                                  [&#x27;A13&#x27;]),\n",
       "                                                 (&#x27;pipeline-6&#x27;,\n",
       "                                                  Pipeline(steps=[(&#x27;functiontransformer&#x27;,\n",
       "                                                                   FunctionTransformer(func=&lt;ufunc &#x27;log1p&#x27;&gt;)),\n",
       "                                                                  (&#x27;simpleimputer&#x27;,\n",
       "                                                                   SimpleImputer(strategy=&#x27;median&#x27;))]),\n",
       "                                                  [&#x27;A2&#x27;, &#x27;A3&#x27;, &#x27;A8&#x27;, &#x27;A11&#x27;,\n",
       "                                                   &#x27;A14&#x27;, &#x27;A15&#x27;])])),\n",
       "                (&#x27;minmaxscaler&#x27;, MinMaxScaler()),\n",
       "                (&#x27;pca&#x27;, PCA(n_components=0.99, svd_solver=&#x27;full&#x27;))])</pre><b>In a Jupyter environment, please rerun this cell to show the HTML representation or trust the notebook. <br />On GitHub, the HTML representation is unable to render, please try loading this page with nbviewer.org.</b></div><div class=\"sk-container\" hidden><div class=\"sk-item sk-dashed-wrapped\"><div class=\"sk-label-container\"><div class=\"sk-label sk-toggleable\"><input class=\"sk-toggleable__control sk-hidden--visually\" id=\"sk-estimator-id-435\" type=\"checkbox\" ><label for=\"sk-estimator-id-435\" class=\"sk-toggleable__label sk-toggleable__label-arrow\">Pipeline</label><div class=\"sk-toggleable__content\"><pre>Pipeline(steps=[(&#x27;columntransformer&#x27;,\n",
       "                 ColumnTransformer(transformers=[(&#x27;pipeline-1&#x27;,\n",
       "                                                  Pipeline(steps=[(&#x27;simpleimputer&#x27;,\n",
       "                                                                   SimpleImputer(strategy=&#x27;most_frequent&#x27;)),\n",
       "                                                                  (&#x27;onehotencoder&#x27;,\n",
       "                                                                   OneHotEncoder(drop=&#x27;first&#x27;,\n",
       "                                                                                 sparse_output=False))]),\n",
       "                                                  [&#x27;A1&#x27;, &#x27;A9&#x27;, &#x27;A10&#x27;, &#x27;A12&#x27;]),\n",
       "                                                 (&#x27;pipeline-2&#x27;,\n",
       "                                                  Pipeline(steps=[(&#x27;simpleimputer&#x27;,\n",
       "                                                                   SimpleImputer(strategy=&#x27;most_frequent&#x27;)),\n",
       "                                                                  (&#x27;functiontr...\n",
       "                                                                  (&#x27;functiontransformer&#x27;,\n",
       "                                                                   FunctionTransformer(func=&lt;function &lt;lambda&gt; at 0x000001DA5B92C040&gt;))]),\n",
       "                                                  [&#x27;A13&#x27;]),\n",
       "                                                 (&#x27;pipeline-6&#x27;,\n",
       "                                                  Pipeline(steps=[(&#x27;functiontransformer&#x27;,\n",
       "                                                                   FunctionTransformer(func=&lt;ufunc &#x27;log1p&#x27;&gt;)),\n",
       "                                                                  (&#x27;simpleimputer&#x27;,\n",
       "                                                                   SimpleImputer(strategy=&#x27;median&#x27;))]),\n",
       "                                                  [&#x27;A2&#x27;, &#x27;A3&#x27;, &#x27;A8&#x27;, &#x27;A11&#x27;,\n",
       "                                                   &#x27;A14&#x27;, &#x27;A15&#x27;])])),\n",
       "                (&#x27;minmaxscaler&#x27;, MinMaxScaler()),\n",
       "                (&#x27;pca&#x27;, PCA(n_components=0.99, svd_solver=&#x27;full&#x27;))])</pre></div></div></div><div class=\"sk-serial\"><div class=\"sk-item sk-dashed-wrapped\"><div class=\"sk-label-container\"><div class=\"sk-label sk-toggleable\"><input class=\"sk-toggleable__control sk-hidden--visually\" id=\"sk-estimator-id-436\" type=\"checkbox\" ><label for=\"sk-estimator-id-436\" class=\"sk-toggleable__label sk-toggleable__label-arrow\">columntransformer: ColumnTransformer</label><div class=\"sk-toggleable__content\"><pre>ColumnTransformer(transformers=[(&#x27;pipeline-1&#x27;,\n",
       "                                 Pipeline(steps=[(&#x27;simpleimputer&#x27;,\n",
       "                                                  SimpleImputer(strategy=&#x27;most_frequent&#x27;)),\n",
       "                                                 (&#x27;onehotencoder&#x27;,\n",
       "                                                  OneHotEncoder(drop=&#x27;first&#x27;,\n",
       "                                                                sparse_output=False))]),\n",
       "                                 [&#x27;A1&#x27;, &#x27;A9&#x27;, &#x27;A10&#x27;, &#x27;A12&#x27;]),\n",
       "                                (&#x27;pipeline-2&#x27;,\n",
       "                                 Pipeline(steps=[(&#x27;simpleimputer&#x27;,\n",
       "                                                  SimpleImputer(strategy=&#x27;most_frequent&#x27;)),\n",
       "                                                 (&#x27;functiontransformer&#x27;,\n",
       "                                                  FunctionTransformer(func=&lt;...\n",
       "                                 Pipeline(steps=[(&#x27;simpleimputer&#x27;,\n",
       "                                                  SimpleImputer(strategy=&#x27;most_frequent&#x27;)),\n",
       "                                                 (&#x27;functiontransformer&#x27;,\n",
       "                                                  FunctionTransformer(func=&lt;function &lt;lambda&gt; at 0x000001DA5B92C040&gt;))]),\n",
       "                                 [&#x27;A13&#x27;]),\n",
       "                                (&#x27;pipeline-6&#x27;,\n",
       "                                 Pipeline(steps=[(&#x27;functiontransformer&#x27;,\n",
       "                                                  FunctionTransformer(func=&lt;ufunc &#x27;log1p&#x27;&gt;)),\n",
       "                                                 (&#x27;simpleimputer&#x27;,\n",
       "                                                  SimpleImputer(strategy=&#x27;median&#x27;))]),\n",
       "                                 [&#x27;A2&#x27;, &#x27;A3&#x27;, &#x27;A8&#x27;, &#x27;A11&#x27;, &#x27;A14&#x27;, &#x27;A15&#x27;])])</pre></div></div></div><div class=\"sk-parallel\"><div class=\"sk-parallel-item\"><div class=\"sk-item\"><div class=\"sk-label-container\"><div class=\"sk-label sk-toggleable\"><input class=\"sk-toggleable__control sk-hidden--visually\" id=\"sk-estimator-id-437\" type=\"checkbox\" ><label for=\"sk-estimator-id-437\" class=\"sk-toggleable__label sk-toggleable__label-arrow\">pipeline-1</label><div class=\"sk-toggleable__content\"><pre>[&#x27;A1&#x27;, &#x27;A9&#x27;, &#x27;A10&#x27;, &#x27;A12&#x27;]</pre></div></div></div><div class=\"sk-serial\"><div class=\"sk-item\"><div class=\"sk-serial\"><div class=\"sk-item\"><div class=\"sk-estimator sk-toggleable\"><input class=\"sk-toggleable__control sk-hidden--visually\" id=\"sk-estimator-id-438\" type=\"checkbox\" ><label for=\"sk-estimator-id-438\" class=\"sk-toggleable__label sk-toggleable__label-arrow\">SimpleImputer</label><div class=\"sk-toggleable__content\"><pre>SimpleImputer(strategy=&#x27;most_frequent&#x27;)</pre></div></div></div><div class=\"sk-item\"><div class=\"sk-estimator sk-toggleable\"><input class=\"sk-toggleable__control sk-hidden--visually\" id=\"sk-estimator-id-439\" type=\"checkbox\" ><label for=\"sk-estimator-id-439\" class=\"sk-toggleable__label sk-toggleable__label-arrow\">OneHotEncoder</label><div class=\"sk-toggleable__content\"><pre>OneHotEncoder(drop=&#x27;first&#x27;, sparse_output=False)</pre></div></div></div></div></div></div></div></div><div class=\"sk-parallel-item\"><div class=\"sk-item\"><div class=\"sk-label-container\"><div class=\"sk-label sk-toggleable\"><input class=\"sk-toggleable__control sk-hidden--visually\" id=\"sk-estimator-id-440\" type=\"checkbox\" ><label for=\"sk-estimator-id-440\" class=\"sk-toggleable__label sk-toggleable__label-arrow\">pipeline-2</label><div class=\"sk-toggleable__content\"><pre>[&#x27;A4&#x27;]</pre></div></div></div><div class=\"sk-serial\"><div class=\"sk-item\"><div class=\"sk-serial\"><div class=\"sk-item\"><div class=\"sk-estimator sk-toggleable\"><input class=\"sk-toggleable__control sk-hidden--visually\" id=\"sk-estimator-id-441\" type=\"checkbox\" ><label for=\"sk-estimator-id-441\" class=\"sk-toggleable__label sk-toggleable__label-arrow\">SimpleImputer</label><div class=\"sk-toggleable__content\"><pre>SimpleImputer(strategy=&#x27;most_frequent&#x27;)</pre></div></div></div><div class=\"sk-item\"><div class=\"sk-estimator sk-toggleable\"><input class=\"sk-toggleable__control sk-hidden--visually\" id=\"sk-estimator-id-442\" type=\"checkbox\" ><label for=\"sk-estimator-id-442\" class=\"sk-toggleable__label sk-toggleable__label-arrow\">FunctionTransformer</label><div class=\"sk-toggleable__content\"><pre>FunctionTransformer(func=&lt;function &lt;lambda&gt; at 0x000001DA5B863B00&gt;)</pre></div></div></div></div></div></div></div></div><div class=\"sk-parallel-item\"><div class=\"sk-item\"><div class=\"sk-label-container\"><div class=\"sk-label sk-toggleable\"><input class=\"sk-toggleable__control sk-hidden--visually\" id=\"sk-estimator-id-443\" type=\"checkbox\" ><label for=\"sk-estimator-id-443\" class=\"sk-toggleable__label sk-toggleable__label-arrow\">pipeline-3</label><div class=\"sk-toggleable__content\"><pre>[&#x27;A5&#x27;]</pre></div></div></div><div class=\"sk-serial\"><div class=\"sk-item\"><div class=\"sk-serial\"><div class=\"sk-item\"><div class=\"sk-estimator sk-toggleable\"><input class=\"sk-toggleable__control sk-hidden--visually\" id=\"sk-estimator-id-444\" type=\"checkbox\" ><label for=\"sk-estimator-id-444\" class=\"sk-toggleable__label sk-toggleable__label-arrow\">SimpleImputer</label><div class=\"sk-toggleable__content\"><pre>SimpleImputer(strategy=&#x27;most_frequent&#x27;)</pre></div></div></div><div class=\"sk-item\"><div class=\"sk-estimator sk-toggleable\"><input class=\"sk-toggleable__control sk-hidden--visually\" id=\"sk-estimator-id-445\" type=\"checkbox\" ><label for=\"sk-estimator-id-445\" class=\"sk-toggleable__label sk-toggleable__label-arrow\">FunctionTransformer</label><div class=\"sk-toggleable__content\"><pre>FunctionTransformer(func=&lt;function &lt;lambda&gt; at 0x000001DA5B7B0FE0&gt;)</pre></div></div></div></div></div></div></div></div><div class=\"sk-parallel-item\"><div class=\"sk-item\"><div class=\"sk-label-container\"><div class=\"sk-label sk-toggleable\"><input class=\"sk-toggleable__control sk-hidden--visually\" id=\"sk-estimator-id-446\" type=\"checkbox\" ><label for=\"sk-estimator-id-446\" class=\"sk-toggleable__label sk-toggleable__label-arrow\">pipeline-4</label><div class=\"sk-toggleable__content\"><pre>[&#x27;A6&#x27;]</pre></div></div></div><div class=\"sk-serial\"><div class=\"sk-item\"><div class=\"sk-serial\"><div class=\"sk-item\"><div class=\"sk-estimator sk-toggleable\"><input class=\"sk-toggleable__control sk-hidden--visually\" id=\"sk-estimator-id-447\" type=\"checkbox\" ><label for=\"sk-estimator-id-447\" class=\"sk-toggleable__label sk-toggleable__label-arrow\">TargetEncoder</label><div class=\"sk-toggleable__content\"><pre>TargetEncoder()</pre></div></div></div><div class=\"sk-item\"><div class=\"sk-estimator sk-toggleable\"><input class=\"sk-toggleable__control sk-hidden--visually\" id=\"sk-estimator-id-448\" type=\"checkbox\" ><label for=\"sk-estimator-id-448\" class=\"sk-toggleable__label sk-toggleable__label-arrow\">SimpleImputer</label><div class=\"sk-toggleable__content\"><pre>SimpleImputer(strategy=&#x27;median&#x27;)</pre></div></div></div></div></div></div></div></div><div class=\"sk-parallel-item\"><div class=\"sk-item\"><div class=\"sk-label-container\"><div class=\"sk-label sk-toggleable\"><input class=\"sk-toggleable__control sk-hidden--visually\" id=\"sk-estimator-id-449\" type=\"checkbox\" ><label for=\"sk-estimator-id-449\" class=\"sk-toggleable__label sk-toggleable__label-arrow\">pipeline-5</label><div class=\"sk-toggleable__content\"><pre>[&#x27;A13&#x27;]</pre></div></div></div><div class=\"sk-serial\"><div class=\"sk-item\"><div class=\"sk-serial\"><div class=\"sk-item\"><div class=\"sk-estimator sk-toggleable\"><input class=\"sk-toggleable__control sk-hidden--visually\" id=\"sk-estimator-id-450\" type=\"checkbox\" ><label for=\"sk-estimator-id-450\" class=\"sk-toggleable__label sk-toggleable__label-arrow\">SimpleImputer</label><div class=\"sk-toggleable__content\"><pre>SimpleImputer(strategy=&#x27;most_frequent&#x27;)</pre></div></div></div><div class=\"sk-item\"><div class=\"sk-estimator sk-toggleable\"><input class=\"sk-toggleable__control sk-hidden--visually\" id=\"sk-estimator-id-451\" type=\"checkbox\" ><label for=\"sk-estimator-id-451\" class=\"sk-toggleable__label sk-toggleable__label-arrow\">FunctionTransformer</label><div class=\"sk-toggleable__content\"><pre>FunctionTransformer(func=&lt;function &lt;lambda&gt; at 0x000001DA5B92C040&gt;)</pre></div></div></div></div></div></div></div></div><div class=\"sk-parallel-item\"><div class=\"sk-item\"><div class=\"sk-label-container\"><div class=\"sk-label sk-toggleable\"><input class=\"sk-toggleable__control sk-hidden--visually\" id=\"sk-estimator-id-452\" type=\"checkbox\" ><label for=\"sk-estimator-id-452\" class=\"sk-toggleable__label sk-toggleable__label-arrow\">pipeline-6</label><div class=\"sk-toggleable__content\"><pre>[&#x27;A2&#x27;, &#x27;A3&#x27;, &#x27;A8&#x27;, &#x27;A11&#x27;, &#x27;A14&#x27;, &#x27;A15&#x27;]</pre></div></div></div><div class=\"sk-serial\"><div class=\"sk-item\"><div class=\"sk-serial\"><div class=\"sk-item\"><div class=\"sk-estimator sk-toggleable\"><input class=\"sk-toggleable__control sk-hidden--visually\" id=\"sk-estimator-id-453\" type=\"checkbox\" ><label for=\"sk-estimator-id-453\" class=\"sk-toggleable__label sk-toggleable__label-arrow\">FunctionTransformer</label><div class=\"sk-toggleable__content\"><pre>FunctionTransformer(func=&lt;ufunc &#x27;log1p&#x27;&gt;)</pre></div></div></div><div class=\"sk-item\"><div class=\"sk-estimator sk-toggleable\"><input class=\"sk-toggleable__control sk-hidden--visually\" id=\"sk-estimator-id-454\" type=\"checkbox\" ><label for=\"sk-estimator-id-454\" class=\"sk-toggleable__label sk-toggleable__label-arrow\">SimpleImputer</label><div class=\"sk-toggleable__content\"><pre>SimpleImputer(strategy=&#x27;median&#x27;)</pre></div></div></div></div></div></div></div></div></div></div><div class=\"sk-item\"><div class=\"sk-estimator sk-toggleable\"><input class=\"sk-toggleable__control sk-hidden--visually\" id=\"sk-estimator-id-455\" type=\"checkbox\" ><label for=\"sk-estimator-id-455\" class=\"sk-toggleable__label sk-toggleable__label-arrow\">MinMaxScaler</label><div class=\"sk-toggleable__content\"><pre>MinMaxScaler()</pre></div></div></div><div class=\"sk-item\"><div class=\"sk-estimator sk-toggleable\"><input class=\"sk-toggleable__control sk-hidden--visually\" id=\"sk-estimator-id-456\" type=\"checkbox\" ><label for=\"sk-estimator-id-456\" class=\"sk-toggleable__label sk-toggleable__label-arrow\">PCA</label><div class=\"sk-toggleable__content\"><pre>PCA(n_components=0.99, svd_solver=&#x27;full&#x27;)</pre></div></div></div></div></div></div></div>"
      ],
      "text/plain": [
       "Pipeline(steps=[('columntransformer',\n",
       "                 ColumnTransformer(transformers=[('pipeline-1',\n",
       "                                                  Pipeline(steps=[('simpleimputer',\n",
       "                                                                   SimpleImputer(strategy='most_frequent')),\n",
       "                                                                  ('onehotencoder',\n",
       "                                                                   OneHotEncoder(drop='first',\n",
       "                                                                                 sparse_output=False))]),\n",
       "                                                  ['A1', 'A9', 'A10', 'A12']),\n",
       "                                                 ('pipeline-2',\n",
       "                                                  Pipeline(steps=[('simpleimputer',\n",
       "                                                                   SimpleImputer(strategy='most_frequent')),\n",
       "                                                                  ('functiontr...\n",
       "                                                                  ('functiontransformer',\n",
       "                                                                   FunctionTransformer(func=<function <lambda> at 0x000001DA5B92C040>))]),\n",
       "                                                  ['A13']),\n",
       "                                                 ('pipeline-6',\n",
       "                                                  Pipeline(steps=[('functiontransformer',\n",
       "                                                                   FunctionTransformer(func=<ufunc 'log1p'>)),\n",
       "                                                                  ('simpleimputer',\n",
       "                                                                   SimpleImputer(strategy='median'))]),\n",
       "                                                  ['A2', 'A3', 'A8', 'A11',\n",
       "                                                   'A14', 'A15'])])),\n",
       "                ('minmaxscaler', MinMaxScaler()),\n",
       "                ('pca', PCA(n_components=0.99, svd_solver='full'))])"
      ]
     },
     "execution_count": 468,
     "metadata": {},
     "output_type": "execute_result"
    }
   ],
   "source": [
    "preprocessing_pipe = make_pipeline(\n",
    "    column_tweaker_exclude_a7,\n",
    "    column_scaler,\n",
    "    column_pca\n",
    ")\n",
    "preprocessing_pipe"
   ]
  },
  {
   "cell_type": "markdown",
   "id": "14a3a234-3399-4829-9b8a-15728929e7a0",
   "metadata": {},
   "source": [
    "#### feature engineering pipeline 2"
   ]
  },
  {
   "cell_type": "code",
   "execution_count": 469,
   "id": "58c9fd33-e042-41d4-a138-1efd96751281",
   "metadata": {},
   "outputs": [
    {
     "data": {
      "text/plain": [
       "'\\n\\nIn which different formats do we need the data for different classifiers ?\\n\\n'"
      ]
     },
     "execution_count": 469,
     "metadata": {},
     "output_type": "execute_result"
    }
   ],
   "source": [
    "\"\"\"\n",
    "\n",
    "In which different formats do we need the data for different classifiers ?\n",
    "\n",
    "\"\"\""
   ]
  },
  {
   "cell_type": "markdown",
   "id": "8c8d60e5-0d7c-4692-afbd-73c65ee1431e",
   "metadata": {},
   "source": [
    "## train test validation split"
   ]
  },
  {
   "cell_type": "code",
   "execution_count": 470,
   "id": "b3e4b63a-cd58-4142-9143-402eb35b3583",
   "metadata": {},
   "outputs": [],
   "source": [
    "X_preprocessed = preprocessing_pipe.fit_transform(X=X, y=y.values.ravel())"
   ]
  },
  {
   "cell_type": "code",
   "execution_count": 471,
   "id": "57f29ad6-2c49-4498-9504-3bb81e14080a",
   "metadata": {},
   "outputs": [
    {
     "data": {
      "text/plain": [
       "((621, 12), (621,))"
      ]
     },
     "execution_count": 471,
     "metadata": {},
     "output_type": "execute_result"
    }
   ],
   "source": [
    "X_train, X_test_validate, y_train, y_test_validate = train_test_split(X_preprocessed, y.values.ravel(), test_size=0.1)\n",
    "X_train.shape, y_train.shape"
   ]
  },
  {
   "cell_type": "code",
   "execution_count": 472,
   "id": "358b23a9-60c5-48ff-b330-5f2ca0fceac7",
   "metadata": {},
   "outputs": [
    {
     "data": {
      "text/plain": [
       "(((34, 12), (34,)), ((35, 12), (35,)))"
      ]
     },
     "execution_count": 472,
     "metadata": {},
     "output_type": "execute_result"
    }
   ],
   "source": [
    "X_test, X_validate, y_test, y_validate = train_test_split(X_test_validate, y_test_validate, test_size=.5)\n",
    "(X_test.shape, y_test.shape), (X_validate.shape, y_validate.shape)"
   ]
  },
  {
   "cell_type": "code",
   "execution_count": 473,
   "id": "f4f42521",
   "metadata": {},
   "outputs": [],
   "source": [
    "X_train_test, y_train_test = np.concatenate((X_train, X_test)), np.concatenate((y_train, y_test))"
   ]
  },
  {
   "cell_type": "markdown",
   "id": "45f56c04-0ce7-4987-a3d3-50a8f2827fda",
   "metadata": {},
   "source": [
    "## train & optimise different models"
   ]
  },
  {
   "cell_type": "markdown",
   "id": "48b6547d-cf91-4b82-9044-4b51d6f1d3b5",
   "metadata": {},
   "source": [
    "### LogisticRegression (Linear Model)"
   ]
  },
  {
   "cell_type": "code",
   "execution_count": 474,
   "id": "e9f01cf6",
   "metadata": {},
   "outputs": [
    {
     "data": {
      "text/plain": [
       "array(['-', '-', '-', '-', '-', '+', '-', '+', '+', '-', '-', '+', '+',\n",
       "       '+', '-', '-', '+', '-', '-', '+', '-', '-', '-', '-', '-', '+',\n",
       "       '-', '+', '-', '-', '-', '+', '-', '-'], dtype=object)"
      ]
     },
     "execution_count": 474,
     "metadata": {},
     "output_type": "execute_result"
    }
   ],
   "source": [
    "y_test.ravel()\n"
   ]
  },
  {
   "cell_type": "code",
   "execution_count": 475,
   "id": "f6345ecd",
   "metadata": {},
   "outputs": [],
   "source": [
    "res = cross_validate(\n",
    "    estimator=LogisticRegression(),\n",
    "    X = X_preprocessed,\n",
    "    y =  y.values.ravel(),\n",
    "    cv=StratifiedKFold(n_splits=7, shuffle=True, random_state=42),\n",
    "    scoring=\"accuracy\")"
   ]
  },
  {
   "cell_type": "code",
   "execution_count": 476,
   "id": "c4173057",
   "metadata": {},
   "outputs": [
    {
     "data": {
      "text/plain": [
       "0.856583325971081"
      ]
     },
     "execution_count": 476,
     "metadata": {},
     "output_type": "execute_result"
    }
   ],
   "source": [
    "res['test_score'].mean()"
   ]
  },
  {
   "cell_type": "code",
   "execution_count": 477,
   "id": "bfbab783",
   "metadata": {},
   "outputs": [],
   "source": [
    "lr = LogisticRegression().fit(X_train_test, y_train_test)"
   ]
  },
  {
   "cell_type": "code",
   "execution_count": 478,
   "id": "f352bac1",
   "metadata": {},
   "outputs": [
    {
     "data": {
      "text/plain": [
       "0.8"
      ]
     },
     "execution_count": 478,
     "metadata": {},
     "output_type": "execute_result"
    }
   ],
   "source": [
    "accuracy_score(y_validate, lr.predict(X_validate))"
   ]
  },
  {
   "cell_type": "code",
   "execution_count": 479,
   "id": "d6938731",
   "metadata": {},
   "outputs": [
    {
     "name": "stdout",
     "output_type": "stream",
     "text": [
      "              precision    recall  f1-score   support\n",
      "\n",
      "           +       0.83      0.86      0.84        22\n",
      "           -       0.75      0.69      0.72        13\n",
      "\n",
      "    accuracy                           0.80        35\n",
      "   macro avg       0.79      0.78      0.78        35\n",
      "weighted avg       0.80      0.80      0.80        35\n",
      "\n"
     ]
    }
   ],
   "source": [
    "print(classification_report(y_validate, lr.predict(X_validate)))"
   ]
  },
  {
   "cell_type": "code",
   "execution_count": 480,
   "id": "267aefea",
   "metadata": {},
   "outputs": [
    {
     "data": {
      "text/plain": [
       "Text(0.5, 1.0, 'Precision-Recall curve')"
      ]
     },
     "execution_count": 480,
     "metadata": {},
     "output_type": "execute_result"
    },
    {
     "data": {
      "image/png": "[encoded data removed]",
      "text/plain": [
       "<Figure size 1000x400 with 2 Axes>"
      ]
     },
     "metadata": {},
     "output_type": "display_data"
    }
   ],
   "source": [
    "fig, (ax1, ax2) = plt.subplots(1, 2, figsize=(10, 4))\n",
    "RocCurveDisplay.from_estimator(lr, X_preprocessed, y, ax=ax1)\n",
    "ax1.set_title(\"ROC curve\")\n",
    "PrecisionRecallDisplay.from_estimator(lr, X_preprocessed, y, ax=ax2)\n",
    "ax2.set_title(\"Precision-Recall curve\")"
   ]
  },
  {
   "cell_type": "markdown",
   "id": "53aef1b5",
   "metadata": {},
   "source": [
    "#### GridSearchCV"
   ]
  },
  {
   "cell_type": "code",
   "execution_count": 481,
   "id": "9b741a6e",
   "metadata": {},
   "outputs": [],
   "source": [
    "import warnings\n",
    "\n",
    "warnings.filterwarnings(\"ignore\")"
   ]
  },
  {
   "cell_type": "code",
   "execution_count": 482,
   "id": "ac6bab03",
   "metadata": {},
   "outputs": [],
   "source": [
    "param_grid = [{'penalty': ['l2', None], 'C': [1., 2., 3.]}]"
   ]
  },
  {
   "cell_type": "code",
   "execution_count": 483,
   "id": "397171a1",
   "metadata": {},
   "outputs": [],
   "source": [
    "scoring = {\"AUC\": \"roc_auc\", \"Accuracy\": make_scorer(accuracy_score)}"
   ]
  },
  {
   "cell_type": "code",
   "execution_count": 484,
   "id": "2df58d2d",
   "metadata": {},
   "outputs": [],
   "source": [
    "lg = LogisticRegression(random_state=42,solver='saga')"
   ]
  },
  {
   "cell_type": "code",
   "execution_count": 485,
   "id": "b7a4f412",
   "metadata": {},
   "outputs": [],
   "source": [
    "cv = StratifiedKFold(n_splits=10)"
   ]
  },
  {
   "cell_type": "code",
   "execution_count": 486,
   "id": "3ba5f84f",
   "metadata": {},
   "outputs": [],
   "source": [
    "search_lr = GridSearchCV(estimator=lr, scoring=scoring, param_grid=param_grid, cv=cv, refit='AUC')"
   ]
  },
  {
   "cell_type": "code",
   "execution_count": 487,
   "id": "e2238d17",
   "metadata": {},
   "outputs": [
    {
     "data": {
      "text/html": [
       "<style>#sk-container-id-53 {color: black;}#sk-container-id-53 pre{padding: 0;}#sk-container-id-53 div.sk-toggleable {background-color: white;}#sk-container-id-53 label.sk-toggleable__label {cursor: pointer;display: block;width: 100%;margin-bottom: 0;padding: 0.3em;box-sizing: border-box;text-align: center;}#sk-container-id-53 label.sk-toggleable__label-arrow:before {content: \"▸\";float: left;margin-right: 0.25em;color: #696969;}#sk-container-id-53 label.sk-toggleable__label-arrow:hover:before {color: black;}#sk-container-id-53 div.sk-estimator:hover label.sk-toggleable__label-arrow:before {color: black;}#sk-container-id-53 div.sk-toggleable__content {max-height: 0;max-width: 0;overflow: hidden;text-align: left;background-color: #f0f8ff;}#sk-container-id-53 div.sk-toggleable__content pre {margin: 0.2em;color: black;border-radius: 0.25em;background-color: #f0f8ff;}#sk-container-id-53 input.sk-toggleable__control:checked~div.sk-toggleable__content {max-height: 200px;max-width: 100%;overflow: auto;}#sk-container-id-53 input.sk-toggleable__control:checked~label.sk-toggleable__label-arrow:before {content: \"▾\";}#sk-container-id-53 div.sk-estimator input.sk-toggleable__control:checked~label.sk-toggleable__label {background-color: #d4ebff;}#sk-container-id-53 div.sk-label input.sk-toggleable__control:checked~label.sk-toggleable__label {background-color: #d4ebff;}#sk-container-id-53 input.sk-hidden--visually {border: 0;clip: rect(1px 1px 1px 1px);clip: rect(1px, 1px, 1px, 1px);height: 1px;margin: -1px;overflow: hidden;padding: 0;position: absolute;width: 1px;}#sk-container-id-53 div.sk-estimator {font-family: monospace;background-color: #f0f8ff;border: 1px dotted black;border-radius: 0.25em;box-sizing: border-box;margin-bottom: 0.5em;}#sk-container-id-53 div.sk-estimator:hover {background-color: #d4ebff;}#sk-container-id-53 div.sk-parallel-item::after {content: \"\";width: 100%;border-bottom: 1px solid gray;flex-grow: 1;}#sk-container-id-53 div.sk-label:hover label.sk-toggleable__label {background-color: #d4ebff;}#sk-container-id-53 div.sk-serial::before {content: \"\";position: absolute;border-left: 1px solid gray;box-sizing: border-box;top: 0;bottom: 0;left: 50%;z-index: 0;}#sk-container-id-53 div.sk-serial {display: flex;flex-direction: column;align-items: center;background-color: white;padding-right: 0.2em;padding-left: 0.2em;position: relative;}#sk-container-id-53 div.sk-item {position: relative;z-index: 1;}#sk-container-id-53 div.sk-parallel {display: flex;align-items: stretch;justify-content: center;background-color: white;position: relative;}#sk-container-id-53 div.sk-item::before, #sk-container-id-53 div.sk-parallel-item::before {content: \"\";position: absolute;border-left: 1px solid gray;box-sizing: border-box;top: 0;bottom: 0;left: 50%;z-index: -1;}#sk-container-id-53 div.sk-parallel-item {display: flex;flex-direction: column;z-index: 1;position: relative;background-color: white;}#sk-container-id-53 div.sk-parallel-item:first-child::after {align-self: flex-end;width: 50%;}#sk-container-id-53 div.sk-parallel-item:last-child::after {align-self: flex-start;width: 50%;}#sk-container-id-53 div.sk-parallel-item:only-child::after {width: 0;}#sk-container-id-53 div.sk-dashed-wrapped {border: 1px dashed gray;margin: 0 0.4em 0.5em 0.4em;box-sizing: border-box;padding-bottom: 0.4em;background-color: white;}#sk-container-id-53 div.sk-label label {font-family: monospace;font-weight: bold;display: inline-block;line-height: 1.2em;}#sk-container-id-53 div.sk-label-container {text-align: center;}#sk-container-id-53 div.sk-container {/* jupyter's `normalize.less` sets `[hidden] { display: none; }` but bootstrap.min.css set `[hidden] { display: none !important; }` so we also need the `!important` here to be able to override the default hidden behavior on the sphinx rendered scikit-learn.org. See: https://github.com/scikit-learn/scikit-learn/issues/21755 */display: inline-block !important;position: relative;}#sk-container-id-53 div.sk-text-repr-fallback {display: none;}</style><div id=\"sk-container-id-53\" class=\"sk-top-container\"><div class=\"sk-text-repr-fallback\"><pre>GridSearchCV(cv=StratifiedKFold(n_splits=10, random_state=None, shuffle=False),\n",
       "             estimator=LogisticRegression(),\n",
       "             param_grid=[{&#x27;C&#x27;: [1.0, 2.0, 3.0], &#x27;penalty&#x27;: [&#x27;l2&#x27;, None]}],\n",
       "             refit=&#x27;AUC&#x27;,\n",
       "             scoring={&#x27;AUC&#x27;: &#x27;roc_auc&#x27;,\n",
       "                      &#x27;Accuracy&#x27;: make_scorer(accuracy_score)})</pre><b>In a Jupyter environment, please rerun this cell to show the HTML representation or trust the notebook. <br />On GitHub, the HTML representation is unable to render, please try loading this page with nbviewer.org.</b></div><div class=\"sk-container\" hidden><div class=\"sk-item sk-dashed-wrapped\"><div class=\"sk-label-container\"><div class=\"sk-label sk-toggleable\"><input class=\"sk-toggleable__control sk-hidden--visually\" id=\"sk-estimator-id-457\" type=\"checkbox\" ><label for=\"sk-estimator-id-457\" class=\"sk-toggleable__label sk-toggleable__label-arrow\">GridSearchCV</label><div class=\"sk-toggleable__content\"><pre>GridSearchCV(cv=StratifiedKFold(n_splits=10, random_state=None, shuffle=False),\n",
       "             estimator=LogisticRegression(),\n",
       "             param_grid=[{&#x27;C&#x27;: [1.0, 2.0, 3.0], &#x27;penalty&#x27;: [&#x27;l2&#x27;, None]}],\n",
       "             refit=&#x27;AUC&#x27;,\n",
       "             scoring={&#x27;AUC&#x27;: &#x27;roc_auc&#x27;,\n",
       "                      &#x27;Accuracy&#x27;: make_scorer(accuracy_score)})</pre></div></div></div><div class=\"sk-parallel\"><div class=\"sk-parallel-item\"><div class=\"sk-item\"><div class=\"sk-label-container\"><div class=\"sk-label sk-toggleable\"><input class=\"sk-toggleable__control sk-hidden--visually\" id=\"sk-estimator-id-458\" type=\"checkbox\" ><label for=\"sk-estimator-id-458\" class=\"sk-toggleable__label sk-toggleable__label-arrow\">estimator: LogisticRegression</label><div class=\"sk-toggleable__content\"><pre>LogisticRegression()</pre></div></div></div><div class=\"sk-serial\"><div class=\"sk-item\"><div class=\"sk-estimator sk-toggleable\"><input class=\"sk-toggleable__control sk-hidden--visually\" id=\"sk-estimator-id-459\" type=\"checkbox\" ><label for=\"sk-estimator-id-459\" class=\"sk-toggleable__label sk-toggleable__label-arrow\">LogisticRegression</label><div class=\"sk-toggleable__content\"><pre>LogisticRegression()</pre></div></div></div></div></div></div></div></div></div></div>"
      ],
      "text/plain": [
       "GridSearchCV(cv=StratifiedKFold(n_splits=10, random_state=None, shuffle=False),\n",
       "             estimator=LogisticRegression(),\n",
       "             param_grid=[{'C': [1.0, 2.0, 3.0], 'penalty': ['l2', None]}],\n",
       "             refit='AUC',\n",
       "             scoring={'AUC': 'roc_auc',\n",
       "                      'Accuracy': make_scorer(accuracy_score)})"
      ]
     },
     "execution_count": 487,
     "metadata": {},
     "output_type": "execute_result"
    }
   ],
   "source": [
    "search_lr.fit(X_train_test, y_train_test)"
   ]
  },
  {
   "cell_type": "code",
   "execution_count": 488,
   "id": "20f4fc33",
   "metadata": {},
   "outputs": [
    {
     "data": {
      "text/plain": [
       "dict_keys(['mean_fit_time', 'std_fit_time', 'mean_score_time', 'std_score_time', 'param_C', 'param_penalty', 'params', 'split0_test_AUC', 'split1_test_AUC', 'split2_test_AUC', 'split3_test_AUC', 'split4_test_AUC', 'split5_test_AUC', 'split6_test_AUC', 'split7_test_AUC', 'split8_test_AUC', 'split9_test_AUC', 'mean_test_AUC', 'std_test_AUC', 'rank_test_AUC', 'split0_test_Accuracy', 'split1_test_Accuracy', 'split2_test_Accuracy', 'split3_test_Accuracy', 'split4_test_Accuracy', 'split5_test_Accuracy', 'split6_test_Accuracy', 'split7_test_Accuracy', 'split8_test_Accuracy', 'split9_test_Accuracy', 'mean_test_Accuracy', 'std_test_Accuracy', 'rank_test_Accuracy'])"
      ]
     },
     "execution_count": 488,
     "metadata": {},
     "output_type": "execute_result"
    }
   ],
   "source": [
    "search_lr.cv_results_.keys()"
   ]
  },
  {
   "cell_type": "code",
   "execution_count": 489,
   "id": "ce03a11d",
   "metadata": {},
   "outputs": [
    {
     "data": {
      "text/plain": [
       "{'mean_fit_time': array([0.00869734, 0.00520105, 0.00560157, 0.00499902, 0.00539584,\n",
       "        0.00580072]),\n",
       " 'std_fit_time': array([0.00368768, 0.00116476, 0.00174407, 0.00077073, 0.00156454,\n",
       "        0.00132658]),\n",
       " 'mean_score_time': array([0.00330126, 0.00249968, 0.00269992, 0.00269947, 0.00240471,\n",
       "        0.00299923]),\n",
       " 'std_score_time': array([0.00127082, 0.00080795, 0.00100124, 0.00064075, 0.00066191,\n",
       "        0.00077399]),\n",
       " 'param_C': masked_array(data=[1.0, 1.0, 2.0, 2.0, 3.0, 3.0],\n",
       "              mask=[False, False, False, False, False, False],\n",
       "        fill_value='?',\n",
       "             dtype=object),\n",
       " 'param_penalty': masked_array(data=['l2', None, 'l2', None, 'l2', None],\n",
       "              mask=[False, False, False, False, False, False],\n",
       "        fill_value='?',\n",
       "             dtype=object),\n",
       " 'params': [{'C': 1.0, 'penalty': 'l2'},\n",
       "  {'C': 1.0, 'penalty': None},\n",
       "  {'C': 2.0, 'penalty': 'l2'},\n",
       "  {'C': 2.0, 'penalty': None},\n",
       "  {'C': 3.0, 'penalty': 'l2'},\n",
       "  {'C': 3.0, 'penalty': None}],\n",
       " 'split0_test_AUC': array([0.93476235, 0.93289842, 0.93289842, 0.93289842, 0.93383038,\n",
       "        0.93289842]),\n",
       " 'split1_test_AUC': array([0.91053122, 0.90959925, 0.90959925, 0.90959925, 0.90680336,\n",
       "        0.90959925]),\n",
       " 'split2_test_AUC': array([0.89561976, 0.89095993, 0.89282386, 0.89095993, 0.89282386,\n",
       "        0.89095993]),\n",
       " 'split3_test_AUC': array([0.90959925, 0.90959925, 0.90866729, 0.90959925, 0.90866729,\n",
       "        0.90959925]),\n",
       " 'split4_test_AUC': array([0.93476235, 0.93476235, 0.93476235, 0.93476235, 0.93569432,\n",
       "        0.93476235]),\n",
       " 'split5_test_AUC': array([0.98745174, 0.98359073, 0.98745174, 0.98359073, 0.98455598,\n",
       "        0.98359073]),\n",
       " 'split6_test_AUC': array([0.95559846, 0.9507722 , 0.95656371, 0.9507722 , 0.95559846,\n",
       "        0.9507722 ]),\n",
       " 'split7_test_AUC': array([0.91119691, 0.91312741, 0.91216216, 0.91312741, 0.91312741,\n",
       "        0.91312741]),\n",
       " 'split8_test_AUC': array([0.93243243, 0.94015444, 0.93918919, 0.94015444, 0.93918919,\n",
       "        0.94015444]),\n",
       " 'split9_test_AUC': array([0.96042471, 0.95656371, 0.95945946, 0.95656371, 0.95945946,\n",
       "        0.95656371]),\n",
       " 'mean_test_AUC': array([0.93323792, 0.93220277, 0.93335774, 0.93220277, 0.93297497,\n",
       "        0.93220277]),\n",
       " 'std_test_AUC': array([0.02675605, 0.0259537 , 0.02729194, 0.0259537 , 0.02683738,\n",
       "        0.0259537 ]),\n",
       " 'rank_test_AUC': array([2, 4, 1, 4, 3, 4]),\n",
       " 'split0_test_Accuracy': array([0.86363636, 0.86363636, 0.86363636, 0.86363636, 0.86363636,\n",
       "        0.86363636]),\n",
       " 'split1_test_Accuracy': array([0.84848485, 0.83333333, 0.84848485, 0.83333333, 0.84848485,\n",
       "        0.83333333]),\n",
       " 'split2_test_Accuracy': array([0.87878788, 0.87878788, 0.87878788, 0.87878788, 0.87878788,\n",
       "        0.87878788]),\n",
       " 'split3_test_Accuracy': array([0.81818182, 0.81818182, 0.83333333, 0.81818182, 0.83333333,\n",
       "        0.81818182]),\n",
       " 'split4_test_Accuracy': array([0.83333333, 0.83333333, 0.84848485, 0.83333333, 0.83333333,\n",
       "        0.83333333]),\n",
       " 'split5_test_Accuracy': array([0.92307692, 0.92307692, 0.92307692, 0.92307692, 0.92307692,\n",
       "        0.92307692]),\n",
       " 'split6_test_Accuracy': array([0.89230769, 0.89230769, 0.89230769, 0.89230769, 0.89230769,\n",
       "        0.89230769]),\n",
       " 'split7_test_Accuracy': array([0.84615385, 0.83076923, 0.83076923, 0.83076923, 0.83076923,\n",
       "        0.83076923]),\n",
       " 'split8_test_Accuracy': array([0.83076923, 0.83076923, 0.83076923, 0.83076923, 0.83076923,\n",
       "        0.83076923]),\n",
       " 'split9_test_Accuracy': array([0.90769231, 0.90769231, 0.90769231, 0.90769231, 0.90769231,\n",
       "        0.90769231]),\n",
       " 'mean_test_Accuracy': array([0.86424242, 0.86118881, 0.86573427, 0.86118881, 0.86421911,\n",
       "        0.86118881]),\n",
       " 'std_test_Accuracy': array([0.0333495 , 0.03539629, 0.03165378, 0.03539629, 0.03278557,\n",
       "        0.03539629]),\n",
       " 'rank_test_Accuracy': array([2, 4, 1, 4, 3, 4])}"
      ]
     },
     "execution_count": 489,
     "metadata": {},
     "output_type": "execute_result"
    }
   ],
   "source": [
    "search_lr.cv_results_"
   ]
  },
  {
   "cell_type": "code",
   "execution_count": 490,
   "id": "8fc27cab",
   "metadata": {},
   "outputs": [
    {
     "data": {
      "text/plain": [
       "({'C': 2.0, 'penalty': 'l2'}, LogisticRegression(C=2.0))"
      ]
     },
     "execution_count": 490,
     "metadata": {},
     "output_type": "execute_result"
    }
   ],
   "source": [
    "search_lr.best_params_, search_lr.best_estimator_ "
   ]
  },
  {
   "cell_type": "code",
   "execution_count": 491,
   "id": "ef7c2b17",
   "metadata": {},
   "outputs": [],
   "source": [
    "# Auskommentiert, weil search_lr.best_estimator_ eigentlich genau das macht\n",
    "# lr_best = LogisticRegression(penalty=search.best_params_['penalty'], C=search.best_params_['C'])"
   ]
  },
  {
   "cell_type": "code",
   "execution_count": 492,
   "id": "b981741c",
   "metadata": {},
   "outputs": [
    {
     "data": {
      "text/plain": [
       "0.8"
      ]
     },
     "execution_count": 492,
     "metadata": {},
     "output_type": "execute_result"
    }
   ],
   "source": [
    "## mit den besten Parametern fitten\n",
    "lr_best.fit(X_train_test, y_train_test)\n",
    "accuracy_score(y_validate, search_lr.best_estimator_.predict(X_validate))"
   ]
  },
  {
   "cell_type": "code",
   "execution_count": 493,
   "id": "8b2544e0",
   "metadata": {},
   "outputs": [],
   "source": [
    "results = search_lr.cv_results_"
   ]
  },
  {
   "cell_type": "markdown",
   "id": "9023151e-ca9e-41be-afc1-ed802739ecdb",
   "metadata": {},
   "source": [
    "### Random Forest"
   ]
  },
  {
   "cell_type": "code",
   "execution_count": 494,
   "id": "d3df2521",
   "metadata": {},
   "outputs": [
    {
     "data": {
      "text/html": [
       "<style>#sk-container-id-54 {color: black;}#sk-container-id-54 pre{padding: 0;}#sk-container-id-54 div.sk-toggleable {background-color: white;}#sk-container-id-54 label.sk-toggleable__label {cursor: pointer;display: block;width: 100%;margin-bottom: 0;padding: 0.3em;box-sizing: border-box;text-align: center;}#sk-container-id-54 label.sk-toggleable__label-arrow:before {content: \"▸\";float: left;margin-right: 0.25em;color: #696969;}#sk-container-id-54 label.sk-toggleable__label-arrow:hover:before {color: black;}#sk-container-id-54 div.sk-estimator:hover label.sk-toggleable__label-arrow:before {color: black;}#sk-container-id-54 div.sk-toggleable__content {max-height: 0;max-width: 0;overflow: hidden;text-align: left;background-color: #f0f8ff;}#sk-container-id-54 div.sk-toggleable__content pre {margin: 0.2em;color: black;border-radius: 0.25em;background-color: #f0f8ff;}#sk-container-id-54 input.sk-toggleable__control:checked~div.sk-toggleable__content {max-height: 200px;max-width: 100%;overflow: auto;}#sk-container-id-54 input.sk-toggleable__control:checked~label.sk-toggleable__label-arrow:before {content: \"▾\";}#sk-container-id-54 div.sk-estimator input.sk-toggleable__control:checked~label.sk-toggleable__label {background-color: #d4ebff;}#sk-container-id-54 div.sk-label input.sk-toggleable__control:checked~label.sk-toggleable__label {background-color: #d4ebff;}#sk-container-id-54 input.sk-hidden--visually {border: 0;clip: rect(1px 1px 1px 1px);clip: rect(1px, 1px, 1px, 1px);height: 1px;margin: -1px;overflow: hidden;padding: 0;position: absolute;width: 1px;}#sk-container-id-54 div.sk-estimator {font-family: monospace;background-color: #f0f8ff;border: 1px dotted black;border-radius: 0.25em;box-sizing: border-box;margin-bottom: 0.5em;}#sk-container-id-54 div.sk-estimator:hover {background-color: #d4ebff;}#sk-container-id-54 div.sk-parallel-item::after {content: \"\";width: 100%;border-bottom: 1px solid gray;flex-grow: 1;}#sk-container-id-54 div.sk-label:hover label.sk-toggleable__label {background-color: #d4ebff;}#sk-container-id-54 div.sk-serial::before {content: \"\";position: absolute;border-left: 1px solid gray;box-sizing: border-box;top: 0;bottom: 0;left: 50%;z-index: 0;}#sk-container-id-54 div.sk-serial {display: flex;flex-direction: column;align-items: center;background-color: white;padding-right: 0.2em;padding-left: 0.2em;position: relative;}#sk-container-id-54 div.sk-item {position: relative;z-index: 1;}#sk-container-id-54 div.sk-parallel {display: flex;align-items: stretch;justify-content: center;background-color: white;position: relative;}#sk-container-id-54 div.sk-item::before, #sk-container-id-54 div.sk-parallel-item::before {content: \"\";position: absolute;border-left: 1px solid gray;box-sizing: border-box;top: 0;bottom: 0;left: 50%;z-index: -1;}#sk-container-id-54 div.sk-parallel-item {display: flex;flex-direction: column;z-index: 1;position: relative;background-color: white;}#sk-container-id-54 div.sk-parallel-item:first-child::after {align-self: flex-end;width: 50%;}#sk-container-id-54 div.sk-parallel-item:last-child::after {align-self: flex-start;width: 50%;}#sk-container-id-54 div.sk-parallel-item:only-child::after {width: 0;}#sk-container-id-54 div.sk-dashed-wrapped {border: 1px dashed gray;margin: 0 0.4em 0.5em 0.4em;box-sizing: border-box;padding-bottom: 0.4em;background-color: white;}#sk-container-id-54 div.sk-label label {font-family: monospace;font-weight: bold;display: inline-block;line-height: 1.2em;}#sk-container-id-54 div.sk-label-container {text-align: center;}#sk-container-id-54 div.sk-container {/* jupyter's `normalize.less` sets `[hidden] { display: none; }` but bootstrap.min.css set `[hidden] { display: none !important; }` so we also need the `!important` here to be able to override the default hidden behavior on the sphinx rendered scikit-learn.org. See: https://github.com/scikit-learn/scikit-learn/issues/21755 */display: inline-block !important;position: relative;}#sk-container-id-54 div.sk-text-repr-fallback {display: none;}</style><div id=\"sk-container-id-54\" class=\"sk-top-container\"><div class=\"sk-text-repr-fallback\"><pre>RandomForestClassifier(max_depth=6, random_state=0)</pre><b>In a Jupyter environment, please rerun this cell to show the HTML representation or trust the notebook. <br />On GitHub, the HTML representation is unable to render, please try loading this page with nbviewer.org.</b></div><div class=\"sk-container\" hidden><div class=\"sk-item\"><div class=\"sk-estimator sk-toggleable\"><input class=\"sk-toggleable__control sk-hidden--visually\" id=\"sk-estimator-id-460\" type=\"checkbox\" checked><label for=\"sk-estimator-id-460\" class=\"sk-toggleable__label sk-toggleable__label-arrow\">RandomForestClassifier</label><div class=\"sk-toggleable__content\"><pre>RandomForestClassifier(max_depth=6, random_state=0)</pre></div></div></div></div></div>"
      ],
      "text/plain": [
       "RandomForestClassifier(max_depth=6, random_state=0)"
      ]
     },
     "execution_count": 494,
     "metadata": {},
     "output_type": "execute_result"
    }
   ],
   "source": [
    "clf = RandomForestClassifier(max_depth=6, random_state=0)\n",
    "\n",
    "clf.fit(X_train, y_train)"
   ]
  },
  {
   "cell_type": "code",
   "execution_count": 495,
   "id": "64b89338",
   "metadata": {},
   "outputs": [
    {
     "data": {
      "text/plain": [
       "0.8"
      ]
     },
     "execution_count": 495,
     "metadata": {},
     "output_type": "execute_result"
    }
   ],
   "source": [
    "clf.score(X_validate, y_validate)"
   ]
  },
  {
   "cell_type": "markdown",
   "id": "8d66aa25",
   "metadata": {},
   "source": [
    "#### GridSearchCV"
   ]
  },
  {
   "cell_type": "code",
   "execution_count": 496,
   "id": "487fcaf8",
   "metadata": {},
   "outputs": [],
   "source": [
    "param_grid = [{'n_estimators': [50, 100, 200], 'min_samples_split': [3, 5], 'min_samples_leaf': [3, 6]}]\n",
    "\n",
    "# param_grid = {\n",
    "#     'n_estimators': [100, 200, 300, 400, 500],\n",
    "#     'max_depth': [None, 10, 20, 30, 40, 50],\n",
    "#     'min_samples_split': [2, 5, 10, 15, 20],\n",
    "#     'min_samples_leaf': [1, 2, 4, 6, 8, 10],\n",
    "#     'max_features': ['auto', 'sqrt', 'log2'],\n",
    "#     'bootstrap': [True, False],\n",
    "#     'criterion': ['gini', 'entropy']\n",
    "# }"
   ]
  },
  {
   "cell_type": "code",
   "execution_count": 497,
   "id": "a3e26303",
   "metadata": {},
   "outputs": [],
   "source": [
    "scoring = {\"AUC\": \"roc_auc\", \"Accuracy\": make_scorer(accuracy_score)}"
   ]
  },
  {
   "cell_type": "code",
   "execution_count": 498,
   "id": "3344dd84",
   "metadata": {},
   "outputs": [],
   "source": [
    "rf = RandomForestClassifier(random_state=42)"
   ]
  },
  {
   "cell_type": "code",
   "execution_count": 499,
   "id": "f70f8784",
   "metadata": {},
   "outputs": [],
   "source": [
    "cv = StratifiedKFold(n_splits=10)"
   ]
  },
  {
   "cell_type": "code",
   "execution_count": 500,
   "id": "ec48b9d7",
   "metadata": {},
   "outputs": [],
   "source": [
    "search_rf = GridSearchCV(\n",
    "    estimator=rf, scoring=scoring, param_grid=param_grid, \n",
    "    verbose=1, cv=cv, refit='AUC')"
   ]
  },
  {
   "cell_type": "code",
   "execution_count": 501,
   "id": "f405371f",
   "metadata": {},
   "outputs": [
    {
     "name": "stdout",
     "output_type": "stream",
     "text": [
      "Fitting 10 folds for each of 12 candidates, totalling 120 fits\n"
     ]
    },
    {
     "data": {
      "text/html": [
       "<style>#sk-container-id-55 {color: black;}#sk-container-id-55 pre{padding: 0;}#sk-container-id-55 div.sk-toggleable {background-color: white;}#sk-container-id-55 label.sk-toggleable__label {cursor: pointer;display: block;width: 100%;margin-bottom: 0;padding: 0.3em;box-sizing: border-box;text-align: center;}#sk-container-id-55 label.sk-toggleable__label-arrow:before {content: \"▸\";float: left;margin-right: 0.25em;color: #696969;}#sk-container-id-55 label.sk-toggleable__label-arrow:hover:before {color: black;}#sk-container-id-55 div.sk-estimator:hover label.sk-toggleable__label-arrow:before {color: black;}#sk-container-id-55 div.sk-toggleable__content {max-height: 0;max-width: 0;overflow: hidden;text-align: left;background-color: #f0f8ff;}#sk-container-id-55 div.sk-toggleable__content pre {margin: 0.2em;color: black;border-radius: 0.25em;background-color: #f0f8ff;}#sk-container-id-55 input.sk-toggleable__control:checked~div.sk-toggleable__content {max-height: 200px;max-width: 100%;overflow: auto;}#sk-container-id-55 input.sk-toggleable__control:checked~label.sk-toggleable__label-arrow:before {content: \"▾\";}#sk-container-id-55 div.sk-estimator input.sk-toggleable__control:checked~label.sk-toggleable__label {background-color: #d4ebff;}#sk-container-id-55 div.sk-label input.sk-toggleable__control:checked~label.sk-toggleable__label {background-color: #d4ebff;}#sk-container-id-55 input.sk-hidden--visually {border: 0;clip: rect(1px 1px 1px 1px);clip: rect(1px, 1px, 1px, 1px);height: 1px;margin: -1px;overflow: hidden;padding: 0;position: absolute;width: 1px;}#sk-container-id-55 div.sk-estimator {font-family: monospace;background-color: #f0f8ff;border: 1px dotted black;border-radius: 0.25em;box-sizing: border-box;margin-bottom: 0.5em;}#sk-container-id-55 div.sk-estimator:hover {background-color: #d4ebff;}#sk-container-id-55 div.sk-parallel-item::after {content: \"\";width: 100%;border-bottom: 1px solid gray;flex-grow: 1;}#sk-container-id-55 div.sk-label:hover label.sk-toggleable__label {background-color: #d4ebff;}#sk-container-id-55 div.sk-serial::before {content: \"\";position: absolute;border-left: 1px solid gray;box-sizing: border-box;top: 0;bottom: 0;left: 50%;z-index: 0;}#sk-container-id-55 div.sk-serial {display: flex;flex-direction: column;align-items: center;background-color: white;padding-right: 0.2em;padding-left: 0.2em;position: relative;}#sk-container-id-55 div.sk-item {position: relative;z-index: 1;}#sk-container-id-55 div.sk-parallel {display: flex;align-items: stretch;justify-content: center;background-color: white;position: relative;}#sk-container-id-55 div.sk-item::before, #sk-container-id-55 div.sk-parallel-item::before {content: \"\";position: absolute;border-left: 1px solid gray;box-sizing: border-box;top: 0;bottom: 0;left: 50%;z-index: -1;}#sk-container-id-55 div.sk-parallel-item {display: flex;flex-direction: column;z-index: 1;position: relative;background-color: white;}#sk-container-id-55 div.sk-parallel-item:first-child::after {align-self: flex-end;width: 50%;}#sk-container-id-55 div.sk-parallel-item:last-child::after {align-self: flex-start;width: 50%;}#sk-container-id-55 div.sk-parallel-item:only-child::after {width: 0;}#sk-container-id-55 div.sk-dashed-wrapped {border: 1px dashed gray;margin: 0 0.4em 0.5em 0.4em;box-sizing: border-box;padding-bottom: 0.4em;background-color: white;}#sk-container-id-55 div.sk-label label {font-family: monospace;font-weight: bold;display: inline-block;line-height: 1.2em;}#sk-container-id-55 div.sk-label-container {text-align: center;}#sk-container-id-55 div.sk-container {/* jupyter's `normalize.less` sets `[hidden] { display: none; }` but bootstrap.min.css set `[hidden] { display: none !important; }` so we also need the `!important` here to be able to override the default hidden behavior on the sphinx rendered scikit-learn.org. See: https://github.com/scikit-learn/scikit-learn/issues/21755 */display: inline-block !important;position: relative;}#sk-container-id-55 div.sk-text-repr-fallback {display: none;}</style><div id=\"sk-container-id-55\" class=\"sk-top-container\"><div class=\"sk-text-repr-fallback\"><pre>GridSearchCV(cv=StratifiedKFold(n_splits=10, random_state=None, shuffle=False),\n",
       "             estimator=RandomForestClassifier(random_state=42),\n",
       "             param_grid=[{&#x27;min_samples_leaf&#x27;: [3, 6],\n",
       "                          &#x27;min_samples_split&#x27;: [3, 5],\n",
       "                          &#x27;n_estimators&#x27;: [50, 100, 200]}],\n",
       "             refit=&#x27;AUC&#x27;,\n",
       "             scoring={&#x27;AUC&#x27;: &#x27;roc_auc&#x27;,\n",
       "                      &#x27;Accuracy&#x27;: make_scorer(accuracy_score)},\n",
       "             verbose=1)</pre><b>In a Jupyter environment, please rerun this cell to show the HTML representation or trust the notebook. <br />On GitHub, the HTML representation is unable to render, please try loading this page with nbviewer.org.</b></div><div class=\"sk-container\" hidden><div class=\"sk-item sk-dashed-wrapped\"><div class=\"sk-label-container\"><div class=\"sk-label sk-toggleable\"><input class=\"sk-toggleable__control sk-hidden--visually\" id=\"sk-estimator-id-461\" type=\"checkbox\" ><label for=\"sk-estimator-id-461\" class=\"sk-toggleable__label sk-toggleable__label-arrow\">GridSearchCV</label><div class=\"sk-toggleable__content\"><pre>GridSearchCV(cv=StratifiedKFold(n_splits=10, random_state=None, shuffle=False),\n",
       "             estimator=RandomForestClassifier(random_state=42),\n",
       "             param_grid=[{&#x27;min_samples_leaf&#x27;: [3, 6],\n",
       "                          &#x27;min_samples_split&#x27;: [3, 5],\n",
       "                          &#x27;n_estimators&#x27;: [50, 100, 200]}],\n",
       "             refit=&#x27;AUC&#x27;,\n",
       "             scoring={&#x27;AUC&#x27;: &#x27;roc_auc&#x27;,\n",
       "                      &#x27;Accuracy&#x27;: make_scorer(accuracy_score)},\n",
       "             verbose=1)</pre></div></div></div><div class=\"sk-parallel\"><div class=\"sk-parallel-item\"><div class=\"sk-item\"><div class=\"sk-label-container\"><div class=\"sk-label sk-toggleable\"><input class=\"sk-toggleable__control sk-hidden--visually\" id=\"sk-estimator-id-462\" type=\"checkbox\" ><label for=\"sk-estimator-id-462\" class=\"sk-toggleable__label sk-toggleable__label-arrow\">estimator: RandomForestClassifier</label><div class=\"sk-toggleable__content\"><pre>RandomForestClassifier(random_state=42)</pre></div></div></div><div class=\"sk-serial\"><div class=\"sk-item\"><div class=\"sk-estimator sk-toggleable\"><input class=\"sk-toggleable__control sk-hidden--visually\" id=\"sk-estimator-id-463\" type=\"checkbox\" ><label for=\"sk-estimator-id-463\" class=\"sk-toggleable__label sk-toggleable__label-arrow\">RandomForestClassifier</label><div class=\"sk-toggleable__content\"><pre>RandomForestClassifier(random_state=42)</pre></div></div></div></div></div></div></div></div></div></div>"
      ],
      "text/plain": [
       "GridSearchCV(cv=StratifiedKFold(n_splits=10, random_state=None, shuffle=False),\n",
       "             estimator=RandomForestClassifier(random_state=42),\n",
       "             param_grid=[{'min_samples_leaf': [3, 6],\n",
       "                          'min_samples_split': [3, 5],\n",
       "                          'n_estimators': [50, 100, 200]}],\n",
       "             refit='AUC',\n",
       "             scoring={'AUC': 'roc_auc',\n",
       "                      'Accuracy': make_scorer(accuracy_score)},\n",
       "             verbose=1)"
      ]
     },
     "execution_count": 501,
     "metadata": {},
     "output_type": "execute_result"
    }
   ],
   "source": [
    "search_rf.fit(X_train_test, y_train_test)"
   ]
  },
  {
   "cell_type": "code",
   "execution_count": 502,
   "id": "6270bcbc",
   "metadata": {},
   "outputs": [
    {
     "data": {
      "text/plain": [
       "{'mean_fit_time': array([0.17510455, 0.34390926, 0.69214363, 0.17455437, 0.34638684,\n",
       "        0.70103452, 0.15945859, 0.31435716, 0.62919092, 0.15840201,\n",
       "        0.31254346, 0.6332536 ]),\n",
       " 'std_fit_time': array([0.00499399, 0.00765012, 0.00700173, 0.00416157, 0.007006  ,\n",
       "        0.03746154, 0.00486091, 0.00547715, 0.00993834, 0.00292845,\n",
       "        0.00496807, 0.00803943]),\n",
       " 'mean_score_time': array([0.00849814, 0.01546597, 0.02760122, 0.0091023 , 0.01535602,\n",
       "        0.0277283 , 0.00909617, 0.0148068 , 0.02719786, 0.00900056,\n",
       "        0.01479502, 0.02779071]),\n",
       " 'std_score_time': array([0.00050193, 0.0010821 , 0.00113895, 0.00070242, 0.00054501,\n",
       "        0.00099255, 0.00029937, 0.00097931, 0.00116593, 0.00078355,\n",
       "        0.00060065, 0.001604  ]),\n",
       " 'param_min_samples_leaf': masked_array(data=[3, 3, 3, 3, 3, 3, 6, 6, 6, 6, 6, 6],\n",
       "              mask=[False, False, False, False, False, False, False, False,\n",
       "                    False, False, False, False],\n",
       "        fill_value='?',\n",
       "             dtype=object),\n",
       " 'param_min_samples_split': masked_array(data=[3, 3, 3, 5, 5, 5, 3, 3, 3, 5, 5, 5],\n",
       "              mask=[False, False, False, False, False, False, False, False,\n",
       "                    False, False, False, False],\n",
       "        fill_value='?',\n",
       "             dtype=object),\n",
       " 'param_n_estimators': masked_array(data=[50, 100, 200, 50, 100, 200, 50, 100, 200, 50, 100, 200],\n",
       "              mask=[False, False, False, False, False, False, False, False,\n",
       "                    False, False, False, False],\n",
       "        fill_value='?',\n",
       "             dtype=object),\n",
       " 'params': [{'min_samples_leaf': 3,\n",
       "   'min_samples_split': 3,\n",
       "   'n_estimators': 50},\n",
       "  {'min_samples_leaf': 3, 'min_samples_split': 3, 'n_estimators': 100},\n",
       "  {'min_samples_leaf': 3, 'min_samples_split': 3, 'n_estimators': 200},\n",
       "  {'min_samples_leaf': 3, 'min_samples_split': 5, 'n_estimators': 50},\n",
       "  {'min_samples_leaf': 3, 'min_samples_split': 5, 'n_estimators': 100},\n",
       "  {'min_samples_leaf': 3, 'min_samples_split': 5, 'n_estimators': 200},\n",
       "  {'min_samples_leaf': 6, 'min_samples_split': 3, 'n_estimators': 50},\n",
       "  {'min_samples_leaf': 6, 'min_samples_split': 3, 'n_estimators': 100},\n",
       "  {'min_samples_leaf': 6, 'min_samples_split': 3, 'n_estimators': 200},\n",
       "  {'min_samples_leaf': 6, 'min_samples_split': 5, 'n_estimators': 50},\n",
       "  {'min_samples_leaf': 6, 'min_samples_split': 5, 'n_estimators': 100},\n",
       "  {'min_samples_leaf': 6, 'min_samples_split': 5, 'n_estimators': 200}],\n",
       " 'split0_test_AUC': array([0.94408201, 0.94128611, 0.93942218, 0.94408201, 0.94128611,\n",
       "        0.93942218, 0.94780988, 0.93289842, 0.94035415, 0.94780988,\n",
       "        0.93289842, 0.94035415]),\n",
       " 'split1_test_AUC': array([0.89189189, 0.89189189, 0.88723206, 0.89189189, 0.89189189,\n",
       "        0.88723206, 0.87604846, 0.88070829, 0.88443616, 0.87604846,\n",
       "        0.88070829, 0.88443616]),\n",
       " 'split2_test_AUC': array([0.93289842, 0.92451072, 0.92078285, 0.93289842, 0.92451072,\n",
       "        0.92078285, 0.92544268, 0.92451072, 0.92171482, 0.92544268,\n",
       "        0.92451072, 0.92171482]),\n",
       " 'split3_test_AUC': array([0.91798695, 0.92357875, 0.92451072, 0.91798695, 0.92357875,\n",
       "        0.92451072, 0.92451072, 0.93010252, 0.92544268, 0.92451072,\n",
       "        0.93010252, 0.92544268]),\n",
       " 'split4_test_AUC': array([0.90400746, 0.91146319, 0.91239515, 0.90400746, 0.91146319,\n",
       "        0.91239515, 0.90959925, 0.90773532, 0.91146319, 0.90959925,\n",
       "        0.90773532, 0.91146319]),\n",
       " 'split5_test_AUC': array([0.97779923, 0.98455598, 0.98455598, 0.97779923, 0.98455598,\n",
       "        0.98455598, 0.98359073, 0.98069498, 0.98069498, 0.98359073,\n",
       "        0.98069498, 0.98069498]),\n",
       " 'split6_test_AUC': array([0.93725869, 0.93339768, 0.93725869, 0.93725869, 0.93339768,\n",
       "        0.93725869, 0.93822394, 0.93918919, 0.93822394, 0.93822394,\n",
       "        0.93918919, 0.93822394]),\n",
       " 'split7_test_AUC': array([0.89285714, 0.88320463, 0.88223938, 0.89285714, 0.88320463,\n",
       "        0.88223938, 0.89189189, 0.89189189, 0.89092664, 0.89189189,\n",
       "        0.89189189, 0.89092664]),\n",
       " 'split8_test_AUC': array([0.92471042, 0.92277992, 0.92760618, 0.92471042, 0.92277992,\n",
       "        0.92760618, 0.91505792, 0.92084942, 0.92181467, 0.91505792,\n",
       "        0.92084942, 0.92181467]),\n",
       " 'split9_test_AUC': array([0.94980695, 0.94787645, 0.94401544, 0.94980695, 0.94787645,\n",
       "        0.94401544, 0.94787645, 0.9469112 , 0.94498069, 0.94787645,\n",
       "        0.9469112 , 0.94498069]),\n",
       " 'mean_test_AUC': array([0.92732992, 0.92645453, 0.92600186, 0.92732992, 0.92645453,\n",
       "        0.92600186, 0.92600519, 0.92554919, 0.92600519, 0.92600519,\n",
       "        0.92554919, 0.92600519]),\n",
       " 'std_test_AUC': array([0.02558301, 0.02723652, 0.02774045, 0.02558301, 0.02723652,\n",
       "        0.02774045, 0.02910348, 0.02691135, 0.02629159, 0.02910348,\n",
       "        0.02691135, 0.02629159]),\n",
       " 'rank_test_AUC': array([ 1,  3,  9,  1,  3,  9,  5, 11,  5,  5, 11,  5]),\n",
       " 'split0_test_Accuracy': array([0.87878788, 0.89393939, 0.87878788, 0.87878788, 0.89393939,\n",
       "        0.87878788, 0.84848485, 0.86363636, 0.84848485, 0.84848485,\n",
       "        0.86363636, 0.84848485]),\n",
       " 'split1_test_Accuracy': array([0.81818182, 0.8030303 , 0.8030303 , 0.81818182, 0.8030303 ,\n",
       "        0.8030303 , 0.81818182, 0.8030303 , 0.8030303 , 0.81818182,\n",
       "        0.8030303 , 0.8030303 ]),\n",
       " 'split2_test_Accuracy': array([0.90909091, 0.90909091, 0.89393939, 0.90909091, 0.90909091,\n",
       "        0.89393939, 0.89393939, 0.89393939, 0.89393939, 0.89393939,\n",
       "        0.89393939, 0.89393939]),\n",
       " 'split3_test_Accuracy': array([0.86363636, 0.86363636, 0.86363636, 0.86363636, 0.86363636,\n",
       "        0.86363636, 0.84848485, 0.86363636, 0.86363636, 0.84848485,\n",
       "        0.86363636, 0.86363636]),\n",
       " 'split4_test_Accuracy': array([0.84848485, 0.87878788, 0.86363636, 0.84848485, 0.87878788,\n",
       "        0.86363636, 0.87878788, 0.87878788, 0.86363636, 0.87878788,\n",
       "        0.87878788, 0.86363636]),\n",
       " 'split5_test_Accuracy': array([0.95384615, 0.95384615, 0.95384615, 0.95384615, 0.95384615,\n",
       "        0.95384615, 0.93846154, 0.93846154, 0.93846154, 0.93846154,\n",
       "        0.93846154, 0.93846154]),\n",
       " 'split6_test_Accuracy': array([0.92307692, 0.93846154, 0.93846154, 0.92307692, 0.93846154,\n",
       "        0.93846154, 0.93846154, 0.93846154, 0.93846154, 0.93846154,\n",
       "        0.93846154, 0.93846154]),\n",
       " 'split7_test_Accuracy': array([0.83076923, 0.8       , 0.83076923, 0.83076923, 0.8       ,\n",
       "        0.83076923, 0.84615385, 0.81538462, 0.83076923, 0.84615385,\n",
       "        0.81538462, 0.83076923]),\n",
       " 'split8_test_Accuracy': array([0.8, 0.8, 0.8, 0.8, 0.8, 0.8, 0.8, 0.8, 0.8, 0.8, 0.8, 0.8]),\n",
       " 'split9_test_Accuracy': array([0.87692308, 0.90769231, 0.89230769, 0.87692308, 0.90769231,\n",
       "        0.89230769, 0.87692308, 0.89230769, 0.89230769, 0.87692308,\n",
       "        0.89230769, 0.89230769]),\n",
       " 'mean_test_Accuracy': array([0.87027972, 0.87484848, 0.87184149, 0.87027972, 0.87484848,\n",
       "        0.87184149, 0.86878788, 0.86876457, 0.86727273, 0.86878788,\n",
       "        0.86876457, 0.86727273]),\n",
       " 'std_test_Accuracy': array([0.04596453, 0.0542279 , 0.04882232, 0.04596453, 0.0542279 ,\n",
       "        0.04882232, 0.04374596, 0.04791182, 0.04673136, 0.04374596,\n",
       "        0.04791182, 0.04673136]),\n",
       " 'rank_test_Accuracy': array([ 5,  1,  3,  5,  1,  3,  7,  9, 11,  7,  9, 11])}"
      ]
     },
     "execution_count": 502,
     "metadata": {},
     "output_type": "execute_result"
    }
   ],
   "source": [
    "search_rf.cv_results_"
   ]
  },
  {
   "cell_type": "code",
   "execution_count": 503,
   "id": "d2d4cd4a",
   "metadata": {},
   "outputs": [
    {
     "data": {
      "text/plain": [
       "({'min_samples_leaf': 3, 'min_samples_split': 3, 'n_estimators': 50},\n",
       " RandomForestClassifier(min_samples_leaf=3, min_samples_split=3, n_estimators=50,\n",
       "                        random_state=42))"
      ]
     },
     "execution_count": 503,
     "metadata": {},
     "output_type": "execute_result"
    }
   ],
   "source": [
    "search_rf.best_params_ , search_rf.best_estimator_"
   ]
  },
  {
   "cell_type": "code",
   "execution_count": 504,
   "id": "a10972d4",
   "metadata": {},
   "outputs": [],
   "source": [
    "# Auskommentiert, weil search_rf.best_estimator_ eigentlich genau das macht\n",
    "# rf_best = RandomForestClassifier(\n",
    "#     n_estimators=search.best_params_['n_estimators'], \n",
    "#     min_samples_split=search.best_params_['min_samples_split'],\n",
    "#     min_samples_leaf=search.best_params_['min_samples_leaf'])"
   ]
  },
  {
   "cell_type": "code",
   "execution_count": 505,
   "id": "119fbf15",
   "metadata": {},
   "outputs": [
    {
     "data": {
      "text/plain": [
       "0.7428571428571429"
      ]
     },
     "execution_count": 505,
     "metadata": {},
     "output_type": "execute_result"
    }
   ],
   "source": [
    "## mit den besten Parametern fitten\n",
    "rf_best.fit(X_train_test, y_train_test)\n",
    "accuracy_score(y_validate, search_rf.best_estimator_.predict(X_validate))"
   ]
  },
  {
   "cell_type": "markdown",
   "id": "27e2a4f1-8dde-419a-96f6-ed631df72891",
   "metadata": {},
   "source": [
    "### KNN"
   ]
  },
  {
   "cell_type": "code",
   "execution_count": 506,
   "id": "99aab9f4",
   "metadata": {},
   "outputs": [
    {
     "data": {
      "text/html": [
       "<style>#sk-container-id-56 {color: black;}#sk-container-id-56 pre{padding: 0;}#sk-container-id-56 div.sk-toggleable {background-color: white;}#sk-container-id-56 label.sk-toggleable__label {cursor: pointer;display: block;width: 100%;margin-bottom: 0;padding: 0.3em;box-sizing: border-box;text-align: center;}#sk-container-id-56 label.sk-toggleable__label-arrow:before {content: \"▸\";float: left;margin-right: 0.25em;color: #696969;}#sk-container-id-56 label.sk-toggleable__label-arrow:hover:before {color: black;}#sk-container-id-56 div.sk-estimator:hover label.sk-toggleable__label-arrow:before {color: black;}#sk-container-id-56 div.sk-toggleable__content {max-height: 0;max-width: 0;overflow: hidden;text-align: left;background-color: #f0f8ff;}#sk-container-id-56 div.sk-toggleable__content pre {margin: 0.2em;color: black;border-radius: 0.25em;background-color: #f0f8ff;}#sk-container-id-56 input.sk-toggleable__control:checked~div.sk-toggleable__content {max-height: 200px;max-width: 100%;overflow: auto;}#sk-container-id-56 input.sk-toggleable__control:checked~label.sk-toggleable__label-arrow:before {content: \"▾\";}#sk-container-id-56 div.sk-estimator input.sk-toggleable__control:checked~label.sk-toggleable__label {background-color: #d4ebff;}#sk-container-id-56 div.sk-label input.sk-toggleable__control:checked~label.sk-toggleable__label {background-color: #d4ebff;}#sk-container-id-56 input.sk-hidden--visually {border: 0;clip: rect(1px 1px 1px 1px);clip: rect(1px, 1px, 1px, 1px);height: 1px;margin: -1px;overflow: hidden;padding: 0;position: absolute;width: 1px;}#sk-container-id-56 div.sk-estimator {font-family: monospace;background-color: #f0f8ff;border: 1px dotted black;border-radius: 0.25em;box-sizing: border-box;margin-bottom: 0.5em;}#sk-container-id-56 div.sk-estimator:hover {background-color: #d4ebff;}#sk-container-id-56 div.sk-parallel-item::after {content: \"\";width: 100%;border-bottom: 1px solid gray;flex-grow: 1;}#sk-container-id-56 div.sk-label:hover label.sk-toggleable__label {background-color: #d4ebff;}#sk-container-id-56 div.sk-serial::before {content: \"\";position: absolute;border-left: 1px solid gray;box-sizing: border-box;top: 0;bottom: 0;left: 50%;z-index: 0;}#sk-container-id-56 div.sk-serial {display: flex;flex-direction: column;align-items: center;background-color: white;padding-right: 0.2em;padding-left: 0.2em;position: relative;}#sk-container-id-56 div.sk-item {position: relative;z-index: 1;}#sk-container-id-56 div.sk-parallel {display: flex;align-items: stretch;justify-content: center;background-color: white;position: relative;}#sk-container-id-56 div.sk-item::before, #sk-container-id-56 div.sk-parallel-item::before {content: \"\";position: absolute;border-left: 1px solid gray;box-sizing: border-box;top: 0;bottom: 0;left: 50%;z-index: -1;}#sk-container-id-56 div.sk-parallel-item {display: flex;flex-direction: column;z-index: 1;position: relative;background-color: white;}#sk-container-id-56 div.sk-parallel-item:first-child::after {align-self: flex-end;width: 50%;}#sk-container-id-56 div.sk-parallel-item:last-child::after {align-self: flex-start;width: 50%;}#sk-container-id-56 div.sk-parallel-item:only-child::after {width: 0;}#sk-container-id-56 div.sk-dashed-wrapped {border: 1px dashed gray;margin: 0 0.4em 0.5em 0.4em;box-sizing: border-box;padding-bottom: 0.4em;background-color: white;}#sk-container-id-56 div.sk-label label {font-family: monospace;font-weight: bold;display: inline-block;line-height: 1.2em;}#sk-container-id-56 div.sk-label-container {text-align: center;}#sk-container-id-56 div.sk-container {/* jupyter's `normalize.less` sets `[hidden] { display: none; }` but bootstrap.min.css set `[hidden] { display: none !important; }` so we also need the `!important` here to be able to override the default hidden behavior on the sphinx rendered scikit-learn.org. See: https://github.com/scikit-learn/scikit-learn/issues/21755 */display: inline-block !important;position: relative;}#sk-container-id-56 div.sk-text-repr-fallback {display: none;}</style><div id=\"sk-container-id-56\" class=\"sk-top-container\"><div class=\"sk-text-repr-fallback\"><pre>KNeighborsClassifier()</pre><b>In a Jupyter environment, please rerun this cell to show the HTML representation or trust the notebook. <br />On GitHub, the HTML representation is unable to render, please try loading this page with nbviewer.org.</b></div><div class=\"sk-container\" hidden><div class=\"sk-item\"><div class=\"sk-estimator sk-toggleable\"><input class=\"sk-toggleable__control sk-hidden--visually\" id=\"sk-estimator-id-464\" type=\"checkbox\" checked><label for=\"sk-estimator-id-464\" class=\"sk-toggleable__label sk-toggleable__label-arrow\">KNeighborsClassifier</label><div class=\"sk-toggleable__content\"><pre>KNeighborsClassifier()</pre></div></div></div></div></div>"
      ],
      "text/plain": [
       "KNeighborsClassifier()"
      ]
     },
     "execution_count": 506,
     "metadata": {},
     "output_type": "execute_result"
    }
   ],
   "source": [
    "knn = KNeighborsClassifier()\n",
    "\n",
    "knn.fit(X_train, y_train)"
   ]
  },
  {
   "cell_type": "code",
   "execution_count": 507,
   "id": "321a6f1c",
   "metadata": {},
   "outputs": [
    {
     "data": {
      "text/plain": [
       "0.7428571428571429"
      ]
     },
     "execution_count": 507,
     "metadata": {},
     "output_type": "execute_result"
    }
   ],
   "source": [
    "knn.score(X_validate, y_validate)"
   ]
  },
  {
   "cell_type": "markdown",
   "id": "b01d1f43",
   "metadata": {},
   "source": [
    "#### GridSearch"
   ]
  },
  {
   "cell_type": "code",
   "execution_count": 508,
   "id": "e3f931da",
   "metadata": {},
   "outputs": [],
   "source": [
    "param_grid = [{'n_neighbors':[5, 10, 15], 'weights':['uniform', 'distance'], 'algorithm':['auto', 'ball_tree', 'kd_tree', 'brute'], 'p':[1, 2]}]\n"
   ]
  },
  {
   "cell_type": "code",
   "execution_count": 509,
   "id": "6dd393f9",
   "metadata": {},
   "outputs": [],
   "source": [
    "scoring = {\"AUC\": \"roc_auc\", \"Accuracy\": make_scorer(accuracy_score)}"
   ]
  },
  {
   "cell_type": "code",
   "execution_count": 510,
   "id": "b3c292b8",
   "metadata": {},
   "outputs": [],
   "source": [
    "neighbor = KNeighborsClassifier()"
   ]
  },
  {
   "cell_type": "code",
   "execution_count": 511,
   "id": "de540c2a",
   "metadata": {},
   "outputs": [],
   "source": [
    "cv = StratifiedKFold(n_splits=10)"
   ]
  },
  {
   "cell_type": "code",
   "execution_count": 512,
   "id": "276c9ded",
   "metadata": {},
   "outputs": [],
   "source": [
    "search_knn = GridSearchCV(\n",
    "    estimator=neighbor, scoring=scoring, param_grid=param_grid, \n",
    "    verbose=1, cv=cv, refit='AUC')"
   ]
  },
  {
   "cell_type": "code",
   "execution_count": 513,
   "id": "03173036",
   "metadata": {},
   "outputs": [
    {
     "name": "stdout",
     "output_type": "stream",
     "text": [
      "Fitting 10 folds for each of 48 candidates, totalling 480 fits\n"
     ]
    },
    {
     "data": {
      "text/html": [
       "<style>#sk-container-id-57 {color: black;}#sk-container-id-57 pre{padding: 0;}#sk-container-id-57 div.sk-toggleable {background-color: white;}#sk-container-id-57 label.sk-toggleable__label {cursor: pointer;display: block;width: 100%;margin-bottom: 0;padding: 0.3em;box-sizing: border-box;text-align: center;}#sk-container-id-57 label.sk-toggleable__label-arrow:before {content: \"▸\";float: left;margin-right: 0.25em;color: #696969;}#sk-container-id-57 label.sk-toggleable__label-arrow:hover:before {color: black;}#sk-container-id-57 div.sk-estimator:hover label.sk-toggleable__label-arrow:before {color: black;}#sk-container-id-57 div.sk-toggleable__content {max-height: 0;max-width: 0;overflow: hidden;text-align: left;background-color: #f0f8ff;}#sk-container-id-57 div.sk-toggleable__content pre {margin: 0.2em;color: black;border-radius: 0.25em;background-color: #f0f8ff;}#sk-container-id-57 input.sk-toggleable__control:checked~div.sk-toggleable__content {max-height: 200px;max-width: 100%;overflow: auto;}#sk-container-id-57 input.sk-toggleable__control:checked~label.sk-toggleable__label-arrow:before {content: \"▾\";}#sk-container-id-57 div.sk-estimator input.sk-toggleable__control:checked~label.sk-toggleable__label {background-color: #d4ebff;}#sk-container-id-57 div.sk-label input.sk-toggleable__control:checked~label.sk-toggleable__label {background-color: #d4ebff;}#sk-container-id-57 input.sk-hidden--visually {border: 0;clip: rect(1px 1px 1px 1px);clip: rect(1px, 1px, 1px, 1px);height: 1px;margin: -1px;overflow: hidden;padding: 0;position: absolute;width: 1px;}#sk-container-id-57 div.sk-estimator {font-family: monospace;background-color: #f0f8ff;border: 1px dotted black;border-radius: 0.25em;box-sizing: border-box;margin-bottom: 0.5em;}#sk-container-id-57 div.sk-estimator:hover {background-color: #d4ebff;}#sk-container-id-57 div.sk-parallel-item::after {content: \"\";width: 100%;border-bottom: 1px solid gray;flex-grow: 1;}#sk-container-id-57 div.sk-label:hover label.sk-toggleable__label {background-color: #d4ebff;}#sk-container-id-57 div.sk-serial::before {content: \"\";position: absolute;border-left: 1px solid gray;box-sizing: border-box;top: 0;bottom: 0;left: 50%;z-index: 0;}#sk-container-id-57 div.sk-serial {display: flex;flex-direction: column;align-items: center;background-color: white;padding-right: 0.2em;padding-left: 0.2em;position: relative;}#sk-container-id-57 div.sk-item {position: relative;z-index: 1;}#sk-container-id-57 div.sk-parallel {display: flex;align-items: stretch;justify-content: center;background-color: white;position: relative;}#sk-container-id-57 div.sk-item::before, #sk-container-id-57 div.sk-parallel-item::before {content: \"\";position: absolute;border-left: 1px solid gray;box-sizing: border-box;top: 0;bottom: 0;left: 50%;z-index: -1;}#sk-container-id-57 div.sk-parallel-item {display: flex;flex-direction: column;z-index: 1;position: relative;background-color: white;}#sk-container-id-57 div.sk-parallel-item:first-child::after {align-self: flex-end;width: 50%;}#sk-container-id-57 div.sk-parallel-item:last-child::after {align-self: flex-start;width: 50%;}#sk-container-id-57 div.sk-parallel-item:only-child::after {width: 0;}#sk-container-id-57 div.sk-dashed-wrapped {border: 1px dashed gray;margin: 0 0.4em 0.5em 0.4em;box-sizing: border-box;padding-bottom: 0.4em;background-color: white;}#sk-container-id-57 div.sk-label label {font-family: monospace;font-weight: bold;display: inline-block;line-height: 1.2em;}#sk-container-id-57 div.sk-label-container {text-align: center;}#sk-container-id-57 div.sk-container {/* jupyter's `normalize.less` sets `[hidden] { display: none; }` but bootstrap.min.css set `[hidden] { display: none !important; }` so we also need the `!important` here to be able to override the default hidden behavior on the sphinx rendered scikit-learn.org. See: https://github.com/scikit-learn/scikit-learn/issues/21755 */display: inline-block !important;position: relative;}#sk-container-id-57 div.sk-text-repr-fallback {display: none;}</style><div id=\"sk-container-id-57\" class=\"sk-top-container\"><div class=\"sk-text-repr-fallback\"><pre>GridSearchCV(cv=StratifiedKFold(n_splits=10, random_state=None, shuffle=False),\n",
       "             estimator=KNeighborsClassifier(),\n",
       "             param_grid=[{&#x27;algorithm&#x27;: [&#x27;auto&#x27;, &#x27;ball_tree&#x27;, &#x27;kd_tree&#x27;,\n",
       "                                        &#x27;brute&#x27;],\n",
       "                          &#x27;n_neighbors&#x27;: [5, 10, 15], &#x27;p&#x27;: [1, 2],\n",
       "                          &#x27;weights&#x27;: [&#x27;uniform&#x27;, &#x27;distance&#x27;]}],\n",
       "             refit=&#x27;AUC&#x27;,\n",
       "             scoring={&#x27;AUC&#x27;: &#x27;roc_auc&#x27;,\n",
       "                      &#x27;Accuracy&#x27;: make_scorer(accuracy_score)},\n",
       "             verbose=1)</pre><b>In a Jupyter environment, please rerun this cell to show the HTML representation or trust the notebook. <br />On GitHub, the HTML representation is unable to render, please try loading this page with nbviewer.org.</b></div><div class=\"sk-container\" hidden><div class=\"sk-item sk-dashed-wrapped\"><div class=\"sk-label-container\"><div class=\"sk-label sk-toggleable\"><input class=\"sk-toggleable__control sk-hidden--visually\" id=\"sk-estimator-id-465\" type=\"checkbox\" ><label for=\"sk-estimator-id-465\" class=\"sk-toggleable__label sk-toggleable__label-arrow\">GridSearchCV</label><div class=\"sk-toggleable__content\"><pre>GridSearchCV(cv=StratifiedKFold(n_splits=10, random_state=None, shuffle=False),\n",
       "             estimator=KNeighborsClassifier(),\n",
       "             param_grid=[{&#x27;algorithm&#x27;: [&#x27;auto&#x27;, &#x27;ball_tree&#x27;, &#x27;kd_tree&#x27;,\n",
       "                                        &#x27;brute&#x27;],\n",
       "                          &#x27;n_neighbors&#x27;: [5, 10, 15], &#x27;p&#x27;: [1, 2],\n",
       "                          &#x27;weights&#x27;: [&#x27;uniform&#x27;, &#x27;distance&#x27;]}],\n",
       "             refit=&#x27;AUC&#x27;,\n",
       "             scoring={&#x27;AUC&#x27;: &#x27;roc_auc&#x27;,\n",
       "                      &#x27;Accuracy&#x27;: make_scorer(accuracy_score)},\n",
       "             verbose=1)</pre></div></div></div><div class=\"sk-parallel\"><div class=\"sk-parallel-item\"><div class=\"sk-item\"><div class=\"sk-label-container\"><div class=\"sk-label sk-toggleable\"><input class=\"sk-toggleable__control sk-hidden--visually\" id=\"sk-estimator-id-466\" type=\"checkbox\" ><label for=\"sk-estimator-id-466\" class=\"sk-toggleable__label sk-toggleable__label-arrow\">estimator: KNeighborsClassifier</label><div class=\"sk-toggleable__content\"><pre>KNeighborsClassifier()</pre></div></div></div><div class=\"sk-serial\"><div class=\"sk-item\"><div class=\"sk-estimator sk-toggleable\"><input class=\"sk-toggleable__control sk-hidden--visually\" id=\"sk-estimator-id-467\" type=\"checkbox\" ><label for=\"sk-estimator-id-467\" class=\"sk-toggleable__label sk-toggleable__label-arrow\">KNeighborsClassifier</label><div class=\"sk-toggleable__content\"><pre>KNeighborsClassifier()</pre></div></div></div></div></div></div></div></div></div></div>"
      ],
      "text/plain": [
       "GridSearchCV(cv=StratifiedKFold(n_splits=10, random_state=None, shuffle=False),\n",
       "             estimator=KNeighborsClassifier(),\n",
       "             param_grid=[{'algorithm': ['auto', 'ball_tree', 'kd_tree',\n",
       "                                        'brute'],\n",
       "                          'n_neighbors': [5, 10, 15], 'p': [1, 2],\n",
       "                          'weights': ['uniform', 'distance']}],\n",
       "             refit='AUC',\n",
       "             scoring={'AUC': 'roc_auc',\n",
       "                      'Accuracy': make_scorer(accuracy_score)},\n",
       "             verbose=1)"
      ]
     },
     "execution_count": 513,
     "metadata": {},
     "output_type": "execute_result"
    }
   ],
   "source": [
    "search_knn.fit(X_train_test, y_train_test)"
   ]
  },
  {
   "cell_type": "code",
   "execution_count": 514,
   "id": "5c322664",
   "metadata": {},
   "outputs": [
    {
     "data": {
      "text/plain": [
       "{'mean_fit_time': array([0.00220623, 0.00200124, 0.00200043, 0.00189962, 0.00189703,\n",
       "        0.00180092, 0.00179994, 0.00170019, 0.0017015 , 0.00190101,\n",
       "        0.00150156, 0.00161378, 0.00140059, 0.00119903, 0.00149984,\n",
       "        0.00220096, 0.00160439, 0.00159578, 0.0016011 , 0.00149581,\n",
       "        0.00105491, 0.00130014, 0.0012959 , 0.00109918, 0.00159273,\n",
       "        0.00190516, 0.00200021, 0.00190153, 0.00216534, 0.00159278,\n",
       "        0.00169985, 0.00179832, 0.00170009, 0.00190036, 0.00170002,\n",
       "        0.00190017, 0.00079968, 0.00130115, 0.00179942, 0.00189958,\n",
       "        0.00200081, 0.00239851, 0.00200114, 0.00180013, 0.00229926,\n",
       "        0.00200577, 0.00249982, 0.00230007]),\n",
       " 'std_fit_time': array([3.96962426e-04, 4.63514170e-06, 4.48037107e-04, 2.99740862e-04,\n",
       "        2.98716921e-04, 3.98296318e-04, 3.98936530e-04, 4.56974415e-04,\n",
       "        4.57267433e-04, 3.00236896e-04, 5.01222066e-04, 5.05196267e-04,\n",
       "        4.89206344e-04, 3.99953849e-04, 4.99869871e-04, 9.80161862e-04,\n",
       "        6.59210514e-04, 4.86316021e-04, 4.90125978e-04, 5.05848766e-04,\n",
       "        1.54847065e-04, 4.58276566e-04, 4.53299561e-04, 2.99989793e-04,\n",
       "        4.83867028e-04, 3.03161065e-04, 1.18371883e-06, 5.40833397e-04,\n",
       "        9.91416992e-04, 4.84363867e-04, 4.58156869e-04, 3.99170921e-04,\n",
       "        4.58573245e-04, 3.00387485e-04, 4.58214349e-04, 2.99308038e-04,\n",
       "        3.99844924e-04, 4.60296397e-04, 3.99447516e-04, 5.38337961e-04,\n",
       "        6.32114103e-04, 7.99614360e-04, 6.33242243e-04, 7.48508141e-04,\n",
       "        6.39604468e-04, 6.41117169e-04, 5.00064689e-04, 4.58383511e-04]),\n",
       " 'mean_score_time': array([0.00849378, 0.00429893, 0.00729961, 0.00410237, 0.00760026,\n",
       "        0.00409904, 0.00750027, 0.00439973, 0.00830023, 0.00429902,\n",
       "        0.00725324, 0.00415943, 0.00749886, 0.00419707, 0.00750022,\n",
       "        0.00680237, 0.01119931, 0.00420163, 0.00819902, 0.00475197,\n",
       "        0.00839598, 0.00489929, 0.00780838, 0.00459609, 0.00680749,\n",
       "        0.00349443, 0.00749958, 0.00346351, 0.00829153, 0.00450032,\n",
       "        0.0076998 , 0.00430171, 0.00839953, 0.00449994, 0.00799994,\n",
       "        0.00419996, 0.00239985, 0.21630447, 0.25936172, 0.27385812,\n",
       "        0.00609925, 0.24155641, 0.28921866, 0.28436244, 0.00569985,\n",
       "        0.29722598, 0.30852053, 0.28201396]),\n",
       " 'std_score_time': array([0.00102623, 0.00045595, 0.00064035, 0.00053794, 0.00066298,\n",
       "        0.0005387 , 0.00067113, 0.00048905, 0.00045647, 0.00045868,\n",
       "        0.00087106, 0.00063744, 0.00049971, 0.00040228, 0.00067145,\n",
       "        0.00322396, 0.00685242, 0.0003992 , 0.0004001 , 0.00040251,\n",
       "        0.00091836, 0.00029978, 0.00059496, 0.00048735, 0.00040362,\n",
       "        0.00049543, 0.00049951, 0.00055411, 0.00091334, 0.00050008,\n",
       "        0.00064002, 0.00046134, 0.00066337, 0.00050108, 0.00044766,\n",
       "        0.00039968, 0.00048994, 0.02161515, 0.01136166, 0.01173504,\n",
       "        0.00094332, 0.0104118 , 0.0110804 , 0.02316134, 0.00100528,\n",
       "        0.06347429, 0.02770072, 0.01757376]),\n",
       " 'param_algorithm': masked_array(data=['auto', 'auto', 'auto', 'auto', 'auto', 'auto', 'auto',\n",
       "                    'auto', 'auto', 'auto', 'auto', 'auto', 'ball_tree',\n",
       "                    'ball_tree', 'ball_tree', 'ball_tree', 'ball_tree',\n",
       "                    'ball_tree', 'ball_tree', 'ball_tree', 'ball_tree',\n",
       "                    'ball_tree', 'ball_tree', 'ball_tree', 'kd_tree',\n",
       "                    'kd_tree', 'kd_tree', 'kd_tree', 'kd_tree', 'kd_tree',\n",
       "                    'kd_tree', 'kd_tree', 'kd_tree', 'kd_tree', 'kd_tree',\n",
       "                    'kd_tree', 'brute', 'brute', 'brute', 'brute', 'brute',\n",
       "                    'brute', 'brute', 'brute', 'brute', 'brute', 'brute',\n",
       "                    'brute'],\n",
       "              mask=[False, False, False, False, False, False, False, False,\n",
       "                    False, False, False, False, False, False, False, False,\n",
       "                    False, False, False, False, False, False, False, False,\n",
       "                    False, False, False, False, False, False, False, False,\n",
       "                    False, False, False, False, False, False, False, False,\n",
       "                    False, False, False, False, False, False, False, False],\n",
       "        fill_value='?',\n",
       "             dtype=object),\n",
       " 'param_n_neighbors': masked_array(data=[5, 5, 5, 5, 10, 10, 10, 10, 15, 15, 15, 15, 5, 5, 5, 5,\n",
       "                    10, 10, 10, 10, 15, 15, 15, 15, 5, 5, 5, 5, 10, 10, 10,\n",
       "                    10, 15, 15, 15, 15, 5, 5, 5, 5, 10, 10, 10, 10, 15, 15,\n",
       "                    15, 15],\n",
       "              mask=[False, False, False, False, False, False, False, False,\n",
       "                    False, False, False, False, False, False, False, False,\n",
       "                    False, False, False, False, False, False, False, False,\n",
       "                    False, False, False, False, False, False, False, False,\n",
       "                    False, False, False, False, False, False, False, False,\n",
       "                    False, False, False, False, False, False, False, False],\n",
       "        fill_value='?',\n",
       "             dtype=object),\n",
       " 'param_p': masked_array(data=[1, 1, 2, 2, 1, 1, 2, 2, 1, 1, 2, 2, 1, 1, 2, 2, 1, 1,\n",
       "                    2, 2, 1, 1, 2, 2, 1, 1, 2, 2, 1, 1, 2, 2, 1, 1, 2, 2,\n",
       "                    1, 1, 2, 2, 1, 1, 2, 2, 1, 1, 2, 2],\n",
       "              mask=[False, False, False, False, False, False, False, False,\n",
       "                    False, False, False, False, False, False, False, False,\n",
       "                    False, False, False, False, False, False, False, False,\n",
       "                    False, False, False, False, False, False, False, False,\n",
       "                    False, False, False, False, False, False, False, False,\n",
       "                    False, False, False, False, False, False, False, False],\n",
       "        fill_value='?',\n",
       "             dtype=object),\n",
       " 'param_weights': masked_array(data=['uniform', 'distance', 'uniform', 'distance',\n",
       "                    'uniform', 'distance', 'uniform', 'distance',\n",
       "                    'uniform', 'distance', 'uniform', 'distance',\n",
       "                    'uniform', 'distance', 'uniform', 'distance',\n",
       "                    'uniform', 'distance', 'uniform', 'distance',\n",
       "                    'uniform', 'distance', 'uniform', 'distance',\n",
       "                    'uniform', 'distance', 'uniform', 'distance',\n",
       "                    'uniform', 'distance', 'uniform', 'distance',\n",
       "                    'uniform', 'distance', 'uniform', 'distance',\n",
       "                    'uniform', 'distance', 'uniform', 'distance',\n",
       "                    'uniform', 'distance', 'uniform', 'distance',\n",
       "                    'uniform', 'distance', 'uniform', 'distance'],\n",
       "              mask=[False, False, False, False, False, False, False, False,\n",
       "                    False, False, False, False, False, False, False, False,\n",
       "                    False, False, False, False, False, False, False, False,\n",
       "                    False, False, False, False, False, False, False, False,\n",
       "                    False, False, False, False, False, False, False, False,\n",
       "                    False, False, False, False, False, False, False, False],\n",
       "        fill_value='?',\n",
       "             dtype=object),\n",
       " 'params': [{'algorithm': 'auto',\n",
       "   'n_neighbors': 5,\n",
       "   'p': 1,\n",
       "   'weights': 'uniform'},\n",
       "  {'algorithm': 'auto', 'n_neighbors': 5, 'p': 1, 'weights': 'distance'},\n",
       "  {'algorithm': 'auto', 'n_neighbors': 5, 'p': 2, 'weights': 'uniform'},\n",
       "  {'algorithm': 'auto', 'n_neighbors': 5, 'p': 2, 'weights': 'distance'},\n",
       "  {'algorithm': 'auto', 'n_neighbors': 10, 'p': 1, 'weights': 'uniform'},\n",
       "  {'algorithm': 'auto', 'n_neighbors': 10, 'p': 1, 'weights': 'distance'},\n",
       "  {'algorithm': 'auto', 'n_neighbors': 10, 'p': 2, 'weights': 'uniform'},\n",
       "  {'algorithm': 'auto', 'n_neighbors': 10, 'p': 2, 'weights': 'distance'},\n",
       "  {'algorithm': 'auto', 'n_neighbors': 15, 'p': 1, 'weights': 'uniform'},\n",
       "  {'algorithm': 'auto', 'n_neighbors': 15, 'p': 1, 'weights': 'distance'},\n",
       "  {'algorithm': 'auto', 'n_neighbors': 15, 'p': 2, 'weights': 'uniform'},\n",
       "  {'algorithm': 'auto', 'n_neighbors': 15, 'p': 2, 'weights': 'distance'},\n",
       "  {'algorithm': 'ball_tree', 'n_neighbors': 5, 'p': 1, 'weights': 'uniform'},\n",
       "  {'algorithm': 'ball_tree', 'n_neighbors': 5, 'p': 1, 'weights': 'distance'},\n",
       "  {'algorithm': 'ball_tree', 'n_neighbors': 5, 'p': 2, 'weights': 'uniform'},\n",
       "  {'algorithm': 'ball_tree', 'n_neighbors': 5, 'p': 2, 'weights': 'distance'},\n",
       "  {'algorithm': 'ball_tree', 'n_neighbors': 10, 'p': 1, 'weights': 'uniform'},\n",
       "  {'algorithm': 'ball_tree', 'n_neighbors': 10, 'p': 1, 'weights': 'distance'},\n",
       "  {'algorithm': 'ball_tree', 'n_neighbors': 10, 'p': 2, 'weights': 'uniform'},\n",
       "  {'algorithm': 'ball_tree', 'n_neighbors': 10, 'p': 2, 'weights': 'distance'},\n",
       "  {'algorithm': 'ball_tree', 'n_neighbors': 15, 'p': 1, 'weights': 'uniform'},\n",
       "  {'algorithm': 'ball_tree', 'n_neighbors': 15, 'p': 1, 'weights': 'distance'},\n",
       "  {'algorithm': 'ball_tree', 'n_neighbors': 15, 'p': 2, 'weights': 'uniform'},\n",
       "  {'algorithm': 'ball_tree', 'n_neighbors': 15, 'p': 2, 'weights': 'distance'},\n",
       "  {'algorithm': 'kd_tree', 'n_neighbors': 5, 'p': 1, 'weights': 'uniform'},\n",
       "  {'algorithm': 'kd_tree', 'n_neighbors': 5, 'p': 1, 'weights': 'distance'},\n",
       "  {'algorithm': 'kd_tree', 'n_neighbors': 5, 'p': 2, 'weights': 'uniform'},\n",
       "  {'algorithm': 'kd_tree', 'n_neighbors': 5, 'p': 2, 'weights': 'distance'},\n",
       "  {'algorithm': 'kd_tree', 'n_neighbors': 10, 'p': 1, 'weights': 'uniform'},\n",
       "  {'algorithm': 'kd_tree', 'n_neighbors': 10, 'p': 1, 'weights': 'distance'},\n",
       "  {'algorithm': 'kd_tree', 'n_neighbors': 10, 'p': 2, 'weights': 'uniform'},\n",
       "  {'algorithm': 'kd_tree', 'n_neighbors': 10, 'p': 2, 'weights': 'distance'},\n",
       "  {'algorithm': 'kd_tree', 'n_neighbors': 15, 'p': 1, 'weights': 'uniform'},\n",
       "  {'algorithm': 'kd_tree', 'n_neighbors': 15, 'p': 1, 'weights': 'distance'},\n",
       "  {'algorithm': 'kd_tree', 'n_neighbors': 15, 'p': 2, 'weights': 'uniform'},\n",
       "  {'algorithm': 'kd_tree', 'n_neighbors': 15, 'p': 2, 'weights': 'distance'},\n",
       "  {'algorithm': 'brute', 'n_neighbors': 5, 'p': 1, 'weights': 'uniform'},\n",
       "  {'algorithm': 'brute', 'n_neighbors': 5, 'p': 1, 'weights': 'distance'},\n",
       "  {'algorithm': 'brute', 'n_neighbors': 5, 'p': 2, 'weights': 'uniform'},\n",
       "  {'algorithm': 'brute', 'n_neighbors': 5, 'p': 2, 'weights': 'distance'},\n",
       "  {'algorithm': 'brute', 'n_neighbors': 10, 'p': 1, 'weights': 'uniform'},\n",
       "  {'algorithm': 'brute', 'n_neighbors': 10, 'p': 1, 'weights': 'distance'},\n",
       "  {'algorithm': 'brute', 'n_neighbors': 10, 'p': 2, 'weights': 'uniform'},\n",
       "  {'algorithm': 'brute', 'n_neighbors': 10, 'p': 2, 'weights': 'distance'},\n",
       "  {'algorithm': 'brute', 'n_neighbors': 15, 'p': 1, 'weights': 'uniform'},\n",
       "  {'algorithm': 'brute', 'n_neighbors': 15, 'p': 1, 'weights': 'distance'},\n",
       "  {'algorithm': 'brute', 'n_neighbors': 15, 'p': 2, 'weights': 'uniform'},\n",
       "  {'algorithm': 'brute', 'n_neighbors': 15, 'p': 2, 'weights': 'distance'}],\n",
       " 'split0_test_AUC': array([0.9249767 , 0.93150047, 0.9361603 , 0.94082013, 0.93755825,\n",
       "        0.94128611, 0.93476235, 0.94268406, 0.95945946, 0.95153774,\n",
       "        0.95526561, 0.95153774, 0.9249767 , 0.93150047, 0.9361603 ,\n",
       "        0.94082013, 0.93755825, 0.94128611, 0.93476235, 0.94268406,\n",
       "        0.95945946, 0.95153774, 0.95526561, 0.95153774, 0.9249767 ,\n",
       "        0.93150047, 0.9361603 , 0.94082013, 0.93755825, 0.94128611,\n",
       "        0.93476235, 0.94268406, 0.95945946, 0.95153774, 0.95526561,\n",
       "        0.95153774,        nan, 0.93150047, 0.9361603 , 0.94082013,\n",
       "               nan, 0.94128611, 0.93476235, 0.94268406,        nan,\n",
       "        0.95153774, 0.95526561, 0.95153774]),\n",
       " 'split1_test_AUC': array([0.85181733, 0.8555452 , 0.87744641, 0.87837838, 0.87744641,\n",
       "        0.88164026, 0.88397018, 0.89655172, 0.87138863, 0.87371855,\n",
       "        0.89328984, 0.89561976, 0.85181733, 0.8555452 , 0.87744641,\n",
       "        0.87837838, 0.87744641, 0.88164026, 0.88397018, 0.89655172,\n",
       "        0.87138863, 0.87371855, 0.89328984, 0.89561976, 0.85181733,\n",
       "        0.8555452 , 0.87744641, 0.87837838, 0.87744641, 0.88164026,\n",
       "        0.88397018, 0.89655172, 0.87138863, 0.87371855, 0.89328984,\n",
       "        0.89561976,        nan, 0.8555452 , 0.87744641, 0.87837838,\n",
       "               nan, 0.88164026, 0.88397018, 0.89655172,        nan,\n",
       "        0.87371855, 0.89328984, 0.89561976]),\n",
       " 'split2_test_AUC': array([0.91612302, 0.92264678, 0.91891892, 0.92637465, 0.91286114,\n",
       "        0.91798695, 0.90447344, 0.91332712, 0.90773532, 0.91519105,\n",
       "        0.92311277, 0.92637465, 0.91612302, 0.92264678, 0.91891892,\n",
       "        0.92637465, 0.91286114, 0.91798695, 0.90447344, 0.91332712,\n",
       "        0.90773532, 0.91519105, 0.92311277, 0.92637465, 0.91612302,\n",
       "        0.92264678, 0.91891892, 0.92637465, 0.91286114, 0.91798695,\n",
       "        0.90447344, 0.91332712, 0.90773532, 0.91519105, 0.92311277,\n",
       "        0.92637465,        nan, 0.92264678, 0.91891892, 0.92637465,\n",
       "               nan, 0.91798695, 0.90447344, 0.91332712,        nan,\n",
       "        0.91519105, 0.92311277, 0.92637465]),\n",
       " 'split3_test_AUC': array([0.8723206 , 0.87465051, 0.88350419, 0.88350419, 0.9109972 ,\n",
       "        0.90726934, 0.87931034, 0.87884436, 0.89095993, 0.89282386,\n",
       "        0.90866729, 0.91006524, 0.8723206 , 0.87465051, 0.88350419,\n",
       "        0.88350419, 0.9109972 , 0.90726934, 0.87931034, 0.87884436,\n",
       "        0.89095993, 0.89282386, 0.90866729, 0.91006524, 0.8723206 ,\n",
       "        0.87465051, 0.88350419, 0.88350419, 0.9109972 , 0.90726934,\n",
       "        0.87931034, 0.87884436, 0.89095993, 0.89282386, 0.90866729,\n",
       "        0.91006524,        nan, 0.87465051, 0.88350419, 0.88350419,\n",
       "               nan, 0.90726934, 0.87931034, 0.87884436,        nan,\n",
       "        0.89282386, 0.90866729, 0.91006524]),\n",
       " 'split4_test_AUC': array([0.89049394, 0.89701771, 0.90214352, 0.9082013 , 0.90121156,\n",
       "        0.90307549, 0.90307549, 0.90680336, 0.92451072, 0.91985089,\n",
       "        0.91286114, 0.91053122, 0.89049394, 0.89701771, 0.90214352,\n",
       "        0.9082013 , 0.90121156, 0.90307549, 0.90307549, 0.90680336,\n",
       "        0.92451072, 0.91985089, 0.91286114, 0.91053122, 0.89049394,\n",
       "        0.89701771, 0.90214352, 0.9082013 , 0.90121156, 0.90307549,\n",
       "        0.90307549, 0.90680336, 0.92451072, 0.91985089, 0.91286114,\n",
       "        0.91053122,        nan, 0.89701771, 0.90214352, 0.9082013 ,\n",
       "               nan, 0.90307549, 0.90307549, 0.90680336,        nan,\n",
       "        0.91985089, 0.91286114, 0.91053122]),\n",
       " 'split5_test_AUC': array([0.97104247, 0.96814672, 0.9715251 , 0.96814672, 0.96814672,\n",
       "        0.96669884, 0.96766409, 0.96525097, 0.97104247, 0.96814672,\n",
       "        0.97297297, 0.96911197, 0.97104247, 0.96814672, 0.9715251 ,\n",
       "        0.96814672, 0.96814672, 0.96669884, 0.96766409, 0.96525097,\n",
       "        0.97104247, 0.96814672, 0.97297297, 0.96911197, 0.97104247,\n",
       "        0.96814672, 0.9715251 , 0.96814672, 0.96814672, 0.96669884,\n",
       "        0.96766409, 0.96525097, 0.97104247, 0.96814672, 0.97297297,\n",
       "        0.96911197,        nan, 0.96814672, 0.9715251 , 0.96814672,\n",
       "               nan, 0.96669884, 0.96766409, 0.96525097,        nan,\n",
       "        0.96814672, 0.97297297, 0.96911197]),\n",
       " 'split6_test_AUC': array([0.94256757, 0.93725869, 0.93436293, 0.92953668, 0.93967181,\n",
       "        0.93918919, 0.93436293, 0.93532819, 0.92760618, 0.93146718,\n",
       "        0.93339768, 0.93436293, 0.94256757, 0.93725869, 0.93436293,\n",
       "        0.92953668, 0.93967181, 0.93918919, 0.93436293, 0.93532819,\n",
       "        0.92760618, 0.93146718, 0.93339768, 0.93436293, 0.94256757,\n",
       "        0.93725869, 0.93436293, 0.92953668, 0.93967181, 0.93918919,\n",
       "        0.93436293, 0.93532819, 0.92760618, 0.93146718, 0.93339768,\n",
       "        0.93436293,        nan, 0.93725869, 0.93436293, 0.92953668,\n",
       "               nan, 0.93918919, 0.93436293, 0.93532819,        nan,\n",
       "        0.93146718, 0.93339768, 0.93436293]),\n",
       " 'split7_test_AUC': array([0.8484556 , 0.84169884, 0.8465251 , 0.84459459, 0.84990347,\n",
       "        0.84459459, 0.86583012, 0.86196911, 0.878861  , 0.87162162,\n",
       "        0.86920849, 0.86486486, 0.8484556 , 0.84169884, 0.8465251 ,\n",
       "        0.84459459, 0.84990347, 0.84459459, 0.86583012, 0.86196911,\n",
       "        0.878861  , 0.87162162, 0.86920849, 0.86486486, 0.8484556 ,\n",
       "        0.84169884, 0.8465251 , 0.84459459, 0.84990347, 0.84459459,\n",
       "        0.86583012, 0.86196911, 0.878861  , 0.87162162, 0.86920849,\n",
       "        0.86486486,        nan, 0.84169884, 0.8465251 , 0.84459459,\n",
       "               nan, 0.84459459, 0.86583012, 0.86196911,        nan,\n",
       "        0.87162162, 0.86920849, 0.86486486]),\n",
       " 'split8_test_AUC': array([0.86631274, 0.87065637, 0.89671815, 0.90106178, 0.92471042,\n",
       "        0.92567568, 0.91409266, 0.91312741, 0.92326255, 0.92857143,\n",
       "        0.92664093, 0.93532819, 0.86631274, 0.87065637, 0.89671815,\n",
       "        0.90106178, 0.92471042, 0.92567568, 0.91409266, 0.91312741,\n",
       "        0.92326255, 0.92857143, 0.92664093, 0.93532819, 0.86631274,\n",
       "        0.87065637, 0.89671815, 0.90106178, 0.92471042, 0.92567568,\n",
       "        0.91409266, 0.91312741, 0.92326255, 0.92857143, 0.92664093,\n",
       "        0.93532819,        nan, 0.87065637, 0.89671815, 0.90106178,\n",
       "               nan, 0.92567568, 0.91409266, 0.91312741,        nan,\n",
       "        0.92857143, 0.92664093, 0.93532819]),\n",
       " 'split9_test_AUC': array([0.90878378, 0.90540541, 0.92471042, 0.9242278 , 0.94256757,\n",
       "        0.94111969, 0.9261583 , 0.9261583 , 0.94015444, 0.93822394,\n",
       "        0.93436293, 0.93774131, 0.90878378, 0.90540541, 0.92471042,\n",
       "        0.9242278 , 0.94256757, 0.94111969, 0.9261583 , 0.9261583 ,\n",
       "        0.94015444, 0.93822394, 0.93436293, 0.93774131, 0.90878378,\n",
       "        0.90540541, 0.92471042, 0.9242278 , 0.94256757, 0.94111969,\n",
       "        0.9261583 , 0.9261583 , 0.94015444, 0.93822394, 0.93436293,\n",
       "        0.93774131,        nan, 0.90540541, 0.92471042, 0.9242278 ,\n",
       "               nan, 0.94111969, 0.9261583 , 0.9261583 ,        nan,\n",
       "        0.93822394, 0.93436293, 0.93774131]),\n",
       " 'mean_test_AUC': array([0.89928938, 0.90045267, 0.9092015 , 0.91048462, 0.91650746,\n",
       "        0.91685361, 0.91136999, 0.91400446, 0.91949807, 0.9191153 ,\n",
       "        0.92297797, 0.92355379, 0.89928938, 0.90045267, 0.9092015 ,\n",
       "        0.91048462, 0.91650746, 0.91685361, 0.91136999, 0.91400446,\n",
       "        0.91949807, 0.9191153 , 0.92297797, 0.92355379, 0.89928938,\n",
       "        0.90045267, 0.9092015 , 0.91048462, 0.91650746, 0.91685361,\n",
       "        0.91136999, 0.91400446, 0.91949807, 0.9191153 , 0.92297797,\n",
       "        0.92355379,        nan, 0.90045267, 0.9092015 , 0.91048462,\n",
       "               nan, 0.91685361, 0.91136999, 0.91400446,        nan,\n",
       "        0.9191153 , 0.92297797, 0.92355379]),\n",
       " 'std_test_AUC': array([0.03845083, 0.03801619, 0.03373689, 0.03353172, 0.03260711,\n",
       "        0.03315323, 0.02905137, 0.0289011 , 0.03115147, 0.03014319,\n",
       "        0.02805941, 0.02810622, 0.03845083, 0.03801619, 0.03373689,\n",
       "        0.03353172, 0.03260711, 0.03315323, 0.02905137, 0.0289011 ,\n",
       "        0.03115147, 0.03014319, 0.02805941, 0.02810622, 0.03845083,\n",
       "        0.03801619, 0.03373689, 0.03353172, 0.03260711, 0.03315323,\n",
       "        0.02905137, 0.0289011 , 0.03115147, 0.03014319, 0.02805941,\n",
       "        0.02810622,        nan, 0.03801619, 0.03373689, 0.03353172,\n",
       "               nan, 0.03315323, 0.02905137, 0.0289011 ,        nan,\n",
       "        0.03014319, 0.02805941, 0.02810622]),\n",
       " 'rank_test_AUC': array([43, 39, 35, 31, 20, 16, 27, 23,  9, 12,  5,  1, 43, 39, 35, 31, 20,\n",
       "        16, 27, 23,  9, 12,  5,  1, 43, 39, 35, 31, 20, 16, 27, 23,  9, 12,\n",
       "         5,  1, 46, 39, 35, 31, 46, 16, 27, 23, 46, 12,  5,  1]),\n",
       " 'split0_test_Accuracy': array([0.87878788, 0.87878788, 0.86363636, 0.86363636, 0.89393939,\n",
       "        0.90909091, 0.86363636, 0.89393939, 0.92424242, 0.90909091,\n",
       "        0.93939394, 0.92424242, 0.87878788, 0.87878788, 0.86363636,\n",
       "        0.86363636, 0.89393939, 0.90909091, 0.86363636, 0.89393939,\n",
       "        0.92424242, 0.90909091, 0.93939394, 0.92424242, 0.87878788,\n",
       "        0.87878788, 0.86363636, 0.86363636, 0.89393939, 0.90909091,\n",
       "        0.86363636, 0.89393939, 0.92424242, 0.90909091, 0.93939394,\n",
       "        0.92424242,        nan, 0.87878788, 0.86363636, 0.86363636,\n",
       "               nan, 0.90909091, 0.86363636, 0.89393939,        nan,\n",
       "        0.90909091, 0.93939394, 0.92424242]),\n",
       " 'split1_test_Accuracy': array([0.81818182, 0.81818182, 0.81818182, 0.8030303 , 0.8030303 ,\n",
       "        0.8030303 , 0.78787879, 0.8030303 , 0.78787879, 0.8030303 ,\n",
       "        0.8030303 , 0.8030303 , 0.81818182, 0.81818182, 0.81818182,\n",
       "        0.8030303 , 0.8030303 , 0.8030303 , 0.78787879, 0.8030303 ,\n",
       "        0.78787879, 0.8030303 , 0.8030303 , 0.8030303 , 0.81818182,\n",
       "        0.81818182, 0.81818182, 0.8030303 , 0.8030303 , 0.8030303 ,\n",
       "        0.78787879, 0.8030303 , 0.78787879, 0.8030303 , 0.8030303 ,\n",
       "        0.8030303 ,        nan, 0.81818182, 0.81818182, 0.8030303 ,\n",
       "               nan, 0.8030303 , 0.78787879, 0.8030303 ,        nan,\n",
       "        0.8030303 , 0.8030303 , 0.8030303 ]),\n",
       " 'split2_test_Accuracy': array([0.87878788, 0.87878788, 0.89393939, 0.89393939, 0.87878788,\n",
       "        0.87878788, 0.89393939, 0.89393939, 0.84848485, 0.87878788,\n",
       "        0.87878788, 0.89393939, 0.87878788, 0.87878788, 0.89393939,\n",
       "        0.89393939, 0.87878788, 0.87878788, 0.89393939, 0.89393939,\n",
       "        0.84848485, 0.87878788, 0.87878788, 0.89393939, 0.87878788,\n",
       "        0.87878788, 0.89393939, 0.89393939, 0.87878788, 0.87878788,\n",
       "        0.89393939, 0.89393939, 0.84848485, 0.87878788, 0.87878788,\n",
       "        0.89393939,        nan, 0.87878788, 0.89393939, 0.89393939,\n",
       "               nan, 0.87878788, 0.89393939, 0.89393939,        nan,\n",
       "        0.87878788, 0.87878788, 0.89393939]),\n",
       " 'split3_test_Accuracy': array([0.87878788, 0.87878788, 0.86363636, 0.86363636, 0.86363636,\n",
       "        0.86363636, 0.86363636, 0.86363636, 0.86363636, 0.86363636,\n",
       "        0.86363636, 0.86363636, 0.87878788, 0.87878788, 0.86363636,\n",
       "        0.86363636, 0.86363636, 0.86363636, 0.86363636, 0.86363636,\n",
       "        0.86363636, 0.86363636, 0.86363636, 0.86363636, 0.87878788,\n",
       "        0.87878788, 0.86363636, 0.86363636, 0.86363636, 0.86363636,\n",
       "        0.86363636, 0.86363636, 0.86363636, 0.86363636, 0.86363636,\n",
       "        0.86363636,        nan, 0.87878788, 0.86363636, 0.86363636,\n",
       "               nan, 0.86363636, 0.86363636, 0.86363636,        nan,\n",
       "        0.86363636, 0.86363636, 0.86363636]),\n",
       " 'split4_test_Accuracy': array([0.86363636, 0.87878788, 0.86363636, 0.87878788, 0.86363636,\n",
       "        0.90909091, 0.86363636, 0.90909091, 0.89393939, 0.89393939,\n",
       "        0.84848485, 0.84848485, 0.86363636, 0.87878788, 0.86363636,\n",
       "        0.87878788, 0.86363636, 0.90909091, 0.86363636, 0.90909091,\n",
       "        0.89393939, 0.89393939, 0.84848485, 0.84848485, 0.86363636,\n",
       "        0.87878788, 0.86363636, 0.87878788, 0.86363636, 0.90909091,\n",
       "        0.86363636, 0.90909091, 0.89393939, 0.89393939, 0.84848485,\n",
       "        0.84848485,        nan, 0.87878788, 0.86363636, 0.87878788,\n",
       "               nan, 0.90909091, 0.86363636, 0.90909091,        nan,\n",
       "        0.89393939, 0.84848485, 0.84848485]),\n",
       " 'split5_test_Accuracy': array([0.93846154, 0.95384615, 0.93846154, 0.93846154, 0.96923077,\n",
       "        0.95384615, 0.93846154, 0.95384615, 0.95384615, 0.96923077,\n",
       "        0.96923077, 0.95384615, 0.93846154, 0.95384615, 0.93846154,\n",
       "        0.93846154, 0.96923077, 0.95384615, 0.93846154, 0.95384615,\n",
       "        0.95384615, 0.96923077, 0.96923077, 0.95384615, 0.93846154,\n",
       "        0.95384615, 0.93846154, 0.93846154, 0.96923077, 0.95384615,\n",
       "        0.93846154, 0.95384615, 0.95384615, 0.96923077, 0.96923077,\n",
       "        0.95384615,        nan, 0.95384615, 0.93846154, 0.93846154,\n",
       "               nan, 0.95384615, 0.93846154, 0.95384615,        nan,\n",
       "        0.96923077, 0.96923077, 0.95384615]),\n",
       " 'split6_test_Accuracy': array([0.90769231, 0.90769231, 0.90769231, 0.87692308, 0.90769231,\n",
       "        0.92307692, 0.89230769, 0.92307692, 0.90769231, 0.90769231,\n",
       "        0.92307692, 0.92307692, 0.90769231, 0.90769231, 0.90769231,\n",
       "        0.87692308, 0.90769231, 0.92307692, 0.89230769, 0.92307692,\n",
       "        0.90769231, 0.90769231, 0.92307692, 0.92307692, 0.90769231,\n",
       "        0.90769231, 0.90769231, 0.87692308, 0.90769231, 0.92307692,\n",
       "        0.89230769, 0.92307692, 0.90769231, 0.90769231, 0.92307692,\n",
       "        0.92307692,        nan, 0.90769231, 0.90769231, 0.87692308,\n",
       "               nan, 0.92307692, 0.89230769, 0.92307692,        nan,\n",
       "        0.90769231, 0.92307692, 0.92307692]),\n",
       " 'split7_test_Accuracy': array([0.78461538, 0.75384615, 0.78461538, 0.76923077, 0.8       ,\n",
       "        0.78461538, 0.83076923, 0.76923077, 0.78461538, 0.76923077,\n",
       "        0.8       , 0.78461538, 0.78461538, 0.75384615, 0.78461538,\n",
       "        0.76923077, 0.8       , 0.78461538, 0.83076923, 0.76923077,\n",
       "        0.78461538, 0.76923077, 0.8       , 0.78461538, 0.78461538,\n",
       "        0.75384615, 0.78461538, 0.76923077, 0.8       , 0.78461538,\n",
       "        0.83076923, 0.76923077, 0.78461538, 0.76923077, 0.8       ,\n",
       "        0.78461538,        nan, 0.75384615, 0.78461538, 0.76923077,\n",
       "               nan, 0.78461538, 0.83076923, 0.76923077,        nan,\n",
       "        0.76923077, 0.8       , 0.78461538]),\n",
       " 'split8_test_Accuracy': array([0.76923077, 0.76923077, 0.78461538, 0.78461538, 0.8       ,\n",
       "        0.78461538, 0.8       , 0.78461538, 0.81538462, 0.8       ,\n",
       "        0.8       , 0.8       , 0.76923077, 0.76923077, 0.78461538,\n",
       "        0.78461538, 0.8       , 0.78461538, 0.8       , 0.78461538,\n",
       "        0.81538462, 0.8       , 0.8       , 0.8       , 0.76923077,\n",
       "        0.76923077, 0.78461538, 0.78461538, 0.8       , 0.78461538,\n",
       "        0.8       , 0.78461538, 0.81538462, 0.8       , 0.8       ,\n",
       "        0.8       ,        nan, 0.76923077, 0.78461538, 0.78461538,\n",
       "               nan, 0.78461538, 0.8       , 0.78461538,        nan,\n",
       "        0.8       , 0.8       , 0.8       ]),\n",
       " 'split9_test_Accuracy': array([0.87692308, 0.87692308, 0.87692308, 0.87692308, 0.86153846,\n",
       "        0.89230769, 0.84615385, 0.86153846, 0.89230769, 0.87692308,\n",
       "        0.87692308, 0.87692308, 0.87692308, 0.87692308, 0.87692308,\n",
       "        0.87692308, 0.86153846, 0.89230769, 0.84615385, 0.86153846,\n",
       "        0.89230769, 0.87692308, 0.87692308, 0.87692308, 0.87692308,\n",
       "        0.87692308, 0.87692308, 0.87692308, 0.86153846, 0.89230769,\n",
       "        0.84615385, 0.86153846, 0.89230769, 0.87692308, 0.87692308,\n",
       "        0.87692308,        nan, 0.87692308, 0.87692308, 0.87692308,\n",
       "               nan, 0.89230769, 0.84615385, 0.86153846,        nan,\n",
       "        0.87692308, 0.87692308, 0.87692308]),\n",
       " 'mean_test_Accuracy': array([0.85951049, 0.85948718, 0.8595338 , 0.85491841, 0.86414918,\n",
       "        0.87020979, 0.85804196, 0.86559441, 0.8672028 , 0.86715618,\n",
       "        0.87025641, 0.86717949, 0.85951049, 0.85948718, 0.8595338 ,\n",
       "        0.85491841, 0.86414918, 0.87020979, 0.85804196, 0.86559441,\n",
       "        0.8672028 , 0.86715618, 0.87025641, 0.86717949, 0.85951049,\n",
       "        0.85948718, 0.8595338 , 0.85491841, 0.86414918, 0.87020979,\n",
       "        0.85804196, 0.86559441, 0.8672028 , 0.86715618, 0.87025641,\n",
       "        0.86717949,        nan, 0.85948718, 0.8595338 , 0.85491841,\n",
       "               nan, 0.87020979, 0.85804196, 0.86559441,        nan,\n",
       "        0.86715618, 0.87025641, 0.86717949]),\n",
       " 'std_test_Accuracy': array([0.05045552, 0.0583385 , 0.04798018, 0.05016924, 0.05100293,\n",
       "        0.0570828 , 0.04266244, 0.05862554, 0.05468663, 0.05743936,\n",
       "        0.0569142 , 0.05523578, 0.05045552, 0.0583385 , 0.04798018,\n",
       "        0.05016924, 0.05100293, 0.0570828 , 0.04266244, 0.05862554,\n",
       "        0.05468663, 0.05743936, 0.0569142 , 0.05523578, 0.05045552,\n",
       "        0.0583385 , 0.04798018, 0.05016924, 0.05100293, 0.0570828 ,\n",
       "        0.04266244, 0.05862554, 0.05468663, 0.05743936, 0.0569142 ,\n",
       "        0.05523578,        nan, 0.0583385 , 0.04798018, 0.05016924,\n",
       "               nan, 0.0570828 , 0.04266244, 0.05862554,        nan,\n",
       "        0.05743936, 0.0569142 , 0.05523578]),\n",
       " 'rank_test_Accuracy': array([31, 34, 27, 42, 24,  5, 38, 20,  9, 16,  1, 12, 31, 34, 27, 42, 24,\n",
       "         5, 38, 20,  9, 16,  1, 12, 31, 34, 27, 42, 24,  5, 38, 20,  9, 16,\n",
       "         1, 12, 46, 34, 27, 42, 46,  5, 38, 20, 46, 16,  1, 12])}"
      ]
     },
     "execution_count": 514,
     "metadata": {},
     "output_type": "execute_result"
    }
   ],
   "source": [
    "search_knn.cv_results_"
   ]
  },
  {
   "cell_type": "code",
   "execution_count": 515,
   "id": "3a5e39a4",
   "metadata": {},
   "outputs": [
    {
     "data": {
      "text/plain": [
       "({'algorithm': 'auto', 'n_neighbors': 15, 'p': 2, 'weights': 'distance'},\n",
       " KNeighborsClassifier(n_neighbors=15, weights='distance'))"
      ]
     },
     "execution_count": 515,
     "metadata": {},
     "output_type": "execute_result"
    }
   ],
   "source": [
    "search_knn.best_params_ , search_knn.best_estimator_"
   ]
  },
  {
   "cell_type": "code",
   "execution_count": 516,
   "id": "3fd771bb",
   "metadata": {},
   "outputs": [],
   "source": [
    "# Auskommentiert, weil search_knn.best_estimator_ eigentlich genau das macht\n",
    "# knn_best = KNeighborsClassifier(\n",
    "#     algorithm=search_knn.best_params_['algorithm'], \n",
    "#     n_neighbors=search_knn.best_params_['n_neighbors'],\n",
    "#     p=search_knn.best_params_['p'],\n",
    "#     weights=search_knn.best_params_['weights'])"
   ]
  },
  {
   "cell_type": "code",
   "execution_count": 517,
   "id": "14a3abad",
   "metadata": {},
   "outputs": [
    {
     "data": {
      "text/plain": [
       "0.7714285714285715"
      ]
     },
     "execution_count": 517,
     "metadata": {},
     "output_type": "execute_result"
    }
   ],
   "source": [
    "## mit den besten Parametern fitten\n",
    "knn_best.fit(X_train_test, y_train_test)\n",
    "accuracy_score(y_validate, search_knn.best_estimator_.predict(X_validate))"
   ]
  },
  {
   "cell_type": "markdown",
   "id": "58bb0f0f-6c9a-473a-aace-fa6076341e38",
   "metadata": {},
   "source": [
    "### Adaboost"
   ]
  },
  {
   "cell_type": "markdown",
   "id": "251f7fb3-5e0f-4de0-9220-cf4667697f17",
   "metadata": {},
   "source": [
    "### Ensemble method"
   ]
  },
  {
   "cell_type": "code",
   "execution_count": 518,
   "id": "dcd73133-09fd-4470-a462-bce97bc32c53",
   "metadata": {},
   "outputs": [],
   "source": [
    "\"\"\"\n",
    "Check if all these methods always categorize the same, or different samples wrong. If the later is the case, this would motivate using a ensemble method to balance strengths and weaknesses of different classifiers.\n",
    "\n",
    "Maybe building some ensemble method that combines a (gradient boosted) dewcicion tree for the categorical variables with something like SVM for the continuous data.\n",
    "\n",
    "This would obviate the need for target encoding of A6 and A7 and poosible better handle the many binary variables in the dataset. \n",
    "\"\"\";"
   ]
  },
  {
   "cell_type": "markdown",
   "id": "dd098c1f-b581-4e52-beca-f411dcf99e4d",
   "metadata": {},
   "source": [
    "## (Sequential Feature Selection)"
   ]
  },
  {
   "cell_type": "code",
   "execution_count": 519,
   "id": "992442ba-e775-4fde-add4-dbbeb134d85b",
   "metadata": {},
   "outputs": [
    {
     "data": {
      "text/plain": [
       "'\\nFurther reduce dimensionality by SFS. This may give different results for different classifiers.\\n'"
      ]
     },
     "execution_count": 519,
     "metadata": {},
     "output_type": "execute_result"
    }
   ],
   "source": [
    "\"\"\"\n",
    "Further reduce dimensionality by SFS. This may give different results for different classifiers.\n",
    "\"\"\""
   ]
  },
  {
   "cell_type": "markdown",
   "id": "d46730dc-1550-4525-979a-37c40540ed27",
   "metadata": {},
   "source": [
    "## model comparison"
   ]
  },
  {
   "cell_type": "code",
   "execution_count": 520,
   "id": "03e17dde",
   "metadata": {},
   "outputs": [
    {
     "name": "stdout",
     "output_type": "stream",
     "text": [
      "Result LogisticRegression:  0.8\n",
      "Result RandomForestClassifier:  0.7428571428571429\n",
      "Result KNN:  0.7714285714285715\n"
     ]
    }
   ],
   "source": [
    "print('Result LogisticRegression: ', accuracy_score(y_validate, search_lr.best_estimator_.predict(X_validate)))\n",
    "print('Result RandomForestClassifier: ', accuracy_score(y_validate, search_rf.best_estimator_.predict(X_validate)))\n",
    "print('Result KNN: ', accuracy_score(y_validate, search_knn.best_estimator_.predict(X_validate)))"
   ]
  }
 ],
 "metadata": {
  "kernelspec": {
   "display_name": "Python 3 (ipykernel)",
   "language": "python",
   "name": "python3"
  },
  "language_info": {
   "codemirror_mode": {
    "name": "ipython",
    "version": 3
   },
   "file_extension": ".py",
   "mimetype": "text/x-python",
   "name": "python",
   "nbconvert_exporter": "python",
   "pygments_lexer": "ipython3",
   "version": "3.11.9"
  }
 },
 "nbformat": 4,
 "nbformat_minor": 5
}
